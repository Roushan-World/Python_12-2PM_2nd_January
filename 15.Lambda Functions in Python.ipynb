{
 "cells": [
  {
   "cell_type": "markdown",
   "id": "69a6d6fa-cce0-4ea4-9779-9646d7ea3848",
   "metadata": {},
   "source": [
    "# 15. Lambda Functions in Python\n",
    "\n",
    " * __A lambda function is a small anonymous functions.__\n",
    " * __A lambda function can take any number of arguments, but can only have one expression.__\n",
    " * __The expression is eveluated and returned.__\n",
    " * __Lambda function can be used wherever function objects are required.__\n",
    " * __Lambda Expression(or lambda functions) are essentially blocks blocks of code that can be assigned to variable, passed as an arguments, or returned from a function call, in Languages that support high-order functions.__\n",
    " * __The main role of lambda function is better described in the scenarios when we employ them anonymously inside antoher functions.__\n",
    " * __n Python, the lambda function can be utilized as an arguments to the high order functions as an argument.__"
   ]
  },
  {
   "cell_type": "code",
   "execution_count": 1,
   "id": "113d8fe4-3f86-432b-aba1-5798c102726f",
   "metadata": {},
   "outputs": [
    {
     "name": "stdout",
     "output_type": "stream",
     "text": [
      "16\n"
     ]
    }
   ],
   "source": [
    "def f(x):\n",
    "    return x+6\n",
    "\n",
    "print(f(10))"
   ]
  },
  {
   "cell_type": "code",
   "execution_count": 2,
   "id": "383f8ec7-0e9b-430f-8928-3075f2f874dc",
   "metadata": {},
   "outputs": [
    {
     "data": {
      "text/plain": [
       "16"
      ]
     },
     "execution_count": 2,
     "metadata": {},
     "output_type": "execute_result"
    }
   ],
   "source": [
    "(lambda x:x+6)(10)"
   ]
  },
  {
   "cell_type": "code",
   "execution_count": 3,
   "id": "04a0e303-e448-40b6-85cf-d2d7a9af9f6d",
   "metadata": {},
   "outputs": [
    {
     "data": {
      "text/plain": [
       "1000000"
      ]
     },
     "execution_count": 3,
     "metadata": {},
     "output_type": "execute_result"
    }
   ],
   "source": [
    "10**6"
   ]
  },
  {
   "cell_type": "code",
   "execution_count": 9,
   "id": "5375cbc3-feed-4a99-8594-2ef211f40328",
   "metadata": {},
   "outputs": [
    {
     "name": "stdout",
     "output_type": "stream",
     "text": [
      "The Exponent of 3 and 6 is: 729\n"
     ]
    }
   ],
   "source": [
    "def expo(x,y):\n",
    "    return x**y\n",
    "\n",
    "print('The Exponent of {} and {} is:'.format(3,6),expo(3,6))"
   ]
  },
  {
   "cell_type": "code",
   "execution_count": 10,
   "id": "5bf81927-760a-42ef-b53d-ac5f6e271231",
   "metadata": {},
   "outputs": [
    {
     "name": "stdout",
     "output_type": "stream",
     "text": [
      "100 200\n"
     ]
    }
   ],
   "source": [
    "x,y=100,200\n",
    "print(x,y)"
   ]
  },
  {
   "cell_type": "code",
   "execution_count": 11,
   "id": "cae7b30d-fcf6-43f1-8a8f-3aac98d9244e",
   "metadata": {},
   "outputs": [
    {
     "name": "stdout",
     "output_type": "stream",
     "text": [
      "The power of 3 and 6: 729\n"
     ]
    }
   ],
   "source": [
    "print(f'The power of 3 and 6: {(lambda x,y:x**y)(3,6)}')"
   ]
  },
  {
   "cell_type": "code",
   "execution_count": 16,
   "id": "668bc1ac-beca-445b-aa80-f2ef1ed876d9",
   "metadata": {},
   "outputs": [
    {
     "name": "stdin",
     "output_type": "stream",
     "text": [
      "Enter your age: 15\n"
     ]
    },
    {
     "name": "stdout",
     "output_type": "stream",
     "text": [
      "You are a Child.\n"
     ]
    }
   ],
   "source": [
    "# write a program you are adult or child.\n",
    "\n",
    "age=int(input('Enter your age:'))\n",
    "(lambda age:print('There you are adult') if age>=18 else print('You are a Child.'))(age)"
   ]
  },
  {
   "cell_type": "code",
   "execution_count": 18,
   "id": "e6e291e7-6bdd-4a1b-86d0-c222cc936514",
   "metadata": {},
   "outputs": [
    {
     "name": "stdin",
     "output_type": "stream",
     "text": [
      "Enter your string Congratulations Rupali\n"
     ]
    },
    {
     "name": "stdout",
     "output_type": "stream",
     "text": [
      "Congratulations Rupali\n"
     ]
    }
   ],
   "source": [
    "text=input('Enter your string')\n",
    "\n",
    "(lambda text:print(text))(text)"
   ]
  },
  {
   "cell_type": "code",
   "execution_count": 22,
   "id": "e6659a33-4dc8-49ee-9b92-d9528d514e78",
   "metadata": {},
   "outputs": [
    {
     "name": "stdin",
     "output_type": "stream",
     "text": [
      "Enter First number: 14\n",
      "Enter Second number: 15\n"
     ]
    },
    {
     "name": "stdout",
     "output_type": "stream",
     "text": [
      "[29, -1, 210, 0.9333333333333333, 155568095557812224]\n"
     ]
    }
   ],
   "source": [
    "# Take two input from user and perform some calculations (addition,substractions,multiplication,division and Exponent)\n",
    "\n",
    "x=int(input('Enter First number:'))\n",
    "y=int(input('Enter Second number:'))\n",
    "list1=[]\n",
    "\n",
    "(lambda x,y:list1.append(x+y))(x,y)\n",
    "(lambda x,y:list1.append(x-y))(x,y)\n",
    "(lambda x,y:list1.append(x*y))(x,y)\n",
    "(lambda x,y:list1.append(x/y))(x,y)\n",
    "(lambda x,y:list1.append(x**y))(x,y)\n",
    "print(list1)"
   ]
  },
  {
   "cell_type": "code",
   "execution_count": 23,
   "id": "f1f61773-023a-4806-87f1-0b399026a7df",
   "metadata": {},
   "outputs": [
    {
     "name": "stdin",
     "output_type": "stream",
     "text": [
      "enter first number 15\n",
      "enter second number 21\n"
     ]
    },
    {
     "name": "stdout",
     "output_type": "stream",
     "text": [
      "[36, -6, 315, 0.7142857142857143]\n"
     ]
    }
   ],
   "source": [
    "x=int(input('enter first number'))\n",
    "y=int(input('enter second number'))\n",
    "list=[]\n",
    "\n",
    "(lambda x,y:list.append(x+y))(x,y)\n",
    "(lambda x,y:list.append(x-y))(x,y)\n",
    "(lambda x,y:list.append(x*y))(x,y)\n",
    "(lambda x,y:list.append(x/y))(x,y)\n",
    "print(list)"
   ]
  },
  {
   "cell_type": "code",
   "execution_count": 24,
   "id": "7e614ef5-18cf-4b4e-bce0-88f603d43f23",
   "metadata": {},
   "outputs": [],
   "source": [
    "# Write a lambda function with area_Rectable from user input?\n",
    "# find the area of circle with lambda function from user input radius is input from the user.\n",
    "# find the area of square with lambda funciton and area is entered by the user.\n",
    "# find the perimeter of square with lambda function and side is entered by the user.\n",
    "# find the perimeter of rectange and perimeter with lambda function and side is enterd by the user. "
   ]
  },
  {
   "cell_type": "code",
   "execution_count": 25,
   "id": "1d2a35e8-f451-4ca1-bed5-372805d9485c",
   "metadata": {},
   "outputs": [
    {
     "name": "stdin",
     "output_type": "stream",
     "text": [
      "Enter length: 14\n",
      "Enter width: 12\n"
     ]
    },
    {
     "name": "stdout",
     "output_type": "stream",
     "text": [
      "Area of rectangle is :  168\n",
      "Perimeter of rectangle is :  52\n"
     ]
    }
   ],
   "source": [
    "#using lamda area and perimeter of a rectangle\n",
    "\n",
    "length = int(input(\"Enter length:\"))\n",
    "width = int(input(\"Enter width:\"))\n",
    "\n",
    "area = (lambda length,width:length*width)(length,width)\n",
    "perimeter = (lambda length,width:2*(length+width))(length,width)\n",
    "print(\"Area of rectangle is : \",area)\n",
    "print(\"Perimeter of rectangle is : \",perimeter)"
   ]
  },
  {
   "cell_type": "code",
   "execution_count": 26,
   "id": "861f7fe0-5b63-47f1-a1b2-57c540cfe271",
   "metadata": {},
   "outputs": [
    {
     "name": "stdin",
     "output_type": "stream",
     "text": [
      "Enter radius: 12\n"
     ]
    },
    {
     "name": "stdout",
     "output_type": "stream",
     "text": [
      "Area of circle is :  904.7786842338604\n"
     ]
    }
   ],
   "source": [
    "# Using Lamda area circle\n",
    "import math\n",
    "\n",
    "radius = int(input(\"Enter radius:\"))\n",
    "area = (lambda radius:2*math.pi*radius*radius)(radius)\n",
    "print(\"Area of circle is : \",area)"
   ]
  },
  {
   "cell_type": "code",
   "execution_count": 28,
   "id": "d2cf360d-e622-411a-a05d-289607842f7f",
   "metadata": {},
   "outputs": [
    {
     "name": "stdin",
     "output_type": "stream",
     "text": [
      "Enter side: 14\n"
     ]
    },
    {
     "name": "stdout",
     "output_type": "stream",
     "text": [
      "Area of square is :  196\n",
      "Perimeter of square is :  56\n"
     ]
    }
   ],
   "source": [
    "#using lamda area and perimeter of the square\n",
    "\n",
    "side = int(input(\"Enter side:\"))\n",
    "\n",
    "area = (lambda side: side*side)(side)\n",
    "perimeter = (lambda side:4*side)(side)\n",
    "\n",
    "# print(\"Area of square is : \",area)\n",
    "# print(\"Perimeter of square is : \",perimeter)"
   ]
  },
  {
   "cell_type": "code",
   "execution_count": null,
   "id": "6e3ff6f1-aad0-4f0f-812f-6bc25557697a",
   "metadata": {},
   "outputs": [],
   "source": []
  }
 ],
 "metadata": {
  "kernelspec": {
   "display_name": "Python 3 (ipykernel)",
   "language": "python",
   "name": "python3"
  },
  "language_info": {
   "codemirror_mode": {
    "name": "ipython",
    "version": 3
   },
   "file_extension": ".py",
   "mimetype": "text/x-python",
   "name": "python",
   "nbconvert_exporter": "python",
   "pygments_lexer": "ipython3",
   "version": "3.12.2"
  }
 },
 "nbformat": 4,
 "nbformat_minor": 5
}
