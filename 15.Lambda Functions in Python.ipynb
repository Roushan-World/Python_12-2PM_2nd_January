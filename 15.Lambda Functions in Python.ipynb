{
 "cells": [
  {
   "cell_type": "markdown",
   "id": "69a6d6fa-cce0-4ea4-9779-9646d7ea3848",
   "metadata": {},
   "source": [
    "# 15. Lambda Functions in Python\n",
    "\n",
    " * __A lambda function is a small anonymous functions.__\n",
    " * __A lambda function can take any number of arguments, but can only have one expression.__\n",
    " * __The expression is eveluated and returned.__\n",
    " * __Lambda function can be used wherever function objects are required.__\n",
    " * __Lambda Expression(or lambda functions) are essentially blocks blocks of code that can be assigned to variable, passed as an arguments, or returned from a function call, in Languages that support high-order functions.__\n",
    " * __The main role of lambda function is better described in the scenarios when we employ them anonymously inside antoher functions.__\n",
    " * __n Python, the lambda function can be utilized as an arguments to the high order functions as an argument.__\n",
    "\n",
    " * __Lambda functions in Python__\n",
    " * __1.Syntax__\n",
    "    * __Normal function__\n",
    "    * __Anonymous(Lambda function) functions.__\n",
    " * __2.Usage__\n",
    "    * __Lambda with filter()__\n",
    "    * __Lambda with map()__\n",
    "    * __Lambda with reduce()__\n",
    "    * __Lambda with sorted()__\n",
    "    * __Lambda with apply()__\n",
    " * __3.Common errors__\n",
    "    * __SyntaxError__\n",
    "    * __TypeError__"
   ]
  },
  {
   "cell_type": "code",
   "execution_count": null,
   "id": "19b10700-3547-4e5e-b605-5c80d16c64b3",
   "metadata": {},
   "outputs": [],
   "source": []
  },
  {
   "cell_type": "code",
   "execution_count": 1,
   "id": "113d8fe4-3f86-432b-aba1-5798c102726f",
   "metadata": {},
   "outputs": [
    {
     "name": "stdout",
     "output_type": "stream",
     "text": [
      "16\n"
     ]
    }
   ],
   "source": [
    "def f(x):\n",
    "    return x+6\n",
    "\n",
    "print(f(10))"
   ]
  },
  {
   "cell_type": "code",
   "execution_count": 2,
   "id": "383f8ec7-0e9b-430f-8928-3075f2f874dc",
   "metadata": {},
   "outputs": [
    {
     "data": {
      "text/plain": [
       "16"
      ]
     },
     "execution_count": 2,
     "metadata": {},
     "output_type": "execute_result"
    }
   ],
   "source": [
    "(lambda x:x+6)(10)"
   ]
  },
  {
   "cell_type": "code",
   "execution_count": 3,
   "id": "04a0e303-e448-40b6-85cf-d2d7a9af9f6d",
   "metadata": {},
   "outputs": [
    {
     "data": {
      "text/plain": [
       "1000000"
      ]
     },
     "execution_count": 3,
     "metadata": {},
     "output_type": "execute_result"
    }
   ],
   "source": [
    "10**6"
   ]
  },
  {
   "cell_type": "code",
   "execution_count": 9,
   "id": "5375cbc3-feed-4a99-8594-2ef211f40328",
   "metadata": {},
   "outputs": [
    {
     "name": "stdout",
     "output_type": "stream",
     "text": [
      "The Exponent of 3 and 6 is: 729\n"
     ]
    }
   ],
   "source": [
    "def expo(x,y):\n",
    "    return x**y\n",
    "\n",
    "print('The Exponent of {} and {} is:'.format(3,6),expo(3,6))"
   ]
  },
  {
   "cell_type": "code",
   "execution_count": 10,
   "id": "5bf81927-760a-42ef-b53d-ac5f6e271231",
   "metadata": {},
   "outputs": [
    {
     "name": "stdout",
     "output_type": "stream",
     "text": [
      "100 200\n"
     ]
    }
   ],
   "source": [
    "x,y=100,200\n",
    "print(x,y)"
   ]
  },
  {
   "cell_type": "code",
   "execution_count": 11,
   "id": "cae7b30d-fcf6-43f1-8a8f-3aac98d9244e",
   "metadata": {},
   "outputs": [
    {
     "name": "stdout",
     "output_type": "stream",
     "text": [
      "The power of 3 and 6: 729\n"
     ]
    }
   ],
   "source": [
    "print(f'The power of 3 and 6: {(lambda x,y:x**y)(3,6)}')"
   ]
  },
  {
   "cell_type": "code",
   "execution_count": 16,
   "id": "668bc1ac-beca-445b-aa80-f2ef1ed876d9",
   "metadata": {},
   "outputs": [
    {
     "name": "stdin",
     "output_type": "stream",
     "text": [
      "Enter your age: 15\n"
     ]
    },
    {
     "name": "stdout",
     "output_type": "stream",
     "text": [
      "You are a Child.\n"
     ]
    }
   ],
   "source": [
    "# write a program you are adult or child.\n",
    "\n",
    "age=int(input('Enter your age:'))\n",
    "(lambda age:print('There you are adult') if age>=18 else print('You are a Child.'))(age)"
   ]
  },
  {
   "cell_type": "code",
   "execution_count": 18,
   "id": "e6e291e7-6bdd-4a1b-86d0-c222cc936514",
   "metadata": {},
   "outputs": [
    {
     "name": "stdin",
     "output_type": "stream",
     "text": [
      "Enter your string Congratulations Rupali\n"
     ]
    },
    {
     "name": "stdout",
     "output_type": "stream",
     "text": [
      "Congratulations Rupali\n"
     ]
    }
   ],
   "source": [
    "text=input('Enter your string')\n",
    "\n",
    "(lambda text:print(text))(text)"
   ]
  },
  {
   "cell_type": "code",
   "execution_count": 22,
   "id": "e6659a33-4dc8-49ee-9b92-d9528d514e78",
   "metadata": {},
   "outputs": [
    {
     "name": "stdin",
     "output_type": "stream",
     "text": [
      "Enter First number: 14\n",
      "Enter Second number: 15\n"
     ]
    },
    {
     "name": "stdout",
     "output_type": "stream",
     "text": [
      "[29, -1, 210, 0.9333333333333333, 155568095557812224]\n"
     ]
    }
   ],
   "source": [
    "# Take two input from user and perform some calculations (addition,substractions,multiplication,division and Exponent)\n",
    "\n",
    "x=int(input('Enter First number:'))\n",
    "y=int(input('Enter Second number:'))\n",
    "list1=[]\n",
    "\n",
    "(lambda x,y:list1.append(x+y))(x,y)\n",
    "(lambda x,y:list1.append(x-y))(x,y)\n",
    "(lambda x,y:list1.append(x*y))(x,y)\n",
    "(lambda x,y:list1.append(x/y))(x,y)\n",
    "(lambda x,y:list1.append(x**y))(x,y)\n",
    "print(list1)"
   ]
  },
  {
   "cell_type": "code",
   "execution_count": 23,
   "id": "f1f61773-023a-4806-87f1-0b399026a7df",
   "metadata": {},
   "outputs": [
    {
     "name": "stdin",
     "output_type": "stream",
     "text": [
      "enter first number 15\n",
      "enter second number 21\n"
     ]
    },
    {
     "name": "stdout",
     "output_type": "stream",
     "text": [
      "[36, -6, 315, 0.7142857142857143]\n"
     ]
    }
   ],
   "source": [
    "x=int(input('enter first number'))\n",
    "y=int(input('enter second number'))\n",
    "list=[]\n",
    "\n",
    "(lambda x,y:list.append(x+y))(x,y)\n",
    "(lambda x,y:list.append(x-y))(x,y)\n",
    "(lambda x,y:list.append(x*y))(x,y)\n",
    "(lambda x,y:list.append(x/y))(x,y)\n",
    "print(list)"
   ]
  },
  {
   "cell_type": "code",
   "execution_count": 24,
   "id": "7e614ef5-18cf-4b4e-bce0-88f603d43f23",
   "metadata": {},
   "outputs": [],
   "source": [
    "# Write a lambda function with area_Rectable from user input?\n",
    "# find the area of circle with lambda function from user input radius is input from the user.\n",
    "# find the area of square with lambda funciton and area is entered by the user.\n",
    "# find the perimeter of square with lambda function and side is entered by the user.\n",
    "# find the perimeter of rectange and perimeter with lambda function and side is enterd by the user. "
   ]
  },
  {
   "cell_type": "code",
   "execution_count": 25,
   "id": "1d2a35e8-f451-4ca1-bed5-372805d9485c",
   "metadata": {},
   "outputs": [
    {
     "name": "stdin",
     "output_type": "stream",
     "text": [
      "Enter length: 14\n",
      "Enter width: 12\n"
     ]
    },
    {
     "name": "stdout",
     "output_type": "stream",
     "text": [
      "Area of rectangle is :  168\n",
      "Perimeter of rectangle is :  52\n"
     ]
    }
   ],
   "source": [
    "#using lamda area and perimeter of a rectangle\n",
    "\n",
    "length = int(input(\"Enter length:\"))\n",
    "width = int(input(\"Enter width:\"))\n",
    "\n",
    "area = (lambda length,width:length*width)(length,width)\n",
    "perimeter = (lambda length,width:2*(length+width))(length,width)\n",
    "print(\"Area of rectangle is : \",area)\n",
    "print(\"Perimeter of rectangle is : \",perimeter)"
   ]
  },
  {
   "cell_type": "code",
   "execution_count": 26,
   "id": "861f7fe0-5b63-47f1-a1b2-57c540cfe271",
   "metadata": {},
   "outputs": [
    {
     "name": "stdin",
     "output_type": "stream",
     "text": [
      "Enter radius: 12\n"
     ]
    },
    {
     "name": "stdout",
     "output_type": "stream",
     "text": [
      "Area of circle is :  904.7786842338604\n"
     ]
    }
   ],
   "source": [
    "# Using Lamda area circle\n",
    "import math\n",
    "\n",
    "radius = int(input(\"Enter radius:\"))\n",
    "area = (lambda radius:2*math.pi*radius*radius)(radius)\n",
    "print(\"Area of circle is : \",area)"
   ]
  },
  {
   "cell_type": "code",
   "execution_count": 28,
   "id": "d2cf360d-e622-411a-a05d-289607842f7f",
   "metadata": {},
   "outputs": [
    {
     "name": "stdin",
     "output_type": "stream",
     "text": [
      "Enter side: 14\n"
     ]
    },
    {
     "name": "stdout",
     "output_type": "stream",
     "text": [
      "Area of square is :  196\n",
      "Perimeter of square is :  56\n"
     ]
    }
   ],
   "source": [
    "#using lamda area and perimeter of the square\n",
    "\n",
    "side = int(input(\"Enter side:\"))\n",
    "\n",
    "area = (lambda side: side*side)(side)\n",
    "perimeter = (lambda side:4*side)(side)\n",
    "\n",
    "# print(\"Area of square is : \",area)\n",
    "# print(\"Perimeter of square is : \",perimeter)"
   ]
  },
  {
   "cell_type": "code",
   "execution_count": 3,
   "id": "6e3ff6f1-aad0-4f0f-812f-6bc25557697a",
   "metadata": {},
   "outputs": [
    {
     "name": "stdin",
     "output_type": "stream",
     "text": [
      "Enter a number: 3\n"
     ]
    },
    {
     "name": "stdout",
     "output_type": "stream",
     "text": [
      "3x0=0\n",
      "3x1=3\n",
      "3x2=6\n",
      "3x3=9\n",
      "3x4=12\n",
      "3x5=15\n",
      "3x6=18\n",
      "3x7=21\n",
      "3x8=24\n",
      "3x9=27\n",
      "3x10=30\n"
     ]
    }
   ],
   "source": [
    "# write a program to display table using lambda function..?\n",
    "\n",
    "def multi_table(n):\n",
    "    return lambda x:x*n\n",
    "    \n",
    "\n",
    "n=int(input('Enter a number:'))\n",
    "y=multi_table(n)\n",
    "\n",
    "for i in range(11):\n",
    "    print('%dx%d=%d'%(n,i,y(i)))"
   ]
  },
  {
   "cell_type": "code",
   "execution_count": 11,
   "id": "bc6e90d0-7683-4058-bfb9-1a3b6c4b37b5",
   "metadata": {},
   "outputs": [
    {
     "data": {
      "text/plain": [
       "[2, 4, 6, 28, 100, 200, 400, 200]"
      ]
     },
     "execution_count": 11,
     "metadata": {},
     "output_type": "execute_result"
    }
   ],
   "source": [
    "#filter\n",
    "numbers=[0.577,2,3,4,5,3.14,6,37,28,1729,100,200,400,200]\n",
    "\n",
    "list(filter(lambda x:(x%2==0),numbers))"
   ]
  },
  {
   "cell_type": "code",
   "execution_count": 14,
   "id": "b371f77b-fc93-4724-be97-cdd63ecea2db",
   "metadata": {},
   "outputs": [
    {
     "name": "stdout",
     "output_type": "stream",
     "text": [
      "Multiplied by 5= [2.885, 10, 15, 20, 25, 15.700000000000001, 30, 185, 140, 8645, 500, 1000, 2000, 1000]\n"
     ]
    }
   ],
   "source": [
    "# map\n",
    "numbers=[0.577,2,3,4,5,3.14,6,37,28,1729,100,200,400,200]\n",
    "\n",
    "print(f'Multiplied by 5= {list(map(lambda x:x*5,numbers))}')"
   ]
  },
  {
   "cell_type": "code",
   "execution_count": 25,
   "id": "1c0cb26e-80eb-491a-83b8-0330955429a6",
   "metadata": {},
   "outputs": [
    {
     "name": "stdin",
     "output_type": "stream",
     "text": [
      "Enter a number:  5\n"
     ]
    },
    {
     "name": "stdout",
     "output_type": "stream",
     "text": [
      "[5, 10, 15, 20, 25, 30, 35, 40, 45, 50]\n"
     ]
    }
   ],
   "source": [
    "# Program: Create a multiplication table for any number in Python\n",
    "\n",
    "# user-input\n",
    "num = [int(input(\"Enter a number: \"))]\n",
    "\n",
    "# let's create our lambda function for the table\n",
    "table = list(map(lambda x, y: x * y, list(range(1,10+1)), num * 10))\n",
    "\n",
    "print(table)"
   ]
  },
  {
   "cell_type": "code",
   "execution_count": 48,
   "id": "aa134167-4617-4410-8f92-ee91bf9dda36",
   "metadata": {},
   "outputs": [
    {
     "name": "stdin",
     "output_type": "stream",
     "text": [
      "Enter a number 10\n",
      "Enter your range: 5\n"
     ]
    },
    {
     "name": "stdout",
     "output_type": "stream",
     "text": [
      "[25]\n"
     ]
    }
   ],
   "source": [
    "# find the square of the number from user input\n",
    "\n",
    "num=[int(input('Enter a number'))]\n",
    "\n",
    "x=int(input(\"Enter your range:\"))\n",
    "\n",
    "square=list(map(lambda x,y:x**2,list(range(x,x+1)), num*10))\n",
    "print(square)"
   ]
  },
  {
   "cell_type": "code",
   "execution_count": 3,
   "id": "4eaa74f0-c54f-43ed-8e56-c3a047932a4a",
   "metadata": {},
   "outputs": [
    {
     "name": "stdin",
     "output_type": "stream",
     "text": [
      "Enter your range: 5\n"
     ]
    },
    {
     "ename": "TypeError",
     "evalue": "'int' object is not iterable",
     "output_type": "error",
     "traceback": [
      "\u001b[1;31m---------------------------------------------------------------------------\u001b[0m",
      "\u001b[1;31mTypeError\u001b[0m                                 Traceback (most recent call last)",
      "Cell \u001b[1;32mIn[3], line 6\u001b[0m\n\u001b[0;32m      1\u001b[0m \u001b[38;5;66;03m# find the square of the number from user input\u001b[39;00m\n\u001b[0;32m      4\u001b[0m x\u001b[38;5;241m=\u001b[39m\u001b[38;5;28mint\u001b[39m(\u001b[38;5;28minput\u001b[39m(\u001b[38;5;124m\"\u001b[39m\u001b[38;5;124mEnter your range:\u001b[39m\u001b[38;5;124m\"\u001b[39m))\n\u001b[1;32m----> 6\u001b[0m square\u001b[38;5;241m=\u001b[39m\u001b[38;5;28mlist\u001b[39m(\u001b[38;5;28;43mmap\u001b[39;49m\u001b[43m(\u001b[49m\u001b[38;5;28;43;01mlambda\u001b[39;49;00m\u001b[43m \u001b[49m\u001b[43mx\u001b[49m\u001b[43m:\u001b[49m\u001b[43mx\u001b[49m\u001b[38;5;241;43m*\u001b[39;49m\u001b[38;5;241;43m*\u001b[39;49m\u001b[38;5;241;43m2\u001b[39;49m\u001b[43m,\u001b[49m\u001b[43mx\u001b[49m\u001b[43m)\u001b[49m)\n\u001b[0;32m      7\u001b[0m \u001b[38;5;28mprint\u001b[39m(square)\n",
      "\u001b[1;31mTypeError\u001b[0m: 'int' object is not iterable"
     ]
    }
   ],
   "source": [
    "# find the square of the number from user input\n",
    "\n",
    "\n",
    "x=int(input(\"Enter your range:\"))\n",
    "\n",
    "square=list(map(lambda x:x**2,x))\n",
    "print(square)"
   ]
  },
  {
   "cell_type": "code",
   "execution_count": 56,
   "id": "c1afc001-8b5d-4d0b-8ad1-2f9a515a612f",
   "metadata": {},
   "outputs": [
    {
     "name": "stdin",
     "output_type": "stream",
     "text": [
      "Enter your string rupali\n"
     ]
    },
    {
     "data": {
      "text/plain": [
       "['RUPALI']"
      ]
     },
     "execution_count": 56,
     "metadata": {},
     "output_type": "execute_result"
    }
   ],
   "source": [
    "strs=[input('Enter your string')]\n",
    "\n",
    "list(map(lambda s:s.upper(),strs))"
   ]
  },
  {
   "cell_type": "code",
   "execution_count": 1,
   "id": "1e9357cd-7a82-43d3-95cf-32c518fc7afe",
   "metadata": {},
   "outputs": [
    {
     "name": "stdin",
     "output_type": "stream",
     "text": [
      "enter rupali\n"
     ]
    },
    {
     "name": "stdout",
     "output_type": "stream",
     "text": [
      "['RUPALI']\n"
     ]
    }
   ],
   "source": [
    "strs = [input(\"enter\")]\n",
    "\n",
    "x=list(map(lambda s:s.upper(),strs))\n",
    "print(x)"
   ]
  },
  {
   "cell_type": "code",
   "execution_count": 60,
   "id": "f869a039-ff6a-4891-9158-18bbedd0ff3f",
   "metadata": {},
   "outputs": [
    {
     "name": "stdin",
     "output_type": "stream",
     "text": [
      "Enter any number: 5\n"
     ]
    },
    {
     "data": {
      "text/plain": [
       "[25]"
      ]
     },
     "execution_count": 60,
     "metadata": {},
     "output_type": "execute_result"
    }
   ],
   "source": [
    "n=[int(input('Enter any number:'))]\n",
    "\n",
    "list(map(lambda n:n**2,n))"
   ]
  },
  {
   "cell_type": "code",
   "execution_count": null,
   "id": "93de83b4-f813-4004-9bbb-51801be0883e",
   "metadata": {},
   "outputs": [],
   "source": []
  },
  {
   "cell_type": "code",
   "execution_count": 78,
   "id": "fa02d91c-4acc-4230-a279-27d9c1a3da4e",
   "metadata": {},
   "outputs": [
    {
     "name": "stdin",
     "output_type": "stream",
     "text": [
      "enter 10\n"
     ]
    },
    {
     "name": "stdout",
     "output_type": "stream",
     "text": [
      "[10, 10, 10, 10, 10, 10, 10, 10, 10, 10]\n"
     ]
    }
   ],
   "source": [
    "x=int(input(\"enter\"))\n",
    "list1 = []\n",
    "\n",
    "for i in range(1,11):\n",
    "    i=x\n",
    "    list1.append(i)\n",
    "print(list1)"
   ]
  },
  {
   "cell_type": "code",
   "execution_count": 2,
   "id": "53fbc15f-dee4-408b-a2b0-6e4da32623b0",
   "metadata": {},
   "outputs": [
    {
     "name": "stdin",
     "output_type": "stream",
     "text": [
      "Enter your string hello world\n"
     ]
    },
    {
     "data": {
      "text/plain": [
       "['HELLO WORLD']"
      ]
     },
     "execution_count": 2,
     "metadata": {},
     "output_type": "execute_result"
    }
   ],
   "source": [
    "string=[input('Enter your string')]\n",
    "\n",
    "list(map(lambda s:s.upper(), string))"
   ]
  },
  {
   "cell_type": "code",
   "execution_count": null,
   "id": "f450015c-8512-431a-85fa-c9ff0d36073b",
   "metadata": {},
   "outputs": [],
   "source": []
  }
 ],
 "metadata": {
  "kernelspec": {
   "display_name": "Python 3 (ipykernel)",
   "language": "python",
   "name": "python3"
  },
  "language_info": {
   "codemirror_mode": {
    "name": "ipython",
    "version": 3
   },
   "file_extension": ".py",
   "mimetype": "text/x-python",
   "name": "python",
   "nbconvert_exporter": "python",
   "pygments_lexer": "ipython3",
   "version": "3.12.2"
  }
 },
 "nbformat": 4,
 "nbformat_minor": 5
}
