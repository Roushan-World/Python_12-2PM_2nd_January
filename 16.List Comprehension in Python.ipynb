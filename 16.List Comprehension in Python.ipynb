{
 "cells": [
  {
   "cell_type": "markdown",
   "id": "6b667280-435f-4b65-9dfd-25f56efa242d",
   "metadata": {},
   "source": [
    "# 16. List Comprehension in Python\n",
    "\n",
    " * __List Comprehension in Python is an easy and compact syntax for creating a list from a string or another list.__\n",
    " * __It is very concise way to create a new list by performing an operations on each item in the existing list.__\n",
    " * __List comprehension is considerably faster than processing a list using the for loop.__\n",
    "\n",
    "# [Expression for Item in Iterable]"
   ]
  },
  {
   "cell_type": "code",
   "execution_count": 2,
   "id": "a006ec18-baec-4629-bd61-da20bbd7577c",
   "metadata": {},
   "outputs": [],
   "source": [
    "import math\n",
    "\n",
    "from math import *"
   ]
  },
  {
   "cell_type": "code",
   "execution_count": 4,
   "id": "f56ddee0-2832-4d8f-b36a-b8174582a39a",
   "metadata": {},
   "outputs": [
    {
     "name": "stdout",
     "output_type": "stream",
     "text": [
      "[1, 8, 27, 64, 125]\n"
     ]
    }
   ],
   "source": [
    "# using for loop\n",
    "\n",
    "cube=[]\n",
    "\n",
    "for i in range(1,5+1):\n",
    "    i**=3\n",
    "    cube.append(i)\n",
    "print(cube)"
   ]
  },
  {
   "cell_type": "code",
   "execution_count": 5,
   "id": "09add0e2-3371-4a6b-8d1b-e91ed163aa14",
   "metadata": {},
   "outputs": [
    {
     "name": "stdout",
     "output_type": "stream",
     "text": [
      "[1, 8, 27, 64, 125]\n"
     ]
    }
   ],
   "source": [
    "# Using list comprehension\n",
    "\n",
    "cubic_nums=[i**3 for i in range(1,6)]\n",
    "print(cubic_nums)"
   ]
  },
  {
   "cell_type": "code",
   "execution_count": 8,
   "id": "1b9a59e3-b425-4c97-bdc5-2a595b6f6f05",
   "metadata": {},
   "outputs": [
    {
     "name": "stdout",
     "output_type": "stream",
     "text": [
      "[1.0, 8.0, 27.0, 64.0, 125.0]\n"
     ]
    }
   ],
   "source": [
    "# using list comprehension\n",
    "\n",
    "cubic_num1=[math.pow(i,3) for i in range(1,6)]\n",
    "print(cubic_num1)"
   ]
  },
  {
   "cell_type": "code",
   "execution_count": 11,
   "id": "7f0fab24-f3f6-419b-b9b2-7bfda1e31ccb",
   "metadata": {},
   "outputs": [
    {
     "name": "stdout",
     "output_type": "stream",
     "text": [
      "[2, 4, 6, 8, 10, 12, 14, 16, 18, 20]\n"
     ]
    }
   ],
   "source": [
    "# using for 1,21\n",
    "\n",
    "even_num=[]\n",
    "for i in range(1,21):\n",
    "    if i%2==0:\n",
    "        even_num.append(i)\n",
    "\n",
    "\n",
    "print(even_num)"
   ]
  },
  {
   "cell_type": "code",
   "execution_count": 10,
   "id": "aba3f1a5-638a-41e3-bcf8-8c38e1984ec9",
   "metadata": {},
   "outputs": [
    {
     "name": "stdout",
     "output_type": "stream",
     "text": [
      "[2, 4, 6, 8, 10, 12, 14, 16, 18, 20]\n"
     ]
    }
   ],
   "source": [
    "# using list comprehension\n",
    "\n",
    "even_numbers = [i for i in range(1,22) if i % 2 == 0]\n",
    "print(even_numbers)"
   ]
  },
  {
   "cell_type": "code",
   "execution_count": 17,
   "id": "a4ed7dfb-da4e-4aa1-8b71-eb9cb99b5c96",
   "metadata": {},
   "outputs": [
    {
     "name": "stdin",
     "output_type": "stream",
     "text": [
      "Enter a number 10\n",
      "Enter end value  12\n"
     ]
    },
    {
     "name": "stdout",
     "output_type": "stream",
     "text": [
      "[10, 20, 40, 80, 160, 320, 640, 1280, 2560, 5120, 10240, 20480]\n"
     ]
    }
   ],
   "source": [
    "# 10,20,40,80,160,320,640,1280,2560,5120,10240,20480 = 12\n",
    "# using for loop\n",
    "n=int(input('Enter a number'))\n",
    "end=int(input('Enter end value '))\n",
    "list1=[]\n",
    "for i in range(end):\n",
    "    i = n*(2**i)\n",
    "    list1.append(i)\n",
    "print(list1)"
   ]
  },
  {
   "cell_type": "code",
   "execution_count": 18,
   "id": "49daaa19-c7a4-4978-bcff-6442c522a034",
   "metadata": {},
   "outputs": [
    {
     "name": "stdin",
     "output_type": "stream",
     "text": [
      "Enter a number 10\n",
      "enter end value 12\n"
     ]
    },
    {
     "name": "stdout",
     "output_type": "stream",
     "text": [
      "[10, 20, 40, 80, 160, 320, 640, 1280, 2560, 5120, 10240, 20480]\n"
     ]
    }
   ],
   "source": [
    "# using list comprehension\n",
    "\n",
    "n = int(input(\"Enter a number\"))\n",
    "end = int(input(\"enter end value\"))\n",
    "\n",
    "two_time = [n*(2**i) for i in range(end)]\n",
    "print(two_time)"
   ]
  },
  {
   "cell_type": "code",
   "execution_count": 19,
   "id": "e7b2720b-41d4-4dcb-b50e-1282b5754b10",
   "metadata": {},
   "outputs": [
    {
     "name": "stdout",
     "output_type": "stream",
     "text": [
      "[3, 6, 9, 12, 15, 18, 21, 24, 27, 30]\n"
     ]
    }
   ],
   "source": [
    "# Crete a list table of 3  of three from 3 to 30.[3,6,9,12,15,18,21,27,30]\n",
    "# using for loop\n",
    "\n",
    "# Create a list table of three\n",
    "three_list = []\n",
    "n = 3\n",
    "for i in range(1,11):\n",
    "    i = 3 * i\n",
    "    three_list.append(i)\n",
    "\n",
    "print(three_list)"
   ]
  },
  {
   "cell_type": "code",
   "execution_count": 23,
   "id": "ea181a10-90b2-4b54-9a92-ed13b3e86feb",
   "metadata": {},
   "outputs": [
    {
     "name": "stdout",
     "output_type": "stream",
     "text": [
      "[3, 6, 9, 12, 15, 18, 21, 24, 27, 30]\n"
     ]
    }
   ],
   "source": [
    "nlis=[]\n",
    "for i in range(1,31):\n",
    "    if i%3==0:\n",
    "        nlis.append(i)\n",
    "print(nlis)"
   ]
  },
  {
   "cell_type": "code",
   "execution_count": 24,
   "id": "de71149c-23b9-4688-b4fd-a419a96080f3",
   "metadata": {},
   "outputs": [
    {
     "name": "stdout",
     "output_type": "stream",
     "text": [
      "[3, 6, 9, 12, 15, 18, 21, 24, 27, 30]\n"
     ]
    }
   ],
   "source": [
    "# Create a list table of three using list comprehension\n",
    "n= 3\n",
    "three_list = [i*3 for i in range(1,11)]\n",
    "print(three_list)"
   ]
  },
  {
   "cell_type": "code",
   "execution_count": 25,
   "id": "d96c10c8-a396-404c-a39e-079b0ab0e3d4",
   "metadata": {},
   "outputs": [
    {
     "name": "stdout",
     "output_type": "stream",
     "text": [
      "['P', 'y', 't', 'h', 'o', 'n', ' ', 'i', 's', ' ', 'a', ' ', 'p', 'r', 'o', 'g', 'r', 'a', 'm', 'm', 'i', 'n', 'g', ' ', 'l', 'a', 'n', 'g', 'u', 'a', 'g', 'e']\n"
     ]
    }
   ],
   "source": [
    "# Sentence: Python is a programming language:  ['P','y','t']\n",
    "\n",
    "\n",
    "# ON string using for loop\n",
    "\n",
    "text = []\n",
    "for i in 'Python is a programming language':\n",
    "    text.append(i)\n",
    "\n",
    "print(text)"
   ]
  },
  {
   "cell_type": "code",
   "execution_count": 26,
   "id": "c0e240b8-0ff5-4373-925c-032a4547eba0",
   "metadata": {},
   "outputs": [
    {
     "name": "stdout",
     "output_type": "stream",
     "text": [
      "['P', 'y', 't', 'h', 'o', 'n', ' ', 'i', 's', ' ', 'a', ' ', 'p', 'r', 'o', 'g', 'r', 'a', 'm', 'm', 'i', 'n', 'g', ' ', 'l', 'a', 'n', 'g', 'u', 'a', 'g', 'e']\n"
     ]
    }
   ],
   "source": [
    "# using list comprehension\n",
    "\n",
    "# ON string using using LC\n",
    "\n",
    "text = [i for i in 'Python is a programming language']\n",
    "print(text)"
   ]
  },
  {
   "cell_type": "code",
   "execution_count": 27,
   "id": "ce8c24bb-7061-4e23-8748-c5674013461f",
   "metadata": {},
   "outputs": [
    {
     "name": "stdout",
     "output_type": "stream",
     "text": [
      "['Python', 'Kotlin', 'JavaScript']\n"
     ]
    }
   ],
   "source": [
    "# using for loop  ex:- ['Python','Kotlin',\"JavaScript\"]\n",
    "language=['Python','Java',\"C\",\"C++\",\"C#\",\"PHP\",\"Kotlin\",\"Android\",\"RubyGO\",\"RubyOnRails\",\"R\",\"JavaScript\"]\n",
    "lang_list = []\n",
    "for i in language:\n",
    "    if 't' in i:\n",
    "        lang_list.append(i)\n",
    "\n",
    "print(lang_list)"
   ]
  },
  {
   "cell_type": "code",
   "execution_count": 28,
   "id": "16a32bc2-24ce-4b5a-8f0c-e70603b24b61",
   "metadata": {},
   "outputs": [
    {
     "name": "stdout",
     "output_type": "stream",
     "text": [
      "['Python', 'Kotlin', 'JavaScript']\n"
     ]
    }
   ],
   "source": [
    "# using list comprehensions\n",
    "\n",
    "lang_list = [i for i in language if 't' in i]\n",
    "print(lang_list)"
   ]
  },
  {
   "cell_type": "code",
   "execution_count": 30,
   "id": "7fdfe9e7-e988-4160-9ba6-7bf7d79956e5",
   "metadata": {},
   "outputs": [
    {
     "name": "stdout",
     "output_type": "stream",
     "text": [
      "['Python', 'Kotlin', 'JavaScript']\n"
     ]
    }
   ],
   "source": [
    "lang_list = []\n",
    "for i in language:\n",
    "     if i in [ 'Python' , 'Kotlin' , 'JavaScript']:\n",
    "        lang_list.append(i)\n",
    "\n",
    "print(lang_list)"
   ]
  },
  {
   "cell_type": "code",
   "execution_count": null,
   "id": "88116993-2446-4741-b163-2df23f0e8f89",
   "metadata": {},
   "outputs": [],
   "source": []
  }
 ],
 "metadata": {
  "kernelspec": {
   "display_name": "Python 3 (ipykernel)",
   "language": "python",
   "name": "python3"
  },
  "language_info": {
   "codemirror_mode": {
    "name": "ipython",
    "version": 3
   },
   "file_extension": ".py",
   "mimetype": "text/x-python",
   "name": "python",
   "nbconvert_exporter": "python",
   "pygments_lexer": "ipython3",
   "version": "3.12.2"
  }
 },
 "nbformat": 4,
 "nbformat_minor": 5
}
