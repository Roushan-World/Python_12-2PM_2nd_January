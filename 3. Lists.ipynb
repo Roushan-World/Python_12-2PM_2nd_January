{
 "cells": [
  {
   "cell_type": "markdown",
   "id": "7a762168-21f0-4a43-a58e-4f1b9216a849",
   "metadata": {},
   "source": [
    "# 3. Lists in Python\n",
    "\n",
    " * __Lists are ordered.__\n",
    " * __Lists can contains any data type of python.__\n",
    " * __List element can be accessed by index value.__\n",
    " * __Lists can be nested to arbitrary depth.__\n",
    " * __Lists are mutable.__\n",
    " * __Lists are dynamic.__"
   ]
  },
  {
   "cell_type": "code",
   "execution_count": 19,
   "id": "cdc4dac6-476a-41ba-b083-4c625592cf01",
   "metadata": {},
   "outputs": [
    {
     "data": {
      "text/plain": [
       "['Hello world',\n",
       " 100,\n",
       " 123.23,\n",
       " True,\n",
       " False,\n",
       " ['Hello Python', 1000, True],\n",
       " ('Hello world', 100, 450),\n",
       " {1, 20, 3, 40, 'Hello'},\n",
       " {'a': 'Hello'}]"
      ]
     },
     "execution_count": 19,
     "metadata": {},
     "output_type": "execute_result"
    }
   ],
   "source": [
    "x=['Hello world',100,123.23,True,False,['Hello Python',1000,True],('Hello world',100,450),{1,20,3,40,'Hello'},{'a':'Hello'}]\n",
    "x"
   ]
  },
  {
   "cell_type": "code",
   "execution_count": 2,
   "id": "8960183c-c3ac-41a5-8dd1-a89b0307a295",
   "metadata": {},
   "outputs": [
    {
     "data": {
      "text/plain": [
       "list"
      ]
     },
     "execution_count": 2,
     "metadata": {},
     "output_type": "execute_result"
    }
   ],
   "source": [
    "type(x)"
   ]
  },
  {
   "cell_type": "code",
   "execution_count": 14,
   "id": "1807eec4-3cd3-4713-8cb3-24b9f26b95b2",
   "metadata": {},
   "outputs": [
    {
     "name": "stdout",
     "output_type": "stream",
     "text": [
      "Hello world\n",
      "100\n",
      "123.23\n",
      "True\n",
      "False\n",
      "['Hello Python', 100]\n",
      "('Hello world', 100)\n",
      "{1, 3, 20, 40, 'Hello'}\n",
      "{'a': 'Hello'}\n"
     ]
    }
   ],
   "source": [
    "print(x[0])\n",
    "print(x[1])\n",
    "print(x[2])\n",
    "print(x[3])\n",
    "print(x[4])\n",
    "print(x[5])\n",
    "print(x[6])\n",
    "print(x[7])\n",
    "print(x[8])\n"
   ]
  },
  {
   "cell_type": "code",
   "execution_count": 18,
   "id": "bc559047-215d-47b8-98ab-beb0ee7662b6",
   "metadata": {},
   "outputs": [
    {
     "name": "stdout",
     "output_type": "stream",
     "text": [
      "<class 'str'>\n",
      "<class 'int'>\n"
     ]
    }
   ],
   "source": [
    "print(type(x[0]))\n",
    "print(type(x[1]))"
   ]
  },
  {
   "cell_type": "code",
   "execution_count": 22,
   "id": "ec409dc4-2eec-423c-ac3b-16e9ffb9a08e",
   "metadata": {},
   "outputs": [
    {
     "data": {
      "text/plain": [
       "1000"
      ]
     },
     "execution_count": 22,
     "metadata": {},
     "output_type": "execute_result"
    }
   ],
   "source": [
    "x[5][1]"
   ]
  },
  {
   "cell_type": "code",
   "execution_count": 25,
   "id": "9b8f1ab9-33eb-46a5-b006-6df468cb676e",
   "metadata": {},
   "outputs": [
    {
     "name": "stdout",
     "output_type": "stream",
     "text": [
      "{'a': 'Hello'}\n",
      "{1, 3, 20, 40, 'Hello'}\n"
     ]
    }
   ],
   "source": [
    "print(x[-1])\n",
    "print(x[-2])"
   ]
  },
  {
   "cell_type": "code",
   "execution_count": 30,
   "id": "b707f5a3-7d7b-4363-85f8-309a60979763",
   "metadata": {},
   "outputs": [
    {
     "data": {
      "text/plain": [
       "['Hello world', 100, 123.23, True, False, ['Hello Python', 1000, True]]"
      ]
     },
     "execution_count": 30,
     "metadata": {},
     "output_type": "execute_result"
    }
   ],
   "source": [
    "x[0:6]"
   ]
  },
  {
   "cell_type": "code",
   "execution_count": 31,
   "id": "af0313b3-2e37-44c3-a24d-a09288bcf4d0",
   "metadata": {},
   "outputs": [
    {
     "data": {
      "text/plain": [
       "['Hello world',\n",
       " 100,\n",
       " 123.23,\n",
       " True,\n",
       " False,\n",
       " ['Hello Python', 1000, True],\n",
       " ('Hello world', 100, 450),\n",
       " {1, 20, 3, 40, 'Hello'},\n",
       " {'a': 'Hello'}]"
      ]
     },
     "execution_count": 31,
     "metadata": {},
     "output_type": "execute_result"
    }
   ],
   "source": [
    "x"
   ]
  },
  {
   "cell_type": "code",
   "execution_count": 32,
   "id": "82347a38-e3fc-4e4e-af1c-4fb718734d22",
   "metadata": {},
   "outputs": [
    {
     "data": {
      "text/plain": [
       "9"
      ]
     },
     "execution_count": 32,
     "metadata": {},
     "output_type": "execute_result"
    }
   ],
   "source": [
    "len(x)"
   ]
  },
  {
   "cell_type": "markdown",
   "id": "44b9fb92-3c50-438e-a504-7a2eb9df2c00",
   "metadata": {},
   "source": [
    "# adding an element"
   ]
  },
  {
   "cell_type": "code",
   "execution_count": 33,
   "id": "3e879487-1fa6-4057-a458-31fe25e68e2a",
   "metadata": {},
   "outputs": [
    {
     "data": {
      "text/plain": [
       "['Hello world',\n",
       " 100,\n",
       " 123.23,\n",
       " True,\n",
       " False,\n",
       " ['Hello Python', 1000, True],\n",
       " ('Hello world', 100, 450),\n",
       " {1, 20, 3, 40, 'Hello'},\n",
       " {'a': 'Hello'}]"
      ]
     },
     "execution_count": 33,
     "metadata": {},
     "output_type": "execute_result"
    }
   ],
   "source": [
    "x"
   ]
  },
  {
   "cell_type": "code",
   "execution_count": 40,
   "id": "87a05b61-f503-4911-a922-0920b7ac70d5",
   "metadata": {},
   "outputs": [
    {
     "data": {
      "text/plain": [
       "['Hello world',\n",
       " 100,\n",
       " 123.23,\n",
       " True,\n",
       " False,\n",
       " ['Hello Python', 1000, True],\n",
       " ('Hello world', 100, 450),\n",
       " {1, 20, 3, 40, 'Hello'},\n",
       " {'a': 'Hello'},\n",
       " 'Aditi',\n",
       " 'Aditi',\n",
       " 'Aditi',\n",
       " 'Aditi']"
      ]
     },
     "execution_count": 40,
     "metadata": {},
     "output_type": "execute_result"
    }
   ],
   "source": [
    "# append\n",
    "x.append('Aditi')\n",
    "x"
   ]
  },
  {
   "cell_type": "code",
   "execution_count": 48,
   "id": "231b3157-2dc8-4765-ba99-d86035db2ec5",
   "metadata": {},
   "outputs": [
    {
     "data": {
      "text/plain": [
       "['Siddharth',\n",
       " 'Hello world',\n",
       " 100,\n",
       " 123.23,\n",
       " True,\n",
       " False,\n",
       " ['Hello Python', 1000, True],\n",
       " ('Hello world', 100, 450),\n",
       " {1, 20, 3, 40, 'Hello'},\n",
       " {'a': 'Hello'},\n",
       " 'Aditi',\n",
       " 'Aditi',\n",
       " 'Aditi',\n",
       " 'Aditi',\n",
       " 10,\n",
       " 20,\n",
       " 30,\n",
       " 40,\n",
       " 10,\n",
       " 20,\n",
       " 30,\n",
       " 40]"
      ]
     },
     "execution_count": 48,
     "metadata": {},
     "output_type": "execute_result"
    }
   ],
   "source": [
    "# Extend\n",
    "x.extend([10,20,30,40])\n",
    "x"
   ]
  },
  {
   "cell_type": "code",
   "execution_count": 58,
   "id": "42de80a9-19b5-45fd-909a-847f8c492cf1",
   "metadata": {},
   "outputs": [
    {
     "data": {
      "text/plain": [
       "['Siddharth',\n",
       " 'Siddharth',\n",
       " 'Hello world',\n",
       " 100,\n",
       " 123.23,\n",
       " True,\n",
       " False,\n",
       " ['Hello Python', 1000, True],\n",
       " ('Hello world', 100, 450),\n",
       " {1, 20, 3, 40, 'Hello'},\n",
       " {'a': 'Hello'},\n",
       " 'Aditi',\n",
       " 'Aditi',\n",
       " 'Aditi',\n",
       " 'Aditi',\n",
       " 10,\n",
       " 20,\n",
       " 30,\n",
       " 40,\n",
       " 10,\n",
       " 20,\n",
       " 30,\n",
       " 40]"
      ]
     },
     "execution_count": 58,
     "metadata": {},
     "output_type": "execute_result"
    }
   ],
   "source": [
    "# insert\n",
    "x.insert(0,'Siddharth')\n",
    "\n",
    "x"
   ]
  },
  {
   "cell_type": "code",
   "execution_count": 52,
   "id": "02745bd3-75b3-4315-835a-53da3f66c44b",
   "metadata": {},
   "outputs": [
    {
     "data": {
      "text/plain": [
       "4"
      ]
     },
     "execution_count": 52,
     "metadata": {},
     "output_type": "execute_result"
    }
   ],
   "source": [
    "x1=[10,20,30,40,40,40,40,50,50,60,60,60]\n",
    "\n",
    "x1.count(40)"
   ]
  },
  {
   "cell_type": "code",
   "execution_count": 57,
   "id": "8a133ccf-8044-4445-9cc2-28e5f5debd6e",
   "metadata": {},
   "outputs": [
    {
     "data": {
      "text/plain": [
       "2"
      ]
     },
     "execution_count": 57,
     "metadata": {},
     "output_type": "execute_result"
    }
   ],
   "source": [
    "# find\n",
    "\n",
    "x1.index(30)"
   ]
  },
  {
   "cell_type": "code",
   "execution_count": 8,
   "id": "fb83d196-ad1e-47e9-bd42-8e90f763fc51",
   "metadata": {},
   "outputs": [
    {
     "data": {
      "text/plain": [
       "['Pune']"
      ]
     },
     "execution_count": 8,
     "metadata": {},
     "output_type": "execute_result"
    }
   ],
   "source": [
    "x=[]\n",
    "x.append(\"Pune\")\n",
    "x"
   ]
  },
  {
   "cell_type": "code",
   "execution_count": 6,
   "id": "2bea08d7-6297-4dab-8a9b-6521dce4ea37",
   "metadata": {},
   "outputs": [],
   "source": [
    "# '3idiots','pushpa','DDLG'\n",
    "\n",
    "khurde=[]\n",
    "khurde.extend(['3idiots','pushpa','DDLG'])\n",
    "khurde.insert(0,'aditi')"
   ]
  },
  {
   "cell_type": "code",
   "execution_count": 7,
   "id": "518d08ba-ec7c-43eb-9c72-74e11b563b4a",
   "metadata": {},
   "outputs": [
    {
     "data": {
      "text/plain": [
       "['aditi', '3idiots', 'pushpa', 'DDLG']"
      ]
     },
     "execution_count": 7,
     "metadata": {},
     "output_type": "execute_result"
    }
   ],
   "source": [
    "khurde"
   ]
  },
  {
   "cell_type": "code",
   "execution_count": 31,
   "id": "b65dc4e5-1efe-4f31-8272-363c96bc4f27",
   "metadata": {},
   "outputs": [
    {
     "data": {
      "text/plain": [
       "['Pune', 'Pune', 'Pune', 'Pune']"
      ]
     },
     "execution_count": 31,
     "metadata": {},
     "output_type": "execute_result"
    }
   ],
   "source": [
    "x.append(\"Pune\")\n",
    "x"
   ]
  },
  {
   "cell_type": "code",
   "execution_count": 28,
   "id": "48918c9b-5e24-4bb1-ab5b-ca416e932b7a",
   "metadata": {},
   "outputs": [
    {
     "data": {
      "text/plain": [
       "['Pune', 'Pune']"
      ]
     },
     "execution_count": 28,
     "metadata": {},
     "output_type": "execute_result"
    }
   ],
   "source": [
    "x.remove(\"Pune\")\n",
    "x"
   ]
  },
  {
   "cell_type": "code",
   "execution_count": 29,
   "id": "b976efcf-31ae-4230-a044-52bfed71ce23",
   "metadata": {},
   "outputs": [
    {
     "data": {
      "text/plain": [
       "['Pune', 'Pune']"
      ]
     },
     "execution_count": 29,
     "metadata": {},
     "output_type": "execute_result"
    }
   ],
   "source": [
    "x"
   ]
  },
  {
   "cell_type": "code",
   "execution_count": 25,
   "id": "1ab8d684-d3d4-424d-b2de-5553c4dd75b6",
   "metadata": {},
   "outputs": [
    {
     "data": {
      "text/plain": [
       "['Pune', 'Pune']"
      ]
     },
     "execution_count": 25,
     "metadata": {},
     "output_type": "execute_result"
    }
   ],
   "source": [
    "x.remove(\"Pune\")\n",
    "x"
   ]
  },
  {
   "cell_type": "code",
   "execution_count": 32,
   "id": "8597be22-e5b1-4a4d-8c86-35dc0b3e60a3",
   "metadata": {},
   "outputs": [
    {
     "data": {
      "text/plain": [
       "['Pune', 'Pune', 'Pune', 'Pune']"
      ]
     },
     "execution_count": 32,
     "metadata": {},
     "output_type": "execute_result"
    }
   ],
   "source": [
    "x"
   ]
  },
  {
   "cell_type": "code",
   "execution_count": 35,
   "id": "920b1982-bca2-4575-a14e-568b5ca60c68",
   "metadata": {},
   "outputs": [],
   "source": [
    "# delete()\n",
    "\n",
    "del(x[0])"
   ]
  },
  {
   "cell_type": "code",
   "execution_count": 36,
   "id": "166b566a-1ef5-44a5-bafa-7b9a75763b15",
   "metadata": {},
   "outputs": [
    {
     "data": {
      "text/plain": [
       "['Pune', 'Pune', 'Pune']"
      ]
     },
     "execution_count": 36,
     "metadata": {},
     "output_type": "execute_result"
    }
   ],
   "source": [
    "x"
   ]
  },
  {
   "cell_type": "code",
   "execution_count": 40,
   "id": "9d08c1c3-dda2-4326-a683-10e5db2623ed",
   "metadata": {},
   "outputs": [
    {
     "ename": "IndexError",
     "evalue": "list assignment index out of range",
     "output_type": "error",
     "traceback": [
      "\u001b[1;31m---------------------------------------------------------------------------\u001b[0m",
      "\u001b[1;31mIndexError\u001b[0m                                Traceback (most recent call last)",
      "Cell \u001b[1;32mIn[40], line 1\u001b[0m\n\u001b[1;32m----> 1\u001b[0m \u001b[38;5;28;01mdel\u001b[39;00m(\u001b[43mx\u001b[49m\u001b[43m[\u001b[49m\u001b[38;5;241;43m1\u001b[39;49m\u001b[43m]\u001b[49m)\n",
      "\u001b[1;31mIndexError\u001b[0m: list assignment index out of range"
     ]
    }
   ],
   "source": [
    "del(x[1])"
   ]
  },
  {
   "cell_type": "code",
   "execution_count": 38,
   "id": "352c6600-0cf1-4cc3-a984-94616b108639",
   "metadata": {},
   "outputs": [
    {
     "data": {
      "text/plain": [
       "['Pune', 'Pune']"
      ]
     },
     "execution_count": 38,
     "metadata": {},
     "output_type": "execute_result"
    }
   ],
   "source": [
    "x"
   ]
  },
  {
   "cell_type": "code",
   "execution_count": 41,
   "id": "38c69b89-e187-4166-a650-fe03620fedaf",
   "metadata": {},
   "outputs": [
    {
     "data": {
      "text/plain": [
       "['Rani Laxmi Bai', 'Bhagat Singh', 'Khurde']"
      ]
     },
     "execution_count": 41,
     "metadata": {},
     "output_type": "execute_result"
    }
   ],
   "source": [
    "x=[\"Rani Laxmi Bai\",\"Bhagat Singh\",\"Khurde\"]\n",
    "x"
   ]
  },
  {
   "cell_type": "code",
   "execution_count": 44,
   "id": "055cabae-a565-4278-b485-be4f7e46b5d5",
   "metadata": {},
   "outputs": [
    {
     "data": {
      "text/plain": [
       "['Rani Laxmi Bai', 'Bhagat Singh', 'Raj Guru']"
      ]
     },
     "execution_count": 44,
     "metadata": {},
     "output_type": "execute_result"
    }
   ],
   "source": [
    "x[2]=\"Raj Guru\"\n",
    "x"
   ]
  },
  {
   "cell_type": "code",
   "execution_count": 45,
   "id": "7fc4655a-d6fe-4e72-8727-fef0687f683d",
   "metadata": {},
   "outputs": [
    {
     "data": {
      "text/plain": [
       "[100, 'Bhagat Singh', 'Raj Guru']"
      ]
     },
     "execution_count": 45,
     "metadata": {},
     "output_type": "execute_result"
    }
   ],
   "source": [
    "x[0]=100\n",
    "x"
   ]
  },
  {
   "cell_type": "code",
   "execution_count": 46,
   "id": "72688bab-2d98-4767-9ac8-27532f98a271",
   "metadata": {},
   "outputs": [
    {
     "data": {
      "text/plain": [
       "[100, 'Pushpa', 'Raj Guru']"
      ]
     },
     "execution_count": 46,
     "metadata": {},
     "output_type": "execute_result"
    }
   ],
   "source": [
    "x[1]=\"Pushpa\"\n",
    "x"
   ]
  },
  {
   "cell_type": "markdown",
   "id": "cc38b104-b338-410a-8b3a-1eb522772e1b",
   "metadata": {},
   "source": [
    "# Copy the list"
   ]
  },
  {
   "cell_type": "code",
   "execution_count": 48,
   "id": "2b8cfe87-8ec4-465b-88a2-0e5d91a97e45",
   "metadata": {},
   "outputs": [
    {
     "data": {
      "text/plain": [
       "['Hello world', 'Python']"
      ]
     },
     "execution_count": 48,
     "metadata": {},
     "output_type": "execute_result"
    }
   ],
   "source": [
    "x=[\"Hello world\",'Python']\n",
    "x"
   ]
  },
  {
   "cell_type": "code",
   "execution_count": 51,
   "id": "af4a3871-4596-44d1-9800-5cac6cf4758e",
   "metadata": {},
   "outputs": [
    {
     "data": {
      "text/plain": [
       "['Hello world', 'Python']"
      ]
     },
     "execution_count": 51,
     "metadata": {},
     "output_type": "execute_result"
    }
   ],
   "source": [
    "# swallow copy  # copy()\n",
    "x_copy=x.copy()\n",
    "x_copy"
   ]
  },
  {
   "cell_type": "code",
   "execution_count": 52,
   "id": "64d2ec7d-a6fe-42ed-9b2f-17ad0081fdd5",
   "metadata": {},
   "outputs": [
    {
     "data": {
      "text/plain": [
       "['Hello world', 'Python']"
      ]
     },
     "execution_count": 52,
     "metadata": {},
     "output_type": "execute_result"
    }
   ],
   "source": [
    "x_copy"
   ]
  },
  {
   "cell_type": "code",
   "execution_count": 54,
   "id": "b40eb0c6-e178-4226-9eba-cfef4ead5094",
   "metadata": {},
   "outputs": [
    {
     "data": {
      "text/plain": [
       "['Hello world', 'Python']"
      ]
     },
     "execution_count": 54,
     "metadata": {},
     "output_type": "execute_result"
    }
   ],
   "source": [
    "# Deep copy\n",
    "x_deep=x\n",
    "x_deep"
   ]
  },
  {
   "cell_type": "code",
   "execution_count": 55,
   "id": "e3a9f5b8-3d68-4417-9afb-c6e816aa7c4c",
   "metadata": {},
   "outputs": [
    {
     "data": {
      "text/plain": [
       "['Hello world', 'Python']"
      ]
     },
     "execution_count": 55,
     "metadata": {},
     "output_type": "execute_result"
    }
   ],
   "source": [
    "x_deep"
   ]
  },
  {
   "cell_type": "code",
   "execution_count": 61,
   "id": "147f4bf0-3be2-4a34-9dc3-196866b45a46",
   "metadata": {},
   "outputs": [
    {
     "name": "stdout",
     "output_type": "stream",
     "text": [
      "['Hello world', 'Python']\n",
      "['Hello world', 'Python']\n",
      "['Hello world', 'Python', 'Aditi']\n",
      "['Hello world', 'Python']\n"
     ]
    }
   ],
   "source": [
    "original=[\"Hello world\",'Python']    # Aditi\n",
    "duplicate=x.copy()\n",
    "print(original)\n",
    "print(duplicate)\n",
    "\n",
    "original.append(\"Aditi\")\n",
    "print(original)\n",
    "print(duplicate)"
   ]
  },
  {
   "cell_type": "code",
   "execution_count": 68,
   "id": "807337ea-fcf6-4904-b2b5-839949ee74c3",
   "metadata": {},
   "outputs": [
    {
     "name": "stdout",
     "output_type": "stream",
     "text": [
      "['Hello world', 'Python']\n",
      "['Hello world', 'Python']\n",
      "['Hello world', 'Python', 'Khurde']\n"
     ]
    }
   ],
   "source": [
    "# Deep copy\n",
    "original=[\"Hello world\",'Python']  # Khurde\n",
    "duplicate=original\n",
    "print(original)\n",
    "print(duplicate)\n",
    "\n",
    "original.append(\"Khurde\")\n",
    "print(original)\n"
   ]
  },
  {
   "cell_type": "code",
   "execution_count": 69,
   "id": "91ef4445-b60b-4e4b-8b75-9b9de95eb079",
   "metadata": {},
   "outputs": [
    {
     "name": "stdout",
     "output_type": "stream",
     "text": [
      "['Hello world', 'Python', 'Khurde']\n"
     ]
    }
   ],
   "source": [
    "print(duplicate)"
   ]
  },
  {
   "cell_type": "code",
   "execution_count": 70,
   "id": "de3cf666-274f-4fe7-bce4-56e446322662",
   "metadata": {},
   "outputs": [
    {
     "name": "stdout",
     "output_type": "stream",
     "text": [
      "['Hello world', 'Python', 'Khurde', 'Aditi']\n"
     ]
    }
   ],
   "source": [
    "original.append(\"Aditi\")\n",
    "print(original)"
   ]
  },
  {
   "cell_type": "code",
   "execution_count": 71,
   "id": "e1fba23b-4a72-4f4a-a1a4-c8aea81aec8c",
   "metadata": {},
   "outputs": [
    {
     "name": "stdout",
     "output_type": "stream",
     "text": [
      "['Hello world', 'Python', 'Khurde', 'Aditi']\n"
     ]
    }
   ],
   "source": [
    "print(duplicate)"
   ]
  },
  {
   "cell_type": "markdown",
   "id": "d0148522-37e5-4eaa-b312-6cc357718787",
   "metadata": {},
   "source": [
    "# input() function"
   ]
  },
  {
   "cell_type": "code",
   "execution_count": 83,
   "id": "0399bf4f-a271-45cd-a87b-7590896a3fe7",
   "metadata": {},
   "outputs": [
    {
     "name": "stdin",
     "output_type": "stream",
     "text": [
      " \"Aditi\"\n"
     ]
    }
   ],
   "source": [
    "x=input()\n",
    "\n",
    "y=[]  # Empty list\n",
    "y.append(x)"
   ]
  },
  {
   "cell_type": "code",
   "execution_count": 84,
   "id": "f856d543-fee9-4dba-a109-bd03fe6fc86c",
   "metadata": {},
   "outputs": [
    {
     "data": {
      "text/plain": [
       "['\"Aditi\"']"
      ]
     },
     "execution_count": 84,
     "metadata": {},
     "output_type": "execute_result"
    }
   ],
   "source": [
    "y"
   ]
  },
  {
   "cell_type": "code",
   "execution_count": 88,
   "id": "f15420b1-31f7-4236-8679-7126bf099c2e",
   "metadata": {},
   "outputs": [
    {
     "name": "stdin",
     "output_type": "stream",
     "text": [
      "Enter your text: 100\n"
     ]
    },
    {
     "name": "stdout",
     "output_type": "stream",
     "text": [
      "100\n",
      "<class 'str'>\n"
     ]
    }
   ],
   "source": [
    "x=input(\"Enter your text:\")\n",
    "print(x)\n",
    "print(type(x))"
   ]
  },
  {
   "cell_type": "code",
   "execution_count": 92,
   "id": "d6fefb75-b128-49a1-87d3-8245180ec175",
   "metadata": {},
   "outputs": [
    {
     "name": "stdin",
     "output_type": "stream",
     "text": [
      "Enter your text: 45.23\n"
     ]
    },
    {
     "ename": "ValueError",
     "evalue": "invalid literal for int() with base 10: '45.23'",
     "output_type": "error",
     "traceback": [
      "\u001b[1;31m---------------------------------------------------------------------------\u001b[0m",
      "\u001b[1;31mValueError\u001b[0m                                Traceback (most recent call last)",
      "Cell \u001b[1;32mIn[92], line 1\u001b[0m\n\u001b[1;32m----> 1\u001b[0m x\u001b[38;5;241m=\u001b[39m\u001b[38;5;28;43mint\u001b[39;49m\u001b[43m(\u001b[49m\u001b[38;5;28;43minput\u001b[39;49m\u001b[43m(\u001b[49m\u001b[38;5;124;43m\"\u001b[39;49m\u001b[38;5;124;43mEnter your text:\u001b[39;49m\u001b[38;5;124;43m\"\u001b[39;49m\u001b[43m)\u001b[49m\u001b[43m)\u001b[49m\n\u001b[0;32m      2\u001b[0m \u001b[38;5;28mprint\u001b[39m(x)\n\u001b[0;32m      3\u001b[0m \u001b[38;5;28mprint\u001b[39m(\u001b[38;5;28mtype\u001b[39m(x))\n",
      "\u001b[1;31mValueError\u001b[0m: invalid literal for int() with base 10: '45.23'"
     ]
    }
   ],
   "source": [
    "x=int(input(\"Enter your text:\"))\n",
    "print(x)\n",
    "print(type(x))"
   ]
  },
  {
   "cell_type": "code",
   "execution_count": 94,
   "id": "e94bc07f-1027-4d79-aa52-898255999525",
   "metadata": {},
   "outputs": [
    {
     "name": "stdin",
     "output_type": "stream",
     "text": [
      "Enter any number: 100\n"
     ]
    },
    {
     "name": "stdout",
     "output_type": "stream",
     "text": [
      "100.0\n",
      "<class 'float'>\n"
     ]
    }
   ],
   "source": [
    "x=float(input(\"Enter any number:\"))\n",
    "print(x)\n",
    "print(type(x))"
   ]
  },
  {
   "cell_type": "code",
   "execution_count": 96,
   "id": "0fbd6f9a-e0d4-4b5f-860e-c2e6123a0f6e",
   "metadata": {},
   "outputs": [
    {
     "data": {
      "text/plain": [
       "'dasds'"
      ]
     },
     "execution_count": 96,
     "metadata": {},
     "output_type": "execute_result"
    }
   ],
   "source": [
    "x_Org=['hello', 'world', 'to me', 'Jyoti', 'dasds', '\"hi\"', '100']\n",
    "x_Org[4]"
   ]
  },
  {
   "cell_type": "code",
   "execution_count": 97,
   "id": "9e8c03f4-590f-4d4f-88e6-b2a530667545",
   "metadata": {},
   "outputs": [
    {
     "name": "stdout",
     "output_type": "stream",
     "text": [
      "dasds\n"
     ]
    }
   ],
   "source": [
    "print(x_Org[4])"
   ]
  },
  {
   "cell_type": "code",
   "execution_count": 3,
   "id": "dacaafeb-b389-471d-85c8-dadcef05a2ea",
   "metadata": {},
   "outputs": [
    {
     "data": {
      "text/plain": [
       "['Rajesh Khurde']"
      ]
     },
     "execution_count": 3,
     "metadata": {},
     "output_type": "execute_result"
    }
   ],
   "source": [
    "x3=[\"Rajesh\"]\n",
    "x3[0]=\"Rajesh Khurde\"\n",
    "x3"
   ]
  },
  {
   "cell_type": "code",
   "execution_count": 4,
   "id": "18f4cc95-47d7-4849-a1a2-41a40a2bb87c",
   "metadata": {},
   "outputs": [
    {
     "ename": "NameError",
     "evalue": "name 'x' is not defined",
     "output_type": "error",
     "traceback": [
      "\u001b[1;31m---------------------------------------------------------------------------\u001b[0m",
      "\u001b[1;31mNameError\u001b[0m                                 Traceback (most recent call last)",
      "Cell \u001b[1;32mIn[4], line 1\u001b[0m\n\u001b[1;32m----> 1\u001b[0m y \u001b[38;5;241m=\u001b[39m \u001b[43mx\u001b[49m[\u001b[38;5;241m2\u001b[39m,\u001b[38;5;241m3\u001b[39m]\n",
      "\u001b[1;31mNameError\u001b[0m: name 'x' is not defined"
     ]
    }
   ],
   "source": [
    "y = x[2,3]"
   ]
  },
  {
   "cell_type": "code",
   "execution_count": 6,
   "id": "8dfd7de8-d569-4374-b2c1-3cd637c587bd",
   "metadata": {},
   "outputs": [
    {
     "data": {
      "text/plain": [
       "['hi', 'hello']"
      ]
     },
     "execution_count": 6,
     "metadata": {},
     "output_type": "execute_result"
    }
   ],
   "source": [
    "z=['hi','hello']\n",
    "y_copy=z\n",
    "y_copy"
   ]
  },
  {
   "cell_type": "code",
   "execution_count": 7,
   "id": "161d7b8f-74e1-4485-b5c0-14c1f01b41e5",
   "metadata": {},
   "outputs": [
    {
     "name": "stdout",
     "output_type": "stream",
     "text": [
      "8+5\n"
     ]
    }
   ],
   "source": [
    "print(\"8+5\")"
   ]
  },
  {
   "cell_type": "code",
   "execution_count": 8,
   "id": "15bf40d3-4b4c-4b16-9f85-f1ce8945603e",
   "metadata": {},
   "outputs": [
    {
     "name": "stdout",
     "output_type": "stream",
     "text": [
      "13\n"
     ]
    }
   ],
   "source": [
    "print(8+5)"
   ]
  },
  {
   "cell_type": "code",
   "execution_count": 19,
   "id": "ad7694eb-ab31-4531-9f4a-473a51a0b293",
   "metadata": {},
   "outputs": [
    {
     "name": "stdout",
     "output_type": "stream",
     "text": [
      "8+100\n",
      "<class 'str'>\n",
      "108\n",
      "<class 'int'>\n"
     ]
    }
   ],
   "source": [
    "x='8+100'\n",
    "print(x)\n",
    "print(type(x))\n",
    "'''\n",
    "Aditi\n",
    "khurde\n",
    "pushpa raj\n",
    "'''\n",
    "\n",
    "y=eval(x)\n",
    "print(y)\n",
    "print(type(y))"
   ]
  },
  {
   "cell_type": "markdown",
   "id": "4aefee50-9e94-4bb6-a476-58f7eddc80cf",
   "metadata": {},
   "source": [
    "# format() function"
   ]
  },
  {
   "cell_type": "code",
   "execution_count": 20,
   "id": "ff5adb1d-5bae-4ab1-97e9-82b8d9e2b79f",
   "metadata": {},
   "outputs": [
    {
     "name": "stdout",
     "output_type": "stream",
     "text": [
      "8+100\n"
     ]
    }
   ],
   "source": [
    "print(x)"
   ]
  },
  {
   "cell_type": "code",
   "execution_count": 26,
   "id": "94c4b53f-7e76-4a03-976a-53231c871c2e",
   "metadata": {},
   "outputs": [
    {
     "name": "stdin",
     "output_type": "stream",
     "text": [
      "Enter any number: 100\n",
      "Enter second number: 200\n"
     ]
    },
    {
     "name": "stdout",
     "output_type": "stream",
     "text": [
      "The sum of two number is 100 and 200 and the Product is: 300\n"
     ]
    }
   ],
   "source": [
    "x=int(input(\"Enter any number:\"))\n",
    "y=int(input(\"Enter second number:\"))\n",
    "z=x+y\n",
    "print(\"The sum of two number is {} and {} and the Product is: {}\".format(x,y,z))"
   ]
  },
  {
   "cell_type": "code",
   "execution_count": 27,
   "id": "a6b89459-6857-4780-a07d-117a4485ca6e",
   "metadata": {},
   "outputs": [
    {
     "name": "stdin",
     "output_type": "stream",
     "text": [
      "Enter any number: 100\n",
      "Enter second number: 200\n"
     ]
    },
    {
     "name": "stdout",
     "output_type": "stream",
     "text": [
      "The sum of two number is 200 and 100 and the Product is: 300\n"
     ]
    }
   ],
   "source": [
    "x=int(input(\"Enter any number:\"))\n",
    "y=int(input(\"Enter second number:\"))\n",
    "z=x+y\n",
    "print(\"The sum of two number is {} and {} and the Product is: {}\".format(y,x,z))"
   ]
  },
  {
   "cell_type": "code",
   "execution_count": null,
   "id": "02caceb8-26b6-401f-9649-a2187e03890c",
   "metadata": {},
   "outputs": [],
   "source": [
    "# Apple, Cherry, Strawberry, Orange, Kiwi, Grapes\n",
    "\n",
    "[1=Strawberry,2=Apple,3=Kiwi,4=Cherry,5=Orange,6=Grapes]\n",
    "\n",
    "x1 = input(\"Enter a fruit apple \")\n",
    "x2 = input(\"Enter a fruit cherry \")\n",
    "x3 = input(\"Enter a fruit apple \")\n",
    "x4 = input(\"Enter a fruit apple \")\n",
    "x5 = input(\"Enter a fruit apple \")\n",
    "\n",
    "print(\"Fruit list {} {} {} {} {} \".format(x1,x4))"
   ]
  },
  {
   "cell_type": "code",
   "execution_count": null,
   "id": "2893b4cb-ac8b-4a7f-b35f-7abde1935b9c",
   "metadata": {},
   "outputs": [],
   "source": [
    "#Favorite fruits according the preference\n",
    "a=str(input(\"Enter  1st fruit:\"))\n",
    "b=str(input(\"enter  2nd fruit :\"))\n",
    "c=str(input(\"enter  3rd fruit :\"))\n",
    "d=str(input(\"enter  4th fruit :\"))\n",
    "e=str(input(\"enter  5th fruit :\"))\n",
    "f=str(input(\"enter  6th fruit :\"))\n",
    "g=str(input(\"enter  7th fruit :\"))\n",
    "\n",
    "h=a+b+c+d+e+f+g\n",
    "print(\"Favourite fruit according to the preference are {} {} {} {} {} {} {}\".format(a,b,c,d,e,f,g))"
   ]
  },
  {
   "cell_type": "markdown",
   "id": "89a0d670-71e2-497e-b1b3-a01122c733b7",
   "metadata": {},
   "source": [
    "# Comparison Opearators\n",
    "\n",
    " * __The opearators such as <,>,<=,>=,== and != Compare the cetrain two operands and return True or False Statement.__"
   ]
  },
  {
   "cell_type": "code",
   "execution_count": 37,
   "id": "717e30ae-17d8-4807-9ccf-fe2d2b66a3e7",
   "metadata": {},
   "outputs": [
    {
     "name": "stdout",
     "output_type": "stream",
     "text": [
      "3.14 1.618\n",
      "a>b: True\n",
      "a<b: False\n",
      "a!=b: True\n",
      "a==b: False\n",
      "a==d: True\n",
      "a>=b: True\n",
      "a<=b: False\n",
      "a<=d: True\n"
     ]
    }
   ],
   "source": [
    "a=3.14\n",
    "b=1.618\n",
    "c=10\n",
    "d=3.14\n",
    "\n",
    "print(a,b)\n",
    "\n",
    "print(\"a>b:\",a>b)\n",
    "print(\"a<b:\",a<b)\n",
    "print(\"a!=b:\",a!=b)\n",
    "print(\"a==b:\",a==b)\n",
    "print(\"a==d:\",a==d)\n",
    "print(\"a>=b:\",a>=b)\n",
    "print(\"a<=b:\",a<=b)\n",
    "print(\"a<=d:\",a<=d)"
   ]
  },
  {
   "cell_type": "code",
   "execution_count": 44,
   "id": "ee7a3a29-ae50-4693-902b-4b068309e82b",
   "metadata": {},
   "outputs": [
    {
     "name": "stdout",
     "output_type": "stream",
     "text": [
      "True\n",
      "False\n",
      "False\n",
      "False\n"
     ]
    }
   ],
   "source": [
    "a=3.14\n",
    "b=1.618\n",
    "c=10\n",
    "d=3.14\n",
    "\n",
    "print(a>b and c>a)\n",
    "print(b>a and d>a)\n",
    "print(b<c and d>a)\n",
    "print(c>b and c<d)"
   ]
  },
  {
   "cell_type": "code",
   "execution_count": 48,
   "id": "5507effb-46a4-457d-a8be-9076a0949791",
   "metadata": {},
   "outputs": [
    {
     "name": "stdout",
     "output_type": "stream",
     "text": [
      "True\n",
      "False\n",
      "True\n",
      "True\n"
     ]
    }
   ],
   "source": [
    "a=3.14\n",
    "b=1.618\n",
    "c=10\n",
    "d=3.14\n",
    "\n",
    "print(a>b or c>a)\n",
    "print(b>a or d>a)\n",
    "print(b<c or d>a)\n",
    "print(c>b or c<d)"
   ]
  },
  {
   "cell_type": "code",
   "execution_count": 1,
   "id": "671db669-8445-44ad-9617-037363d9e4ff",
   "metadata": {},
   "outputs": [
    {
     "name": "stdout",
     "output_type": "stream",
     "text": [
      "[20, 10, 50, 60, 80, 90, 70, 40]\n"
     ]
    }
   ],
   "source": [
    "x=[20,10,50,60,80,90,70,40]\n",
    "print(x)"
   ]
  },
  {
   "cell_type": "code",
   "execution_count": 2,
   "id": "26210eb7-5690-48a2-bdfa-529e9faa8817",
   "metadata": {},
   "outputs": [
    {
     "data": {
      "text/plain": [
       "list"
      ]
     },
     "execution_count": 2,
     "metadata": {},
     "output_type": "execute_result"
    }
   ],
   "source": [
    "type(x)"
   ]
  },
  {
   "cell_type": "code",
   "execution_count": 4,
   "id": "094cd467-d937-4c0e-ae7d-c9859d0f0a5f",
   "metadata": {},
   "outputs": [
    {
     "data": {
      "text/plain": [
       "10"
      ]
     },
     "execution_count": 4,
     "metadata": {},
     "output_type": "execute_result"
    }
   ],
   "source": [
    "# find minimum number of the list?\n",
    "\n",
    "min(x)"
   ]
  },
  {
   "cell_type": "code",
   "execution_count": 5,
   "id": "b25fb2a4-c85e-4bc6-9b12-7606b173423b",
   "metadata": {},
   "outputs": [
    {
     "data": {
      "text/plain": [
       "90"
      ]
     },
     "execution_count": 5,
     "metadata": {},
     "output_type": "execute_result"
    }
   ],
   "source": [
    "# find maximum number of the list\n",
    "max(x)"
   ]
  },
  {
   "cell_type": "code",
   "execution_count": 6,
   "id": "ece451dd-cce3-49cb-90a3-f06b8b7e8edb",
   "metadata": {},
   "outputs": [
    {
     "data": {
      "text/plain": [
       "420"
      ]
     },
     "execution_count": 6,
     "metadata": {},
     "output_type": "execute_result"
    }
   ],
   "source": [
    "# sum function\n",
    "\n",
    "sum(x)"
   ]
  },
  {
   "cell_type": "markdown",
   "id": "7c202d8e-e3aa-4aaf-bc71-49fb27efbfb8",
   "metadata": {},
   "source": [
    "# Concatenate the list"
   ]
  },
  {
   "cell_type": "code",
   "execution_count": 9,
   "id": "2ddb6162-616f-4d85-878d-63c39241aa86",
   "metadata": {},
   "outputs": [
    {
     "name": "stdout",
     "output_type": "stream",
     "text": [
      "['a', 'b', ['c', 'd'], 'e']\n",
      "[1, 2, 3, 4, 5, 6, 7, 8, 9, 'aditi', 'kute', 'sahil', 'jyoti']\n",
      "['a', 'b', ['c', 'd'], 'e', 1, 2, 3, 4, 5, 6, 7, 8, 9, 'aditi', 'kute', 'sahil', 'jyoti']\n"
     ]
    }
   ],
   "source": [
    "a_list=['a','b',['c','d'],'e']\n",
    "print(a_list)\n",
    "\n",
    "b_list=[1,2,3,4,5,6,7,8,9,'aditi','kute','sahil','jyoti']\n",
    "print(b_list)\n",
    "\n",
    "# concatenate the list\n",
    "new_list=a_list+b_list\n",
    "print(new_list)"
   ]
  },
  {
   "cell_type": "code",
   "execution_count": 12,
   "id": "fefae233-488a-410f-a20a-a96f024d2426",
   "metadata": {},
   "outputs": [
    {
     "name": "stdin",
     "output_type": "stream",
     "text": [
      "Enter any number: 45\n",
      "Enter second number: 26\n"
     ]
    },
    {
     "name": "stdout",
     "output_type": "stream",
     "text": [
      "Sum of two number 45.0 and 26.0 is 71.0\n"
     ]
    }
   ],
   "source": [
    "a=float(input(\"Enter any number:\"))\n",
    "b=float(input(\"Enter second number:\"))\n",
    "\n",
    "z=a+b\n",
    "print(\"Sum of two number {} and {} is {}\".format(a,b,z))"
   ]
  },
  {
   "cell_type": "markdown",
   "id": "b055261d-e9b5-43bb-87ce-fffb49ce1513",
   "metadata": {},
   "source": [
    "# Assignment operators\n",
    "\n",
    " * __The operators including =,+=,-=,/=,*= are employed to evaluate a value to a variable.__"
   ]
  },
  {
   "cell_type": "code",
   "execution_count": 13,
   "id": "a43816ea-933a-4b56-b4ab-d4d3b8326afa",
   "metadata": {},
   "outputs": [
    {
     "data": {
      "text/plain": [
       "13.14"
      ]
     },
     "execution_count": 13,
     "metadata": {},
     "output_type": "execute_result"
    }
   ],
   "source": [
    "x=3.14\n",
    "x+=10\n",
    "x"
   ]
  },
  {
   "cell_type": "code",
   "execution_count": 14,
   "id": "e7775728-62a2-4a00-854d-bea01b1deaa5",
   "metadata": {},
   "outputs": [
    {
     "data": {
      "text/plain": [
       "-6.859999999999999"
      ]
     },
     "execution_count": 14,
     "metadata": {},
     "output_type": "execute_result"
    }
   ],
   "source": [
    "x=3.14\n",
    "x-=10\n",
    "x"
   ]
  },
  {
   "cell_type": "code",
   "execution_count": 15,
   "id": "fd0900d3-c986-488d-a6ea-24d960d6a876",
   "metadata": {},
   "outputs": [
    {
     "data": {
      "text/plain": [
       "50"
      ]
     },
     "execution_count": 15,
     "metadata": {},
     "output_type": "execute_result"
    }
   ],
   "source": [
    "x=10\n",
    "x*=5\n",
    "x"
   ]
  },
  {
   "cell_type": "code",
   "execution_count": 16,
   "id": "73a13491-d2b1-4f29-a0b7-05306e80103f",
   "metadata": {},
   "outputs": [
    {
     "data": {
      "text/plain": [
       "0.628"
      ]
     },
     "execution_count": 16,
     "metadata": {},
     "output_type": "execute_result"
    }
   ],
   "source": [
    "x=3.14\n",
    "x/=5\n",
    "x"
   ]
  },
  {
   "cell_type": "code",
   "execution_count": 17,
   "id": "d4b03b25-bde0-4a9e-a280-3260a96cddd9",
   "metadata": {},
   "outputs": [
    {
     "data": {
      "text/plain": [
       "3.14"
      ]
     },
     "execution_count": 17,
     "metadata": {},
     "output_type": "execute_result"
    }
   ],
   "source": [
    "x=3.14\n",
    "x%=5\n",
    "x"
   ]
  },
  {
   "cell_type": "code",
   "execution_count": 18,
   "id": "ea3f45cf-d5f0-4724-8bf1-6d0574692362",
   "metadata": {},
   "outputs": [
    {
     "data": {
      "text/plain": [
       "305.2447761824001"
      ]
     },
     "execution_count": 18,
     "metadata": {},
     "output_type": "execute_result"
    }
   ],
   "source": [
    "# Exponent\n",
    "\n",
    "x=3.14\n",
    "x**=5\n",
    "x"
   ]
  },
  {
   "cell_type": "markdown",
   "id": "c833081e-0f72-4dcc-8952-3cb4806c2b6d",
   "metadata": {},
   "source": [
    "# identity operators\n",
    "\n",
    " * __The operators is or is not are employed to control if the operands or objects to the left and right of these operators are referring to a value stored in the same memory location and return True or False__"
   ]
  },
  {
   "cell_type": "code",
   "execution_count": 24,
   "id": "85431b06-4299-42ad-ace9-1d9b663ea9eb",
   "metadata": {},
   "outputs": [
    {
     "name": "stdout",
     "output_type": "stream",
     "text": [
      "True\n",
      "False\n",
      "False\n",
      "True\n",
      "False\n",
      "True\n"
     ]
    }
   ],
   "source": [
    "a=3.14\n",
    "b=1.618\n",
    "print(a is not b)\n",
    "print(a is b)\n",
    "\n",
    "msg1='Hello Python!'\n",
    "msg2='Hello world'\n",
    "print(msg1 is msg2)\n",
    "print(msg1 is not msg2)\n",
    "\n",
    "list1=[3.14,1.618]\n",
    "list2=[3.14,1.618]\n",
    "print(list1 is list2)\n",
    "print(list1 is not list2)"
   ]
  },
  {
   "cell_type": "markdown",
   "id": "54fe0051-4d15-4ac5-9442-3b3ca816f55c",
   "metadata": {},
   "source": [
    "# membership operators\n",
    "\n",
    " * __These operators including in and not in are employed to check if the certain value is available in the sequence of values and return True or False.__"
   ]
  },
  {
   "cell_type": "code",
   "execution_count": 33,
   "id": "91758ed2-4752-4dc9-824e-7ee6df7e4908",
   "metadata": {},
   "outputs": [
    {
     "name": "stdout",
     "output_type": "stream",
     "text": [
      "True\n",
      "False\n",
      "True\n",
      "True\n",
      "True\n",
      "True\n"
     ]
    }
   ],
   "source": [
    "nlis=[4,5,6,7,8,'hello',(4,5),{'name':'Aaditi'},{1,2,3},[10,20,9],\"Hello\"]\n",
    "print(5 in nlis)\n",
    "print(4 not in nlis)\n",
    "print(\"Hello\" in nlis)\n",
    "print(9 not in nlis)\n",
    "print([10,20,9] in nlis)\n",
    "print({'name':'Aaditi'} in nlis)"
   ]
  },
  {
   "cell_type": "code",
   "execution_count": null,
   "id": "bbff3250-8126-43ed-b965-ffa7b220a3e3",
   "metadata": {},
   "outputs": [],
   "source": []
  }
 ],
 "metadata": {
  "kernelspec": {
   "display_name": "Python 3 (ipykernel)",
   "language": "python",
   "name": "python3"
  },
  "language_info": {
   "codemirror_mode": {
    "name": "ipython",
    "version": 3
   },
   "file_extension": ".py",
   "mimetype": "text/x-python",
   "name": "python",
   "nbconvert_exporter": "python",
   "pygments_lexer": "ipython3",
   "version": "3.11.4"
  }
 },
 "nbformat": 4,
 "nbformat_minor": 5
}
