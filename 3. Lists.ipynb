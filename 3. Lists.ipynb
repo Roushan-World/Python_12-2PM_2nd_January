{
 "cells": [
  {
   "cell_type": "markdown",
   "id": "7a762168-21f0-4a43-a58e-4f1b9216a849",
   "metadata": {},
   "source": [
    "# 3. Lists in Python\n",
    "\n",
    " * __Lists are ordered.__\n",
    " * __Lists can contains any data type of python.__\n",
    " * __List element can be accessed by index value.__\n",
    " * __Lists can be nested to arbitrary depth.__\n",
    " * __Lists are mutable.__\n",
    " * __Lists are dynamic.__"
   ]
  },
  {
   "cell_type": "code",
   "execution_count": 19,
   "id": "cdc4dac6-476a-41ba-b083-4c625592cf01",
   "metadata": {},
   "outputs": [
    {
     "data": {
      "text/plain": [
       "['Hello world',\n",
       " 100,\n",
       " 123.23,\n",
       " True,\n",
       " False,\n",
       " ['Hello Python', 1000, True],\n",
       " ('Hello world', 100, 450),\n",
       " {1, 20, 3, 40, 'Hello'},\n",
       " {'a': 'Hello'}]"
      ]
     },
     "execution_count": 19,
     "metadata": {},
     "output_type": "execute_result"
    }
   ],
   "source": [
    "x=['Hello world',100,123.23,True,False,['Hello Python',1000,True],('Hello world',100,450),{1,20,3,40,'Hello'},{'a':'Hello'}]\n",
    "x"
   ]
  },
  {
   "cell_type": "code",
   "execution_count": 2,
   "id": "8960183c-c3ac-41a5-8dd1-a89b0307a295",
   "metadata": {},
   "outputs": [
    {
     "data": {
      "text/plain": [
       "list"
      ]
     },
     "execution_count": 2,
     "metadata": {},
     "output_type": "execute_result"
    }
   ],
   "source": [
    "type(x)"
   ]
  },
  {
   "cell_type": "code",
   "execution_count": 14,
   "id": "1807eec4-3cd3-4713-8cb3-24b9f26b95b2",
   "metadata": {},
   "outputs": [
    {
     "name": "stdout",
     "output_type": "stream",
     "text": [
      "Hello world\n",
      "100\n",
      "123.23\n",
      "True\n",
      "False\n",
      "['Hello Python', 100]\n",
      "('Hello world', 100)\n",
      "{1, 3, 20, 40, 'Hello'}\n",
      "{'a': 'Hello'}\n"
     ]
    }
   ],
   "source": [
    "print(x[0])\n",
    "print(x[1])\n",
    "print(x[2])\n",
    "print(x[3])\n",
    "print(x[4])\n",
    "print(x[5])\n",
    "print(x[6])\n",
    "print(x[7])\n",
    "print(x[8])\n"
   ]
  },
  {
   "cell_type": "code",
   "execution_count": 18,
   "id": "bc559047-215d-47b8-98ab-beb0ee7662b6",
   "metadata": {},
   "outputs": [
    {
     "name": "stdout",
     "output_type": "stream",
     "text": [
      "<class 'str'>\n",
      "<class 'int'>\n"
     ]
    }
   ],
   "source": [
    "print(type(x[0]))\n",
    "print(type(x[1]))"
   ]
  },
  {
   "cell_type": "code",
   "execution_count": 22,
   "id": "ec409dc4-2eec-423c-ac3b-16e9ffb9a08e",
   "metadata": {},
   "outputs": [
    {
     "data": {
      "text/plain": [
       "1000"
      ]
     },
     "execution_count": 22,
     "metadata": {},
     "output_type": "execute_result"
    }
   ],
   "source": [
    "x[5][1]"
   ]
  },
  {
   "cell_type": "code",
   "execution_count": 25,
   "id": "9b8f1ab9-33eb-46a5-b006-6df468cb676e",
   "metadata": {},
   "outputs": [
    {
     "name": "stdout",
     "output_type": "stream",
     "text": [
      "{'a': 'Hello'}\n",
      "{1, 3, 20, 40, 'Hello'}\n"
     ]
    }
   ],
   "source": [
    "print(x[-1])\n",
    "print(x[-2])"
   ]
  },
  {
   "cell_type": "code",
   "execution_count": 30,
   "id": "b707f5a3-7d7b-4363-85f8-309a60979763",
   "metadata": {},
   "outputs": [
    {
     "data": {
      "text/plain": [
       "['Hello world', 100, 123.23, True, False, ['Hello Python', 1000, True]]"
      ]
     },
     "execution_count": 30,
     "metadata": {},
     "output_type": "execute_result"
    }
   ],
   "source": [
    "x[0:6]"
   ]
  },
  {
   "cell_type": "code",
   "execution_count": 31,
   "id": "af0313b3-2e37-44c3-a24d-a09288bcf4d0",
   "metadata": {},
   "outputs": [
    {
     "data": {
      "text/plain": [
       "['Hello world',\n",
       " 100,\n",
       " 123.23,\n",
       " True,\n",
       " False,\n",
       " ['Hello Python', 1000, True],\n",
       " ('Hello world', 100, 450),\n",
       " {1, 20, 3, 40, 'Hello'},\n",
       " {'a': 'Hello'}]"
      ]
     },
     "execution_count": 31,
     "metadata": {},
     "output_type": "execute_result"
    }
   ],
   "source": [
    "x"
   ]
  },
  {
   "cell_type": "code",
   "execution_count": 32,
   "id": "82347a38-e3fc-4e4e-af1c-4fb718734d22",
   "metadata": {},
   "outputs": [
    {
     "data": {
      "text/plain": [
       "9"
      ]
     },
     "execution_count": 32,
     "metadata": {},
     "output_type": "execute_result"
    }
   ],
   "source": [
    "len(x)"
   ]
  },
  {
   "cell_type": "markdown",
   "id": "44b9fb92-3c50-438e-a504-7a2eb9df2c00",
   "metadata": {},
   "source": [
    "# adding an element"
   ]
  },
  {
   "cell_type": "code",
   "execution_count": 33,
   "id": "3e879487-1fa6-4057-a458-31fe25e68e2a",
   "metadata": {},
   "outputs": [
    {
     "data": {
      "text/plain": [
       "['Hello world',\n",
       " 100,\n",
       " 123.23,\n",
       " True,\n",
       " False,\n",
       " ['Hello Python', 1000, True],\n",
       " ('Hello world', 100, 450),\n",
       " {1, 20, 3, 40, 'Hello'},\n",
       " {'a': 'Hello'}]"
      ]
     },
     "execution_count": 33,
     "metadata": {},
     "output_type": "execute_result"
    }
   ],
   "source": [
    "x"
   ]
  },
  {
   "cell_type": "code",
   "execution_count": 40,
   "id": "87a05b61-f503-4911-a922-0920b7ac70d5",
   "metadata": {},
   "outputs": [
    {
     "data": {
      "text/plain": [
       "['Hello world',\n",
       " 100,\n",
       " 123.23,\n",
       " True,\n",
       " False,\n",
       " ['Hello Python', 1000, True],\n",
       " ('Hello world', 100, 450),\n",
       " {1, 20, 3, 40, 'Hello'},\n",
       " {'a': 'Hello'},\n",
       " 'Aditi',\n",
       " 'Aditi',\n",
       " 'Aditi',\n",
       " 'Aditi']"
      ]
     },
     "execution_count": 40,
     "metadata": {},
     "output_type": "execute_result"
    }
   ],
   "source": [
    "# append\n",
    "x.append('Aditi')\n",
    "x"
   ]
  },
  {
   "cell_type": "code",
   "execution_count": 48,
   "id": "231b3157-2dc8-4765-ba99-d86035db2ec5",
   "metadata": {},
   "outputs": [
    {
     "data": {
      "text/plain": [
       "['Siddharth',\n",
       " 'Hello world',\n",
       " 100,\n",
       " 123.23,\n",
       " True,\n",
       " False,\n",
       " ['Hello Python', 1000, True],\n",
       " ('Hello world', 100, 450),\n",
       " {1, 20, 3, 40, 'Hello'},\n",
       " {'a': 'Hello'},\n",
       " 'Aditi',\n",
       " 'Aditi',\n",
       " 'Aditi',\n",
       " 'Aditi',\n",
       " 10,\n",
       " 20,\n",
       " 30,\n",
       " 40,\n",
       " 10,\n",
       " 20,\n",
       " 30,\n",
       " 40]"
      ]
     },
     "execution_count": 48,
     "metadata": {},
     "output_type": "execute_result"
    }
   ],
   "source": [
    "# Extend\n",
    "x.extend([10,20,30,40])\n",
    "x"
   ]
  },
  {
   "cell_type": "code",
   "execution_count": 58,
   "id": "42de80a9-19b5-45fd-909a-847f8c492cf1",
   "metadata": {},
   "outputs": [
    {
     "data": {
      "text/plain": [
       "['Siddharth',\n",
       " 'Siddharth',\n",
       " 'Hello world',\n",
       " 100,\n",
       " 123.23,\n",
       " True,\n",
       " False,\n",
       " ['Hello Python', 1000, True],\n",
       " ('Hello world', 100, 450),\n",
       " {1, 20, 3, 40, 'Hello'},\n",
       " {'a': 'Hello'},\n",
       " 'Aditi',\n",
       " 'Aditi',\n",
       " 'Aditi',\n",
       " 'Aditi',\n",
       " 10,\n",
       " 20,\n",
       " 30,\n",
       " 40,\n",
       " 10,\n",
       " 20,\n",
       " 30,\n",
       " 40]"
      ]
     },
     "execution_count": 58,
     "metadata": {},
     "output_type": "execute_result"
    }
   ],
   "source": [
    "# insert\n",
    "x.insert(0,'Siddharth')\n",
    "\n",
    "x"
   ]
  },
  {
   "cell_type": "code",
   "execution_count": 52,
   "id": "02745bd3-75b3-4315-835a-53da3f66c44b",
   "metadata": {},
   "outputs": [
    {
     "data": {
      "text/plain": [
       "4"
      ]
     },
     "execution_count": 52,
     "metadata": {},
     "output_type": "execute_result"
    }
   ],
   "source": [
    "x1=[10,20,30,40,40,40,40,50,50,60,60,60]\n",
    "\n",
    "x1.count(40)"
   ]
  },
  {
   "cell_type": "code",
   "execution_count": 57,
   "id": "8a133ccf-8044-4445-9cc2-28e5f5debd6e",
   "metadata": {},
   "outputs": [
    {
     "data": {
      "text/plain": [
       "2"
      ]
     },
     "execution_count": 57,
     "metadata": {},
     "output_type": "execute_result"
    }
   ],
   "source": [
    "# find\n",
    "\n",
    "x1.index(30)"
   ]
  },
  {
   "cell_type": "code",
   "execution_count": null,
   "id": "fb83d196-ad1e-47e9-bd42-8e90f763fc51",
   "metadata": {},
   "outputs": [],
   "source": []
  }
 ],
 "metadata": {
  "kernelspec": {
   "display_name": "Python 3 (ipykernel)",
   "language": "python",
   "name": "python3"
  },
  "language_info": {
   "codemirror_mode": {
    "name": "ipython",
    "version": 3
   },
   "file_extension": ".py",
   "mimetype": "text/x-python",
   "name": "python",
   "nbconvert_exporter": "python",
   "pygments_lexer": "ipython3",
   "version": "3.11.4"
  }
 },
 "nbformat": 4,
 "nbformat_minor": 5
}
