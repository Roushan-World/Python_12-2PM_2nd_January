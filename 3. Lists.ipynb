{
 "cells": [
  {
   "cell_type": "markdown",
   "id": "7a762168-21f0-4a43-a58e-4f1b9216a849",
   "metadata": {},
   "source": [
    "# 3. Lists in Python\n",
    "\n",
    " * __Lists are ordered.__\n",
    " * __Lists can contains any data type of python.__\n",
    " * __List element can be accessed by index value.__\n",
    " * __Lists can be nested to arbitrary depth.__\n",
    " * __Lists are mutable.__\n",
    " * __Lists are dynamic.__"
   ]
  },
  {
   "cell_type": "code",
   "execution_count": 19,
   "id": "cdc4dac6-476a-41ba-b083-4c625592cf01",
   "metadata": {},
   "outputs": [
    {
     "data": {
      "text/plain": [
       "['Hello world',\n",
       " 100,\n",
       " 123.23,\n",
       " True,\n",
       " False,\n",
       " ['Hello Python', 1000, True],\n",
       " ('Hello world', 100, 450),\n",
       " {1, 20, 3, 40, 'Hello'},\n",
       " {'a': 'Hello'}]"
      ]
     },
     "execution_count": 19,
     "metadata": {},
     "output_type": "execute_result"
    }
   ],
   "source": [
    "x=['Hello world',100,123.23,True,False,['Hello Python',1000,True],('Hello world',100,450),{1,20,3,40,'Hello'},{'a':'Hello'}]\n",
    "x"
   ]
  },
  {
   "cell_type": "code",
   "execution_count": 2,
   "id": "8960183c-c3ac-41a5-8dd1-a89b0307a295",
   "metadata": {},
   "outputs": [
    {
     "data": {
      "text/plain": [
       "list"
      ]
     },
     "execution_count": 2,
     "metadata": {},
     "output_type": "execute_result"
    }
   ],
   "source": [
    "type(x)"
   ]
  },
  {
   "cell_type": "code",
   "execution_count": 14,
   "id": "1807eec4-3cd3-4713-8cb3-24b9f26b95b2",
   "metadata": {},
   "outputs": [
    {
     "name": "stdout",
     "output_type": "stream",
     "text": [
      "Hello world\n",
      "100\n",
      "123.23\n",
      "True\n",
      "False\n",
      "['Hello Python', 100]\n",
      "('Hello world', 100)\n",
      "{1, 3, 20, 40, 'Hello'}\n",
      "{'a': 'Hello'}\n"
     ]
    }
   ],
   "source": [
    "print(x[0])\n",
    "print(x[1])\n",
    "print(x[2])\n",
    "print(x[3])\n",
    "print(x[4])\n",
    "print(x[5])\n",
    "print(x[6])\n",
    "print(x[7])\n",
    "print(x[8])\n"
   ]
  },
  {
   "cell_type": "code",
   "execution_count": 18,
   "id": "bc559047-215d-47b8-98ab-beb0ee7662b6",
   "metadata": {},
   "outputs": [
    {
     "name": "stdout",
     "output_type": "stream",
     "text": [
      "<class 'str'>\n",
      "<class 'int'>\n"
     ]
    }
   ],
   "source": [
    "print(type(x[0]))\n",
    "print(type(x[1]))"
   ]
  },
  {
   "cell_type": "code",
   "execution_count": 22,
   "id": "ec409dc4-2eec-423c-ac3b-16e9ffb9a08e",
   "metadata": {},
   "outputs": [
    {
     "data": {
      "text/plain": [
       "1000"
      ]
     },
     "execution_count": 22,
     "metadata": {},
     "output_type": "execute_result"
    }
   ],
   "source": [
    "x[5][1]"
   ]
  },
  {
   "cell_type": "code",
   "execution_count": 25,
   "id": "9b8f1ab9-33eb-46a5-b006-6df468cb676e",
   "metadata": {},
   "outputs": [
    {
     "name": "stdout",
     "output_type": "stream",
     "text": [
      "{'a': 'Hello'}\n",
      "{1, 3, 20, 40, 'Hello'}\n"
     ]
    }
   ],
   "source": [
    "print(x[-1])\n",
    "print(x[-2])"
   ]
  },
  {
   "cell_type": "code",
   "execution_count": 30,
   "id": "b707f5a3-7d7b-4363-85f8-309a60979763",
   "metadata": {},
   "outputs": [
    {
     "data": {
      "text/plain": [
       "['Hello world', 100, 123.23, True, False, ['Hello Python', 1000, True]]"
      ]
     },
     "execution_count": 30,
     "metadata": {},
     "output_type": "execute_result"
    }
   ],
   "source": [
    "x[0:6]"
   ]
  },
  {
   "cell_type": "code",
   "execution_count": 31,
   "id": "af0313b3-2e37-44c3-a24d-a09288bcf4d0",
   "metadata": {},
   "outputs": [
    {
     "data": {
      "text/plain": [
       "['Hello world',\n",
       " 100,\n",
       " 123.23,\n",
       " True,\n",
       " False,\n",
       " ['Hello Python', 1000, True],\n",
       " ('Hello world', 100, 450),\n",
       " {1, 20, 3, 40, 'Hello'},\n",
       " {'a': 'Hello'}]"
      ]
     },
     "execution_count": 31,
     "metadata": {},
     "output_type": "execute_result"
    }
   ],
   "source": [
    "x"
   ]
  },
  {
   "cell_type": "code",
   "execution_count": 32,
   "id": "82347a38-e3fc-4e4e-af1c-4fb718734d22",
   "metadata": {},
   "outputs": [
    {
     "data": {
      "text/plain": [
       "9"
      ]
     },
     "execution_count": 32,
     "metadata": {},
     "output_type": "execute_result"
    }
   ],
   "source": [
    "len(x)"
   ]
  },
  {
   "cell_type": "markdown",
   "id": "44b9fb92-3c50-438e-a504-7a2eb9df2c00",
   "metadata": {},
   "source": [
    "# adding an element"
   ]
  },
  {
   "cell_type": "code",
   "execution_count": 33,
   "id": "3e879487-1fa6-4057-a458-31fe25e68e2a",
   "metadata": {},
   "outputs": [
    {
     "data": {
      "text/plain": [
       "['Hello world',\n",
       " 100,\n",
       " 123.23,\n",
       " True,\n",
       " False,\n",
       " ['Hello Python', 1000, True],\n",
       " ('Hello world', 100, 450),\n",
       " {1, 20, 3, 40, 'Hello'},\n",
       " {'a': 'Hello'}]"
      ]
     },
     "execution_count": 33,
     "metadata": {},
     "output_type": "execute_result"
    }
   ],
   "source": [
    "x"
   ]
  },
  {
   "cell_type": "code",
   "execution_count": 40,
   "id": "87a05b61-f503-4911-a922-0920b7ac70d5",
   "metadata": {},
   "outputs": [
    {
     "data": {
      "text/plain": [
       "['Hello world',\n",
       " 100,\n",
       " 123.23,\n",
       " True,\n",
       " False,\n",
       " ['Hello Python', 1000, True],\n",
       " ('Hello world', 100, 450),\n",
       " {1, 20, 3, 40, 'Hello'},\n",
       " {'a': 'Hello'},\n",
       " 'Aditi',\n",
       " 'Aditi',\n",
       " 'Aditi',\n",
       " 'Aditi']"
      ]
     },
     "execution_count": 40,
     "metadata": {},
     "output_type": "execute_result"
    }
   ],
   "source": [
    "# append\n",
    "x.append('Aditi')\n",
    "x"
   ]
  },
  {
   "cell_type": "code",
   "execution_count": 48,
   "id": "231b3157-2dc8-4765-ba99-d86035db2ec5",
   "metadata": {},
   "outputs": [
    {
     "data": {
      "text/plain": [
       "['Siddharth',\n",
       " 'Hello world',\n",
       " 100,\n",
       " 123.23,\n",
       " True,\n",
       " False,\n",
       " ['Hello Python', 1000, True],\n",
       " ('Hello world', 100, 450),\n",
       " {1, 20, 3, 40, 'Hello'},\n",
       " {'a': 'Hello'},\n",
       " 'Aditi',\n",
       " 'Aditi',\n",
       " 'Aditi',\n",
       " 'Aditi',\n",
       " 10,\n",
       " 20,\n",
       " 30,\n",
       " 40,\n",
       " 10,\n",
       " 20,\n",
       " 30,\n",
       " 40]"
      ]
     },
     "execution_count": 48,
     "metadata": {},
     "output_type": "execute_result"
    }
   ],
   "source": [
    "# Extend\n",
    "x.extend([10,20,30,40])\n",
    "x"
   ]
  },
  {
   "cell_type": "code",
   "execution_count": 58,
   "id": "42de80a9-19b5-45fd-909a-847f8c492cf1",
   "metadata": {},
   "outputs": [
    {
     "data": {
      "text/plain": [
       "['Siddharth',\n",
       " 'Siddharth',\n",
       " 'Hello world',\n",
       " 100,\n",
       " 123.23,\n",
       " True,\n",
       " False,\n",
       " ['Hello Python', 1000, True],\n",
       " ('Hello world', 100, 450),\n",
       " {1, 20, 3, 40, 'Hello'},\n",
       " {'a': 'Hello'},\n",
       " 'Aditi',\n",
       " 'Aditi',\n",
       " 'Aditi',\n",
       " 'Aditi',\n",
       " 10,\n",
       " 20,\n",
       " 30,\n",
       " 40,\n",
       " 10,\n",
       " 20,\n",
       " 30,\n",
       " 40]"
      ]
     },
     "execution_count": 58,
     "metadata": {},
     "output_type": "execute_result"
    }
   ],
   "source": [
    "# insert\n",
    "x.insert(0,'Siddharth')\n",
    "\n",
    "x"
   ]
  },
  {
   "cell_type": "code",
   "execution_count": 52,
   "id": "02745bd3-75b3-4315-835a-53da3f66c44b",
   "metadata": {},
   "outputs": [
    {
     "data": {
      "text/plain": [
       "4"
      ]
     },
     "execution_count": 52,
     "metadata": {},
     "output_type": "execute_result"
    }
   ],
   "source": [
    "x1=[10,20,30,40,40,40,40,50,50,60,60,60]\n",
    "\n",
    "x1.count(40)"
   ]
  },
  {
   "cell_type": "code",
   "execution_count": 57,
   "id": "8a133ccf-8044-4445-9cc2-28e5f5debd6e",
   "metadata": {},
   "outputs": [
    {
     "data": {
      "text/plain": [
       "2"
      ]
     },
     "execution_count": 57,
     "metadata": {},
     "output_type": "execute_result"
    }
   ],
   "source": [
    "# find\n",
    "\n",
    "x1.index(30)"
   ]
  },
  {
   "cell_type": "code",
   "execution_count": 8,
   "id": "fb83d196-ad1e-47e9-bd42-8e90f763fc51",
   "metadata": {},
   "outputs": [
    {
     "data": {
      "text/plain": [
       "['Pune']"
      ]
     },
     "execution_count": 8,
     "metadata": {},
     "output_type": "execute_result"
    }
   ],
   "source": [
    "x=[]\n",
    "x.append(\"Pune\")\n",
    "x"
   ]
  },
  {
   "cell_type": "code",
   "execution_count": 6,
   "id": "2bea08d7-6297-4dab-8a9b-6521dce4ea37",
   "metadata": {},
   "outputs": [],
   "source": [
    "# '3idiots','pushpa','DDLG'\n",
    "\n",
    "khurde=[]\n",
    "khurde.extend(['3idiots','pushpa','DDLG'])\n",
    "khurde.insert(0,'aditi')"
   ]
  },
  {
   "cell_type": "code",
   "execution_count": 7,
   "id": "518d08ba-ec7c-43eb-9c72-74e11b563b4a",
   "metadata": {},
   "outputs": [
    {
     "data": {
      "text/plain": [
       "['aditi', '3idiots', 'pushpa', 'DDLG']"
      ]
     },
     "execution_count": 7,
     "metadata": {},
     "output_type": "execute_result"
    }
   ],
   "source": [
    "khurde"
   ]
  },
  {
   "cell_type": "code",
   "execution_count": 31,
   "id": "b65dc4e5-1efe-4f31-8272-363c96bc4f27",
   "metadata": {},
   "outputs": [
    {
     "data": {
      "text/plain": [
       "['Pune', 'Pune', 'Pune', 'Pune']"
      ]
     },
     "execution_count": 31,
     "metadata": {},
     "output_type": "execute_result"
    }
   ],
   "source": [
    "x.append(\"Pune\")\n",
    "x"
   ]
  },
  {
   "cell_type": "code",
   "execution_count": 28,
   "id": "48918c9b-5e24-4bb1-ab5b-ca416e932b7a",
   "metadata": {},
   "outputs": [
    {
     "data": {
      "text/plain": [
       "['Pune', 'Pune']"
      ]
     },
     "execution_count": 28,
     "metadata": {},
     "output_type": "execute_result"
    }
   ],
   "source": [
    "x.remove(\"Pune\")\n",
    "x"
   ]
  },
  {
   "cell_type": "code",
   "execution_count": 29,
   "id": "b976efcf-31ae-4230-a044-52bfed71ce23",
   "metadata": {},
   "outputs": [
    {
     "data": {
      "text/plain": [
       "['Pune', 'Pune']"
      ]
     },
     "execution_count": 29,
     "metadata": {},
     "output_type": "execute_result"
    }
   ],
   "source": [
    "x"
   ]
  },
  {
   "cell_type": "code",
   "execution_count": 25,
   "id": "1ab8d684-d3d4-424d-b2de-5553c4dd75b6",
   "metadata": {},
   "outputs": [
    {
     "data": {
      "text/plain": [
       "['Pune', 'Pune']"
      ]
     },
     "execution_count": 25,
     "metadata": {},
     "output_type": "execute_result"
    }
   ],
   "source": [
    "x.remove(\"Pune\")\n",
    "x"
   ]
  },
  {
   "cell_type": "code",
   "execution_count": 32,
   "id": "8597be22-e5b1-4a4d-8c86-35dc0b3e60a3",
   "metadata": {},
   "outputs": [
    {
     "data": {
      "text/plain": [
       "['Pune', 'Pune', 'Pune', 'Pune']"
      ]
     },
     "execution_count": 32,
     "metadata": {},
     "output_type": "execute_result"
    }
   ],
   "source": [
    "x"
   ]
  },
  {
   "cell_type": "code",
   "execution_count": 35,
   "id": "920b1982-bca2-4575-a14e-568b5ca60c68",
   "metadata": {},
   "outputs": [],
   "source": [
    "# delete()\n",
    "\n",
    "del(x[0])"
   ]
  },
  {
   "cell_type": "code",
   "execution_count": 36,
   "id": "166b566a-1ef5-44a5-bafa-7b9a75763b15",
   "metadata": {},
   "outputs": [
    {
     "data": {
      "text/plain": [
       "['Pune', 'Pune', 'Pune']"
      ]
     },
     "execution_count": 36,
     "metadata": {},
     "output_type": "execute_result"
    }
   ],
   "source": [
    "x"
   ]
  },
  {
   "cell_type": "code",
   "execution_count": 40,
   "id": "9d08c1c3-dda2-4326-a683-10e5db2623ed",
   "metadata": {},
   "outputs": [
    {
     "ename": "IndexError",
     "evalue": "list assignment index out of range",
     "output_type": "error",
     "traceback": [
      "\u001b[1;31m---------------------------------------------------------------------------\u001b[0m",
      "\u001b[1;31mIndexError\u001b[0m                                Traceback (most recent call last)",
      "Cell \u001b[1;32mIn[40], line 1\u001b[0m\n\u001b[1;32m----> 1\u001b[0m \u001b[38;5;28;01mdel\u001b[39;00m(\u001b[43mx\u001b[49m\u001b[43m[\u001b[49m\u001b[38;5;241;43m1\u001b[39;49m\u001b[43m]\u001b[49m)\n",
      "\u001b[1;31mIndexError\u001b[0m: list assignment index out of range"
     ]
    }
   ],
   "source": [
    "del(x[1])"
   ]
  },
  {
   "cell_type": "code",
   "execution_count": 38,
   "id": "352c6600-0cf1-4cc3-a984-94616b108639",
   "metadata": {},
   "outputs": [
    {
     "data": {
      "text/plain": [
       "['Pune', 'Pune']"
      ]
     },
     "execution_count": 38,
     "metadata": {},
     "output_type": "execute_result"
    }
   ],
   "source": [
    "x"
   ]
  },
  {
   "cell_type": "code",
   "execution_count": 41,
   "id": "38c69b89-e187-4166-a650-fe03620fedaf",
   "metadata": {},
   "outputs": [
    {
     "data": {
      "text/plain": [
       "['Rani Laxmi Bai', 'Bhagat Singh', 'Khurde']"
      ]
     },
     "execution_count": 41,
     "metadata": {},
     "output_type": "execute_result"
    }
   ],
   "source": [
    "x=[\"Rani Laxmi Bai\",\"Bhagat Singh\",\"Khurde\"]\n",
    "x"
   ]
  },
  {
   "cell_type": "code",
   "execution_count": 44,
   "id": "055cabae-a565-4278-b485-be4f7e46b5d5",
   "metadata": {},
   "outputs": [
    {
     "data": {
      "text/plain": [
       "['Rani Laxmi Bai', 'Bhagat Singh', 'Raj Guru']"
      ]
     },
     "execution_count": 44,
     "metadata": {},
     "output_type": "execute_result"
    }
   ],
   "source": [
    "x[2]=\"Raj Guru\"\n",
    "x"
   ]
  },
  {
   "cell_type": "code",
   "execution_count": 45,
   "id": "7fc4655a-d6fe-4e72-8727-fef0687f683d",
   "metadata": {},
   "outputs": [
    {
     "data": {
      "text/plain": [
       "[100, 'Bhagat Singh', 'Raj Guru']"
      ]
     },
     "execution_count": 45,
     "metadata": {},
     "output_type": "execute_result"
    }
   ],
   "source": [
    "x[0]=100\n",
    "x"
   ]
  },
  {
   "cell_type": "code",
   "execution_count": 46,
   "id": "72688bab-2d98-4767-9ac8-27532f98a271",
   "metadata": {},
   "outputs": [
    {
     "data": {
      "text/plain": [
       "[100, 'Pushpa', 'Raj Guru']"
      ]
     },
     "execution_count": 46,
     "metadata": {},
     "output_type": "execute_result"
    }
   ],
   "source": [
    "x[1]=\"Pushpa\"\n",
    "x"
   ]
  },
  {
   "cell_type": "markdown",
   "id": "cc38b104-b338-410a-8b3a-1eb522772e1b",
   "metadata": {},
   "source": [
    "# Copy the list"
   ]
  },
  {
   "cell_type": "code",
   "execution_count": 48,
   "id": "2b8cfe87-8ec4-465b-88a2-0e5d91a97e45",
   "metadata": {},
   "outputs": [
    {
     "data": {
      "text/plain": [
       "['Hello world', 'Python']"
      ]
     },
     "execution_count": 48,
     "metadata": {},
     "output_type": "execute_result"
    }
   ],
   "source": [
    "x=[\"Hello world\",'Python']\n",
    "x"
   ]
  },
  {
   "cell_type": "code",
   "execution_count": 51,
   "id": "af4a3871-4596-44d1-9800-5cac6cf4758e",
   "metadata": {},
   "outputs": [
    {
     "data": {
      "text/plain": [
       "['Hello world', 'Python']"
      ]
     },
     "execution_count": 51,
     "metadata": {},
     "output_type": "execute_result"
    }
   ],
   "source": [
    "# swallow copy  # copy()\n",
    "x_copy=x.copy()\n",
    "x_copy"
   ]
  },
  {
   "cell_type": "code",
   "execution_count": 52,
   "id": "64d2ec7d-a6fe-42ed-9b2f-17ad0081fdd5",
   "metadata": {},
   "outputs": [
    {
     "data": {
      "text/plain": [
       "['Hello world', 'Python']"
      ]
     },
     "execution_count": 52,
     "metadata": {},
     "output_type": "execute_result"
    }
   ],
   "source": [
    "x_copy"
   ]
  },
  {
   "cell_type": "code",
   "execution_count": 54,
   "id": "b40eb0c6-e178-4226-9eba-cfef4ead5094",
   "metadata": {},
   "outputs": [
    {
     "data": {
      "text/plain": [
       "['Hello world', 'Python']"
      ]
     },
     "execution_count": 54,
     "metadata": {},
     "output_type": "execute_result"
    }
   ],
   "source": [
    "# Deep copy\n",
    "x_deep=x\n",
    "x_deep"
   ]
  },
  {
   "cell_type": "code",
   "execution_count": 55,
   "id": "e3a9f5b8-3d68-4417-9afb-c6e816aa7c4c",
   "metadata": {},
   "outputs": [
    {
     "data": {
      "text/plain": [
       "['Hello world', 'Python']"
      ]
     },
     "execution_count": 55,
     "metadata": {},
     "output_type": "execute_result"
    }
   ],
   "source": [
    "x_deep"
   ]
  },
  {
   "cell_type": "code",
   "execution_count": 61,
   "id": "147f4bf0-3be2-4a34-9dc3-196866b45a46",
   "metadata": {},
   "outputs": [
    {
     "name": "stdout",
     "output_type": "stream",
     "text": [
      "['Hello world', 'Python']\n",
      "['Hello world', 'Python']\n",
      "['Hello world', 'Python', 'Aditi']\n",
      "['Hello world', 'Python']\n"
     ]
    }
   ],
   "source": [
    "original=[\"Hello world\",'Python']    # Aditi\n",
    "duplicate=x.copy()\n",
    "print(original)\n",
    "print(duplicate)\n",
    "\n",
    "original.append(\"Aditi\")\n",
    "print(original)\n",
    "print(duplicate)"
   ]
  },
  {
   "cell_type": "code",
   "execution_count": 68,
   "id": "807337ea-fcf6-4904-b2b5-839949ee74c3",
   "metadata": {},
   "outputs": [
    {
     "name": "stdout",
     "output_type": "stream",
     "text": [
      "['Hello world', 'Python']\n",
      "['Hello world', 'Python']\n",
      "['Hello world', 'Python', 'Khurde']\n"
     ]
    }
   ],
   "source": [
    "# Deep copy\n",
    "original=[\"Hello world\",'Python']  # Khurde\n",
    "duplicate=original\n",
    "print(original)\n",
    "print(duplicate)\n",
    "\n",
    "original.append(\"Khurde\")\n",
    "print(original)\n"
   ]
  },
  {
   "cell_type": "code",
   "execution_count": 69,
   "id": "91ef4445-b60b-4e4b-8b75-9b9de95eb079",
   "metadata": {},
   "outputs": [
    {
     "name": "stdout",
     "output_type": "stream",
     "text": [
      "['Hello world', 'Python', 'Khurde']\n"
     ]
    }
   ],
   "source": [
    "print(duplicate)"
   ]
  },
  {
   "cell_type": "code",
   "execution_count": 70,
   "id": "de3cf666-274f-4fe7-bce4-56e446322662",
   "metadata": {},
   "outputs": [
    {
     "name": "stdout",
     "output_type": "stream",
     "text": [
      "['Hello world', 'Python', 'Khurde', 'Aditi']\n"
     ]
    }
   ],
   "source": [
    "original.append(\"Aditi\")\n",
    "print(original)"
   ]
  },
  {
   "cell_type": "code",
   "execution_count": 71,
   "id": "e1fba23b-4a72-4f4a-a1a4-c8aea81aec8c",
   "metadata": {},
   "outputs": [
    {
     "name": "stdout",
     "output_type": "stream",
     "text": [
      "['Hello world', 'Python', 'Khurde', 'Aditi']\n"
     ]
    }
   ],
   "source": [
    "print(duplicate)"
   ]
  },
  {
   "cell_type": "markdown",
   "id": "d0148522-37e5-4eaa-b312-6cc357718787",
   "metadata": {},
   "source": [
    "# input() function"
   ]
  },
  {
   "cell_type": "code",
   "execution_count": 83,
   "id": "0399bf4f-a271-45cd-a87b-7590896a3fe7",
   "metadata": {},
   "outputs": [
    {
     "name": "stdin",
     "output_type": "stream",
     "text": [
      " \"Aditi\"\n"
     ]
    }
   ],
   "source": [
    "x=input()\n",
    "\n",
    "y=[]  # Empty list\n",
    "y.append(x)"
   ]
  },
  {
   "cell_type": "code",
   "execution_count": 84,
   "id": "f856d543-fee9-4dba-a109-bd03fe6fc86c",
   "metadata": {},
   "outputs": [
    {
     "data": {
      "text/plain": [
       "['\"Aditi\"']"
      ]
     },
     "execution_count": 84,
     "metadata": {},
     "output_type": "execute_result"
    }
   ],
   "source": [
    "y"
   ]
  },
  {
   "cell_type": "code",
   "execution_count": 88,
   "id": "f15420b1-31f7-4236-8679-7126bf099c2e",
   "metadata": {},
   "outputs": [
    {
     "name": "stdin",
     "output_type": "stream",
     "text": [
      "Enter your text: 100\n"
     ]
    },
    {
     "name": "stdout",
     "output_type": "stream",
     "text": [
      "100\n",
      "<class 'str'>\n"
     ]
    }
   ],
   "source": [
    "x=input(\"Enter your text:\")\n",
    "print(x)\n",
    "print(type(x))"
   ]
  },
  {
   "cell_type": "code",
   "execution_count": 92,
   "id": "d6fefb75-b128-49a1-87d3-8245180ec175",
   "metadata": {},
   "outputs": [
    {
     "name": "stdin",
     "output_type": "stream",
     "text": [
      "Enter your text: 45.23\n"
     ]
    },
    {
     "ename": "ValueError",
     "evalue": "invalid literal for int() with base 10: '45.23'",
     "output_type": "error",
     "traceback": [
      "\u001b[1;31m---------------------------------------------------------------------------\u001b[0m",
      "\u001b[1;31mValueError\u001b[0m                                Traceback (most recent call last)",
      "Cell \u001b[1;32mIn[92], line 1\u001b[0m\n\u001b[1;32m----> 1\u001b[0m x\u001b[38;5;241m=\u001b[39m\u001b[38;5;28;43mint\u001b[39;49m\u001b[43m(\u001b[49m\u001b[38;5;28;43minput\u001b[39;49m\u001b[43m(\u001b[49m\u001b[38;5;124;43m\"\u001b[39;49m\u001b[38;5;124;43mEnter your text:\u001b[39;49m\u001b[38;5;124;43m\"\u001b[39;49m\u001b[43m)\u001b[49m\u001b[43m)\u001b[49m\n\u001b[0;32m      2\u001b[0m \u001b[38;5;28mprint\u001b[39m(x)\n\u001b[0;32m      3\u001b[0m \u001b[38;5;28mprint\u001b[39m(\u001b[38;5;28mtype\u001b[39m(x))\n",
      "\u001b[1;31mValueError\u001b[0m: invalid literal for int() with base 10: '45.23'"
     ]
    }
   ],
   "source": [
    "x=int(input(\"Enter your text:\"))\n",
    "print(x)\n",
    "print(type(x))"
   ]
  },
  {
   "cell_type": "code",
   "execution_count": 94,
   "id": "e94bc07f-1027-4d79-aa52-898255999525",
   "metadata": {},
   "outputs": [
    {
     "name": "stdin",
     "output_type": "stream",
     "text": [
      "Enter any number: 100\n"
     ]
    },
    {
     "name": "stdout",
     "output_type": "stream",
     "text": [
      "100.0\n",
      "<class 'float'>\n"
     ]
    }
   ],
   "source": [
    "x=float(input(\"Enter any number:\"))\n",
    "print(x)\n",
    "print(type(x))"
   ]
  },
  {
   "cell_type": "code",
   "execution_count": 96,
   "id": "0fbd6f9a-e0d4-4b5f-860e-c2e6123a0f6e",
   "metadata": {},
   "outputs": [
    {
     "data": {
      "text/plain": [
       "'dasds'"
      ]
     },
     "execution_count": 96,
     "metadata": {},
     "output_type": "execute_result"
    }
   ],
   "source": [
    "x_Org=['hello', 'world', 'to me', 'Jyoti', 'dasds', '\"hi\"', '100']\n",
    "x_Org[4]"
   ]
  },
  {
   "cell_type": "code",
   "execution_count": 97,
   "id": "9e8c03f4-590f-4d4f-88e6-b2a530667545",
   "metadata": {},
   "outputs": [
    {
     "name": "stdout",
     "output_type": "stream",
     "text": [
      "dasds\n"
     ]
    }
   ],
   "source": [
    "print(x_Org[4])"
   ]
  },
  {
   "cell_type": "code",
   "execution_count": null,
   "id": "dacaafeb-b389-471d-85c8-dadcef05a2ea",
   "metadata": {},
   "outputs": [],
   "source": []
  }
 ],
 "metadata": {
  "kernelspec": {
   "display_name": "Python 3 (ipykernel)",
   "language": "python",
   "name": "python3"
  },
  "language_info": {
   "codemirror_mode": {
    "name": "ipython",
    "version": 3
   },
   "file_extension": ".py",
   "mimetype": "text/x-python",
   "name": "python",
   "nbconvert_exporter": "python",
   "pygments_lexer": "ipython3",
   "version": "3.11.4"
  }
 },
 "nbformat": 4,
 "nbformat_minor": 5
}
