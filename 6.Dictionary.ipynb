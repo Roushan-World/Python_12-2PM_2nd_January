{
 "cells": [
  {
   "cell_type": "markdown",
   "id": "b0364c73-a1c4-4b61-85cf-0fe0c701db28",
   "metadata": {},
   "source": [
    "# 6. Dictionary in python\n",
    "\n",
    " * __Dictionaries are used to store data values in key:value pair.__\n",
    " * __A dictionary is a collection which is ordered, changeable or mutable and do not allow duplicates.__\n",
    " * __Dictionary items are presented in key:value pairs, and can be referred to by using the key name.__\n",
    " * __Dicionaries are changeable, meaning that we can change, add or remove items after the dictionary has been created.__\n",
    " * __Dictionaries cannot have two items with the same key.__\n",
    " * __A dicitonary can be nested and can contains antoher dicitonary.__\n",
    "\n",
    " *  __Keys__---------------------------__Values__\n",
    " *  __'name'__-------------------------__\"Bob\"__\n",
    " *  __'age'__--------------------------__25__\n",
    " *  __'job'__--------------------------__'Backend Developer'__\n",
    " *  __'city'__-------------------------__'New York'__\n",
    " *  __'email'__------------------------__'bob@web.com'__"
   ]
  },
  {
   "cell_type": "code",
   "execution_count": 1,
   "id": "62d904fa-2480-4044-aeef-a8d5ba66f24d",
   "metadata": {},
   "outputs": [
    {
     "data": {
      "text/plain": [
       "{}"
      ]
     },
     "execution_count": 1,
     "metadata": {},
     "output_type": "execute_result"
    }
   ],
   "source": [
    "a={}\n",
    "a"
   ]
  },
  {
   "cell_type": "code",
   "execution_count": 2,
   "id": "4aa7ff33-fc7c-42fb-a10d-23a440a09d9b",
   "metadata": {},
   "outputs": [
    {
     "data": {
      "text/plain": [
       "dict"
      ]
     },
     "execution_count": 2,
     "metadata": {},
     "output_type": "execute_result"
    }
   ],
   "source": [
    "type(a)"
   ]
  },
  {
   "cell_type": "code",
   "execution_count": 3,
   "id": "be982671-fb6a-4b6a-b1b4-061f6d4572cb",
   "metadata": {},
   "outputs": [
    {
     "data": {
      "text/plain": [
       "set()"
      ]
     },
     "execution_count": 3,
     "metadata": {},
     "output_type": "execute_result"
    }
   ],
   "source": [
    "a=set()\n",
    "a"
   ]
  },
  {
   "cell_type": "code",
   "execution_count": 12,
   "id": "f9b10544-26f4-454d-8a40-045fea57f90b",
   "metadata": {},
   "outputs": [
    {
     "data": {
      "text/plain": [
       "{'key_1': 3.14,\n",
       " 'key_2': 1.618,\n",
       " 'key_3': True,\n",
       " 'key_4': False,\n",
       " 'key_5': 'Aditi'}"
      ]
     },
     "execution_count": 12,
     "metadata": {},
     "output_type": "execute_result"
    }
   ],
   "source": [
    "a={'key_1':3.14,'key_2':1.618,\"key_3\":True,'key_4':False,\n",
    "  'key_5':'Aditi'}\n",
    "a  \n",
    "\n",
    "# In dictionary keys are immutable just like tuple."
   ]
  },
  {
   "cell_type": "code",
   "execution_count": 15,
   "id": "cdbd8c24-b36e-4df4-ae30-b7a1d19ac1fe",
   "metadata": {},
   "outputs": [
    {
     "name": "stdout",
     "output_type": "stream",
     "text": [
      "3.14\n",
      "1.618\n",
      "True\n",
      "False\n",
      "Aditi\n"
     ]
    }
   ],
   "source": [
    "# Accessing dictionary using keys\n",
    "print(a[\"key_1\"])\n",
    "print(a[\"key_2\"])\n",
    "print(a[\"key_3\"])\n",
    "print(a[\"key_4\"])\n",
    "print(a[\"key_5\"])"
   ]
  },
  {
   "cell_type": "code",
   "execution_count": 16,
   "id": "b2894b18-affa-4e88-8d46-4e27260051bf",
   "metadata": {},
   "outputs": [
    {
     "data": {
      "text/plain": [
       "{'name': 'Aditi',\n",
       " 'age': 45,\n",
       " 'Phone_no': 1234567890,\n",
       " 'address': 'Aurangabad',\n",
       " 'email': 'kute123@gmail.com'}"
      ]
     },
     "execution_count": 16,
     "metadata": {},
     "output_type": "execute_result"
    }
   ],
   "source": [
    "details={'name':\"Aditi\",'age':45,'Phone_no':1234567890,\n",
    "        'address':'Aurangabad','email':'kute123@gmail.com'}\n",
    "details"
   ]
  },
  {
   "cell_type": "code",
   "execution_count": 17,
   "id": "1b823c45-a583-44bd-9598-17dfde9435ea",
   "metadata": {},
   "outputs": [
    {
     "data": {
      "text/plain": [
       "dict_keys(['name', 'age', 'Phone_no', 'address', 'email'])"
      ]
     },
     "execution_count": 17,
     "metadata": {},
     "output_type": "execute_result"
    }
   ],
   "source": [
    "# how to check keys in dicitonary\n",
    "\n",
    "details.keys()"
   ]
  },
  {
   "cell_type": "code",
   "execution_count": 18,
   "id": "8f33a2d1-2561-4590-96ca-2f789d4db8d4",
   "metadata": {},
   "outputs": [
    {
     "data": {
      "text/plain": [
       "dict_values(['Aditi', 45, 1234567890, 'Aurangabad', 'kute123@gmail.com'])"
      ]
     },
     "execution_count": 18,
     "metadata": {},
     "output_type": "execute_result"
    }
   ],
   "source": [
    "# how to check values in dictionary\n",
    "details.values()"
   ]
  },
  {
   "cell_type": "code",
   "execution_count": 19,
   "id": "d8e207b8-b3a2-46ce-9656-717a8b8cd946",
   "metadata": {},
   "outputs": [
    {
     "data": {
      "text/plain": [
       "{'name': 'Aditi',\n",
       " 'age': 45,\n",
       " 'Phone_no': 1234567890,\n",
       " 'address': 'Aurangabad',\n",
       " 'email': 'kute123@gmail.com'}"
      ]
     },
     "execution_count": 19,
     "metadata": {},
     "output_type": "execute_result"
    }
   ],
   "source": [
    "details"
   ]
  },
  {
   "cell_type": "code",
   "execution_count": 22,
   "id": "028e1266-f0e4-4f65-9ab9-f8c5448393be",
   "metadata": {},
   "outputs": [
    {
     "data": {
      "text/plain": [
       "{'name': 'Aditi',\n",
       " 'age': 10,\n",
       " 'Phone_no': 1234567890,\n",
       " 'address': 'Aurangabad',\n",
       " 'email': 'kute123@gmail.com'}"
      ]
     },
     "execution_count": 22,
     "metadata": {},
     "output_type": "execute_result"
    }
   ],
   "source": [
    "# update values in dictionary\n",
    "\n",
    "details[\"age\"]=10\n",
    "details"
   ]
  },
  {
   "cell_type": "code",
   "execution_count": 25,
   "id": "2c60f4ed-8cdf-4f0b-acd2-374a7768e0c9",
   "metadata": {},
   "outputs": [],
   "source": [
    "details[\"name\"]=\"Aditi Kute\""
   ]
  },
  {
   "cell_type": "code",
   "execution_count": 26,
   "id": "36b40077-88ae-4547-b290-535f56d49f89",
   "metadata": {},
   "outputs": [
    {
     "data": {
      "text/plain": [
       "{'name': 'Aditi Kute',\n",
       " 'age': 10,\n",
       " 'Phone_no': 1234567890,\n",
       " 'address': 'Aurangabad',\n",
       " 'email': 'kute123@gmail.com'}"
      ]
     },
     "execution_count": 26,
     "metadata": {},
     "output_type": "execute_result"
    }
   ],
   "source": [
    "details"
   ]
  },
  {
   "cell_type": "code",
   "execution_count": 29,
   "id": "7d4e6b9d-eaad-4223-a4a3-f1fbb063ee9c",
   "metadata": {},
   "outputs": [
    {
     "data": {
      "text/plain": [
       "{'name': 'Aditi',\n",
       " 'age': 10,\n",
       " 'Phone_no': 1234567890,\n",
       " 'address': 'Aurangabad',\n",
       " 'email': 'kute123@gmail.com',\n",
       " 'Name': 'Aditi'}"
      ]
     },
     "execution_count": 29,
     "metadata": {},
     "output_type": "execute_result"
    }
   ],
   "source": [
    "details['name']=\"Aditi\"\n",
    "details"
   ]
  },
  {
   "cell_type": "markdown",
   "id": "92ab406d-2beb-49ff-a049-815b709c1b13",
   "metadata": {},
   "source": [
    "# Deleting an items using del() funciton in the dictionary."
   ]
  },
  {
   "cell_type": "code",
   "execution_count": 30,
   "id": "4b8146e8-bb03-4c97-846c-faddfc3f02aa",
   "metadata": {},
   "outputs": [],
   "source": [
    "del(details['Name'])"
   ]
  },
  {
   "cell_type": "code",
   "execution_count": 31,
   "id": "627c8374-7c6f-49a8-9d9e-285b2877d255",
   "metadata": {},
   "outputs": [
    {
     "data": {
      "text/plain": [
       "{'name': 'Aditi',\n",
       " 'age': 10,\n",
       " 'Phone_no': 1234567890,\n",
       " 'address': 'Aurangabad',\n",
       " 'email': 'kute123@gmail.com'}"
      ]
     },
     "execution_count": 31,
     "metadata": {},
     "output_type": "execute_result"
    }
   ],
   "source": [
    "details"
   ]
  },
  {
   "cell_type": "code",
   "execution_count": 32,
   "id": "ceeac853-0016-4628-857e-d1925c294e11",
   "metadata": {},
   "outputs": [
    {
     "data": {
      "text/plain": [
       "{1: 2, 2: 3, 3: 4}"
      ]
     },
     "execution_count": 32,
     "metadata": {},
     "output_type": "execute_result"
    }
   ],
   "source": [
    "a_dict={1:2,2:3,3:4}\n",
    "a_dict"
   ]
  },
  {
   "cell_type": "code",
   "execution_count": 33,
   "id": "ba75cc4c-82b5-4ffb-bf05-22ae583247d2",
   "metadata": {},
   "outputs": [
    {
     "data": {
      "text/plain": [
       "dict_keys([1, 2, 3])"
      ]
     },
     "execution_count": 33,
     "metadata": {},
     "output_type": "execute_result"
    }
   ],
   "source": [
    "a_dict.keys()"
   ]
  },
  {
   "cell_type": "code",
   "execution_count": 35,
   "id": "f2b628cc-03e1-4a0a-a5bf-5c0f304aab72",
   "metadata": {},
   "outputs": [
    {
     "data": {
      "text/plain": [
       "dict_values([2, 3, 4])"
      ]
     },
     "execution_count": 35,
     "metadata": {},
     "output_type": "execute_result"
    }
   ],
   "source": [
    "a_dict.values()"
   ]
  },
  {
   "cell_type": "code",
   "execution_count": 36,
   "id": "b8caa289-ed96-4366-841e-ff89744894f5",
   "metadata": {},
   "outputs": [
    {
     "data": {
      "text/plain": [
       "{1: 2, 2: 3, 3: 4}"
      ]
     },
     "execution_count": 36,
     "metadata": {},
     "output_type": "execute_result"
    }
   ],
   "source": [
    "a_dict"
   ]
  },
  {
   "cell_type": "code",
   "execution_count": 37,
   "id": "df143ecf-9eb3-49f6-84ff-3e2eaad1c0df",
   "metadata": {},
   "outputs": [],
   "source": [
    "del(a_dict[3])\n"
   ]
  },
  {
   "cell_type": "code",
   "execution_count": 38,
   "id": "07aaf262-5433-45e7-96f5-f74bdb333b68",
   "metadata": {},
   "outputs": [
    {
     "data": {
      "text/plain": [
       "{1: 2, 2: 3}"
      ]
     },
     "execution_count": 38,
     "metadata": {},
     "output_type": "execute_result"
    }
   ],
   "source": [
    "a_dict"
   ]
  },
  {
   "cell_type": "code",
   "execution_count": 39,
   "id": "0144fa87-3f13-4104-904c-31e3f72168ec",
   "metadata": {},
   "outputs": [],
   "source": [
    "del(a_dict)"
   ]
  },
  {
   "cell_type": "code",
   "execution_count": 40,
   "id": "1cdc39e7-df52-4751-ab14-8129a47baca9",
   "metadata": {},
   "outputs": [
    {
     "ename": "NameError",
     "evalue": "name 'a_dict' is not defined",
     "output_type": "error",
     "traceback": [
      "\u001b[1;31m---------------------------------------------------------------------------\u001b[0m",
      "\u001b[1;31mNameError\u001b[0m                                 Traceback (most recent call last)",
      "Cell \u001b[1;32mIn[40], line 1\u001b[0m\n\u001b[1;32m----> 1\u001b[0m \u001b[43ma_dict\u001b[49m\n",
      "\u001b[1;31mNameError\u001b[0m: name 'a_dict' is not defined"
     ]
    }
   ],
   "source": [
    "a_dict"
   ]
  },
  {
   "cell_type": "code",
   "execution_count": 41,
   "id": "958c1f51-c3ec-4cd4-ad1b-58b10ace49c0",
   "metadata": {},
   "outputs": [
    {
     "data": {
      "text/plain": [
       "{'name': 'Aditi',\n",
       " 'age': 10,\n",
       " 'Phone_no': 1234567890,\n",
       " 'address': 'Aurangabad',\n",
       " 'email': 'kute123@gmail.com'}"
      ]
     },
     "execution_count": 41,
     "metadata": {},
     "output_type": "execute_result"
    }
   ],
   "source": [
    "details"
   ]
  },
  {
   "cell_type": "markdown",
   "id": "efd90dd6-4bdc-488f-a630-ddb6722c4878",
   "metadata": {},
   "source": [
    "# Verification using in or not in"
   ]
  },
  {
   "cell_type": "code",
   "execution_count": 46,
   "id": "9a3c6afd-6b9d-4e8b-8e43-ae535a43ba83",
   "metadata": {},
   "outputs": [
    {
     "name": "stdout",
     "output_type": "stream",
     "text": [
      "True\n",
      "True\n",
      "False\n",
      "False\n"
     ]
    }
   ],
   "source": [
    "print(\"name\" in details)\n",
    "print('age' in details)\n",
    "print(\"Phone_no\" not in details)\n",
    "print(\"Aditi\" in details)"
   ]
  },
  {
   "cell_type": "code",
   "execution_count": null,
   "id": "7ca4a699-e190-4bb3-ac3a-9aef14cca183",
   "metadata": {},
   "outputs": [],
   "source": []
  }
 ],
 "metadata": {
  "kernelspec": {
   "display_name": "Python 3 (ipykernel)",
   "language": "python",
   "name": "python3"
  },
  "language_info": {
   "codemirror_mode": {
    "name": "ipython",
    "version": 3
   },
   "file_extension": ".py",
   "mimetype": "text/x-python",
   "name": "python",
   "nbconvert_exporter": "python",
   "pygments_lexer": "ipython3",
   "version": "3.11.4"
  }
 },
 "nbformat": 4,
 "nbformat_minor": 5
}
