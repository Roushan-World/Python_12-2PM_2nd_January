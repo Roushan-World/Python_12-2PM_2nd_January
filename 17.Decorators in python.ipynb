{
 "cells": [
  {
   "cell_type": "markdown",
   "id": "144f1741-8ea7-4b0a-b72c-4443e0e7e628",
   "metadata": {},
   "source": [
    "# 17. Decorators in Python\n",
    " * __Decorators provide a simple syntax for calling higher-order funcitons.__\n",
    " * __By definition, a decorator is a function that takes another funciton and extends the behaviour of the latter funciton without explicitly modifying it.__\n",
    " * __A decoriator in Python is a funciton that takes another funciton as it's argument, and return yet another function.__\n",
    " * __Decorators can be extremely useful as they allow the extension of an existing function, without any modification to the original funciton source code.__\n",
    " * __In fact, there are two types of decorators in Python Including class decorators and function decorators.__\n",
    " * __In application, decorators are majorly used in creating middle layer in the backend, it performs task like token authentication, validation, image compression and many more.__"
   ]
  },
  {
   "cell_type": "code",
   "execution_count": 1,
   "id": "00fbca6a-c563-472d-be62-f742efa2e7ad",
   "metadata": {},
   "outputs": [],
   "source": [
    "import decorator"
   ]
  },
  {
   "cell_type": "code",
   "execution_count": 2,
   "id": "09ba2f74-a290-4851-8700-2d413bc39326",
   "metadata": {},
   "outputs": [],
   "source": [
    "from decorator import *"
   ]
  },
  {
   "cell_type": "code",
   "execution_count": 7,
   "id": "11407ee3-4bef-4112-bf83-0117e8137a46",
   "metadata": {},
   "outputs": [
    {
     "name": "stdout",
     "output_type": "stream",
     "text": [
      "Python is a programming language.\n",
      "Hello world\n"
     ]
    }
   ],
   "source": [
    "def mytext(text):\n",
    "    print(text)\n",
    "\n",
    "mytext('Python is a programming language.')\n",
    "\n",
    "x=mytext\n",
    "x('Hello world')"
   ]
  },
  {
   "cell_type": "code",
   "execution_count": 8,
   "id": "ddb0e5d1-92c7-4fb9-bbc0-f58135fa5833",
   "metadata": {},
   "outputs": [
    {
     "data": {
      "text/plain": [
       "100"
      ]
     },
     "execution_count": 8,
     "metadata": {},
     "output_type": "execute_result"
    }
   ],
   "source": [
    "def multi(num):\n",
    "    return num*num\n",
    "\n",
    "mult=multi\n",
    "mult(10)"
   ]
  },
  {
   "cell_type": "markdown",
   "id": "6702378d-f6b8-4647-abd1-0ed2e366d136",
   "metadata": {},
   "source": [
    "# Nested/Inner function"
   ]
  },
  {
   "cell_type": "code",
   "execution_count": 9,
   "id": "f0ee0875-257a-48e4-97fd-642700937d08",
   "metadata": {},
   "outputs": [
    {
     "name": "stdout",
     "output_type": "stream",
     "text": [
      "Python is a programming language.\n",
      "Hello world\n",
      "Congratulations!\n"
     ]
    }
   ],
   "source": [
    "def mytext():\n",
    "    print('Python is a programming language.')\n",
    "    def new_text():\n",
    "        print('Hello world')\n",
    "    def message():\n",
    "        print('Congratulations!')\n",
    "\n",
    "    new_text()\n",
    "    message()\n",
    "\n",
    "mytext()"
   ]
  },
  {
   "cell_type": "code",
   "execution_count": 11,
   "id": "00ccf068-9de6-4498-aa3b-aea0e0a5c6af",
   "metadata": {},
   "outputs": [
    {
     "name": "stdout",
     "output_type": "stream",
     "text": [
      "9.42\n",
      "3.184713375796178\n"
     ]
    }
   ],
   "source": [
    "def mult(x):\n",
    "    return x*3.14\n",
    "def divide(x):\n",
    "    return x/3.14\n",
    "\n",
    "\n",
    "def operator(function,x):\n",
    "    number=function(x)\n",
    "    return number\n",
    "\n",
    "\n",
    "print(operator(mult,3))\n",
    "print(operator(divide,10))"
   ]
  },
  {
   "cell_type": "code",
   "execution_count": 15,
   "id": "a4492c5d-cdac-41a1-936e-be99f8764cdd",
   "metadata": {},
   "outputs": [
    {
     "data": {
      "text/plain": [
       "5.859874482048838"
      ]
     },
     "execution_count": 15,
     "metadata": {},
     "output_type": "execute_result"
    }
   ],
   "source": [
    "import math\n",
    "def addition(num):\n",
    "    return num+math.pi\n",
    "\n",
    "\n",
    "def called_function(func):\n",
    "    added_number=math.e\n",
    "    return func(added_number)\n",
    "\n",
    "called_function(addition)"
   ]
  },
  {
   "cell_type": "code",
   "execution_count": 13,
   "id": "1497e59f-fb8c-47f2-9488-9a5126f4de3e",
   "metadata": {},
   "outputs": [
    {
     "data": {
      "text/plain": [
       "3.141592653589793"
      ]
     },
     "execution_count": 13,
     "metadata": {},
     "output_type": "execute_result"
    }
   ],
   "source": [
    "math.pi"
   ]
  },
  {
   "cell_type": "code",
   "execution_count": 14,
   "id": "37da8708-7f01-40c0-a4ab-692840fc28f0",
   "metadata": {},
   "outputs": [
    {
     "data": {
      "text/plain": [
       "2.718281828459045"
      ]
     },
     "execution_count": 14,
     "metadata": {},
     "output_type": "execute_result"
    }
   ],
   "source": [
    "math.e"
   ]
  },
  {
   "cell_type": "code",
   "execution_count": 16,
   "id": "4d2e8f0e-c5da-496a-ba40-dad7439f008f",
   "metadata": {},
   "outputs": [
    {
     "name": "stdin",
     "output_type": "stream",
     "text": [
      "Enter your number: 100\n"
     ]
    },
    {
     "data": {
      "text/plain": [
       "103.1415926535898"
      ]
     },
     "execution_count": 16,
     "metadata": {},
     "output_type": "execute_result"
    }
   ],
   "source": [
    "import math\n",
    "def addition(num):\n",
    "    return num+math.pi\n",
    "\n",
    "\n",
    "def called_function(func):\n",
    "    x=int(input('Enter your number:'))\n",
    "    added_number=x\n",
    "    return func(added_number)\n",
    "\n",
    "called_function(addition)"
   ]
  },
  {
   "cell_type": "code",
   "execution_count": 19,
   "id": "a5670feb-c056-4bfb-9573-72f53cce6e16",
   "metadata": {},
   "outputs": [
    {
     "name": "stdout",
     "output_type": "stream",
     "text": [
      "40\n"
     ]
    }
   ],
   "source": [
    "def addition(a,b):\n",
    "    print(a+b)\n",
    "\n",
    "def outer_addition(func):\n",
    "    def inner_func(a,b):\n",
    "        if a<b:\n",
    "            a,b=b,a\n",
    "        return func(a,b)\n",
    "    return inner_func\n",
    "\n",
    "\n",
    "result=outer_addition(addition)\n",
    "result(10,30)"
   ]
  },
  {
   "cell_type": "code",
   "execution_count": 25,
   "id": "6d8e7d40-93bd-40e2-9b43-9f4733c2f385",
   "metadata": {},
   "outputs": [
    {
     "name": "stdin",
     "output_type": "stream",
     "text": [
      "Enter your text python is a programming language\n"
     ]
    },
    {
     "name": "stdout",
     "output_type": "stream",
     "text": [
      "PYTHON IS A PROGRAMMING LANGUAGE\n"
     ]
    }
   ],
   "source": [
    "def decorator_text_upper(func):\n",
    "    def wrapper():\n",
    "        function=func()\n",
    "        text_upper=function.upper()\n",
    "        return text_upper\n",
    "    return wrapper\n",
    "\n",
    "\n",
    "def text():\n",
    "    y=input('Enter your text')\n",
    "    return y\n",
    "\n",
    "\n",
    "obj=decorator_text_upper(text)\n",
    "print(obj())"
   ]
  },
  {
   "cell_type": "code",
   "execution_count": 27,
   "id": "8f91efe5-9d95-42d3-9d58-17e3bb44d8a0",
   "metadata": {},
   "outputs": [
    {
     "name": "stdin",
     "output_type": "stream",
     "text": [
      "Enter your text rupali\n"
     ]
    },
    {
     "name": "stdout",
     "output_type": "stream",
     "text": [
      "RUPALI\n"
     ]
    }
   ],
   "source": [
    "def decorator_text_upper(func):\n",
    "    def wrapper():\n",
    "        function=func()\n",
    "        text_upper=function.upper()\n",
    "        return text_upper\n",
    "    return wrapper\n",
    "\n",
    "@decorator_text_upper\n",
    "def text():\n",
    "    y=input('Enter your text')\n",
    "    return y\n",
    "\n",
    "\n",
    "obj=decorator_text_upper(text)\n",
    "print(obj())"
   ]
  },
  {
   "cell_type": "code",
   "execution_count": 29,
   "id": "93a8b3ef-2a5d-4c0a-a054-ba280cd3baae",
   "metadata": {},
   "outputs": [
    {
     "name": "stdout",
     "output_type": "stream",
     "text": [
      "PYTHON IS MOST POPULAR PROGRAMMING LANGUAGE\n"
     ]
    }
   ],
   "source": [
    "@decorator_text_upper\n",
    "def text():\n",
    "    return 'python is most popular programming language'\n",
    "\n",
    "print(text())"
   ]
  },
  {
   "cell_type": "code",
   "execution_count": 31,
   "id": "c96e02f8-1cdd-4895-a31e-efa4c24eee9e",
   "metadata": {},
   "outputs": [
    {
     "name": "stdout",
     "output_type": "stream",
     "text": [
      "I'M BEAUTIFUL.\n"
     ]
    }
   ],
   "source": [
    "@decorator_text_upper\n",
    "def rupali():\n",
    "    return \"i'm beautiful.\"\n",
    "\n",
    "print(rupali())"
   ]
  },
  {
   "cell_type": "code",
   "execution_count": 37,
   "id": "9d08a1f8-acab-4d83-a42f-adb7e4a1cd83",
   "metadata": {},
   "outputs": [
    {
     "name": "stdout",
     "output_type": "stream",
     "text": [
      "i'm most beautiful.\n",
      "i'm most beautiful.\n"
     ]
    }
   ],
   "source": [
    "def do_twice(function):\n",
    "    def wrapper_do_twice():\n",
    "        function()\n",
    "        function()\n",
    "    return wrapper_do_twice\n",
    "\n",
    "\n",
    "@do_twice\n",
    "def text():\n",
    "    print(\"i'm most beautiful.\")\n",
    "\n",
    "text()"
   ]
  },
  {
   "cell_type": "code",
   "execution_count": 39,
   "id": "c947992c-977a-4938-ab89-9681ffda2e4f",
   "metadata": {},
   "outputs": [
    {
     "name": "stdout",
     "output_type": "stream",
     "text": [
      "Python is programming language\n",
      "Python is programming language\n"
     ]
    }
   ],
   "source": [
    "@do_twice\n",
    "def returning():\n",
    "    print('Python is programming language')\n",
    "\n",
    "returning()"
   ]
  },
  {
   "cell_type": "markdown",
   "id": "6d7048ff-6822-48e1-b95d-88be67fc8f9c",
   "metadata": {},
   "source": [
    "# fancy decorator\n",
    "\n",
    "# @propertymethod\n",
    "# @staticmethod\n",
    "# @classmethod"
   ]
  },
  {
   "cell_type": "code",
   "execution_count": 51,
   "id": "0c7a121a-825f-4a6d-9d2c-540c7845e0c5",
   "metadata": {},
   "outputs": [
    {
     "name": "stdout",
     "output_type": "stream",
     "text": [
      "My name is Rupali\n",
      "My age is 38\n",
      "Details:Rupali is most beautiful and her age is 38\n"
     ]
    }
   ],
   "source": [
    "class person:\n",
    "    def __init__(self,name,age):\n",
    "        self.name=name\n",
    "        self.age=age\n",
    "        \n",
    "    @property\n",
    "    def details(self):\n",
    "        return self.name+' is most beautiful and her age is '+ self.age\n",
    "\n",
    "\n",
    "person2=person('Rupali','38')\n",
    "print(f'My name is {person2.name}')\n",
    "print(f'My age is {person2.age}')\n",
    "print(f'Details:{person2.details}')"
   ]
  },
  {
   "cell_type": "code",
   "execution_count": 61,
   "id": "65241c2e-8877-4028-8eac-cfea93ed839b",
   "metadata": {},
   "outputs": [
    {
     "name": "stdout",
     "output_type": "stream",
     "text": [
      "name:Sahil\n",
      "Name:Rupali\n"
     ]
    }
   ],
   "source": [
    "class person:\n",
    "    def __init__(self,name,age):\n",
    "        self.name=name\n",
    "        self.age=age\n",
    "        \n",
    "    @property\n",
    "    def details(self):\n",
    "        return self.name+' is most beautiful and her age is '+ self.age\n",
    "\n",
    "\n",
    "x=person('Sahil','100')\n",
    "print(f'name:{x.name}')\n",
    "\n",
    "\n",
    "y=person('Rupali','100')\n",
    "print(f'Name:{y.name}')"
   ]
  },
  {
   "cell_type": "code",
   "execution_count": 66,
   "id": "946ca270-5840-4839-a1a2-544d4a524f77",
   "metadata": {},
   "outputs": [
    {
     "name": "stdout",
     "output_type": "stream",
     "text": [
      "Sahil age:100\n",
      "Message:Sahil is most beautiful and her age is 100\n",
      "Rupali age: 100\n",
      "Rupali detaisl: Rupali is most beautiful and her age is 100\n"
     ]
    }
   ],
   "source": [
    "print(f'Sahil age:{x.age}')\n",
    "print(f'Message:{x.details}')\n",
    "print(f'Rupali age: {y.age}')\n",
    "print(f'Rupali detaisl: {y.details}')"
   ]
  },
  {
   "cell_type": "code",
   "execution_count": 69,
   "id": "cd50ffba-efc4-4e71-92f8-f5ef5f43cf9c",
   "metadata": {},
   "outputs": [
    {
     "name": "stdout",
     "output_type": "stream",
     "text": [
      "My name is Rupali and Im Beautiful.\n"
     ]
    }
   ],
   "source": [
    "# staic method\n",
    "\n",
    "class person:\n",
    "    @staticmethod\n",
    "    def name():\n",
    "        print('My name is Rupali and Im Beautiful.')\n",
    "\n",
    "obj=person()\n",
    "obj.name()"
   ]
  },
  {
   "cell_type": "code",
   "execution_count": 70,
   "id": "c4151f3b-139c-4348-bbc5-fc334739fd72",
   "metadata": {},
   "outputs": [
    {
     "name": "stdout",
     "output_type": "stream",
     "text": [
      "My name is Rupali and Im Beautiful.\n"
     ]
    }
   ],
   "source": [
    "person.name()"
   ]
  },
  {
   "cell_type": "code",
   "execution_count": 80,
   "id": "a277e473-544b-47bb-9c95-39d3523c3d22",
   "metadata": {},
   "outputs": [
    {
     "name": "stdout",
     "output_type": "stream",
     "text": [
      "My name is Rupali and her age is 15\n"
     ]
    }
   ],
   "source": [
    "# class method\n",
    "\n",
    "class person:\n",
    "    def __init__(self,name,age):\n",
    "        self.name=name\n",
    "        self.age=age\n",
    "\n",
    "    @classmethod\n",
    "    def details(cls):\n",
    "        return cls('Rupali','15')\n",
    "\n",
    "\n",
    "obj=person.details()\n",
    "print(f'My name is {obj.name} and her age is {obj.age}')"
   ]
  },
  {
   "cell_type": "code",
   "execution_count": 81,
   "id": "643865ad-755e-43d2-92ca-3c4cad7dde9e",
   "metadata": {},
   "outputs": [
    {
     "name": "stdout",
     "output_type": "stream",
     "text": [
      "My name is sahil and her age is 200\n"
     ]
    }
   ],
   "source": [
    "# class method\n",
    "\n",
    "class person:\n",
    "    def __init__(self,name,age):\n",
    "        self.name=name\n",
    "        self.age=age\n",
    "\n",
    "    @classmethod\n",
    "    def details(cls):\n",
    "        return cls('sahil','200')\n",
    "\n",
    "\n",
    "obj=person.details()\n",
    "print(f'My name is {obj.name} and her age is {obj.age}')"
   ]
  },
  {
   "cell_type": "code",
   "execution_count": null,
   "id": "55c92142-2279-4074-933c-82964be6f690",
   "metadata": {},
   "outputs": [],
   "source": []
  },
  {
   "cell_type": "code",
   "execution_count": null,
   "id": "9bad46f0-bda1-4898-904d-b97b497ec1c7",
   "metadata": {},
   "outputs": [],
   "source": []
  },
  {
   "cell_type": "code",
   "execution_count": null,
   "id": "748aa8ad-0ac3-4159-9b1a-7a11d5bbe9aa",
   "metadata": {},
   "outputs": [],
   "source": []
  }
 ],
 "metadata": {
  "kernelspec": {
   "display_name": "Python 3 (ipykernel)",
   "language": "python",
   "name": "python3"
  },
  "language_info": {
   "codemirror_mode": {
    "name": "ipython",
    "version": 3
   },
   "file_extension": ".py",
   "mimetype": "text/x-python",
   "name": "python",
   "nbconvert_exporter": "python",
   "pygments_lexer": "ipython3",
   "version": "3.12.2"
  }
 },
 "nbformat": 4,
 "nbformat_minor": 5
}
