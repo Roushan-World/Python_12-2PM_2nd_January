{
 "cells": [
  {
   "cell_type": "markdown",
   "id": "28537e27-0266-48e4-a74e-a6566008b011",
   "metadata": {},
   "source": [
    "# 9. Functions in Python\n",
    "# ---------------------------------------------------------------------------------\n",
    " * __In Python, a function is a group related statements that perforsm a specific task.__\n",
    " * __Functions help break out program into smaller and modular chunks. * As our program grows larger and larger, functions make it more organized and manageable.__\n",
    " * __Furthermore, it avoids repetition and makes the code reusable.__\n",
    " * __There are two types of functions.__\n",
    " * __1.Pre-defined functions.__\n",
    " * __2.User-defined functions.__\n",
    " * __In Python, a function is defined using the def keyword followed by the function name and parenthesis().__\n",
    " * __keyword def that marks the start of the function header.__\n",
    " * __A function name to uniquely identify the function.__\n",
    " * __Function naming follows the same rule of writing identifiers in python.__\n",
    " * __Parameters(arguments) through which we pass values to a function. They are optional.__\n",
    " * __Optional documentation string(docstring) to describe what the functions does.__\n",
    " * __One or more valid python statements that make up the function body.__\n",
    " * __Statements must have the same identation level(usually 4 spaces).__\n",
    " * __An optional return statement to return a value from the functions.__"
   ]
  },
  {
   "cell_type": "code",
   "execution_count": 3,
   "id": "6c4cb7b2-a046-4058-bcd7-a5789a93e5fc",
   "metadata": {},
   "outputs": [
    {
     "data": {
      "text/plain": [
       "(13, -7, 30, 0.3, 9, 3)"
      ]
     },
     "execution_count": 3,
     "metadata": {},
     "output_type": "execute_result"
    }
   ],
   "source": [
    "def calculator(x):   # x is argument\n",
    "    sum=x+10\n",
    "    subtract=x-10\n",
    "    multiply=x*10\n",
    "    divide=x/10\n",
    "    exponent=x**2\n",
    "    modulus=x%10\n",
    "    return sum,subtract,multiply,divide,exponent,modulus\n",
    "\n",
    "calculator(3)"
   ]
  },
  {
   "cell_type": "code",
   "execution_count": 4,
   "id": "b54e5891-f2c2-4b43-9bf4-d70a93bb2066",
   "metadata": {},
   "outputs": [
    {
     "name": "stdout",
     "output_type": "stream",
     "text": [
      "Help on function calculator in module __main__:\n",
      "\n",
      "calculator(x)\n",
      "\n"
     ]
    }
   ],
   "source": [
    "help(calculator)"
   ]
  },
  {
   "cell_type": "code",
   "execution_count": 6,
   "id": "75638248-fbe6-4d6f-9fa7-4812b14a2a8b",
   "metadata": {},
   "outputs": [
    {
     "data": {
      "text/plain": [
       "(60, 40, 500, 5.0, 2500, 0)"
      ]
     },
     "execution_count": 6,
     "metadata": {},
     "output_type": "execute_result"
    }
   ],
   "source": [
    "calculator(50)"
   ]
  },
  {
   "cell_type": "code",
   "execution_count": 7,
   "id": "a9cad13d-bdf1-4deb-87d2-415736a6331e",
   "metadata": {},
   "outputs": [
    {
     "data": {
      "text/plain": [
       "(110, 90, 1000, 10.0, 10000, 0)"
      ]
     },
     "execution_count": 7,
     "metadata": {},
     "output_type": "execute_result"
    }
   ],
   "source": [
    "calculator(100)"
   ]
  },
  {
   "cell_type": "code",
   "execution_count": 14,
   "id": "b36f6012-5885-4ff4-a6dc-29bca98c53bd",
   "metadata": {},
   "outputs": [
    {
     "name": "stdout",
     "output_type": "stream",
     "text": [
      "your result is: 59.0\n"
     ]
    },
    {
     "data": {
      "text/plain": [
       "59.0"
      ]
     },
     "execution_count": 14,
     "metadata": {},
     "output_type": "execute_result"
    }
   ],
   "source": [
    "def multiplication(x,y):\n",
    "    z=10*x+45/3+y*8\n",
    "    \n",
    "    print('your result is:',z)\n",
    "    return z\n",
    "\n",
    "multiplication(2,3)"
   ]
  },
  {
   "cell_type": "code",
   "execution_count": 15,
   "id": "fa5b2233-8849-4fba-b071-d7e65a12371e",
   "metadata": {},
   "outputs": [
    {
     "name": "stdout",
     "output_type": "stream",
     "text": [
      "your result is: 335.0\n"
     ]
    },
    {
     "data": {
      "text/plain": [
       "335.0"
      ]
     },
     "execution_count": 15,
     "metadata": {},
     "output_type": "execute_result"
    }
   ],
   "source": [
    "multiplication(20,15)"
   ]
  },
  {
   "cell_type": "code",
   "execution_count": 17,
   "id": "70ed0926-9018-4934-83ec-a6223911eb29",
   "metadata": {},
   "outputs": [
    {
     "data": {
      "text/plain": [
       "458.09"
      ]
     },
     "execution_count": 17,
     "metadata": {},
     "output_type": "execute_result"
    }
   ],
   "source": [
    "# local variable and global variable\n",
    "\n",
    "def function(x):\n",
    "    y=5\n",
    "    z1=x*45+y*1.618\n",
    "    return z1\n",
    "\n",
    "function(10)"
   ]
  },
  {
   "cell_type": "code",
   "execution_count": 18,
   "id": "d7947086-5376-4f4d-b6ee-e2ab21b35c6e",
   "metadata": {},
   "outputs": [
    {
     "ename": "NameError",
     "evalue": "name 'y' is not defined",
     "output_type": "error",
     "traceback": [
      "\u001b[1;31m---------------------------------------------------------------------------\u001b[0m",
      "\u001b[1;31mNameError\u001b[0m                                 Traceback (most recent call last)",
      "Cell \u001b[1;32mIn[18], line 3\u001b[0m\n\u001b[0;32m      1\u001b[0m \u001b[38;5;66;03m# global variable\u001b[39;00m\n\u001b[1;32m----> 3\u001b[0m \u001b[38;5;28mprint\u001b[39m(\u001b[43my\u001b[49m)\n",
      "\u001b[1;31mNameError\u001b[0m: name 'y' is not defined"
     ]
    }
   ],
   "source": [
    "# global variable\n",
    "\n",
    "print(y)"
   ]
  },
  {
   "cell_type": "code",
   "execution_count": 23,
   "id": "e198d0cb-e859-434b-bb23-62a7cac019b8",
   "metadata": {},
   "outputs": [
    {
     "data": {
      "text/plain": [
       "458.09"
      ]
     },
     "execution_count": 23,
     "metadata": {},
     "output_type": "execute_result"
    }
   ],
   "source": [
    "# local variable and global variable\n",
    "y=5   # global variable\n",
    "def function(x):\n",
    "    z1=x*45+y*1.618\n",
    "    return z1\n",
    "\n",
    "function(10)"
   ]
  },
  {
   "cell_type": "code",
   "execution_count": 20,
   "id": "91dc5785-7684-458a-9cc4-0f5d1ecb7db2",
   "metadata": {},
   "outputs": [
    {
     "name": "stdout",
     "output_type": "stream",
     "text": [
      "25\n"
     ]
    }
   ],
   "source": [
    "print(y+20)"
   ]
  },
  {
   "cell_type": "code",
   "execution_count": 22,
   "id": "04c3c67c-465c-4ec2-a70e-ceaca9bce5ab",
   "metadata": {},
   "outputs": [
    {
     "data": {
      "text/plain": [
       "5"
      ]
     },
     "execution_count": 22,
     "metadata": {},
     "output_type": "execute_result"
    }
   ],
   "source": [
    "y"
   ]
  },
  {
   "cell_type": "code",
   "execution_count": 28,
   "id": "0c5311b4-c294-42dc-817f-83347678f637",
   "metadata": {},
   "outputs": [
    {
     "name": "stdout",
     "output_type": "stream",
     "text": [
      "Good Morning\n",
      "hello python\n"
     ]
    }
   ],
   "source": [
    "# Define a function with and witout return statement\n",
    "\n",
    "def msg1():\n",
    "    print('Good Morning')\n",
    "    \n",
    "def msg2():\n",
    "    print(\"hello python\")\n",
    "    return None\n",
    "\n",
    "msg1()\n",
    "msg2()"
   ]
  },
  {
   "cell_type": "code",
   "execution_count": 31,
   "id": "e583f56d-a46a-4039-a2f0-4f78b3586157",
   "metadata": {},
   "outputs": [
    {
     "name": "stdout",
     "output_type": "stream",
     "text": [
      "Good Morning\n",
      "None\n"
     ]
    }
   ],
   "source": [
    "print(msg1())"
   ]
  },
  {
   "cell_type": "code",
   "execution_count": 32,
   "id": "c4b4663e-9607-422c-82e9-bd0db87aa0dd",
   "metadata": {},
   "outputs": [
    {
     "name": "stdout",
     "output_type": "stream",
     "text": [
      "hello python\n",
      "None\n"
     ]
    }
   ],
   "source": [
    "print(msg2())"
   ]
  },
  {
   "cell_type": "markdown",
   "id": "215fdc38-d336-4591-bd7f-3c976709442f",
   "metadata": {},
   "source": [
    "# concatenation of two string\n"
   ]
  },
  {
   "cell_type": "code",
   "execution_count": 33,
   "id": "b3e3f021-f51c-47af-98b9-76e2a1560294",
   "metadata": {},
   "outputs": [
    {
     "data": {
      "text/plain": [
       "'RupaliGurav'"
      ]
     },
     "execution_count": 33,
     "metadata": {},
     "output_type": "execute_result"
    }
   ],
   "source": [
    "def concate_string(x,y):\n",
    "    return x+y\n",
    "\n",
    "concate_string('Rupali',\"Gurav\")"
   ]
  },
  {
   "cell_type": "code",
   "execution_count": 34,
   "id": "bdac89a6-906e-4185-8b74-c5be5ed160fc",
   "metadata": {},
   "outputs": [
    {
     "data": {
      "text/plain": [
       "50"
      ]
     },
     "execution_count": 34,
     "metadata": {},
     "output_type": "execute_result"
    }
   ],
   "source": [
    "concate_string(20,30)"
   ]
  },
  {
   "cell_type": "code",
   "execution_count": 35,
   "id": "ab0aa244-55ad-4191-96bf-9539da3abd66",
   "metadata": {},
   "outputs": [
    {
     "data": {
      "text/plain": [
       "'AditiKute'"
      ]
     },
     "execution_count": 35,
     "metadata": {},
     "output_type": "execute_result"
    }
   ],
   "source": [
    "concate_string('Aditi',\"Kute\")"
   ]
  },
  {
   "cell_type": "code",
   "execution_count": 36,
   "id": "a1c1fb46-7cf5-4cfb-a9d1-ea63aa44f3d4",
   "metadata": {},
   "outputs": [
    {
     "data": {
      "text/plain": [
       "178"
      ]
     },
     "execution_count": 36,
     "metadata": {},
     "output_type": "execute_result"
    }
   ],
   "source": [
    "concate_string(78,100)"
   ]
  },
  {
   "cell_type": "markdown",
   "id": "a0d5d17b-1f03-40bf-a1bb-ca723004bcb0",
   "metadata": {},
   "source": [
    "# simplicity of function"
   ]
  },
  {
   "cell_type": "code",
   "execution_count": 37,
   "id": "f2787b37-b046-4646-ac53-b2e44a1ae468",
   "metadata": {},
   "outputs": [
    {
     "data": {
      "text/plain": [
       "37"
      ]
     },
     "execution_count": 37,
     "metadata": {},
     "output_type": "execute_result"
    }
   ],
   "source": [
    "x=2.718\n",
    "y=0.577\n",
    "equation= x*y+x+y-37\n",
    "\n",
    "if equation>0:\n",
    "    equation=6\n",
    "else:\n",
    "    equation=37\n",
    "equation"
   ]
  },
  {
   "cell_type": "code",
   "execution_count": 38,
   "id": "5f4034aa-7188-40da-a6d1-e03473bb6941",
   "metadata": {},
   "outputs": [
    {
     "name": "stdout",
     "output_type": "stream",
     "text": [
      "37\n"
     ]
    }
   ],
   "source": [
    "print(equation)"
   ]
  },
  {
   "cell_type": "code",
   "execution_count": 39,
   "id": "75b7e119-7aa3-4e91-82f8-6100e071b3e5",
   "metadata": {},
   "outputs": [
    {
     "data": {
      "text/plain": [
       "0"
      ]
     },
     "execution_count": 39,
     "metadata": {},
     "output_type": "execute_result"
    }
   ],
   "source": [
    "x=2.718\n",
    "y=0.577\n",
    "equation= x*y+x+y-37\n",
    "\n",
    "if equation<0:\n",
    "    equation=0\n",
    "else:\n",
    "    equation=37\n",
    "equation"
   ]
  },
  {
   "cell_type": "code",
   "execution_count": 72,
   "id": "0f0b9ca7-1463-4314-9e6c-8b5799ef6a50",
   "metadata": {},
   "outputs": [
    {
     "data": {
      "text/plain": [
       "6"
      ]
     },
     "execution_count": 72,
     "metadata": {},
     "output_type": "execute_result"
    }
   ],
   "source": [
    "def function(x,y):\n",
    "    equation= x*y+x+y-37\n",
    "    if equation<0:\n",
    "        equation=6\n",
    "    else:\n",
    "        equation=37\n",
    "    return equation\n",
    "x=2\n",
    "y=4\n",
    "function(x,y)"
   ]
  },
  {
   "cell_type": "code",
   "execution_count": 44,
   "id": "7ea45c35-6ccd-41b0-9aab-add2b5a05e89",
   "metadata": {},
   "outputs": [
    {
     "data": {
      "text/plain": [
       "'Rupali'"
      ]
     },
     "execution_count": 44,
     "metadata": {},
     "output_type": "execute_result"
    }
   ],
   "source": [
    "def function(x,y):\n",
    "    equation= x*y+x+y-37\n",
    "    if equation<0:\n",
    "        equation=\"Rupali\"\n",
    "    \n",
    "    else:\n",
    "        equation=\"Aditi\"\n",
    "    return equation\n",
    "x=0\n",
    "y=0\n",
    "function(x,y)"
   ]
  },
  {
   "cell_type": "code",
   "execution_count": 56,
   "id": "088f0977-c473-47d5-8dc4-00699e5fba26",
   "metadata": {},
   "outputs": [
    {
     "name": "stdout",
     "output_type": "stream",
     "text": [
      "You should not watch this movie with the rating value is: 7.\n",
      "None\n"
     ]
    }
   ],
   "source": [
    "def movie_rating(rating=5.5):  # default value\n",
    "    if rating<8:\n",
    "        print(f'You should not watch this movie with the rating value is: {x}.')\n",
    "    else:\n",
    "        print(f'You should watch this movie with the rating value is: {x}.')\n",
    "\n",
    "#x=int(input('Enter your movie rating value:'))\n",
    "print(movie_rating())\n",
    "\n",
    "#print(movie_rating())\n"
   ]
  },
  {
   "cell_type": "code",
   "execution_count": 60,
   "id": "36909a06-b52f-4fb2-8dc6-d3961a1dbce7",
   "metadata": {},
   "outputs": [
    {
     "name": "stdout",
     "output_type": "stream",
     "text": [
      "You should watch this movie with the rating value is: 10.\n",
      "None\n"
     ]
    }
   ],
   "source": [
    "def movie_rating(rating=5.5):  # default value\n",
    "    if rating<8:\n",
    "        print(f'You should not watch this movie with the rating value is: {rating}.')\n",
    "    else:\n",
    "        print(f'You should watch this movie with the rating value is: {rating}.')\n",
    "\n",
    "print(movie_rating(10))"
   ]
  },
  {
   "cell_type": "code",
   "execution_count": 64,
   "id": "8a63d818-6a11-455e-b009-59702f243c47",
   "metadata": {},
   "outputs": [
    {
     "name": "stdout",
     "output_type": "stream",
     "text": [
      "Number of elements is: 10\n",
      "10\n",
      "20\n",
      "30\n",
      "40\n",
      "50\n",
      "60\n",
      "78\n",
      "80\n",
      "90\n",
      "100\n",
      "\n"
     ]
    }
   ],
   "source": [
    "# args and/ or (*args) and function\n",
    "\n",
    "def function(*args):\n",
    "    print('Number of elements is:',len(args))\n",
    "    for elements in args:\n",
    "        print(elements)\n",
    "function(10,20,30,40,50,60,78,80,90,100)\n",
    "print()"
   ]
  },
  {
   "cell_type": "code",
   "execution_count": 69,
   "id": "b44c765a-9080-417e-b048-dcf2554429ff",
   "metadata": {},
   "outputs": [
    {
     "name": "stdout",
     "output_type": "stream",
     "text": [
      "Total length of the elements: 17\n",
      "Total of the numbers is: 2987\n"
     ]
    }
   ],
   "source": [
    "def total(*args):\n",
    "    total=0\n",
    "    print('Total length of the elements:',len(args))\n",
    "    for i in args:\n",
    "        total+=i\n",
    "    return total\n",
    "\n",
    "print('Total of the numbers is:',total(10,20,30,40,50,60,78,80,90,100,200,2000,61,56,6,61,45))"
   ]
  },
  {
   "cell_type": "code",
   "execution_count": 80,
   "id": "fd8a6a18-6a98-4a92-b029-a6ed0062d004",
   "metadata": {},
   "outputs": [
    {
     "name": "stdout",
     "output_type": "stream",
     "text": [
      "name : Happy\n",
      "age : 25\n",
      "phone : 12355222\n",
      "email : abc123@gmail.com\n"
     ]
    }
   ],
   "source": [
    "def function(**args):\n",
    "    for key in args:\n",
    "        print(key,':',args[key])\n",
    "\n",
    "function(name='Happy',age=25,phone=12355222,email='abc123@gmail.com')"
   ]
  },
  {
   "cell_type": "code",
   "execution_count": null,
   "id": "a4c8d21d-f2b9-4f2a-868a-9ae0149cc532",
   "metadata": {},
   "outputs": [],
   "source": [
    "{}"
   ]
  }
 ],
 "metadata": {
  "kernelspec": {
   "display_name": "Python 3 (ipykernel)",
   "language": "python",
   "name": "python3"
  },
  "language_info": {
   "codemirror_mode": {
    "name": "ipython",
    "version": 3
   },
   "file_extension": ".py",
   "mimetype": "text/x-python",
   "name": "python",
   "nbconvert_exporter": "python",
   "pygments_lexer": "ipython3",
   "version": "3.11.4"
  }
 },
 "nbformat": 4,
 "nbformat_minor": 5
}
