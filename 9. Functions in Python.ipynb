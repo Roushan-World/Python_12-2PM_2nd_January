{
 "cells": [
  {
   "cell_type": "markdown",
   "id": "28537e27-0266-48e4-a74e-a6566008b011",
   "metadata": {},
   "source": [
    "# 9. Functions in Python\n",
    "# ---------------------------------------------------------------------------------\n",
    " * __In Python, a function is a group related statements that perforsm a specific task.__\n",
    " * __Functions help break out program into smaller and modular chunks. * As our program grows larger and larger, functions make it more organized and manageable.__\n",
    " * __Furthermore, it avoids repetition and makes the code reusable.__\n",
    " * __There are two types of functions.__\n",
    " * __1.Pre-defined functions.__\n",
    " * __2.User-defined functions.__\n",
    " * __In Python, a function is defined using the def keyword followed by the function name and parenthesis().__\n",
    " * __keyword def that marks the start of the function header.__\n",
    " * __A function name to uniquely identify the function.__\n",
    " * __Function naming follows the same rule of writing identifiers in python.__\n",
    " * __Parameters(arguments) through which we pass values to a function. They are optional.__\n",
    " * __Optional documentation string(docstring) to describe what the functions does.__\n",
    " * __One or more valid python statements that make up the function body.__\n",
    " * __Statements must have the same identation level(usually 4 spaces).__\n",
    " * __An optional return statement to return a value from the functions.__"
   ]
  },
  {
   "cell_type": "code",
   "execution_count": 3,
   "id": "6c4cb7b2-a046-4058-bcd7-a5789a93e5fc",
   "metadata": {},
   "outputs": [
    {
     "data": {
      "text/plain": [
       "(13, -7, 30, 0.3, 9, 3)"
      ]
     },
     "execution_count": 3,
     "metadata": {},
     "output_type": "execute_result"
    }
   ],
   "source": [
    "def calculator(x):   # x is argument\n",
    "    sum=x+10\n",
    "    subtract=x-10\n",
    "    multiply=x*10\n",
    "    divide=x/10\n",
    "    exponent=x**2\n",
    "    modulus=x%10\n",
    "    return sum,subtract,multiply,divide,exponent,modulus\n",
    "\n",
    "calculator(3)"
   ]
  },
  {
   "cell_type": "code",
   "execution_count": 4,
   "id": "b54e5891-f2c2-4b43-9bf4-d70a93bb2066",
   "metadata": {},
   "outputs": [
    {
     "name": "stdout",
     "output_type": "stream",
     "text": [
      "Help on function calculator in module __main__:\n",
      "\n",
      "calculator(x)\n",
      "\n"
     ]
    }
   ],
   "source": [
    "help(calculator)"
   ]
  },
  {
   "cell_type": "code",
   "execution_count": 6,
   "id": "75638248-fbe6-4d6f-9fa7-4812b14a2a8b",
   "metadata": {},
   "outputs": [
    {
     "data": {
      "text/plain": [
       "(60, 40, 500, 5.0, 2500, 0)"
      ]
     },
     "execution_count": 6,
     "metadata": {},
     "output_type": "execute_result"
    }
   ],
   "source": [
    "calculator(50)"
   ]
  },
  {
   "cell_type": "code",
   "execution_count": 7,
   "id": "a9cad13d-bdf1-4deb-87d2-415736a6331e",
   "metadata": {},
   "outputs": [
    {
     "data": {
      "text/plain": [
       "(110, 90, 1000, 10.0, 10000, 0)"
      ]
     },
     "execution_count": 7,
     "metadata": {},
     "output_type": "execute_result"
    }
   ],
   "source": [
    "calculator(100)"
   ]
  },
  {
   "cell_type": "code",
   "execution_count": 14,
   "id": "b36f6012-5885-4ff4-a6dc-29bca98c53bd",
   "metadata": {},
   "outputs": [
    {
     "name": "stdout",
     "output_type": "stream",
     "text": [
      "your result is: 59.0\n"
     ]
    },
    {
     "data": {
      "text/plain": [
       "59.0"
      ]
     },
     "execution_count": 14,
     "metadata": {},
     "output_type": "execute_result"
    }
   ],
   "source": [
    "def multiplication(x,y):\n",
    "    z=10*x+45/3+y*8\n",
    "    \n",
    "    print('your result is:',z)\n",
    "    return z\n",
    "\n",
    "multiplication(2,3)"
   ]
  },
  {
   "cell_type": "code",
   "execution_count": 15,
   "id": "fa5b2233-8849-4fba-b071-d7e65a12371e",
   "metadata": {},
   "outputs": [
    {
     "name": "stdout",
     "output_type": "stream",
     "text": [
      "your result is: 335.0\n"
     ]
    },
    {
     "data": {
      "text/plain": [
       "335.0"
      ]
     },
     "execution_count": 15,
     "metadata": {},
     "output_type": "execute_result"
    }
   ],
   "source": [
    "multiplication(20,15)"
   ]
  },
  {
   "cell_type": "code",
   "execution_count": 17,
   "id": "70ed0926-9018-4934-83ec-a6223911eb29",
   "metadata": {},
   "outputs": [
    {
     "data": {
      "text/plain": [
       "458.09"
      ]
     },
     "execution_count": 17,
     "metadata": {},
     "output_type": "execute_result"
    }
   ],
   "source": [
    "# local variable and global variable\n",
    "\n",
    "def function(x):\n",
    "    y=5\n",
    "    z1=x*45+y*1.618\n",
    "    return z1\n",
    "\n",
    "function(10)"
   ]
  },
  {
   "cell_type": "code",
   "execution_count": 18,
   "id": "d7947086-5376-4f4d-b6ee-e2ab21b35c6e",
   "metadata": {},
   "outputs": [
    {
     "ename": "NameError",
     "evalue": "name 'y' is not defined",
     "output_type": "error",
     "traceback": [
      "\u001b[1;31m---------------------------------------------------------------------------\u001b[0m",
      "\u001b[1;31mNameError\u001b[0m                                 Traceback (most recent call last)",
      "Cell \u001b[1;32mIn[18], line 3\u001b[0m\n\u001b[0;32m      1\u001b[0m \u001b[38;5;66;03m# global variable\u001b[39;00m\n\u001b[1;32m----> 3\u001b[0m \u001b[38;5;28mprint\u001b[39m(\u001b[43my\u001b[49m)\n",
      "\u001b[1;31mNameError\u001b[0m: name 'y' is not defined"
     ]
    }
   ],
   "source": [
    "# global variable\n",
    "\n",
    "print(y)"
   ]
  },
  {
   "cell_type": "code",
   "execution_count": 23,
   "id": "e198d0cb-e859-434b-bb23-62a7cac019b8",
   "metadata": {},
   "outputs": [
    {
     "data": {
      "text/plain": [
       "458.09"
      ]
     },
     "execution_count": 23,
     "metadata": {},
     "output_type": "execute_result"
    }
   ],
   "source": [
    "# local variable and global variable\n",
    "y=5   # global variable\n",
    "def function(x):\n",
    "    z1=x*45+y*1.618\n",
    "    return z1\n",
    "\n",
    "function(10)"
   ]
  },
  {
   "cell_type": "code",
   "execution_count": 20,
   "id": "91dc5785-7684-458a-9cc4-0f5d1ecb7db2",
   "metadata": {},
   "outputs": [
    {
     "name": "stdout",
     "output_type": "stream",
     "text": [
      "25\n"
     ]
    }
   ],
   "source": [
    "print(y+20)"
   ]
  },
  {
   "cell_type": "code",
   "execution_count": 22,
   "id": "04c3c67c-465c-4ec2-a70e-ceaca9bce5ab",
   "metadata": {},
   "outputs": [
    {
     "data": {
      "text/plain": [
       "5"
      ]
     },
     "execution_count": 22,
     "metadata": {},
     "output_type": "execute_result"
    }
   ],
   "source": [
    "y"
   ]
  },
  {
   "cell_type": "code",
   "execution_count": 28,
   "id": "0c5311b4-c294-42dc-817f-83347678f637",
   "metadata": {},
   "outputs": [
    {
     "name": "stdout",
     "output_type": "stream",
     "text": [
      "Good Morning\n",
      "hello python\n"
     ]
    }
   ],
   "source": [
    "# Define a function with and witout return statement\n",
    "\n",
    "def msg1():\n",
    "    print('Good Morning')\n",
    "    \n",
    "def msg2():\n",
    "    print(\"hello python\")\n",
    "    return None\n",
    "\n",
    "msg1()\n",
    "msg2()"
   ]
  },
  {
   "cell_type": "code",
   "execution_count": 31,
   "id": "e583f56d-a46a-4039-a2f0-4f78b3586157",
   "metadata": {},
   "outputs": [
    {
     "name": "stdout",
     "output_type": "stream",
     "text": [
      "Good Morning\n",
      "None\n"
     ]
    }
   ],
   "source": [
    "print(msg1())"
   ]
  },
  {
   "cell_type": "code",
   "execution_count": 32,
   "id": "c4b4663e-9607-422c-82e9-bd0db87aa0dd",
   "metadata": {},
   "outputs": [
    {
     "name": "stdout",
     "output_type": "stream",
     "text": [
      "hello python\n",
      "None\n"
     ]
    }
   ],
   "source": [
    "print(msg2())"
   ]
  },
  {
   "cell_type": "markdown",
   "id": "215fdc38-d336-4591-bd7f-3c976709442f",
   "metadata": {},
   "source": [
    "# concatenation of two string\n"
   ]
  },
  {
   "cell_type": "code",
   "execution_count": 33,
   "id": "b3e3f021-f51c-47af-98b9-76e2a1560294",
   "metadata": {},
   "outputs": [
    {
     "data": {
      "text/plain": [
       "'RupaliGurav'"
      ]
     },
     "execution_count": 33,
     "metadata": {},
     "output_type": "execute_result"
    }
   ],
   "source": [
    "def concate_string(x,y):\n",
    "    return x+y\n",
    "\n",
    "concate_string('Rupali',\"Gurav\")"
   ]
  },
  {
   "cell_type": "code",
   "execution_count": 34,
   "id": "bdac89a6-906e-4185-8b74-c5be5ed160fc",
   "metadata": {},
   "outputs": [
    {
     "data": {
      "text/plain": [
       "50"
      ]
     },
     "execution_count": 34,
     "metadata": {},
     "output_type": "execute_result"
    }
   ],
   "source": [
    "concate_string(20,30)"
   ]
  },
  {
   "cell_type": "code",
   "execution_count": 35,
   "id": "ab0aa244-55ad-4191-96bf-9539da3abd66",
   "metadata": {},
   "outputs": [
    {
     "data": {
      "text/plain": [
       "'AditiKute'"
      ]
     },
     "execution_count": 35,
     "metadata": {},
     "output_type": "execute_result"
    }
   ],
   "source": [
    "concate_string('Aditi',\"Kute\")"
   ]
  },
  {
   "cell_type": "code",
   "execution_count": 36,
   "id": "a1c1fb46-7cf5-4cfb-a9d1-ea63aa44f3d4",
   "metadata": {},
   "outputs": [
    {
     "data": {
      "text/plain": [
       "178"
      ]
     },
     "execution_count": 36,
     "metadata": {},
     "output_type": "execute_result"
    }
   ],
   "source": [
    "concate_string(78,100)"
   ]
  },
  {
   "cell_type": "markdown",
   "id": "a0d5d17b-1f03-40bf-a1bb-ca723004bcb0",
   "metadata": {},
   "source": [
    "# simplicity of function"
   ]
  },
  {
   "cell_type": "code",
   "execution_count": 37,
   "id": "f2787b37-b046-4646-ac53-b2e44a1ae468",
   "metadata": {},
   "outputs": [
    {
     "data": {
      "text/plain": [
       "37"
      ]
     },
     "execution_count": 37,
     "metadata": {},
     "output_type": "execute_result"
    }
   ],
   "source": [
    "x=2.718\n",
    "y=0.577\n",
    "equation= x*y+x+y-37\n",
    "\n",
    "if equation>0:\n",
    "    equation=6\n",
    "else:\n",
    "    equation=37\n",
    "equation"
   ]
  },
  {
   "cell_type": "code",
   "execution_count": 38,
   "id": "5f4034aa-7188-40da-a6d1-e03473bb6941",
   "metadata": {},
   "outputs": [
    {
     "name": "stdout",
     "output_type": "stream",
     "text": [
      "37\n"
     ]
    }
   ],
   "source": [
    "print(equation)"
   ]
  },
  {
   "cell_type": "code",
   "execution_count": 39,
   "id": "75b7e119-7aa3-4e91-82f8-6100e071b3e5",
   "metadata": {},
   "outputs": [
    {
     "data": {
      "text/plain": [
       "0"
      ]
     },
     "execution_count": 39,
     "metadata": {},
     "output_type": "execute_result"
    }
   ],
   "source": [
    "x=2.718\n",
    "y=0.577\n",
    "equation= x*y+x+y-37\n",
    "\n",
    "if equation<0:\n",
    "    equation=0\n",
    "else:\n",
    "    equation=37\n",
    "equation"
   ]
  },
  {
   "cell_type": "code",
   "execution_count": 72,
   "id": "0f0b9ca7-1463-4314-9e6c-8b5799ef6a50",
   "metadata": {},
   "outputs": [
    {
     "data": {
      "text/plain": [
       "6"
      ]
     },
     "execution_count": 72,
     "metadata": {},
     "output_type": "execute_result"
    }
   ],
   "source": [
    "def function(x,y):\n",
    "    equation= x*y+x+y-37\n",
    "    if equation<0:\n",
    "        equation=6\n",
    "    else:\n",
    "        equation=37\n",
    "    return equation\n",
    "x=2\n",
    "y=4\n",
    "function(x,y)"
   ]
  },
  {
   "cell_type": "code",
   "execution_count": 44,
   "id": "7ea45c35-6ccd-41b0-9aab-add2b5a05e89",
   "metadata": {},
   "outputs": [
    {
     "data": {
      "text/plain": [
       "'Rupali'"
      ]
     },
     "execution_count": 44,
     "metadata": {},
     "output_type": "execute_result"
    }
   ],
   "source": [
    "def function(x,y):\n",
    "    equation= x*y+x+y-37\n",
    "    if equation<0:\n",
    "        equation=\"Rupali\"\n",
    "    \n",
    "    else:\n",
    "        equation=\"Aditi\"\n",
    "    return equation\n",
    "x=0\n",
    "y=0\n",
    "function(x,y)"
   ]
  },
  {
   "cell_type": "code",
   "execution_count": 56,
   "id": "088f0977-c473-47d5-8dc4-00699e5fba26",
   "metadata": {},
   "outputs": [
    {
     "name": "stdout",
     "output_type": "stream",
     "text": [
      "You should not watch this movie with the rating value is: 7.\n",
      "None\n"
     ]
    }
   ],
   "source": [
    "def movie_rating(rating=5.5):  # default value\n",
    "    if rating<8:\n",
    "        print(f'You should not watch this movie with the rating value is: {x}.')\n",
    "    else:\n",
    "        print(f'You should watch this movie with the rating value is: {x}.')\n",
    "\n",
    "#x=int(input('Enter your movie rating value:'))\n",
    "print(movie_rating())\n",
    "\n",
    "#print(movie_rating())\n"
   ]
  },
  {
   "cell_type": "code",
   "execution_count": 60,
   "id": "36909a06-b52f-4fb2-8dc6-d3961a1dbce7",
   "metadata": {},
   "outputs": [
    {
     "name": "stdout",
     "output_type": "stream",
     "text": [
      "You should watch this movie with the rating value is: 10.\n",
      "None\n"
     ]
    }
   ],
   "source": [
    "def movie_rating(rating=5.5):  # default value\n",
    "    if rating<8:\n",
    "        print(f'You should not watch this movie with the rating value is: {rating}.')\n",
    "    else:\n",
    "        print(f'You should watch this movie with the rating value is: {rating}.')\n",
    "\n",
    "print(movie_rating(10))"
   ]
  },
  {
   "cell_type": "code",
   "execution_count": 64,
   "id": "8a63d818-6a11-455e-b009-59702f243c47",
   "metadata": {},
   "outputs": [
    {
     "name": "stdout",
     "output_type": "stream",
     "text": [
      "Number of elements is: 10\n",
      "10\n",
      "20\n",
      "30\n",
      "40\n",
      "50\n",
      "60\n",
      "78\n",
      "80\n",
      "90\n",
      "100\n",
      "\n"
     ]
    }
   ],
   "source": [
    "# args and/ or (*args) and function\n",
    "\n",
    "def function(*args):\n",
    "    print('Number of elements is:',len(args))\n",
    "    for elements in args:\n",
    "        print(elements)\n",
    "function(10,20,30,40,50,60,78,80,90,100)\n",
    "print()"
   ]
  },
  {
   "cell_type": "code",
   "execution_count": 69,
   "id": "b44c765a-9080-417e-b048-dcf2554429ff",
   "metadata": {},
   "outputs": [
    {
     "name": "stdout",
     "output_type": "stream",
     "text": [
      "Total length of the elements: 17\n",
      "Total of the numbers is: 2987\n"
     ]
    }
   ],
   "source": [
    "def total(*args):\n",
    "    total=0\n",
    "    print('Total length of the elements:',len(args))\n",
    "    for i in args:\n",
    "        total+=i\n",
    "    return total\n",
    "\n",
    "print('Total of the numbers is:',total(10,20,30,40,50,60,78,80,90,100,200,2000,61,56,6,61,45))"
   ]
  },
  {
   "cell_type": "code",
   "execution_count": 80,
   "id": "fd8a6a18-6a98-4a92-b029-a6ed0062d004",
   "metadata": {},
   "outputs": [
    {
     "name": "stdout",
     "output_type": "stream",
     "text": [
      "name : Happy\n",
      "age : 25\n",
      "phone : 12355222\n",
      "email : abc123@gmail.com\n"
     ]
    }
   ],
   "source": [
    "def function(**args):\n",
    "    for key in args:\n",
    "        print(key,':',args[key])\n",
    "\n",
    "function(name='Happy',age=25,phone=12355222,email='abc123@gmail.com')"
   ]
  },
  {
   "cell_type": "code",
   "execution_count": 7,
   "id": "a4c8d21d-f2b9-4f2a-868a-9ae0149cc532",
   "metadata": {},
   "outputs": [
    {
     "name": "stdout",
     "output_type": "stream",
     "text": [
      "[10, 20, 300, 400]\n",
      "730\n",
      "10\n",
      "400\n",
      "182.5\n",
      "4\n"
     ]
    }
   ],
   "source": [
    "def addition(nlist):\n",
    "    nlist.append(10)\n",
    "    nlist.append(20)\n",
    "    nlist.append(300)\n",
    "    nlist.append(400)\n",
    "\n",
    "\n",
    "mylist=[]\n",
    "addition(mylist)\n",
    "print(mylist)\n",
    "print(sum(mylist))\n",
    "print(min(mylist))\n",
    "print(max(mylist))\n",
    "print(sum(mylist)/len(mylist))\n",
    "print(len(mylist))"
   ]
  },
  {
   "cell_type": "markdown",
   "id": "34753f5b-160e-442a-8739-b9b31395a778",
   "metadata": {},
   "source": [
    "# Docstring in Function"
   ]
  },
  {
   "cell_type": "code",
   "execution_count": 10,
   "id": "873195d6-714a-472b-9268-af8ec3d41176",
   "metadata": {},
   "outputs": [
    {
     "data": {
      "text/plain": [
       "'Hello world'"
      ]
     },
     "execution_count": 10,
     "metadata": {},
     "output_type": "execute_result"
    }
   ],
   "source": [
    "# Define a funciton\n",
    "\n",
    "'Hello world'"
   ]
  },
  {
   "cell_type": "code",
   "execution_count": 11,
   "id": "68dd442d-f72c-4482-acbb-5db827f339a9",
   "metadata": {},
   "outputs": [
    {
     "data": {
      "text/plain": [
       "'hello world'"
      ]
     },
     "execution_count": 11,
     "metadata": {},
     "output_type": "execute_result"
    }
   ],
   "source": [
    "\"hello world\""
   ]
  },
  {
   "cell_type": "code",
   "execution_count": 12,
   "id": "77545549-36d9-42be-9397-39514913e406",
   "metadata": {},
   "outputs": [
    {
     "data": {
      "text/plain": [
       "'Hello world'"
      ]
     },
     "execution_count": 12,
     "metadata": {},
     "output_type": "execute_result"
    }
   ],
   "source": [
    "'''Hello world'''"
   ]
  },
  {
   "cell_type": "code",
   "execution_count": 13,
   "id": "f1597548-4a0e-478a-aec8-d5063e04a64e",
   "metadata": {},
   "outputs": [
    {
     "data": {
      "text/plain": [
       "'Hello world'"
      ]
     },
     "execution_count": 13,
     "metadata": {},
     "output_type": "execute_result"
    }
   ],
   "source": [
    "\"\"\"Hello world\"\"\""
   ]
  },
  {
   "cell_type": "code",
   "execution_count": 20,
   "id": "5c92f559-019e-4324-acb0-6cb8664eee06",
   "metadata": {},
   "outputs": [
    {
     "name": "stdout",
     "output_type": "stream",
     "text": [
      "The following function returns the sum of two parameter.\n",
      "30\n"
     ]
    }
   ],
   "source": [
    "def addition(a,b):\n",
    "    '''The following function returns the sum of two parameter.'''\n",
    "    c=a+b\n",
    "    return c\n",
    "# this is comment.\n",
    "print(addition.__doc__)\n",
    "print(addition(10,20))"
   ]
  },
  {
   "cell_type": "code",
   "execution_count": 25,
   "id": "54a7d7ae-76c8-4cee-b889-500e6b51892e",
   "metadata": {},
   "outputs": [
    {
     "name": "stdin",
     "output_type": "stream",
     "text": [
      "Enter any number: 500\n"
     ]
    },
    {
     "name": "stdout",
     "output_type": "stream",
     "text": [
      "500 ---------------> 501\n"
     ]
    }
   ],
   "source": [
    "# Define a function that add a number to another nmber\n",
    "\n",
    "# 21 ---------> 22\n",
    "# 25 ---------> 26\n",
    "def add_num(num1):\n",
    "    def incremented_num(num1):\n",
    "        num1=num1+1\n",
    "        return num1\n",
    "    num2=incremented_num(num1)\n",
    "    print(num1,'--------------->',num2)\n",
    "x=int(input('Enter any number:'))\n",
    "add_num(x)"
   ]
  },
  {
   "cell_type": "code",
   "execution_count": 33,
   "id": "21c45c56-bacc-466c-8145-bdba30ab599d",
   "metadata": {},
   "outputs": [
    {
     "name": "stdin",
     "output_type": "stream",
     "text": [
      "Enter your name: rupali\n"
     ]
    },
    {
     "name": "stdout",
     "output_type": "stream",
     "text": [
      "Hello rupali \n",
      "How are your today?\n"
     ]
    }
   ],
   "source": [
    "# Define a funciton giving a greeting message \"Hello Your_name\" using function\n",
    "\n",
    "def function(name):\n",
    "    message=\"Hello \"+name\n",
    "    print(message,\"\\nHow are your today?\")\n",
    "    #return message\n",
    "\n",
    "x=input('Enter your name:')\n",
    "\n",
    "function(x)"
   ]
  },
  {
   "cell_type": "code",
   "execution_count": 34,
   "id": "5bfbf964-4a6c-4054-bef9-71d5b6dd6751",
   "metadata": {},
   "outputs": [],
   "source": [
    "# Even or odd number"
   ]
  },
  {
   "cell_type": "code",
   "execution_count": 35,
   "id": "b7d5424b-291d-4f52-a64a-b9887c9640bb",
   "metadata": {},
   "outputs": [
    {
     "data": {
      "text/plain": [
       "(10, 20)"
      ]
     },
     "execution_count": 35,
     "metadata": {},
     "output_type": "execute_result"
    }
   ],
   "source": [
    "# wap to display total sum and product two numbers\n",
    "\n",
    "(10,20)"
   ]
  },
  {
   "cell_type": "code",
   "execution_count": null,
   "id": "28a4dff2-ff34-4936-9f97-c274886a15e2",
   "metadata": {},
   "outputs": [],
   "source": [
    "(3,2)\n",
    "10,13"
   ]
  },
  {
   "cell_type": "code",
   "execution_count": 42,
   "id": "3782db80-f682-4e8c-9e30-1adb2411d1d1",
   "metadata": {},
   "outputs": [
    {
     "name": "stdin",
     "output_type": "stream",
     "text": [
      "enter first number: 78\n",
      "enter second number: 45\n"
     ]
    },
    {
     "name": "stdout",
     "output_type": "stream",
     "text": [
      "The first number 78 is not divisible by second number 45\n"
     ]
    }
   ],
   "source": [
    "def div_num(x,y):\n",
    "    #x >= 0\n",
    "    if x>0 and y>0:\n",
    "        if x%y==0:\n",
    "            print(f\"The first number {x} is divisible by second number {y}\")\n",
    "        elif x % y !=0:\n",
    "             print(f\"The first number {x} is not divisible by second number {y}\")\n",
    "    else:\n",
    "        print('Enter positive value only.')\n",
    "num1=int(input(\"enter first number:\"))\n",
    "num2=int(input(\"enter second number:\"))\n",
    "div_num(num1,num2)"
   ]
  },
  {
   "cell_type": "code",
   "execution_count": 43,
   "id": "d7049801-0acf-4829-b951-dda10c69dcfd",
   "metadata": {},
   "outputs": [
    {
     "name": "stdin",
     "output_type": "stream",
     "text": [
      "enter any value:\n",
      " 45\n",
      "enter any value:\n",
      " 23\n",
      "enter any value:\n",
      " 63\n"
     ]
    },
    {
     "name": "stdout",
     "output_type": "stream",
     "text": [
      "63 is greater than 45 and 23\n"
     ]
    }
   ],
   "source": [
    "# Wap to find the max of three numbers.\n",
    "\n",
    "def function(*args):\n",
    "    if x>y and x>z:\n",
    "        print(f\"{x} is greater than {y} and {z}\")\n",
    "    elif y>x and y>z:\n",
    "        print(f\"{y} is greater than {x} and {z}\")\n",
    "    elif z>x and z>y:\n",
    "        print(f\"{z} is greater than {x} and {y}\")\n",
    "    else:\n",
    "        print(\"invalid syntax\")\n",
    "        \n",
    "x=int(input(\"enter any value:\\n\"))\n",
    "y=int(input(\"enter any value:\\n\"))\n",
    "z=int(input(\"enter any value:\\n\"))\n",
    "\n",
    "function(x,y,z)"
   ]
  },
  {
   "cell_type": "code",
   "execution_count": 1,
   "id": "ede8da9d-4b99-4013-9d56-6fc1a9c03e69",
   "metadata": {},
   "outputs": [],
   "source": [
    "# write a program to find the maximum of three number.\n",
    "\n",
    "\n",
    "\n",
    "#(12,15,89)"
   ]
  },
  {
   "cell_type": "code",
   "execution_count": 2,
   "id": "e12b1be9-7dfb-4c67-b257-e1d15206009b",
   "metadata": {},
   "outputs": [
    {
     "data": {
      "text/plain": [
       "30"
      ]
     },
     "execution_count": 2,
     "metadata": {},
     "output_type": "execute_result"
    }
   ],
   "source": [
    "x=[10,20,30]\n",
    "max(x)"
   ]
  },
  {
   "cell_type": "code",
   "execution_count": 3,
   "id": "4d829d12-c213-44e3-8aaf-6ff7104d1705",
   "metadata": {},
   "outputs": [
    {
     "name": "stdin",
     "output_type": "stream",
     "text": [
      "Enter first number: 78\n",
      "Enter second number: 108\n",
      "Enter third number: 98\n"
     ]
    },
    {
     "name": "stdout",
     "output_type": "stream",
     "text": [
      "108 is greater than78,98.\n"
     ]
    }
   ],
   "source": [
    "def max_number(x,y,z):\n",
    "    if x>y and x>z:\n",
    "        print(f'{x} is greater than {y},{z}.')\n",
    "    elif y>z and y>x:\n",
    "        print(f'{y} is greater than{x},{z}.')\n",
    "    else:\n",
    "        print(f'{z} is greter than {x},{y}.')\n",
    "\n",
    "a=int(input(\"Enter first number:\"))\n",
    "b=int(input(\"Enter second number:\"))\n",
    "c=int(input('Enter third number:'))\n",
    "\n",
    "max_number(a,b,c)"
   ]
  },
  {
   "cell_type": "code",
   "execution_count": 9,
   "id": "6c02d1b6-dfbb-44fe-94b1-9c75c4d22f2b",
   "metadata": {},
   "outputs": [
    {
     "name": "stdin",
     "output_type": "stream",
     "text": [
      "Enter first number: 45\n",
      "Enter second number: 78\n",
      "Enter third number: 96\n"
     ]
    },
    {
     "name": "stdout",
     "output_type": "stream",
     "text": [
      "96\n"
     ]
    }
   ],
   "source": [
    "def max_of_two(x,y):  #12,78\n",
    "    if x>y:\n",
    "        return x\n",
    "    return y\n",
    "def max_of_three(x,y,z):\n",
    "    return max_of_two(x,max_of_two(y,z))\n",
    "\n",
    "a=int(input(\"Enter first number:\"))\n",
    "b=int(input(\"Enter second number:\"))\n",
    "c=int(input('Enter third number:'))\n",
    "d1=max_of_three(a,b,c)\n",
    "print(d1)\n",
    "    "
   ]
  },
  {
   "cell_type": "code",
   "execution_count": 6,
   "id": "026957d2-7094-42f0-af40-b1fd7eedb3e3",
   "metadata": {},
   "outputs": [
    {
     "data": {
      "text/plain": [
       "200"
      ]
     },
     "execution_count": 6,
     "metadata": {},
     "output_type": "execute_result"
    }
   ],
   "source": [
    "# sum [8,2,3,0,7,100,20,15,20,25]\n",
    "\n",
    "def sums(l):\n",
    "    return sum(l)\n",
    "\n",
    "x=[8,2,3,0,7,100,20,15,20,25]\n",
    "sums(x)"
   ]
  },
  {
   "cell_type": "code",
   "execution_count": 10,
   "id": "5bf9bcbe-ddef-4a36-b5ce-4cdad7512973",
   "metadata": {},
   "outputs": [
    {
     "name": "stdout",
     "output_type": "stream",
     "text": [
      "Sum of the list is: 200\n"
     ]
    }
   ],
   "source": [
    "def sum_function(l):\n",
    "    total=0\n",
    "    for i in l:\n",
    "        total+=i\n",
    "    return total\n",
    "\n",
    "y=sum_function(x)\n",
    "print(\"Sum of the list is:\",y)"
   ]
  },
  {
   "cell_type": "code",
   "execution_count": 11,
   "id": "76e4a373-0cef-4572-b0c9-6eea4a1c9f2c",
   "metadata": {},
   "outputs": [],
   "source": [
    "# Write a function called exponent that returns an int value of base raises to the power of exp.\n",
    "\n",
    "# Note: exponent is non-negative number integer, and base is an integer"
   ]
  },
  {
   "cell_type": "code",
   "execution_count": 20,
   "id": "95e5401e-51e7-4d60-9672-15097309538a",
   "metadata": {},
   "outputs": [
    {
     "name": "stdin",
     "output_type": "stream",
     "text": [
      "Enter base 46\n",
      "Enter exponent 3\n"
     ]
    },
    {
     "name": "stdout",
     "output_type": "stream",
     "text": [
      "Output is 97336\n"
     ]
    }
   ],
   "source": [
    "def cal_power(x,y):\n",
    "    try:\n",
    "        if x>0 and y>0:\n",
    "            z=x**y\n",
    "        return z\n",
    "    except UnboundLocalError:\n",
    "        print('Enter positive value only')\n",
    "\n",
    "a=int(input(\"Enter base\"))\n",
    "b=int(input(\"Enter exponent\"))\n",
    "z=cal_power(a,b)\n",
    "print(\"Output is\",z)"
   ]
  },
  {
   "cell_type": "code",
   "execution_count": 22,
   "id": "c330f919-3672-42c2-82f4-652042999427",
   "metadata": {},
   "outputs": [
    {
     "name": "stdin",
     "output_type": "stream",
     "text": [
      "Enter base 78\n",
      "Enter exponent -2\n"
     ]
    },
    {
     "name": "stdout",
     "output_type": "stream",
     "text": [
      "Output is None\n"
     ]
    }
   ],
   "source": [
    "def cal_power(x,y):\n",
    "    if y==0:\n",
    "        return 1\n",
    "    if x>0 and y>0:\n",
    "        return x ** y\n",
    "a=int(input(\"Enter base\"))\n",
    "b=int(input(\"Enter exponent\"))\n",
    "z=cal_power(a,b)\n",
    "print(\"Output is\",z)"
   ]
  },
  {
   "cell_type": "code",
   "execution_count": 29,
   "id": "755dffc0-cfbb-4b0e-be3b-195a57cb9725",
   "metadata": {},
   "outputs": [
    {
     "data": {
      "text/plain": [
       "True"
      ]
     },
     "execution_count": 29,
     "metadata": {},
     "output_type": "execute_result"
    }
   ],
   "source": [
    "# write a function to return True if the first and last number of a given list element is same. \n",
    "# if the number are different then return False.\n",
    "\n",
    "x=[1,2,3,4,5,1]  # append()\n",
    "\n",
    "a=x[0]  # first_\n",
    "b=x[-1]\n",
    "\n",
    "def fun(d1):\n",
    "    if a==b:\n",
    "        return True\n",
    "    else:\n",
    "        return False\n",
    "\n",
    "fun(x)"
   ]
  },
  {
   "cell_type": "code",
   "execution_count": 30,
   "id": "c83fdd7f-8d3c-4d7b-97d4-1b0f025e9ef5",
   "metadata": {},
   "outputs": [
    {
     "name": "stdin",
     "output_type": "stream",
     "text": [
      "enter any list 4,5,6,7\n"
     ]
    },
    {
     "ename": "ValueError",
     "evalue": "invalid literal for int() with base 10: '4,5,6,7'",
     "output_type": "error",
     "traceback": [
      "\u001b[1;31m---------------------------------------------------------------------------\u001b[0m",
      "\u001b[1;31mValueError\u001b[0m                                Traceback (most recent call last)",
      "Cell \u001b[1;32mIn[30], line 1\u001b[0m\n\u001b[1;32m----> 1\u001b[0m a\u001b[38;5;241m=\u001b[39m\u001b[38;5;28;43mint\u001b[39;49m\u001b[43m(\u001b[49m\u001b[38;5;28;43minput\u001b[39;49m\u001b[43m(\u001b[49m\u001b[38;5;124;43m\"\u001b[39;49m\u001b[38;5;124;43menter any list\u001b[39;49m\u001b[38;5;124;43m\"\u001b[39;49m\u001b[43m)\u001b[49m\u001b[43m)\u001b[49m\n\u001b[0;32m      2\u001b[0m \u001b[38;5;28;01mdef\u001b[39;00m \u001b[38;5;21mlist_check\u001b[39m(l):\n\u001b[0;32m      3\u001b[0m     lst \u001b[38;5;241m=\u001b[39m []\n",
      "\u001b[1;31mValueError\u001b[0m: invalid literal for int() with base 10: '4,5,6,7'"
     ]
    }
   ],
   "source": [
    "a=int(input(\"enter any list\"))\n",
    "def list_check(l):\n",
    "    lst = []\n",
    "    for i in range(0,a):\n",
    "        element = int(input())\n",
    "        lst.append(element)\n",
    "        if lst(0)==lst(-1):\n",
    "            return True\n",
    "        else:\n",
    "            return False\n",
    "z = list_check(a)\n",
    "print(\"output is\",z)"
   ]
  },
  {
   "cell_type": "code",
   "execution_count": 2,
   "id": "e07571bf-5afb-4aab-b8c2-b5f41ae0ff38",
   "metadata": {},
   "outputs": [
    {
     "name": "stdin",
     "output_type": "stream",
     "text": [
      "Enter range 20\n"
     ]
    },
    {
     "name": "stdout",
     "output_type": "stream",
     "text": [
      "0,2,4,6,8,10,12,14,16,18,20,None\n"
     ]
    }
   ],
   "source": [
    "# Write a function to find the even number from user input range is 10.\n",
    "\n",
    "n = int(input(\"Enter range\"))\n",
    "\n",
    "def even(n):\n",
    "    for i in range(0,n+1):\n",
    "        if i % 2 == 0:\n",
    "            print(i,end=',')\n",
    "print(even(n))"
   ]
  },
  {
   "cell_type": "code",
   "execution_count": 33,
   "id": "f601dd16-4914-40fd-b393-91d68e134233",
   "metadata": {},
   "outputs": [
    {
     "name": "stdin",
     "output_type": "stream",
     "text": [
      "Enter any number: 10\n"
     ]
    },
    {
     "name": "stdout",
     "output_type": "stream",
     "text": [
      "0,2,4,6,8,10,These are even numbers\n"
     ]
    }
   ],
   "source": [
    "def even_num(x):\n",
    "    count=0\n",
    "    if x>0:\n",
    "        for i in range(x+1):\n",
    "            if i%2==0:\n",
    "                print(i,end=',')\n",
    "        else:\n",
    "            print('These are even numbers')\n",
    "    else:\n",
    "        print(\"Enter only positve number.\")\n",
    "s1=int(input(\"Enter any number:\"))\n",
    "even_num(s1)"
   ]
  },
  {
   "cell_type": "code",
   "execution_count": 40,
   "id": "7638f1f8-b4c7-4226-9fc1-733b3a3edbb1",
   "metadata": {},
   "outputs": [
    {
     "name": "stdin",
     "output_type": "stream",
     "text": [
      "Enter any number: 10\n"
     ]
    },
    {
     "name": "stdout",
     "output_type": "stream",
     "text": [
      "0,2,4,6,8,10,These are even numbers\n"
     ]
    }
   ],
   "source": [
    "index=0\n",
    "def even_num(x):\n",
    "    \n",
    "    if x>0:\n",
    "        for i in range(x+1):\n",
    "            if i%2==0:\n",
    "                print(i,end=',')\n",
    "            \n",
    "        else:\n",
    "            \n",
    "            \n",
    "            print('These are even numbers')\n",
    "    else:\n",
    "        print(\"Enter only positve number.\")\n",
    "s1=int(input(\"Enter any number:\"))\n",
    "even_num(s1)"
   ]
  },
  {
   "cell_type": "code",
   "execution_count": 43,
   "id": "6acf4154-5b0b-4d79-a454-de470272a5b1",
   "metadata": {},
   "outputs": [
    {
     "name": "stdin",
     "output_type": "stream",
     "text": [
      "Enter a number 10\n"
     ]
    },
    {
     "name": "stdout",
     "output_type": "stream",
     "text": [
      "0,2,4,6,8,10,"
     ]
    }
   ],
   "source": [
    "def even(x):\n",
    "    i = 0\n",
    "    while i <= x:\n",
    "        if i % 2 == 0:\n",
    "            print(i,end=',')\n",
    "        i+=1\n",
    "s = int(input(\"Enter a number\"))\n",
    "even(s)"
   ]
  },
  {
   "cell_type": "code",
   "execution_count": 46,
   "id": "130eafd3-4189-49f9-b2a9-448c77be030c",
   "metadata": {},
   "outputs": [
    {
     "name": "stdin",
     "output_type": "stream",
     "text": [
      "Enter first number -30\n",
      "Enter last number -30\n"
     ]
    },
    {
     "name": "stdout",
     "output_type": "stream",
     "text": [
      "Only positives\n"
     ]
    }
   ],
   "source": [
    "def even(x,y):\n",
    "    if x > 0 and y>0:\n",
    "        for i in range(x,y+1):\n",
    "            if i % 2 ==0:\n",
    "                print(i,end=',')\n",
    "\n",
    "        else:\n",
    "            print('These are even numbers')\n",
    "    else:\n",
    "        print(\"Only positives\")\n",
    "s1 = int(input(\"Enter first number\"))\n",
    "s2 = int(input(\"Enter last number\"))\n",
    "\n",
    "even(s1,s2)"
   ]
  },
  {
   "cell_type": "code",
   "execution_count": 47,
   "id": "f76ee91e-056c-4680-a72e-5075ce6f894e",
   "metadata": {},
   "outputs": [
    {
     "name": "stdin",
     "output_type": "stream",
     "text": [
      "Enter a number 20\n"
     ]
    },
    {
     "name": "stdout",
     "output_type": "stream",
     "text": [
      "0,2,4,6,8,10,12,14,16,18,20,"
     ]
    }
   ],
   "source": [
    "def even(x):\n",
    "    i = 0\n",
    "    while i <= x:\n",
    "        if i % 2 == 0:\n",
    "            print(i,end=',')\n",
    "        i+=1\n",
    "s = int(input(\"Enter a number\"))\n",
    "even(s)"
   ]
  },
  {
   "cell_type": "code",
   "execution_count": 51,
   "id": "065adbaa-b6a7-44e7-8fbd-f3bb78733889",
   "metadata": {},
   "outputs": [
    {
     "name": "stdin",
     "output_type": "stream",
     "text": [
      "Enter a number 78\n"
     ]
    },
    {
     "name": "stdout",
     "output_type": "stream",
     "text": [
      "0,2,4,6,8,10,12,14,16,18,20,22,24,26,28,30,32,34,36,38,40,42,44,46,48,50,52,54,56,58,60,62,64,66,68,70,72,74,76,78,\n",
      "sum is 1560\n"
     ]
    }
   ],
   "source": [
    "# find the sum of even number using function from user input\n",
    "\n",
    "def even(x):\n",
    "    if x>0:\n",
    "        total = 0\n",
    "        i = 0\n",
    "        while i <= x:\n",
    "            if i % 2 == 0:\n",
    "                print(i,end=',')\n",
    "                total = total+i\n",
    "            i+=1\n",
    "        print(\"\\nsum is\",total)\n",
    "    else:\n",
    "        print(\"Enter only positive value\")\n",
    "\n",
    "s = int(input(\"Enter a number\"))\n",
    "even(s)"
   ]
  },
  {
   "cell_type": "code",
   "execution_count": 72,
   "id": "a1f25ee4-99b7-4ccd-9dae-a1512360bcd6",
   "metadata": {},
   "outputs": [
    {
     "name": "stdin",
     "output_type": "stream",
     "text": [
      "Enter first number: 50\n",
      "Enter second number: 100\n"
     ]
    },
    {
     "name": "stdout",
     "output_type": "stream",
     "text": [
      "These are odd numbers: [51, 53, 55, 57, 59, 61, 63, 65, 67, 69, 71, 73, 75, 77, 79, 81, 83, 85, 87, 89, 91, 93, 95, 97, 99]\n",
      "Total of the list is: 1875\n"
     ]
    }
   ],
   "source": [
    "# take two input from user and display sum of odd numbers: 10, 20 - \n",
    "\n",
    "nlis=[]\n",
    "def sum_even(i,j):\n",
    "    if i>0 and j>0:\n",
    "        sum2=0\n",
    "        while i<=j:\n",
    "            if i%2==1:\n",
    "                sum2+=i\n",
    "                nlis.append(i)\n",
    "            i+=1\n",
    "        print(\"These are odd numbers:\",nlis)\n",
    "        print(\"Total of the list is:\",sum2)\n",
    "    else:\n",
    "        print(\"Enter positive value only\")\n",
    "\n",
    "x=int(input(\"Enter first number:\"))\n",
    "y=int(input(\"Enter second number:\"))\n",
    "sum_even(x,y)"
   ]
  },
  {
   "cell_type": "code",
   "execution_count": 75,
   "id": "fdc9cc56-eb41-46fe-86e6-e4db6a97f182",
   "metadata": {},
   "outputs": [
    {
     "name": "stdin",
     "output_type": "stream",
     "text": [
      "Enter any number: 50\n",
      "Enter any value 100\n"
     ]
    },
    {
     "name": "stdout",
     "output_type": "stream",
     "text": [
      "51,53,55,57,59,61,63,65,67,69,71,73,75,77,79,81,83,85,87,89,91,93,95,97,99,Sum of the given number are: 1875\n"
     ]
    }
   ],
   "source": [
    "def odd_num(x,y):\n",
    "    sum3=0\n",
    "    for i in range(x,y):\n",
    "        if i%2!=0:\n",
    "            print(i,end=\",\")\n",
    "            sum3+=i\n",
    "    else:\n",
    "        print(\"Sum of the given number are:\",sum3)\n",
    "x2=int(input(\"Enter any number:\"))\n",
    "y2=int(input(\"Enter any value\"))\n",
    "odd_num(x2,y2)"
   ]
  },
  {
   "cell_type": "code",
   "execution_count": 10,
   "id": "bc212700-cbf0-4d43-8898-1d2a80bc7fe0",
   "metadata": {},
   "outputs": [
    {
     "name": "stdin",
     "output_type": "stream",
     "text": [
      "Enter first person age: 45\n",
      "Enter second person age: 89\n",
      "Enter third person age: 75\n"
     ]
    },
    {
     "name": "stdout",
     "output_type": "stream",
     "text": [
      "89 is greatest amoung 45 and 75.\n"
     ]
    }
   ],
   "source": [
    "# write a program find the greatest among three people (According to their age).\n",
    "# person 100 not accepted.(Please, enter a valid age not more than 100)\n",
    "# person age is in negative('Person must be in Positive value.')\n",
    "\n",
    "def greatest_three(a,b,c):\n",
    "    if a>0 and b>0 and c>0:\n",
    "        if a<100 and b<100 and c<100:\n",
    "            if a>b and a>c:\n",
    "                print(f\"{a} is greatest amoung {b} and {c}.\")\n",
    "            elif b>a and b>c:\n",
    "                print(f\"{b} is greatest amoung {a} and {c}.\")\n",
    "            else:\n",
    "                print(f\"{c} is greatest amoung {a} and {b}.\")\n",
    "        else:\n",
    "            print(\"Please! enter a valid age not more than 100\")\n",
    "    else:\n",
    "        print(\"Person age must be in Positive Value.\")\n",
    "\n",
    "x=int(input(\"Enter first person age:\"))\n",
    "y=int(input(\"Enter second person age:\"))\n",
    "z=int(input(\"Enter third person age:\"))\n",
    "greatest_three(x,y,z)"
   ]
  },
  {
   "cell_type": "code",
   "execution_count": null,
   "id": "9b928057-0d55-487c-9a75-034ac1c9435a",
   "metadata": {},
   "outputs": [],
   "source": [
    "# Ask user to enter age,sex(M or F), Martial status(Y or N) then using following rules print their places  of service.\n",
    "# if employee is female, then she will be work only in urban ares.\n",
    "# if employee is a male and age is in between 20 to 40 then he will in anywhere.\n",
    "# if employee is male and age is in between 40 to 60 then he will work in urban areas only.\n",
    "# employee age must be in between 20 to 60 if age is above 60 it raise (Please, enter Employee age between 20 to 60)\n",
    "# if employee age is in negative print(\"Enter a valid age:Age must be in positive.\")\n",
    "# Employee gender must be in (M or F) only."
   ]
  },
  {
   "cell_type": "code",
   "execution_count": 19,
   "id": "3838daa5-2040-4ee2-9db8-52fdb03caeaf",
   "metadata": {},
   "outputs": [
    {
     "name": "stdin",
     "output_type": "stream",
     "text": [
      "Enter your age: 78\n",
      "Enter your gendes as:M/F f\n",
      "Enter your marriatl status as:Y/N n\n"
     ]
    },
    {
     "name": "stdout",
     "output_type": "stream",
     "text": [
      "Age must be in 20 to 60 years\n"
     ]
    }
   ],
   "source": [
    "def check_status(age,gender,marr):\n",
    "    if age>0:\n",
    "        if age >=20 and age<=60:\n",
    "            if gender==\"m\" or gender==\"M\" or gender==\"F\" or gender==\"f\":\n",
    "                \n",
    "                if gender.upper()==\"F\":\n",
    "                    print('The employee will work in urban ara only:\\n')\n",
    "                elif gender.upper()==\"M\" and age<=40 and age>=20:\n",
    "                    print('The employee can work anywhere:\\n')\n",
    "                elif gender.upper()==\"M\" and age<=60 and age>=40:\n",
    "                    print('The employee will work in urban ara only:\\n')\n",
    "                else:\n",
    "                    print('error')\n",
    "            else:\n",
    "                print(\"Gender Must be in M of F only.\")\n",
    "                \n",
    "\n",
    "        else:\n",
    "            print(\"Age must be in 20 to 60 years\")\n",
    "        \n",
    "        \n",
    "    else:\n",
    "        print(\"Age in positive only\")\n",
    "\n",
    "x=int(input('Enter your age:'))\n",
    "y=str(input('Enter your gendes as:M/F'))\n",
    "z=str(input('Enter your marriatl status as:Y/N'))\n",
    "\n",
    "check_status(x,y,z)"
   ]
  },
  {
   "cell_type": "code",
   "execution_count": 17,
   "id": "978d8414-34f5-4965-91a8-32724a18a96d",
   "metadata": {},
   "outputs": [
    {
     "name": "stdin",
     "output_type": "stream",
     "text": [
      "Enter your age: 45\n",
      "Enter your gendes as:M/F t\n",
      "Enter your marriatl status as:Y/N y\n"
     ]
    },
    {
     "name": "stdout",
     "output_type": "stream",
     "text": [
      "Gender in M or F only\n"
     ]
    }
   ],
   "source": [
    "def check_status(age,gender,marr):\n",
    "    if age>0:\n",
    "        if age >=20 and age<=60:\n",
    "            if gender.upper()==\"F\" or gender.upper()==\"M\":\n",
    "            \n",
    "                if gender.upper()==\"F\":\n",
    "                    print('The employee will work in urban ara only:\\n')\n",
    "                elif gender.upper()==\"M\" and age<=40 and age>=20:\n",
    "                    print('The employee can work anywhere:\\n')\n",
    "                elif gender.upper()==\"M\" and age<=60 and age>=40:\n",
    "                    print('The employee will work in urban ara only:\\n')\n",
    "                else:\n",
    "                    print('error ')\n",
    "            else:\n",
    "                print(\"Gender in M or F only\")\n",
    "            \n",
    "            \n",
    "                \n",
    "\n",
    "        else:\n",
    "            print(\"Age must be in 20 to 60 years\")\n",
    "        \n",
    "        \n",
    "    else:\n",
    "        print(\"Age in positive only\")\n",
    "\n",
    "x=int(input('Enter your age:'))\n",
    "y=str(input('Enter your gendes as:M/F'))\n",
    "z=str(input('Enter your marriatl status as:Y/N'))\n",
    "\n",
    "check_status(x,y,z)"
   ]
  },
  {
   "cell_type": "code",
   "execution_count": 1,
   "id": "0ab66d8e-92d4-402e-b451-c81290aa1e3f",
   "metadata": {},
   "outputs": [],
   "source": [
    "# A student will not be allow to sit in the exam if his/her attendance is less than 75%.\n",
    "# Take following input from the user \n",
    "# Number of classed held.\n",
    "# Numer of classes atted.\n",
    "# Percentage of class attend.\n",
    "# Is student is allowed to sit in the exam or not.\n",
    "# Number of classe held not be in negative and  not more than in 365 days.\n",
    "# Number of callses attend not be in negative and not more than 365.\n",
    "# If student passed, total percentage and display greet message (\"Congratulation! All the Best\")\n",
    "# if student not passed criteria then display (\"You can sit in the exam, Next Year.And maintain your college attendance with next year above 75%\")"
   ]
  },
  {
   "cell_type": "code",
   "execution_count": 54,
   "id": "8ad39744-5149-4385-8924-dccb72a8db56",
   "metadata": {},
   "outputs": [
    {
     "name": "stdin",
     "output_type": "stream",
     "text": [
      "Enter Range to take input: 2\n",
      "Enter Your number 1: 12\n",
      "Enter Your number 2: 12\n"
     ]
    },
    {
     "name": "stdout",
     "output_type": "stream",
     "text": [
      "Sum of your total numbers: 24 \n",
      "Average of total numbers: 12.0\n"
     ]
    }
   ],
   "source": [
    "y=[]\n",
    "def add_avg(x):\n",
    "    s1=int(input(\"Enter Range to take input:\"))\n",
    "    for i in range(1,s1+1):\n",
    "        x2=int(input(f\"Enter Your number {i}:\"))\n",
    "        y.append(x2)\n",
    "    sum1=sum(y)\n",
    "    print(\"Sum of your total numbers:\",sum1,\"\\nAverage of total numbers:\",sum(y)/len(y))\n",
    "   \n",
    "add_avg('rupali')"
   ]
  },
  {
   "cell_type": "code",
   "execution_count": null,
   "id": "39387724-283c-4333-8c60-4ffe4391e801",
   "metadata": {},
   "outputs": [],
   "source": []
  },
  {
   "cell_type": "code",
   "execution_count": null,
   "id": "43474ea9-7ae9-4d62-be23-e5a76139a66b",
   "metadata": {},
   "outputs": [],
   "source": []
  }
 ],
 "metadata": {
  "kernelspec": {
   "display_name": "Python 3 (ipykernel)",
   "language": "python",
   "name": "python3"
  },
  "language_info": {
   "codemirror_mode": {
    "name": "ipython",
    "version": 3
   },
   "file_extension": ".py",
   "mimetype": "text/x-python",
   "name": "python",
   "nbconvert_exporter": "python",
   "pygments_lexer": "ipython3",
   "version": "3.11.4"
  }
 },
 "nbformat": 4,
 "nbformat_minor": 5
}
