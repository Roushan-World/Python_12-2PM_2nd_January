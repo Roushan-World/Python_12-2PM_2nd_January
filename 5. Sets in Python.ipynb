{
 "cells": [
  {
   "cell_type": "markdown",
   "id": "a74774bb-d43a-4fac-90ee-3159ca1fb5fd",
   "metadata": {},
   "source": [
    "# 5. Sets in Python\n",
    "\n",
    " * __Set is one of the 4th built-in data types in Python used to store collections of data including List, Tuple, and Dictionary.__\n",
    " * __Sets are unordered, but you can remove items and add new items.__\n",
    " * __Set elements are unique, Duplicate elements are not allowed.__\n",
    " * __A set itself may be modified, but the elements contained in the set must be of an immutable type.__\n",
    " * __You can denote a set with a pair of curly brackets. {}__"
   ]
  },
  {
   "cell_type": "code",
   "execution_count": 1,
   "id": "64943d6e-6f15-406e-b8c3-5c27e10a67d2",
   "metadata": {},
   "outputs": [
    {
     "name": "stdout",
     "output_type": "stream",
     "text": [
      "{}\n"
     ]
    }
   ],
   "source": [
    "x={}\n",
    "print(x)"
   ]
  },
  {
   "cell_type": "code",
   "execution_count": 2,
   "id": "313b23ae-edf1-4c9f-a64c-4bafa0a23e32",
   "metadata": {},
   "outputs": [
    {
     "data": {
      "text/plain": [
       "dict"
      ]
     },
     "execution_count": 2,
     "metadata": {},
     "output_type": "execute_result"
    }
   ],
   "source": [
    "type(x)"
   ]
  },
  {
   "cell_type": "code",
   "execution_count": 4,
   "id": "963110ad-3ddb-4a16-bb58-32b5f34cfb56",
   "metadata": {},
   "outputs": [
    {
     "data": {
      "text/plain": [
       "set()"
      ]
     },
     "execution_count": 4,
     "metadata": {},
     "output_type": "execute_result"
    }
   ],
   "source": [
    "x1=set()\n",
    "x1"
   ]
  },
  {
   "cell_type": "code",
   "execution_count": 5,
   "id": "254587ae-cdce-4fa9-af6b-fb7ca41e9d9d",
   "metadata": {},
   "outputs": [
    {
     "name": "stdout",
     "output_type": "stream",
     "text": [
      "<class 'set'>\n"
     ]
    }
   ],
   "source": [
    "print(type(x1))"
   ]
  },
  {
   "cell_type": "code",
   "execution_count": 6,
   "id": "926464d2-dde2-4493-b513-6ab4b9a82988",
   "metadata": {},
   "outputs": [
    {
     "data": {
      "text/plain": [
       "{1.618, 3.14, 'Aditi', False, 'Hello World', 'Hello world', True}"
      ]
     },
     "execution_count": 6,
     "metadata": {},
     "output_type": "execute_result"
    }
   ],
   "source": [
    "set1={\"Hello World\",3.14,1.618,True,False,\"Hello world\",3.14,1.618,True,False,\"Aditi\"}\n",
    "set1"
   ]
  },
  {
   "cell_type": "code",
   "execution_count": 11,
   "id": "d07b1a5d-420f-4bc3-8dee-b8d7f004d8bf",
   "metadata": {},
   "outputs": [
    {
     "name": "stdout",
     "output_type": "stream",
     "text": [
      "['Hello World', 3.14, 1.618, True, False, 'Hello world', 3.14, 1.618, True, False, 'Aditi', 'Jyoti Pawar', 'Khurde', 'Sahil']\n",
      "{False, 1.618, True, 3.14, 'Hello World', 'Sahil', 'Hello world', 'Jyoti Pawar', 'Aditi', 'Khurde'}\n"
     ]
    }
   ],
   "source": [
    "nlis=[\"Hello World\",3.14,1.618,True,False,\"Hello world\",3.14,1.618,True,False,\"Aditi\",\"Jyoti Pawar\",\"Khurde\",\"Sahil\"]\n",
    "print(nlis)\n",
    "\n",
    "# Converting a list into a set\n",
    "\n",
    "set2=set(nlis)\n",
    "print(set2)"
   ]
  },
  {
   "cell_type": "markdown",
   "id": "9d8c2d86-c545-4f5e-aba4-0754746f608d",
   "metadata": {},
   "source": [
    "# Set operations\n",
    "\n",
    "# add() functions"
   ]
  },
  {
   "cell_type": "code",
   "execution_count": 12,
   "id": "ffefe39f-94ab-4b8b-9323-2509bfb6f9fd",
   "metadata": {},
   "outputs": [
    {
     "data": {
      "text/plain": [
       "{False, 'Hello world', True}"
      ]
     },
     "execution_count": 12,
     "metadata": {},
     "output_type": "execute_result"
    }
   ],
   "source": [
    "set3={\"Hello world\",True,False}\n",
    "set3"
   ]
  },
  {
   "cell_type": "code",
   "execution_count": 13,
   "id": "2f72daeb-6473-4651-a487-f9da32c307cf",
   "metadata": {},
   "outputs": [
    {
     "data": {
      "text/plain": [
       "{False, 'Hello Aditi', 'Hello world', True}"
      ]
     },
     "execution_count": 13,
     "metadata": {},
     "output_type": "execute_result"
    }
   ],
   "source": [
    "set3.add(\"Hello Aditi\")\n",
    "set3"
   ]
  },
  {
   "cell_type": "code",
   "execution_count": 15,
   "id": "e8834a29-6008-40ce-acc9-7b6835a14c25",
   "metadata": {},
   "outputs": [
    {
     "data": {
      "text/plain": [
       "{False, 'Hello Aditi', 'Hello Jyoti', 'Hello world', True}"
      ]
     },
     "execution_count": 15,
     "metadata": {},
     "output_type": "execute_result"
    }
   ],
   "source": [
    "set3.add(\"Hello Jyoti\")\n",
    "set3"
   ]
  },
  {
   "cell_type": "markdown",
   "id": "3da94091-3302-42b0-a0c5-a767c0e246be",
   "metadata": {},
   "source": [
    "# update() function"
   ]
  },
  {
   "cell_type": "code",
   "execution_count": 16,
   "id": "61dc3239-d5ff-43c3-abe1-241fb52abe88",
   "metadata": {},
   "outputs": [
    {
     "data": {
      "text/plain": [
       "{False, 'Hello Aditi', 'Hello Jyoti', 'Hello world', True}"
      ]
     },
     "execution_count": 16,
     "metadata": {},
     "output_type": "execute_result"
    }
   ],
   "source": [
    "set3"
   ]
  },
  {
   "cell_type": "code",
   "execution_count": 19,
   "id": "505930c8-1bb0-4599-9a60-e7ae8bd4087d",
   "metadata": {},
   "outputs": [
    {
     "data": {
      "text/plain": [
       "{10, 7, 8, 9, False, 'Hello Aditi', 'Hello Jyoti', 'Hello world', True}"
      ]
     },
     "execution_count": 19,
     "metadata": {},
     "output_type": "execute_result"
    }
   ],
   "source": [
    "set4={7,8,9,10,\"Hello Aditi\"}\n",
    "set3.update(set4)\n",
    "set3"
   ]
  },
  {
   "cell_type": "markdown",
   "id": "2408f746-7c6c-454c-a0f2-69242c4bef11",
   "metadata": {},
   "source": [
    "# remove() function"
   ]
  },
  {
   "cell_type": "code",
   "execution_count": 20,
   "id": "006fecf3-96d4-4aac-89d2-4d0b6ed54021",
   "metadata": {},
   "outputs": [
    {
     "data": {
      "text/plain": [
       "{10, 7, 8, 9, False, 'Hello Aditi', 'Hello Jyoti', 'Hello world', True}"
      ]
     },
     "execution_count": 20,
     "metadata": {},
     "output_type": "execute_result"
    }
   ],
   "source": [
    "set3"
   ]
  },
  {
   "cell_type": "code",
   "execution_count": 21,
   "id": "543c437c-f7d4-40e9-88bb-db7dcf9cb4ab",
   "metadata": {},
   "outputs": [
    {
     "data": {
      "text/plain": [
       "{10, 7, 8, 9, False, 'Hello Aditi', 'Hello Jyoti', True}"
      ]
     },
     "execution_count": 21,
     "metadata": {},
     "output_type": "execute_result"
    }
   ],
   "source": [
    "set3.remove(\"Hello world\")\n",
    "set3"
   ]
  },
  {
   "cell_type": "code",
   "execution_count": 22,
   "id": "16d1e4bb-9a6f-4e08-b38a-4edaf1dbf6a7",
   "metadata": {},
   "outputs": [
    {
     "ename": "KeyError",
     "evalue": "'Hello world'",
     "output_type": "error",
     "traceback": [
      "\u001b[1;31m---------------------------------------------------------------------------\u001b[0m",
      "\u001b[1;31mKeyError\u001b[0m                                  Traceback (most recent call last)",
      "Cell \u001b[1;32mIn[22], line 1\u001b[0m\n\u001b[1;32m----> 1\u001b[0m \u001b[43mset3\u001b[49m\u001b[38;5;241;43m.\u001b[39;49m\u001b[43mremove\u001b[49m\u001b[43m(\u001b[49m\u001b[38;5;124;43m\"\u001b[39;49m\u001b[38;5;124;43mHello world\u001b[39;49m\u001b[38;5;124;43m\"\u001b[39;49m\u001b[43m)\u001b[49m\n\u001b[0;32m      2\u001b[0m set3\n",
      "\u001b[1;31mKeyError\u001b[0m: 'Hello world'"
     ]
    }
   ],
   "source": [
    "set3.remove(\"Hello world\")\n",
    "set3"
   ]
  },
  {
   "cell_type": "markdown",
   "id": "67dc8dc2-68b4-4a2c-b3b6-006a61f926d2",
   "metadata": {},
   "source": [
    "# discard() function"
   ]
  },
  {
   "cell_type": "code",
   "execution_count": 23,
   "id": "554732c8-d78e-4d7d-8e2e-02298a7d6f75",
   "metadata": {},
   "outputs": [
    {
     "data": {
      "text/plain": [
       "{10, 7, 8, 9, False, 'Hello Aditi', 'Hello Jyoti', True}"
      ]
     },
     "execution_count": 23,
     "metadata": {},
     "output_type": "execute_result"
    }
   ],
   "source": [
    "set3"
   ]
  },
  {
   "cell_type": "code",
   "execution_count": 24,
   "id": "d4a41cd6-b512-459b-9f96-383fc03d259f",
   "metadata": {},
   "outputs": [
    {
     "data": {
      "text/plain": [
       "{10, 7, 8, 9, False, 'Hello Aditi', 'Hello Jyoti', True}"
      ]
     },
     "execution_count": 24,
     "metadata": {},
     "output_type": "execute_result"
    }
   ],
   "source": [
    "set3.discard(\"Hello world\")\n",
    "set3"
   ]
  },
  {
   "cell_type": "code",
   "execution_count": 25,
   "id": "50a63989-a3b0-4e16-858f-f2eb0b19b444",
   "metadata": {},
   "outputs": [
    {
     "data": {
      "text/plain": [
       "{10, 7, 8, 9, False, 'Hello Aditi', 'Hello Jyoti'}"
      ]
     },
     "execution_count": 25,
     "metadata": {},
     "output_type": "execute_result"
    }
   ],
   "source": [
    "set3.discard(True)\n",
    "set3"
   ]
  },
  {
   "cell_type": "code",
   "execution_count": 26,
   "id": "b183679c-cf07-463d-94c9-3ef1e71fb91a",
   "metadata": {},
   "outputs": [
    {
     "data": {
      "text/plain": [
       "{10, 7, 8, 9, False, 'Hello Aditi', 'Hello Jyoti'}"
      ]
     },
     "execution_count": 26,
     "metadata": {},
     "output_type": "execute_result"
    }
   ],
   "source": [
    "set3.discard(True)\n",
    "set3"
   ]
  },
  {
   "cell_type": "markdown",
   "id": "7320ead7-0eb9-47b3-9585-9dc8c1df06fd",
   "metadata": {},
   "source": [
    "# To find the union between two sets."
   ]
  },
  {
   "cell_type": "code",
   "execution_count": 27,
   "id": "3d00d987-4d96-40db-a547-b1ef7fc215d8",
   "metadata": {},
   "outputs": [
    {
     "name": "stdout",
     "output_type": "stream",
     "text": [
      "{'Hello Python', 1.618, 3.14, 'Hello World'} {False, 1.618, True, 3.14, 2024}\n"
     ]
    }
   ],
   "source": [
    "set4=set([\"Hello Python\",3.14,1.618,\"Hello World\"])\n",
    "set5=set([3.14,1.618,True,False,2024])\n",
    "\n",
    "print(set4,set5)"
   ]
  },
  {
   "cell_type": "code",
   "execution_count": 28,
   "id": "7c3be202-6790-4fd1-9aec-f1507545549b",
   "metadata": {},
   "outputs": [
    {
     "data": {
      "text/plain": [
       "{1.618, 2024, 3.14, False, 'Hello Python', 'Hello World', True}"
      ]
     },
     "execution_count": 28,
     "metadata": {},
     "output_type": "execute_result"
    }
   ],
   "source": [
    "# union\n",
    "\n",
    "set4.union(set5)"
   ]
  },
  {
   "cell_type": "markdown",
   "id": "205e2a3f-ec43-4998-9a7b-d9e2ee5cd9af",
   "metadata": {},
   "source": [
    "# To find intersection between two sets."
   ]
  },
  {
   "cell_type": "code",
   "execution_count": 29,
   "id": "09ce78dd-10f2-4d9f-8c4a-45fa4d847564",
   "metadata": {},
   "outputs": [
    {
     "name": "stdout",
     "output_type": "stream",
     "text": [
      "{'Hello Python', 1.618, 3.14, 'Hello World'} {False, 1.618, True, 3.14, 2024}\n"
     ]
    }
   ],
   "source": [
    "set4=set([\"Hello Python\",3.14,1.618,\"Hello World\"])\n",
    "set5=set([3.14,1.618,True,False,2024])\n",
    "\n",
    "print(set4,set5)"
   ]
  },
  {
   "cell_type": "code",
   "execution_count": 31,
   "id": "e8bf0041-6615-42f9-b9ea-f77419e05fb7",
   "metadata": {},
   "outputs": [
    {
     "data": {
      "text/plain": [
       "{1.618, 3.14}"
      ]
     },
     "execution_count": 31,
     "metadata": {},
     "output_type": "execute_result"
    }
   ],
   "source": [
    "set4.intersection(set5)"
   ]
  },
  {
   "cell_type": "code",
   "execution_count": 32,
   "id": "4415431d-1055-47ce-9ab9-eb9eaa460317",
   "metadata": {},
   "outputs": [
    {
     "data": {
      "text/plain": [
       "{1.618, 3.14}"
      ]
     },
     "execution_count": 32,
     "metadata": {},
     "output_type": "execute_result"
    }
   ],
   "source": [
    "# another method\n",
    "x=set4&set5\n",
    "x"
   ]
  },
  {
   "cell_type": "markdown",
   "id": "f085c14c-7edf-487c-bb8d-a5a10b6cdd07",
   "metadata": {},
   "source": [
    "# difference() function"
   ]
  },
  {
   "cell_type": "code",
   "execution_count": 34,
   "id": "74efe1dd-b92a-4702-9e13-761aac077bdf",
   "metadata": {},
   "outputs": [
    {
     "name": "stdout",
     "output_type": "stream",
     "text": [
      "{'Hello Python', 'Hello World'}\n",
      "{False, True, 2024}\n"
     ]
    }
   ],
   "source": [
    "set4=set([\"Hello Python\",3.14,1.618,\"Hello World\"])  #A\n",
    "set5=set([3.14,1.618,True,False,2024])   # B\n",
    "\n",
    "# A-B   (B-A)\n",
    "\n",
    "print(set4-set5)\n",
    "print(set5-set4)"
   ]
  },
  {
   "cell_type": "code",
   "execution_count": 38,
   "id": "9aed0e01-1f00-41bd-8628-e31f75f3cea5",
   "metadata": {},
   "outputs": [
    {
     "name": "stdout",
     "output_type": "stream",
     "text": [
      "{'Hello Python', 'Hello World'}\n",
      "{False, True, 2024}\n"
     ]
    }
   ],
   "source": [
    "# Another method\n",
    "#A-B\n",
    "print(set4.difference(set5))\n",
    "\n",
    "# B-A\n",
    "print(set5.difference(set4))"
   ]
  },
  {
   "cell_type": "markdown",
   "id": "6ca638e4-6d69-4c98-8ca3-3435b2e5fd50",
   "metadata": {},
   "source": [
    "# Symmetric difference between two sets"
   ]
  },
  {
   "cell_type": "code",
   "execution_count": 39,
   "id": "973f6a86-8d9c-45f9-95e7-a0a469e3321e",
   "metadata": {},
   "outputs": [
    {
     "data": {
      "text/plain": [
       "{1, 2, 5, 6}"
      ]
     },
     "execution_count": 39,
     "metadata": {},
     "output_type": "execute_result"
    }
   ],
   "source": [
    "set_a={1,2,3,4}\n",
    "set_b={3,4,5,6}\n",
    "\n",
    "x=set_a.symmetric_difference(set_b)\n",
    "x"
   ]
  },
  {
   "cell_type": "code",
   "execution_count": null,
   "id": "11202219-8310-46de-b033-dabd3bb9d91e",
   "metadata": {},
   "outputs": [],
   "source": []
  }
 ],
 "metadata": {
  "kernelspec": {
   "display_name": "Python 3 (ipykernel)",
   "language": "python",
   "name": "python3"
  },
  "language_info": {
   "codemirror_mode": {
    "name": "ipython",
    "version": 3
   },
   "file_extension": ".py",
   "mimetype": "text/x-python",
   "name": "python",
   "nbconvert_exporter": "python",
   "pygments_lexer": "ipython3",
   "version": "3.11.4"
  }
 },
 "nbformat": 4,
 "nbformat_minor": 5
}
