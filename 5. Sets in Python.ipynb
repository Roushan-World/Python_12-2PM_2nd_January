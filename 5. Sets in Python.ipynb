{
 "cells": [
  {
   "cell_type": "markdown",
   "id": "a74774bb-d43a-4fac-90ee-3159ca1fb5fd",
   "metadata": {},
   "source": [
    "# 5. Sets in Python\n",
    "\n",
    " * __Set is one of the 4th built-in data types in Python used to store collections of data including List, Tuple, and Dictionary.__\n",
    " * __Sets are unordered, but you can remove items and add new items.__\n",
    " * __Set elements are unique, Duplicate elements are not allowed.__\n",
    " * __A set itself may be modified, but the elements contained in the set must be of an immutable type.__\n",
    " * __You can denote a set with a pair of curly brackets. {}__"
   ]
  },
  {
   "cell_type": "code",
   "execution_count": 1,
   "id": "64943d6e-6f15-406e-b8c3-5c27e10a67d2",
   "metadata": {},
   "outputs": [
    {
     "name": "stdout",
     "output_type": "stream",
     "text": [
      "{}\n"
     ]
    }
   ],
   "source": [
    "x={}\n",
    "print(x)"
   ]
  },
  {
   "cell_type": "code",
   "execution_count": 2,
   "id": "313b23ae-edf1-4c9f-a64c-4bafa0a23e32",
   "metadata": {},
   "outputs": [
    {
     "data": {
      "text/plain": [
       "dict"
      ]
     },
     "execution_count": 2,
     "metadata": {},
     "output_type": "execute_result"
    }
   ],
   "source": [
    "type(x)"
   ]
  },
  {
   "cell_type": "code",
   "execution_count": 4,
   "id": "963110ad-3ddb-4a16-bb58-32b5f34cfb56",
   "metadata": {},
   "outputs": [
    {
     "data": {
      "text/plain": [
       "set()"
      ]
     },
     "execution_count": 4,
     "metadata": {},
     "output_type": "execute_result"
    }
   ],
   "source": [
    "x1=set()\n",
    "x1"
   ]
  },
  {
   "cell_type": "code",
   "execution_count": 5,
   "id": "254587ae-cdce-4fa9-af6b-fb7ca41e9d9d",
   "metadata": {},
   "outputs": [
    {
     "name": "stdout",
     "output_type": "stream",
     "text": [
      "<class 'set'>\n"
     ]
    }
   ],
   "source": [
    "print(type(x1))"
   ]
  },
  {
   "cell_type": "code",
   "execution_count": 6,
   "id": "926464d2-dde2-4493-b513-6ab4b9a82988",
   "metadata": {},
   "outputs": [
    {
     "data": {
      "text/plain": [
       "{1.618, 3.14, 'Aditi', False, 'Hello World', 'Hello world', True}"
      ]
     },
     "execution_count": 6,
     "metadata": {},
     "output_type": "execute_result"
    }
   ],
   "source": [
    "set1={\"Hello World\",3.14,1.618,True,False,\"Hello world\",3.14,1.618,True,False,\"Aditi\"}\n",
    "set1"
   ]
  },
  {
   "cell_type": "code",
   "execution_count": 11,
   "id": "d07b1a5d-420f-4bc3-8dee-b8d7f004d8bf",
   "metadata": {},
   "outputs": [
    {
     "name": "stdout",
     "output_type": "stream",
     "text": [
      "['Hello World', 3.14, 1.618, True, False, 'Hello world', 3.14, 1.618, True, False, 'Aditi', 'Jyoti Pawar', 'Khurde', 'Sahil']\n",
      "{False, 1.618, True, 3.14, 'Hello World', 'Sahil', 'Hello world', 'Jyoti Pawar', 'Aditi', 'Khurde'}\n"
     ]
    }
   ],
   "source": [
    "nlis=[\"Hello World\",3.14,1.618,True,False,\"Hello world\",3.14,1.618,True,False,\"Aditi\",\"Jyoti Pawar\",\"Khurde\",\"Sahil\"]\n",
    "print(nlis)\n",
    "\n",
    "# Converting a list into a set\n",
    "\n",
    "set2=set(nlis)\n",
    "print(set2)"
   ]
  },
  {
   "cell_type": "markdown",
   "id": "9d8c2d86-c545-4f5e-aba4-0754746f608d",
   "metadata": {},
   "source": [
    "# Set operations\n",
    "\n",
    "# add() functions"
   ]
  },
  {
   "cell_type": "code",
   "execution_count": 12,
   "id": "ffefe39f-94ab-4b8b-9323-2509bfb6f9fd",
   "metadata": {},
   "outputs": [
    {
     "data": {
      "text/plain": [
       "{False, 'Hello world', True}"
      ]
     },
     "execution_count": 12,
     "metadata": {},
     "output_type": "execute_result"
    }
   ],
   "source": [
    "set3={\"Hello world\",True,False}\n",
    "set3"
   ]
  },
  {
   "cell_type": "code",
   "execution_count": 13,
   "id": "2f72daeb-6473-4651-a487-f9da32c307cf",
   "metadata": {},
   "outputs": [
    {
     "data": {
      "text/plain": [
       "{False, 'Hello Aditi', 'Hello world', True}"
      ]
     },
     "execution_count": 13,
     "metadata": {},
     "output_type": "execute_result"
    }
   ],
   "source": [
    "set3.add(\"Hello Aditi\")\n",
    "set3"
   ]
  },
  {
   "cell_type": "code",
   "execution_count": 15,
   "id": "e8834a29-6008-40ce-acc9-7b6835a14c25",
   "metadata": {},
   "outputs": [
    {
     "data": {
      "text/plain": [
       "{False, 'Hello Aditi', 'Hello Jyoti', 'Hello world', True}"
      ]
     },
     "execution_count": 15,
     "metadata": {},
     "output_type": "execute_result"
    }
   ],
   "source": [
    "set3.add(\"Hello Jyoti\")\n",
    "set3"
   ]
  },
  {
   "cell_type": "markdown",
   "id": "3da94091-3302-42b0-a0c5-a767c0e246be",
   "metadata": {},
   "source": [
    "# update() function"
   ]
  },
  {
   "cell_type": "code",
   "execution_count": 16,
   "id": "61dc3239-d5ff-43c3-abe1-241fb52abe88",
   "metadata": {},
   "outputs": [
    {
     "data": {
      "text/plain": [
       "{False, 'Hello Aditi', 'Hello Jyoti', 'Hello world', True}"
      ]
     },
     "execution_count": 16,
     "metadata": {},
     "output_type": "execute_result"
    }
   ],
   "source": [
    "set3"
   ]
  },
  {
   "cell_type": "code",
   "execution_count": 19,
   "id": "505930c8-1bb0-4599-9a60-e7ae8bd4087d",
   "metadata": {},
   "outputs": [
    {
     "data": {
      "text/plain": [
       "{10, 7, 8, 9, False, 'Hello Aditi', 'Hello Jyoti', 'Hello world', True}"
      ]
     },
     "execution_count": 19,
     "metadata": {},
     "output_type": "execute_result"
    }
   ],
   "source": [
    "set4={7,8,9,10,\"Hello Aditi\"}\n",
    "set3.update(set4)\n",
    "set3"
   ]
  },
  {
   "cell_type": "markdown",
   "id": "2408f746-7c6c-454c-a0f2-69242c4bef11",
   "metadata": {},
   "source": [
    "# remove() function"
   ]
  },
  {
   "cell_type": "code",
   "execution_count": 20,
   "id": "006fecf3-96d4-4aac-89d2-4d0b6ed54021",
   "metadata": {},
   "outputs": [
    {
     "data": {
      "text/plain": [
       "{10, 7, 8, 9, False, 'Hello Aditi', 'Hello Jyoti', 'Hello world', True}"
      ]
     },
     "execution_count": 20,
     "metadata": {},
     "output_type": "execute_result"
    }
   ],
   "source": [
    "set3"
   ]
  },
  {
   "cell_type": "code",
   "execution_count": 21,
   "id": "543c437c-f7d4-40e9-88bb-db7dcf9cb4ab",
   "metadata": {},
   "outputs": [
    {
     "data": {
      "text/plain": [
       "{10, 7, 8, 9, False, 'Hello Aditi', 'Hello Jyoti', True}"
      ]
     },
     "execution_count": 21,
     "metadata": {},
     "output_type": "execute_result"
    }
   ],
   "source": [
    "set3.remove(\"Hello world\")\n",
    "set3"
   ]
  },
  {
   "cell_type": "code",
   "execution_count": 22,
   "id": "16d1e4bb-9a6f-4e08-b38a-4edaf1dbf6a7",
   "metadata": {},
   "outputs": [
    {
     "ename": "KeyError",
     "evalue": "'Hello world'",
     "output_type": "error",
     "traceback": [
      "\u001b[1;31m---------------------------------------------------------------------------\u001b[0m",
      "\u001b[1;31mKeyError\u001b[0m                                  Traceback (most recent call last)",
      "Cell \u001b[1;32mIn[22], line 1\u001b[0m\n\u001b[1;32m----> 1\u001b[0m \u001b[43mset3\u001b[49m\u001b[38;5;241;43m.\u001b[39;49m\u001b[43mremove\u001b[49m\u001b[43m(\u001b[49m\u001b[38;5;124;43m\"\u001b[39;49m\u001b[38;5;124;43mHello world\u001b[39;49m\u001b[38;5;124;43m\"\u001b[39;49m\u001b[43m)\u001b[49m\n\u001b[0;32m      2\u001b[0m set3\n",
      "\u001b[1;31mKeyError\u001b[0m: 'Hello world'"
     ]
    }
   ],
   "source": [
    "set3.remove(\"Hello world\")\n",
    "set3"
   ]
  },
  {
   "cell_type": "markdown",
   "id": "67dc8dc2-68b4-4a2c-b3b6-006a61f926d2",
   "metadata": {},
   "source": [
    "# discard() function"
   ]
  },
  {
   "cell_type": "code",
   "execution_count": 23,
   "id": "554732c8-d78e-4d7d-8e2e-02298a7d6f75",
   "metadata": {},
   "outputs": [
    {
     "data": {
      "text/plain": [
       "{10, 7, 8, 9, False, 'Hello Aditi', 'Hello Jyoti', True}"
      ]
     },
     "execution_count": 23,
     "metadata": {},
     "output_type": "execute_result"
    }
   ],
   "source": [
    "set3"
   ]
  },
  {
   "cell_type": "code",
   "execution_count": 24,
   "id": "d4a41cd6-b512-459b-9f96-383fc03d259f",
   "metadata": {},
   "outputs": [
    {
     "data": {
      "text/plain": [
       "{10, 7, 8, 9, False, 'Hello Aditi', 'Hello Jyoti', True}"
      ]
     },
     "execution_count": 24,
     "metadata": {},
     "output_type": "execute_result"
    }
   ],
   "source": [
    "set3.discard(\"Hello world\")\n",
    "set3"
   ]
  },
  {
   "cell_type": "code",
   "execution_count": 25,
   "id": "50a63989-a3b0-4e16-858f-f2eb0b19b444",
   "metadata": {},
   "outputs": [
    {
     "data": {
      "text/plain": [
       "{10, 7, 8, 9, False, 'Hello Aditi', 'Hello Jyoti'}"
      ]
     },
     "execution_count": 25,
     "metadata": {},
     "output_type": "execute_result"
    }
   ],
   "source": [
    "set3.discard(True)\n",
    "set3"
   ]
  },
  {
   "cell_type": "code",
   "execution_count": 26,
   "id": "b183679c-cf07-463d-94c9-3ef1e71fb91a",
   "metadata": {},
   "outputs": [
    {
     "data": {
      "text/plain": [
       "{10, 7, 8, 9, False, 'Hello Aditi', 'Hello Jyoti'}"
      ]
     },
     "execution_count": 26,
     "metadata": {},
     "output_type": "execute_result"
    }
   ],
   "source": [
    "set3.discard(True)\n",
    "set3"
   ]
  },
  {
   "cell_type": "markdown",
   "id": "7320ead7-0eb9-47b3-9585-9dc8c1df06fd",
   "metadata": {},
   "source": [
    "# To find the union between two sets."
   ]
  },
  {
   "cell_type": "code",
   "execution_count": 27,
   "id": "3d00d987-4d96-40db-a547-b1ef7fc215d8",
   "metadata": {},
   "outputs": [
    {
     "name": "stdout",
     "output_type": "stream",
     "text": [
      "{'Hello Python', 1.618, 3.14, 'Hello World'} {False, 1.618, True, 3.14, 2024}\n"
     ]
    }
   ],
   "source": [
    "set4=set([\"Hello Python\",3.14,1.618,\"Hello World\"])\n",
    "set5=set([3.14,1.618,True,False,2024])\n",
    "\n",
    "print(set4,set5)"
   ]
  },
  {
   "cell_type": "code",
   "execution_count": 28,
   "id": "7c3be202-6790-4fd1-9aec-f1507545549b",
   "metadata": {},
   "outputs": [
    {
     "data": {
      "text/plain": [
       "{1.618, 2024, 3.14, False, 'Hello Python', 'Hello World', True}"
      ]
     },
     "execution_count": 28,
     "metadata": {},
     "output_type": "execute_result"
    }
   ],
   "source": [
    "# union\n",
    "\n",
    "set4.union(set5)"
   ]
  },
  {
   "cell_type": "markdown",
   "id": "205e2a3f-ec43-4998-9a7b-d9e2ee5cd9af",
   "metadata": {},
   "source": [
    "# To find intersection between two sets."
   ]
  },
  {
   "cell_type": "code",
   "execution_count": 29,
   "id": "09ce78dd-10f2-4d9f-8c4a-45fa4d847564",
   "metadata": {},
   "outputs": [
    {
     "name": "stdout",
     "output_type": "stream",
     "text": [
      "{'Hello Python', 1.618, 3.14, 'Hello World'} {False, 1.618, True, 3.14, 2024}\n"
     ]
    }
   ],
   "source": [
    "set4=set([\"Hello Python\",3.14,1.618,\"Hello World\"])\n",
    "set5=set([3.14,1.618,True,False,2024])\n",
    "\n",
    "print(set4,set5)"
   ]
  },
  {
   "cell_type": "code",
   "execution_count": 31,
   "id": "e8bf0041-6615-42f9-b9ea-f77419e05fb7",
   "metadata": {},
   "outputs": [
    {
     "data": {
      "text/plain": [
       "{1.618, 3.14}"
      ]
     },
     "execution_count": 31,
     "metadata": {},
     "output_type": "execute_result"
    }
   ],
   "source": [
    "set4.intersection(set5)"
   ]
  },
  {
   "cell_type": "code",
   "execution_count": 32,
   "id": "4415431d-1055-47ce-9ab9-eb9eaa460317",
   "metadata": {},
   "outputs": [
    {
     "data": {
      "text/plain": [
       "{1.618, 3.14}"
      ]
     },
     "execution_count": 32,
     "metadata": {},
     "output_type": "execute_result"
    }
   ],
   "source": [
    "# another method\n",
    "x=set4&set5\n",
    "x"
   ]
  },
  {
   "cell_type": "markdown",
   "id": "f085c14c-7edf-487c-bb8d-a5a10b6cdd07",
   "metadata": {},
   "source": [
    "# difference() function"
   ]
  },
  {
   "cell_type": "code",
   "execution_count": 34,
   "id": "74efe1dd-b92a-4702-9e13-761aac077bdf",
   "metadata": {},
   "outputs": [
    {
     "name": "stdout",
     "output_type": "stream",
     "text": [
      "{'Hello Python', 'Hello World'}\n",
      "{False, True, 2024}\n"
     ]
    }
   ],
   "source": [
    "set4=set([\"Hello Python\",3.14,1.618,\"Hello World\"])  #A\n",
    "set5=set([3.14,1.618,True,False,2024])   # B\n",
    "\n",
    "# A-B   (B-A)\n",
    "\n",
    "print(set4-set5)\n",
    "print(set5-set4)"
   ]
  },
  {
   "cell_type": "code",
   "execution_count": 38,
   "id": "9aed0e01-1f00-41bd-8628-e31f75f3cea5",
   "metadata": {},
   "outputs": [
    {
     "name": "stdout",
     "output_type": "stream",
     "text": [
      "{'Hello Python', 'Hello World'}\n",
      "{False, True, 2024}\n"
     ]
    }
   ],
   "source": [
    "# Another method\n",
    "#A-B\n",
    "print(set4.difference(set5))\n",
    "\n",
    "# B-A\n",
    "print(set5.difference(set4))"
   ]
  },
  {
   "cell_type": "markdown",
   "id": "6ca638e4-6d69-4c98-8ca3-3435b2e5fd50",
   "metadata": {},
   "source": [
    "# Symmetric difference between two sets"
   ]
  },
  {
   "cell_type": "code",
   "execution_count": 39,
   "id": "973f6a86-8d9c-45f9-95e7-a0a469e3321e",
   "metadata": {},
   "outputs": [
    {
     "data": {
      "text/plain": [
       "{1, 2, 5, 6}"
      ]
     },
     "execution_count": 39,
     "metadata": {},
     "output_type": "execute_result"
    }
   ],
   "source": [
    "set_a={1,2,3,4}\n",
    "set_b={3,4,5,6}\n",
    "\n",
    "x=set_a.symmetric_difference(set_b)\n",
    "x"
   ]
  },
  {
   "cell_type": "code",
   "execution_count": 8,
   "id": "11202219-8310-46de-b033-dabd3bb9d91e",
   "metadata": {},
   "outputs": [
    {
     "name": "stdout",
     "output_type": "stream",
     "text": [
      "[1, 2, 3, 4, 5, 6, 7, 8, 9, 1, 2, 3, 3, 3, 4, 4, 5, 5, 5, 6, 50, 50]\n",
      "{1, 2, 3, 4, 5, 6, 7, 8, 9, 50}\n",
      "Mininum number of a is: 1\n",
      "Mininum number of b is: 1\n",
      "Maximum number of a is: 50\n",
      "Maximum number of b is: 50\n",
      "Maximum number of a is: 50\n",
      "Total sum of the number of a is: 186\n",
      "Total sum of the number of b is: 95\n"
     ]
    }
   ],
   "source": [
    "a=[1,2,3,4,5,6,7,8,9,1,2,3,3,3,4,4,5,5,5,6,50,50]\n",
    "b={1,2,3,4,5,6,7,8,9,1,2,3,3,3,4,4,5,5,5,6,50,50}\n",
    "\n",
    "print(a)\n",
    "print(b)\n",
    "\n",
    "print(\"Mininum number of a is:\",min(a))\n",
    "print(\"Mininum number of b is:\",min(b))\n",
    "print(\"Maximum number of a is:\",max(a))\n",
    "print(\"Maximum number of b is:\",max(b))\n",
    "print(\"Maximum number of a is:\",max(a))\n",
    "print(\"Total sum of the number of a is:\",sum(a))\n",
    "print(\"Total sum of the number of b is:\",sum(b))"
   ]
  },
  {
   "cell_type": "code",
   "execution_count": 11,
   "id": "aca2b8a9-f4cd-479e-91d8-99b8f6366896",
   "metadata": {},
   "outputs": [
    {
     "data": {
      "text/plain": [
       "{(1, 2, 3), 1, 2, 3, 'Python'}"
      ]
     },
     "execution_count": 11,
     "metadata": {},
     "output_type": "execute_result"
    }
   ],
   "source": [
    "set_6={\"Python\",1,2,3,(1,2,3)}\n",
    "set_6"
   ]
  },
  {
   "cell_type": "code",
   "execution_count": 12,
   "id": "51e38d3c-e4fa-4d96-b597-22d71b1e1e3f",
   "metadata": {},
   "outputs": [
    {
     "ename": "TypeError",
     "evalue": "unhashable type: 'list'",
     "output_type": "error",
     "traceback": [
      "\u001b[1;31m---------------------------------------------------------------------------\u001b[0m",
      "\u001b[1;31mTypeError\u001b[0m                                 Traceback (most recent call last)",
      "Cell \u001b[1;32mIn[12], line 1\u001b[0m\n\u001b[1;32m----> 1\u001b[0m set_6\u001b[38;5;241m=\u001b[39m{\u001b[38;5;124m\"\u001b[39m\u001b[38;5;124mPython\u001b[39m\u001b[38;5;124m\"\u001b[39m,\u001b[38;5;241m1\u001b[39m,\u001b[38;5;241m2\u001b[39m,\u001b[38;5;241m3\u001b[39m,[\u001b[38;5;241m1\u001b[39m,\u001b[38;5;241m2\u001b[39m,\u001b[38;5;241m3\u001b[39m]}\n\u001b[0;32m      2\u001b[0m set_6\n",
      "\u001b[1;31mTypeError\u001b[0m: unhashable type: 'list'"
     ]
    }
   ],
   "source": [
    "set_6={\"Python\",1,2,3,[1,2,3]}\n",
    "set_6"
   ]
  },
  {
   "cell_type": "code",
   "execution_count": 13,
   "id": "d1961c70-fdc7-49e0-9852-3edc1396bf46",
   "metadata": {},
   "outputs": [
    {
     "ename": "TypeError",
     "evalue": "unhashable type: 'list'",
     "output_type": "error",
     "traceback": [
      "\u001b[1;31m---------------------------------------------------------------------------\u001b[0m",
      "\u001b[1;31mTypeError\u001b[0m                                 Traceback (most recent call last)",
      "Cell \u001b[1;32mIn[13], line 1\u001b[0m\n\u001b[1;32m----> 1\u001b[0m set_6\u001b[38;5;241m=\u001b[39m{\u001b[38;5;124m\"\u001b[39m\u001b[38;5;124mPython\u001b[39m\u001b[38;5;124m\"\u001b[39m,\u001b[38;5;241m1\u001b[39m,\u001b[38;5;241m2\u001b[39m,\u001b[38;5;241m3\u001b[39m,[\u001b[38;5;124m\"\u001b[39m\u001b[38;5;124mPython\u001b[39m\u001b[38;5;124m\"\u001b[39m,\u001b[38;5;241m7\u001b[39m,\u001b[38;5;241m8\u001b[39m,\u001b[38;5;241m9\u001b[39m]}\n\u001b[0;32m      2\u001b[0m set_6\n",
      "\u001b[1;31mTypeError\u001b[0m: unhashable type: 'list'"
     ]
    }
   ],
   "source": [
    "set_6={\"Python\",1,2,3,[\"Python\",7,8,9]}\n",
    "set_6"
   ]
  },
  {
   "cell_type": "code",
   "execution_count": 14,
   "id": "e6861205-872d-41d0-a2da-96fa1f21ff3f",
   "metadata": {},
   "outputs": [
    {
     "data": {
      "text/plain": [
       "{(1, 2, 3), 1, 2, 3, 'Python'}"
      ]
     },
     "execution_count": 14,
     "metadata": {},
     "output_type": "execute_result"
    }
   ],
   "source": [
    "# index value\n",
    "\n",
    "set_6"
   ]
  },
  {
   "cell_type": "code",
   "execution_count": 15,
   "id": "74bd1642-3fb0-4210-822a-8f1a92241fde",
   "metadata": {},
   "outputs": [
    {
     "ename": "TypeError",
     "evalue": "'set' object is not subscriptable",
     "output_type": "error",
     "traceback": [
      "\u001b[1;31m---------------------------------------------------------------------------\u001b[0m",
      "\u001b[1;31mTypeError\u001b[0m                                 Traceback (most recent call last)",
      "Cell \u001b[1;32mIn[15], line 1\u001b[0m\n\u001b[1;32m----> 1\u001b[0m \u001b[43mset_6\u001b[49m\u001b[43m[\u001b[49m\u001b[38;5;241;43m0\u001b[39;49m\u001b[43m]\u001b[49m\n",
      "\u001b[1;31mTypeError\u001b[0m: 'set' object is not subscriptable"
     ]
    }
   ],
   "source": [
    "set_6[0]"
   ]
  },
  {
   "cell_type": "markdown",
   "id": "7d77ea4a-bc10-47ba-b46d-17654c41b588",
   "metadata": {},
   "source": [
    "# clear() function"
   ]
  },
  {
   "cell_type": "code",
   "execution_count": 16,
   "id": "964b829b-3056-4f4b-82e5-4f0ca367907f",
   "metadata": {},
   "outputs": [
    {
     "data": {
      "text/plain": [
       "{0, 10, 20, 30, 40, 502}"
      ]
     },
     "execution_count": 16,
     "metadata": {},
     "output_type": "execute_result"
    }
   ],
   "source": [
    "x={0,10,20,30,40,502}\n",
    "x"
   ]
  },
  {
   "cell_type": "code",
   "execution_count": 17,
   "id": "f206f18c-b0a8-40cd-9e01-cc5ab9288037",
   "metadata": {},
   "outputs": [],
   "source": [
    "x.clear()\n"
   ]
  },
  {
   "cell_type": "code",
   "execution_count": 18,
   "id": "2f8d6de3-be74-403c-bd28-0e82e50c7ee3",
   "metadata": {},
   "outputs": [
    {
     "data": {
      "text/plain": [
       "set()"
      ]
     },
     "execution_count": 18,
     "metadata": {},
     "output_type": "execute_result"
    }
   ],
   "source": [
    "x"
   ]
  },
  {
   "cell_type": "markdown",
   "id": "c804cb23-ef00-4b3a-8997-0ebb70fddf65",
   "metadata": {},
   "source": [
    "# pop() function"
   ]
  },
  {
   "cell_type": "code",
   "execution_count": 19,
   "id": "e48e84b5-685e-438b-8a74-d97b3bef30de",
   "metadata": {},
   "outputs": [
    {
     "data": {
      "text/plain": [
       "{0, 1, 2, 3, 4, 5, 6, 7, 8, 9}"
      ]
     },
     "execution_count": 19,
     "metadata": {},
     "output_type": "execute_result"
    }
   ],
   "source": [
    "x={0,1,2,3,4,5,6,7,8,9}\n",
    "x"
   ]
  },
  {
   "cell_type": "code",
   "execution_count": 24,
   "id": "f8bd9b4f-7e01-41a1-b4f4-8e5b9f8c3d0b",
   "metadata": {},
   "outputs": [
    {
     "name": "stdout",
     "output_type": "stream",
     "text": [
      "{5, 6, 7, 8, 9}\n"
     ]
    }
   ],
   "source": [
    "x.pop()\n",
    "print(x)"
   ]
  },
  {
   "cell_type": "code",
   "execution_count": 25,
   "id": "ccee4258-61a5-443e-bad9-16af05021d72",
   "metadata": {},
   "outputs": [
    {
     "data": {
      "text/plain": [
       "{}"
      ]
     },
     "execution_count": 25,
     "metadata": {},
     "output_type": "execute_result"
    }
   ],
   "source": [
    "a={}\n",
    "a"
   ]
  },
  {
   "cell_type": "markdown",
   "id": "05b1fa47-11db-47b8-a432-2fc84ff9103b",
   "metadata": {},
   "source": [
    "# dict() function"
   ]
  },
  {
   "cell_type": "code",
   "execution_count": 26,
   "id": "13d0c03e-8b12-4d67-8cf2-5cb4167b2bbe",
   "metadata": {},
   "outputs": [
    {
     "data": {
      "text/plain": [
       "{'name': 'Aditi', 'age': 25, 'phone_no': 456123789, 'address': 'pune'}"
      ]
     },
     "execution_count": 26,
     "metadata": {},
     "output_type": "execute_result"
    }
   ],
   "source": [
    "dict_sample=dict(name=\"Aditi\",age=25,phone_no=456123789,address='pune')\n",
    "dict_sample"
   ]
  },
  {
   "cell_type": "code",
   "execution_count": 27,
   "id": "8c19333f-be23-49b8-acf1-c30661c10ab7",
   "metadata": {},
   "outputs": [
    {
     "data": {
      "text/plain": [
       "dict_keys(['name', 'age', 'phone_no', 'address'])"
      ]
     },
     "execution_count": 27,
     "metadata": {},
     "output_type": "execute_result"
    }
   ],
   "source": [
    "dict_sample.keys()"
   ]
  },
  {
   "cell_type": "code",
   "execution_count": 28,
   "id": "14b1e8cc-240f-4c44-904f-a827536f9313",
   "metadata": {},
   "outputs": [
    {
     "data": {
      "text/plain": [
       "dict_values(['Aditi', 25, 456123789, 'pune'])"
      ]
     },
     "execution_count": 28,
     "metadata": {},
     "output_type": "execute_result"
    }
   ],
   "source": [
    "dict_sample.values()"
   ]
  },
  {
   "cell_type": "markdown",
   "id": "611c99c3-ee39-451b-b298-ce2bac822602",
   "metadata": {},
   "source": [
    "# clear() function"
   ]
  },
  {
   "cell_type": "code",
   "execution_count": 29,
   "id": "8abe9c19-27de-4b4c-a69b-69342ce8f12b",
   "metadata": {},
   "outputs": [
    {
     "data": {
      "text/plain": [
       "{'name': 'Aditi', 'age': 25, 'phone_no': 456123789, 'address': 'pune'}"
      ]
     },
     "execution_count": 29,
     "metadata": {},
     "output_type": "execute_result"
    }
   ],
   "source": [
    "dict_sample1=dict(name=\"Aditi\",age=25,phone_no=456123789,address='pune')\n",
    "dict_sample1"
   ]
  },
  {
   "cell_type": "code",
   "execution_count": 30,
   "id": "07ed2b0d-1480-4c82-bf4a-0d44ed3b203d",
   "metadata": {},
   "outputs": [
    {
     "data": {
      "text/plain": [
       "{}"
      ]
     },
     "execution_count": 30,
     "metadata": {},
     "output_type": "execute_result"
    }
   ],
   "source": [
    "dict_sample1.clear()\n",
    "dict_sample1"
   ]
  },
  {
   "cell_type": "markdown",
   "id": "c6fc5dde-bf0b-46ba-b357-9d8c6f0b1cd2",
   "metadata": {},
   "source": [
    "# Copy() function"
   ]
  },
  {
   "cell_type": "code",
   "execution_count": 35,
   "id": "447c2fe9-5e12-48e2-a361-adb8b7ac58b0",
   "metadata": {},
   "outputs": [
    {
     "name": "stdout",
     "output_type": "stream",
     "text": [
      "{'name': 'Aditi', 'age': 25, 'phone_no': 456123789, 'address': 'pune'}\n",
      "{'name': 'Aditi', 'age': 25, 'phone_no': 456123789, 'address': 'pune'}\n"
     ]
    }
   ],
   "source": [
    "dict_sample=dict(name=\"Aditi\",age=25,phone_no=456123789,address='pune')\n",
    "print(dict_sample)\n",
    "\n",
    "#deep copy\n",
    "\n",
    "aditi_dict=dict_sample\n",
    "print(aditi_dict)\n",
    "\n"
   ]
  },
  {
   "cell_type": "code",
   "execution_count": 36,
   "id": "342516f8-bd58-4ce8-8b93-66f76b5dd0a0",
   "metadata": {},
   "outputs": [
    {
     "name": "stdout",
     "output_type": "stream",
     "text": [
      "{'name': 'aditi kute', 'age': 25, 'phone_no': 456123789, 'address': 'pune'}\n"
     ]
    }
   ],
   "source": [
    "dict_sample['name']='aditi kute'\n",
    "print(dict_sample)"
   ]
  },
  {
   "cell_type": "code",
   "execution_count": 37,
   "id": "459ef644-a53a-4a56-a53a-ff4861a641ed",
   "metadata": {},
   "outputs": [
    {
     "data": {
      "text/plain": [
       "{'name': 'aditi kute', 'age': 25, 'phone_no': 456123789, 'address': 'pune'}"
      ]
     },
     "execution_count": 37,
     "metadata": {},
     "output_type": "execute_result"
    }
   ],
   "source": [
    "aditi_dict"
   ]
  },
  {
   "cell_type": "code",
   "execution_count": 39,
   "id": "1a1350f4-01e6-48bc-a172-a456fe0dee18",
   "metadata": {},
   "outputs": [
    {
     "name": "stdout",
     "output_type": "stream",
     "text": [
      "{'name': 'Aditi', 'age': 25, 'phone_no': 456123789, 'address': 'pune'}\n",
      "{'name': 'Aditi', 'age': 25, 'phone_no': 456123789, 'address': 'pune'}\n"
     ]
    }
   ],
   "source": [
    "dict_sample2=dict(name=\"Aditi\",age=25,phone_no=456123789,address='pune')\n",
    "print(dict_sample2)\n",
    "\n",
    "\n",
    "aditi_dict2=dict_sample2.copy()\n",
    "print(aditi_dict2)"
   ]
  },
  {
   "cell_type": "code",
   "execution_count": 40,
   "id": "7f2e7d37-f741-471c-be18-32ba5028482a",
   "metadata": {},
   "outputs": [
    {
     "data": {
      "text/plain": [
       "{'name': 'Aditi', 'age': 25, 'phone_no': 456123789, 'address': 'Mumbai'}"
      ]
     },
     "execution_count": 40,
     "metadata": {},
     "output_type": "execute_result"
    }
   ],
   "source": [
    "dict_sample2['address']='Mumbai'\n",
    "dict_sample2"
   ]
  },
  {
   "cell_type": "code",
   "execution_count": 41,
   "id": "bb781d0a-46b0-4edc-9a34-3d8c20bbb0d6",
   "metadata": {},
   "outputs": [
    {
     "data": {
      "text/plain": [
       "{'name': 'Aditi', 'age': 25, 'phone_no': 456123789, 'address': 'pune'}"
      ]
     },
     "execution_count": 41,
     "metadata": {},
     "output_type": "execute_result"
    }
   ],
   "source": [
    "aditi_dict2"
   ]
  },
  {
   "cell_type": "markdown",
   "id": "51c8fdb8-de92-4ca6-9f15-2f7b5992fc48",
   "metadata": {},
   "source": [
    "# pop() items"
   ]
  },
  {
   "cell_type": "code",
   "execution_count": 42,
   "id": "2d313850-bddd-49f7-8366-baac2ccf5160",
   "metadata": {},
   "outputs": [
    {
     "name": "stdout",
     "output_type": "stream",
     "text": [
      "{'name': 'Aditi', 'age': 25, 'phone_no': 456123789, 'address': 'pune'}\n"
     ]
    }
   ],
   "source": [
    "dict_sample=dict(name=\"Aditi\",age=25,phone_no=456123789,address='pune')\n",
    "print(dict_sample)"
   ]
  },
  {
   "cell_type": "code",
   "execution_count": 43,
   "id": "c1458936-0a36-48c5-8d6f-daeae6e80459",
   "metadata": {},
   "outputs": [
    {
     "data": {
      "text/plain": [
       "{'name': 'Aditi', 'age': 25, 'phone_no': 456123789}"
      ]
     },
     "execution_count": 43,
     "metadata": {},
     "output_type": "execute_result"
    }
   ],
   "source": [
    "dict_sample.pop('address')\n",
    "dict_sample"
   ]
  },
  {
   "cell_type": "code",
   "execution_count": 44,
   "id": "14648c23-87bd-4f7f-8790-11fda627e71d",
   "metadata": {},
   "outputs": [
    {
     "name": "stdout",
     "output_type": "stream",
     "text": [
      "{'name': 'Aditi', 'age': 25, 'phone_no': 456123789, 'address': 'pune'}\n"
     ]
    },
    {
     "ename": "TypeError",
     "evalue": "pop expected at least 1 argument, got 0",
     "output_type": "error",
     "traceback": [
      "\u001b[1;31m---------------------------------------------------------------------------\u001b[0m",
      "\u001b[1;31mTypeError\u001b[0m                                 Traceback (most recent call last)",
      "Cell \u001b[1;32mIn[44], line 3\u001b[0m\n\u001b[0;32m      1\u001b[0m dict_sample\u001b[38;5;241m=\u001b[39m\u001b[38;5;28mdict\u001b[39m(name\u001b[38;5;241m=\u001b[39m\u001b[38;5;124m\"\u001b[39m\u001b[38;5;124mAditi\u001b[39m\u001b[38;5;124m\"\u001b[39m,age\u001b[38;5;241m=\u001b[39m\u001b[38;5;241m25\u001b[39m,phone_no\u001b[38;5;241m=\u001b[39m\u001b[38;5;241m456123789\u001b[39m,address\u001b[38;5;241m=\u001b[39m\u001b[38;5;124m'\u001b[39m\u001b[38;5;124mpune\u001b[39m\u001b[38;5;124m'\u001b[39m)\n\u001b[0;32m      2\u001b[0m \u001b[38;5;28mprint\u001b[39m(dict_sample)\n\u001b[1;32m----> 3\u001b[0m \u001b[43mdict_sample\u001b[49m\u001b[38;5;241;43m.\u001b[39;49m\u001b[43mpop\u001b[49m\u001b[43m(\u001b[49m\u001b[43m)\u001b[49m\n\u001b[0;32m      4\u001b[0m dict_sample\n",
      "\u001b[1;31mTypeError\u001b[0m: pop expected at least 1 argument, got 0"
     ]
    }
   ],
   "source": [
    "dict_sample=dict(name=\"Aditi\",age=25,phone_no=456123789,address='pune')\n",
    "print(dict_sample)\n",
    "dict_sample.pop()\n",
    "dict_sample"
   ]
  },
  {
   "cell_type": "markdown",
   "id": "00e88311-ca8b-49eb-ad35-388fb6a92668",
   "metadata": {},
   "source": [
    "# pop() items"
   ]
  },
  {
   "cell_type": "code",
   "execution_count": 46,
   "id": "df5bc113-a432-44b0-9549-83d5578700ab",
   "metadata": {},
   "outputs": [
    {
     "name": "stdout",
     "output_type": "stream",
     "text": [
      "{'name': 'Aditi', 'age': 25, 'phone_no': 456123789, 'address': 'pune'}\n",
      "{'name': 'Aditi', 'age': 25, 'phone_no': 456123789}\n"
     ]
    }
   ],
   "source": [
    "dict_sample=dict(name=\"Aditi\",age=25,phone_no=456123789,address='pune')\n",
    "print(dict_sample)\n",
    "\n",
    "dict_sample.popitem()\n",
    "print(dict_sample)"
   ]
  },
  {
   "cell_type": "code",
   "execution_count": 47,
   "id": "1b0bb844-5cc7-4755-b058-3faad13a98fa",
   "metadata": {},
   "outputs": [
    {
     "name": "stdout",
     "output_type": "stream",
     "text": [
      "('phone_no', 456123789)\n",
      "{'name': 'Aditi', 'age': 25}\n"
     ]
    }
   ],
   "source": [
    "print(dict_sample.popitem())\n",
    "print(dict_sample)"
   ]
  },
  {
   "cell_type": "code",
   "execution_count": 49,
   "id": "db0e6bec-b8d2-440a-9e41-fcf2eed32815",
   "metadata": {},
   "outputs": [
    {
     "name": "stdout",
     "output_type": "stream",
     "text": [
      "{'name': 'Aditi', 'age': 25, 'phone_no': 456123789, 'address': 'pune'}\n",
      "Aditi\n",
      "{'age': 25, 'phone_no': 456123789, 'address': 'pune'}\n"
     ]
    }
   ],
   "source": [
    "dict_sample=dict(name=\"Aditi\",age=25,phone_no=456123789,address='pune')\n",
    "print(dict_sample)\n",
    "\n",
    "print(dict_sample.pop(\"name\"))\n",
    "print(dict_sample)"
   ]
  },
  {
   "cell_type": "code",
   "execution_count": 50,
   "id": "e3bb6687-40ee-4ec8-a4fc-62e16d9a0dc2",
   "metadata": {},
   "outputs": [
    {
     "name": "stdout",
     "output_type": "stream",
     "text": [
      "{'name': 'Aditi', 'age': 25, 'phone_no': 456123789, 'address': 'pune'}\n",
      "('address', 'pune')\n",
      "{'name': 'Aditi', 'age': 25, 'phone_no': 456123789}\n"
     ]
    }
   ],
   "source": [
    "dict_sample=dict(name=\"Aditi\",age=25,phone_no=456123789,address='pune')\n",
    "print(dict_sample)\n",
    "\n",
    "print(dict_sample.popitem())\n",
    "print(dict_sample)"
   ]
  },
  {
   "cell_type": "markdown",
   "id": "b0aca4b2-77dc-4864-a36d-52f5a4917cb2",
   "metadata": {},
   "source": [
    "# get() function"
   ]
  },
  {
   "cell_type": "code",
   "execution_count": 51,
   "id": "c5cce18d-8245-448d-b0b7-f6da92ac29dd",
   "metadata": {},
   "outputs": [
    {
     "name": "stdout",
     "output_type": "stream",
     "text": [
      "{'name': 'Aditi', 'age': 25, 'phone_no': 456123789, 'address': 'pune'}\n"
     ]
    }
   ],
   "source": [
    "dict_sample=dict(name=\"Aditi\",age=25,phone_no=456123789,address='pune')\n",
    "print(dict_sample)"
   ]
  },
  {
   "cell_type": "code",
   "execution_count": 52,
   "id": "e19f1910-d681-46df-a941-1d50bdce13ec",
   "metadata": {},
   "outputs": [
    {
     "data": {
      "text/plain": [
       "'Aditi'"
      ]
     },
     "execution_count": 52,
     "metadata": {},
     "output_type": "execute_result"
    }
   ],
   "source": [
    "dict_sample.get(\"name\")"
   ]
  },
  {
   "cell_type": "code",
   "execution_count": 53,
   "id": "19923752-0050-43db-aed3-e1ecfaa24779",
   "metadata": {},
   "outputs": [],
   "source": [
    "dict_sample.get('gender')"
   ]
  },
  {
   "cell_type": "code",
   "execution_count": 54,
   "id": "105ef0a9-08c5-4099-87f4-3f4ea0fa4e0f",
   "metadata": {},
   "outputs": [
    {
     "data": {
      "text/plain": [
       "{'name': 'Aditi', 'age': 25, 'phone_no': 456123789, 'address': 'pune'}"
      ]
     },
     "execution_count": 54,
     "metadata": {},
     "output_type": "execute_result"
    }
   ],
   "source": [
    "dict_sample"
   ]
  },
  {
   "cell_type": "code",
   "execution_count": 55,
   "id": "20d9ea4d-a38e-447d-9dc1-22c4c854342f",
   "metadata": {},
   "outputs": [
    {
     "name": "stdout",
     "output_type": "stream",
     "text": [
      "None\n"
     ]
    }
   ],
   "source": [
    "print(dict_sample.get('gender'))"
   ]
  },
  {
   "cell_type": "markdown",
   "id": "5f35be64-ebbb-48c4-b23f-d9611737a00d",
   "metadata": {},
   "source": [
    "# fromkeys() function"
   ]
  },
  {
   "cell_type": "code",
   "execution_count": 58,
   "id": "b887c876-9501-4736-9ccc-cb69d5da3e03",
   "metadata": {},
   "outputs": [
    {
     "data": {
      "text/plain": [
       "{'name': None, 'age': None, 'gender': None, 'phone_no': None}"
      ]
     },
     "execution_count": 58,
     "metadata": {},
     "output_type": "execute_result"
    }
   ],
   "source": [
    "keys={'name','age','phone_no','gender'}\n",
    "a=dict.fromkeys(keys)\n",
    "a"
   ]
  },
  {
   "cell_type": "code",
   "execution_count": 60,
   "id": "f9ebf31d-b7d2-4144-b52d-7461c09a6b02",
   "metadata": {},
   "outputs": [],
   "source": [
    "a['name']=\"Aditi\""
   ]
  },
  {
   "cell_type": "code",
   "execution_count": 61,
   "id": "352a5ee4-337e-49fb-9f53-e6962eb2cab2",
   "metadata": {},
   "outputs": [
    {
     "data": {
      "text/plain": [
       "{'name': 'Aditi', 'age': None, 'gender': None, 'phone_no': None}"
      ]
     },
     "execution_count": 61,
     "metadata": {},
     "output_type": "execute_result"
    }
   ],
   "source": [
    "a"
   ]
  },
  {
   "cell_type": "code",
   "execution_count": null,
   "id": "54c63d7e-16d9-48b3-975a-1da3b665140c",
   "metadata": {},
   "outputs": [],
   "source": []
  }
 ],
 "metadata": {
  "kernelspec": {
   "display_name": "Python 3 (ipykernel)",
   "language": "python",
   "name": "python3"
  },
  "language_info": {
   "codemirror_mode": {
    "name": "ipython",
    "version": 3
   },
   "file_extension": ".py",
   "mimetype": "text/x-python",
   "name": "python",
   "nbconvert_exporter": "python",
   "pygments_lexer": "ipython3",
   "version": "3.11.4"
  }
 },
 "nbformat": 4,
 "nbformat_minor": 5
}
