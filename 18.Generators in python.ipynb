{
 "cells": [
  {
   "cell_type": "markdown",
   "id": "a69ca3b2-c7fe-42d0-bc05-8cc17d9a28a6",
   "metadata": {},
   "source": [
    "# 18. Generators in Python\n",
    "\n",
    " * __Python generators are the function that ruturns the transversal object and a simple way of creating itertors.__\n",
    " * __It transverse the entire items at once.__\n",
    " * __The generators can also be an expression in which syntax is similar to the list comprehension in python.__\n",
    " * __There is a lot of complexity in creating iteration in Python, It is required to implement iter() and next().__"
   ]
  }
 ],
 "metadata": {
  "kernelspec": {
   "display_name": "Python 3 (ipykernel)",
   "language": "python",
   "name": "python3"
  },
  "language_info": {
   "codemirror_mode": {
    "name": "ipython",
    "version": 3
   },
   "file_extension": ".py",
   "mimetype": "text/x-python",
   "name": "python",
   "nbconvert_exporter": "python",
   "pygments_lexer": "ipython3",
   "version": "3.12.2"
  }
 },
 "nbformat": 4,
 "nbformat_minor": 5
}
