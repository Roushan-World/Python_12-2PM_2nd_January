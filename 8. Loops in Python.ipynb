{
 "cells": [
  {
   "cell_type": "markdown",
   "id": "3eaf2505-ae75-4c75-8550-720f333afafe",
   "metadata": {},
   "source": [
    "# 8. Loops in Python\n",
    "\n",
    " * __A for loop is used for iterating over a sequence (that is either a list, a tuple, a dictionary, a set or a string).__\n",
    " * __This is less like the for keyword in other programming languages, and works more like an iterator method as found in other object-oriented programming languages.__\n",
    " * __With the for loop we can execute a set of statements, once for each item in a lsit, tuple, set etc.__\n",
    " * __The for loop does not require an indexing variable to set beforehand.__\n",
    " * __With the while loop we can execute a set of statements as long as a condition is true.__\n",
    " * __Note: remember to increment, i, or else the loop will continue forever.__\n",
    " * __This while loop requires relevant variables to be ready, in this example we need to define an indexing variable, i, which is set to .__\n",
    "\n",
    "# range() function\n",
    "\n",
    " * __It is helpful to think of the range object as an ordered list.__\n",
    " * __To loop through a set of code a sepcified number of times, we can sue the range() functions.__\n",
    " * __The range() function returns a sequence of numbers, starting from 0 by default, and increments by 1 (by defualt), and ends at a specified number.__"
   ]
  },
  {
   "cell_type": "code",
   "execution_count": 2,
   "id": "e4427d78-443d-44a8-b9af-673519f8d8ae",
   "metadata": {},
   "outputs": [
    {
     "name": "stdout",
     "output_type": "stream",
     "text": [
      "range(0, 10)\n",
      "range(0, 5)\n"
     ]
    }
   ],
   "source": [
    "print(range(10))\n",
    "print(range(5))"
   ]
  },
  {
   "cell_type": "code",
   "execution_count": 3,
   "id": "b70210cb-3f33-4407-a9ab-b85dbc3b4515",
   "metadata": {},
   "outputs": [
    {
     "name": "stdout",
     "output_type": "stream",
     "text": [
      "0\n",
      "1\n",
      "2\n",
      "3\n",
      "4\n",
      "5\n",
      "6\n",
      "7\n",
      "8\n",
      "9\n"
     ]
    }
   ],
   "source": [
    "for i in range(10):\n",
    "    print(i)"
   ]
  },
  {
   "cell_type": "code",
   "execution_count": 8,
   "id": "20659b0f-9931-4d44-846f-bfbb33bb8563",
   "metadata": {},
   "outputs": [
    {
     "name": "stdout",
     "output_type": "stream",
     "text": [
      "0 1 2 3 4 5 6 7 8 9 "
     ]
    }
   ],
   "source": [
    "for aditi in range(10):\n",
    "    print(aditi,end=' ')"
   ]
  },
  {
   "cell_type": "code",
   "execution_count": 7,
   "id": "e9bfd497-3a59-4417-b15b-a9918f71efc8",
   "metadata": {},
   "outputs": [
    {
     "name": "stdout",
     "output_type": "stream",
     "text": [
      "0,1,2,3,4,5,6,7,8,9,10,11,12,13,14,15,16,17,18,19,20,21,22,23,24,25,26,27,28,29,30,31,32,33,34,35,36,37,38,39,40,41,42,43,44,45,46,47,48,49,"
     ]
    }
   ],
   "source": [
    "for rupali in range(50):\n",
    "    print(rupali,end=',')"
   ]
  },
  {
   "cell_type": "code",
   "execution_count": 10,
   "id": "74f169cc-8639-4843-b9e5-f87bab5033f6",
   "metadata": {},
   "outputs": [
    {
     "name": "stdout",
     "output_type": "stream",
     "text": [
      "10 20 30 40 50 60 70 80 90 "
     ]
    }
   ],
   "source": [
    "list=[10,20,30,40,50,60,70,80,90]\n",
    "\n",
    "for i in list:\n",
    "    print(i,end=' ')"
   ]
  },
  {
   "cell_type": "code",
   "execution_count": 12,
   "id": "b8ff1578-3d1f-44aa-8ead-d8973752fdf0",
   "metadata": {},
   "outputs": [
    {
     "name": "stdout",
     "output_type": "stream",
     "text": [
      "a\n",
      "name\n"
     ]
    }
   ],
   "source": [
    "dict={\"a\":\"rupali\",\"name\":\"Happy Happy\"}\n",
    "\n",
    "for i in dict:\n",
    "    print(i)"
   ]
  },
  {
   "cell_type": "code",
   "execution_count": 15,
   "id": "7fe3c1c4-48ba-4024-953e-dcc093ede3a2",
   "metadata": {},
   "outputs": [
    {
     "name": "stdout",
     "output_type": "stream",
     "text": [
      "1,2,3,4,5,6,7,8,9,99,"
     ]
    }
   ],
   "source": [
    "a={1,2,3,4,5,6,7,8,9,99,9,9,9,9,9,9}\n",
    "\n",
    "for i in a:\n",
    "    print(i,end=',')"
   ]
  },
  {
   "cell_type": "code",
   "execution_count": 21,
   "id": "b9fae1a8-f370-4427-a7eb-67909c055430",
   "metadata": {
    "scrolled": true
   },
   "outputs": [
    {
     "name": "stdout",
     "output_type": "stream",
     "text": [
      "0 Apple\n",
      "1 Banana\n",
      "2 Carrot\n",
      "3 Bits\n",
      "4 Kiwi\n",
      "5 StrawBerry\n",
      "6 Mango\n",
      "7 Orange\n",
      "8 Grapes\n",
      "9 Watermelon\n",
      "10 Muskmelon\n"
     ]
    }
   ],
   "source": [
    "# len= \n",
    "fruits=[\"Apple\",\"Banana\",\"Carrot\",\"Bits\",\"Kiwi\",\"StrawBerry\",\"Mango\",\"Orange\",\"Grapes\",\"Watermelon\",\"Muskmelon\"]\n",
    "\n",
    "for i in range(len(fruits)):\n",
    "    print(i,fruits[i])"
   ]
  },
  {
   "cell_type": "code",
   "execution_count": 24,
   "id": "bac98a02-faa1-421e-872e-5d15952e8b4b",
   "metadata": {},
   "outputs": [
    {
     "name": "stdout",
     "output_type": "stream",
     "text": [
      "0 Apple\n",
      "1 Banana\n",
      "2 Carrot\n",
      "3 Bits\n",
      "4 Kiwi\n",
      "5 StrawBerry\n",
      "6 Mango\n",
      "7 Orange\n",
      "8 Grapes\n",
      "9 Watermelon\n",
      "10 Muskmelon\n"
     ]
    }
   ],
   "source": [
    "fruits=[\"Apple\",\"Banana\",\"Carrot\",\"Bits\",\"Kiwi\",\"StrawBerry\",\"Mango\",\"Orange\",\"Grapes\",\"Watermelon\",\"Muskmelon\"]\n",
    "\n",
    "for i in range(len(fruits)):\n",
    "    print(i,fruits[i])"
   ]
  },
  {
   "cell_type": "code",
   "execution_count": 32,
   "id": "bb299650-f615-4a29-b8b9-32f9f45a3a11",
   "metadata": {},
   "outputs": [
    {
     "name": "stdout",
     "output_type": "stream",
     "text": [
      "5\n",
      "6\n",
      "7\n",
      "8\n",
      "9\n"
     ]
    }
   ],
   "source": [
    "for i in range(5,10):\n",
    "    print(i)"
   ]
  },
  {
   "cell_type": "code",
   "execution_count": 40,
   "id": "3205ff42-bf77-401b-9a88-10cc38c69a88",
   "metadata": {},
   "outputs": [
    {
     "name": "stdout",
     "output_type": "stream",
     "text": [
      "1\n",
      "3\n",
      "5\n",
      "7\n",
      "9\n",
      "11\n",
      "13\n",
      "15\n",
      "17\n",
      "19\n",
      "21\n",
      "23\n",
      "25\n",
      "27\n",
      "29\n",
      "31\n",
      "33\n",
      "35\n",
      "37\n",
      "39\n",
      "41\n",
      "43\n",
      "45\n",
      "47\n",
      "49\n"
     ]
    }
   ],
   "source": [
    "# 1,3,5,7-------------50\n",
    "\n",
    "for i in range(1,51,2):\n",
    "    print(i)"
   ]
  },
  {
   "cell_type": "code",
   "execution_count": 46,
   "id": "b10061e0-1986-4f0a-8954-ac6c690725f6",
   "metadata": {},
   "outputs": [
    {
     "name": "stdout",
     "output_type": "stream",
     "text": [
      "0 Java\n",
      "0 rupali\n",
      "1 Python\n",
      "1 rupali\n",
      "2 Django\n",
      "2 rupali\n",
      "3 Flask\n",
      "3 rupali\n",
      "4 C\n",
      "4 rupali\n",
      "5 C++\n",
      "5 rupali\n",
      "6 PHP\n",
      "6 rupali\n"
     ]
    }
   ],
   "source": [
    "list_languages=[\"Java\",\"Python\",\"Django\",\"Flask\",\"C\",\"C++\",\"PHP\"]\n",
    "\n",
    "for i in range(len(list_languages)):\n",
    "    print(i,list_languages[i])\n",
    "    list_languages[i]=\"rupali\"\n",
    "    print(i,list_languages[i])"
   ]
  },
  {
   "cell_type": "code",
   "execution_count": 47,
   "id": "ab5cf3b0-4d67-43bb-9c34-1ad62a7d531a",
   "metadata": {},
   "outputs": [
    {
     "name": "stdout",
     "output_type": "stream",
     "text": [
      "0 Java\n",
      "1 Python\n",
      "2 Django\n",
      "3 Flask\n",
      "4 C\n",
      "5 C++\n",
      "6 PHP\n"
     ]
    }
   ],
   "source": [
    "list_languages=[\"Java\",\"Python\",\"Django\",\"Flask\",\"C\",\"C++\",\"PHP\"]\n",
    "\n",
    "for i in range(len(list_languages)):\n",
    "    print(i,list_languages[i])"
   ]
  },
  {
   "cell_type": "code",
   "execution_count": 49,
   "id": "54ba0379-18c5-4de0-8a57-0ccdd19b167f",
   "metadata": {},
   "outputs": [
    {
     "name": "stdout",
     "output_type": "stream",
     "text": [
      "0 Java\n",
      "1 Python\n",
      "2 Django\n",
      "3 Flask\n",
      "4 C\n",
      "5 C++\n",
      "6 PHP\n"
     ]
    }
   ],
   "source": [
    "# enumerate   # range,len\n",
    "\n",
    "for x,y in enumerate(list_languages):\n",
    "    print(x,y)"
   ]
  },
  {
   "cell_type": "code",
   "execution_count": 51,
   "id": "f1361ae0-2bea-4206-a1d6-02d7cd50a086",
   "metadata": {},
   "outputs": [
    {
     "name": "stdout",
     "output_type": "stream",
     "text": [
      "0 Ram\n",
      "1 Shyam\n",
      "2 Bharat\n",
      "3 Love\n",
      "4 Kush\n"
     ]
    }
   ],
   "source": [
    "list=[\"Ram\",\"Shyam\",\"Bharat\",\"Love\",\"Kush\"]\n",
    "\n",
    "for i in range(len(list)):\n",
    "    print(i,list[i])"
   ]
  },
  {
   "cell_type": "code",
   "execution_count": 55,
   "id": "b521c9d2-4a8b-4f2e-b1e8-3b09b5b69199",
   "metadata": {},
   "outputs": [
    {
     "name": "stdout",
     "output_type": "stream",
     "text": [
      "0 Ram,1 Shyam,2 Bharat,3 Love,4 Kush,"
     ]
    }
   ],
   "source": [
    "#enumerate\n",
    "\n",
    "for x,y in enumerate(list):\n",
    "    print(x,y,end=\",\")"
   ]
  },
  {
   "cell_type": "code",
   "execution_count": 56,
   "id": "882ce16f-3a0a-4d3c-aa4b-73ec4071ddf7",
   "metadata": {},
   "outputs": [
    {
     "name": "stdout",
     "output_type": "stream",
     "text": [
      "-3\n",
      "-2\n",
      "-1\n",
      "0\n",
      "1\n",
      "2\n",
      "3\n",
      "4\n",
      "5\n",
      "6\n",
      "7\n",
      "8\n",
      "9\n"
     ]
    }
   ],
   "source": [
    "for i in range(-3,10):\n",
    "    print(i)"
   ]
  },
  {
   "cell_type": "code",
   "execution_count": 61,
   "id": "dc1896d2-8139-45fa-a68a-e8c650cbef38",
   "metadata": {},
   "outputs": [
    {
     "name": "stdin",
     "output_type": "stream",
     "text": [
      "Enter a number: 40\n"
     ]
    },
    {
     "name": "stdout",
     "output_type": "stream",
     "text": [
      "40X1=40\n",
      "40X2=80\n",
      "40X3=120\n",
      "40X4=160\n",
      "40X5=200\n",
      "40X6=240\n",
      "40X7=280\n",
      "40X8=320\n",
      "40X9=360\n",
      "40X10=400\n"
     ]
    }
   ],
   "source": [
    "# 2*1=2\n",
    "# 2*2=4\n",
    "\n",
    "number=int(input(\"Enter a number:\"))\n",
    "\n",
    "for i in range(1,11):\n",
    "    print(\"%dX%d=%d\"%(number,i,number*i))"
   ]
  },
  {
   "cell_type": "code",
   "execution_count": 62,
   "id": "051fcdcd-df11-46c5-94b0-ea914fc18d19",
   "metadata": {},
   "outputs": [
    {
     "name": "stdin",
     "output_type": "stream",
     "text": [
      "Enter a number: 45\n"
     ]
    },
    {
     "name": "stdout",
     "output_type": "stream",
     "text": [
      "45 X 1 = 45\n",
      "45 X 2 = 90\n",
      "45 X 3 = 135\n",
      "45 X 4 = 180\n",
      "45 X 5 = 225\n",
      "45 X 6 = 270\n",
      "45 X 7 = 315\n",
      "45 X 8 = 360\n",
      "45 X 9 = 405\n",
      "45 X 10 = 450\n"
     ]
    }
   ],
   "source": [
    "number=int(input(\"Enter a number:\"))\n",
    "\n",
    "for i in range(1,11):\n",
    "    print(number,\"X\",i,\"=\",number*i)"
   ]
  },
  {
   "cell_type": "code",
   "execution_count": 75,
   "id": "3bb4c269-edcc-4c50-8e6a-a1a8f5b442de",
   "metadata": {},
   "outputs": [
    {
     "name": "stdout",
     "output_type": "stream",
     "text": [
      "The total sum of the list is: 550 \n",
      "Average value of the list: 55.0\n"
     ]
    }
   ],
   "source": [
    "nlis=[10,20,30,40,50,60,70,80,90,100]\n",
    "\n",
    "# find the total sum using for loop\n",
    "\n",
    "#sum(nlis)\n",
    "x=0\n",
    "for i in nlis:\n",
    "    x+=i\n",
    "print(\"The total sum of the list is:\",x,\"\\nAverage value of the list:\",x/len(nlis))"
   ]
  },
  {
   "cell_type": "code",
   "execution_count": 67,
   "id": "c5ecf128-a576-4a19-85f6-f5d4aa3c846f",
   "metadata": {},
   "outputs": [
    {
     "data": {
      "text/plain": [
       "5"
      ]
     },
     "execution_count": 67,
     "metadata": {},
     "output_type": "execute_result"
    }
   ],
   "source": [
    "# assignmen operator\n",
    "\n",
    "i=10\n",
    "\n",
    "i-=5\n",
    "i"
   ]
  },
  {
   "cell_type": "code",
   "execution_count": 76,
   "id": "53f4a47b-6b6d-455d-8051-8d40433230d6",
   "metadata": {},
   "outputs": [
    {
     "name": "stdout",
     "output_type": "stream",
     "text": [
      "The total sum of the list is: 550 \n",
      "Average value of the list: 55.0\n"
     ]
    }
   ],
   "source": [
    "nlis=[10,20,30,40,50,60,70,80,90,100]\n",
    "\n",
    "# find the total sum using for loop\n",
    "\n",
    "#sum(nlis)\n",
    "x=0\n",
    "rupali=0\n",
    "\n",
    "\n",
    "for i in nlis:\n",
    "    x+=i\n",
    "print(\"The total sum of the list is:\",x,\"\\nAverage value of the list:\",x/len(nlis))"
   ]
  },
  {
   "cell_type": "code",
   "execution_count": 93,
   "id": "b59a9050-5f49-4845-967d-27923b7f6399",
   "metadata": {},
   "outputs": [
    {
     "name": "stdout",
     "output_type": "stream",
     "text": [
      "\n",
      "Square of the number is: 100 \n",
      "Sum of the value: 10 \n",
      "Cubic number of the list is: 1000\n",
      "\n",
      "Square of the number is: 400 \n",
      "Sum of the value: 30 \n",
      "Cubic number of the list is: 8000\n",
      "\n",
      "Square of the number is: 900 \n",
      "Sum of the value: 60 \n",
      "Cubic number of the list is: 27000\n",
      "\n",
      "Square of the number is: 1600 \n",
      "Sum of the value: 100 \n",
      "Cubic number of the list is: 64000\n",
      "\n",
      "Square of the number is: 2500 \n",
      "Sum of the value: 150 \n",
      "Cubic number of the list is: 125000\n",
      "\n",
      "Square of the number is: 3600 \n",
      "Sum of the value: 210 \n",
      "Cubic number of the list is: 216000\n",
      "\n",
      "Square of the number is: 4900 \n",
      "Sum of the value: 280 \n",
      "Cubic number of the list is: 343000\n",
      "\n",
      "Square of the number is: 6400 \n",
      "Sum of the value: 360 \n",
      "Cubic number of the list is: 512000\n",
      "\n",
      "Square of the number is: 8100 \n",
      "Sum of the value: 450 \n",
      "Cubic number of the list is: 729000\n",
      "\n",
      "Square of the number is: 10000 \n",
      "Sum of the value: 550 \n",
      "Cubic number of the list is: 1000000\n"
     ]
    }
   ],
   "source": [
    "nlis=[10,20,30,40,50,60,70,80,90,100]\n",
    "\n",
    "# find the square of the list.\n",
    "\n",
    "square_num=0\n",
    "x=0\n",
    "cube=0\n",
    "for i in nlis:\n",
    "    square_num=i**2\n",
    "    x+=i\n",
    "    cube=i**3\n",
    "    print(\"\\nSquare of the number is:\",square_num,\"\\nSum of the value:\",x,\"\\nCubic number of the list is:\",cube)"
   ]
  },
  {
   "cell_type": "code",
   "execution_count": 96,
   "id": "57c671f1-12cc-477e-89b3-e533bd4895c3",
   "metadata": {},
   "outputs": [
    {
     "name": "stdin",
     "output_type": "stream",
     "text": [
      "Enter any number: 50\n"
     ]
    },
    {
     "name": "stdout",
     "output_type": "stream",
     "text": [
      "\n",
      "+\n",
      "++\n",
      "+++\n",
      "++++\n",
      "+++++\n",
      "++++++\n",
      "+++++++\n",
      "++++++++\n",
      "+++++++++\n",
      "++++++++++\n",
      "+++++++++++\n",
      "++++++++++++\n",
      "+++++++++++++\n",
      "++++++++++++++\n",
      "+++++++++++++++\n",
      "++++++++++++++++\n",
      "+++++++++++++++++\n",
      "++++++++++++++++++\n",
      "+++++++++++++++++++\n",
      "++++++++++++++++++++\n",
      "+++++++++++++++++++++\n",
      "++++++++++++++++++++++\n",
      "+++++++++++++++++++++++\n",
      "++++++++++++++++++++++++\n",
      "+++++++++++++++++++++++++\n",
      "++++++++++++++++++++++++++\n",
      "+++++++++++++++++++++++++++\n",
      "++++++++++++++++++++++++++++\n",
      "+++++++++++++++++++++++++++++\n",
      "++++++++++++++++++++++++++++++\n",
      "+++++++++++++++++++++++++++++++\n",
      "++++++++++++++++++++++++++++++++\n",
      "+++++++++++++++++++++++++++++++++\n",
      "++++++++++++++++++++++++++++++++++\n",
      "+++++++++++++++++++++++++++++++++++\n",
      "++++++++++++++++++++++++++++++++++++\n",
      "+++++++++++++++++++++++++++++++++++++\n",
      "++++++++++++++++++++++++++++++++++++++\n",
      "+++++++++++++++++++++++++++++++++++++++\n",
      "++++++++++++++++++++++++++++++++++++++++\n",
      "+++++++++++++++++++++++++++++++++++++++++\n",
      "++++++++++++++++++++++++++++++++++++++++++\n",
      "+++++++++++++++++++++++++++++++++++++++++++\n",
      "++++++++++++++++++++++++++++++++++++++++++++\n",
      "+++++++++++++++++++++++++++++++++++++++++++++\n",
      "++++++++++++++++++++++++++++++++++++++++++++++\n",
      "+++++++++++++++++++++++++++++++++++++++++++++++\n",
      "++++++++++++++++++++++++++++++++++++++++++++++++\n",
      "+++++++++++++++++++++++++++++++++++++++++++++++++\n",
      "++++++++++++++++++++++++++++++++++++++++++++++++++"
     ]
    }
   ],
   "source": [
    "# nested loop i.e for inside loop\n",
    "\n",
    "num=int(input(\"Enter any number:\"))\n",
    "\n",
    "i,j=0,0\n",
    "\n",
    "for i  in range(0,num):\n",
    "    print()\n",
    "    for j in range(0,i+1):\n",
    "        print('+', end='')"
   ]
  },
  {
   "cell_type": "code",
   "execution_count": null,
   "id": "e71e6fc0-cc64-4cfa-ba35-97ae5b7a6713",
   "metadata": {},
   "outputs": [],
   "source": []
  },
  {
   "cell_type": "code",
   "execution_count": null,
   "id": "56dab659-1e44-470b-81e8-9158ce3f0291",
   "metadata": {},
   "outputs": [],
   "source": []
  }
 ],
 "metadata": {
  "kernelspec": {
   "display_name": "Python 3 (ipykernel)",
   "language": "python",
   "name": "python3"
  },
  "language_info": {
   "codemirror_mode": {
    "name": "ipython",
    "version": 3
   },
   "file_extension": ".py",
   "mimetype": "text/x-python",
   "name": "python",
   "nbconvert_exporter": "python",
   "pygments_lexer": "ipython3",
   "version": "3.11.4"
  }
 },
 "nbformat": 4,
 "nbformat_minor": 5
}
