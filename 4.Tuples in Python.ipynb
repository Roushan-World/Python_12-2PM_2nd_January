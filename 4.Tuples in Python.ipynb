{
 "cells": [
  {
   "cell_type": "markdown",
   "id": "fe115b3d-acb2-47e3-9e35-a280aead9cf6",
   "metadata": {},
   "source": [
    "# 4. Tuples in Python\n",
    "\n",
    " * __Tuples are immutable lists and connot be changed in any way once it is created.__\n",
    " * __Tuples are defined in the same way as lists.__\n",
    " * __They are enclosed witin parenthesis and not within square braces.__\n",
    " * __Tuples are ordered, indexed collections of data.__\n",
    " * __Similar to string indices, the first value in the tupel will have the index[0], and the second value is [1].__\n",
    " * __Negative indices are counted from the end of the tuple, just like lists.__\n",
    " * __Tuple also has the same structure where commas separate the value.__\n",
    " * __Tuples can store duplicate values.__\n",
    " * __Tuples allow you to store several data items including string, integer, float in one variable.__ "
   ]
  },
  {
   "cell_type": "code",
   "execution_count": 9,
   "id": "2f23c3ea-eb33-4bb9-9de8-847e4e999e11",
   "metadata": {},
   "outputs": [
    {
     "name": "stdout",
     "output_type": "stream",
     "text": [
      "('Hello', 'Python', 3.14, 1.618, True, False, 32, [10, 20], {1, 2, 3}, {'Name': 'Jyoti'}, (0, 1))\n",
      "<class 'tuple'>\n"
     ]
    }
   ],
   "source": [
    "tuple_1=(\"Hello\",'Python',3.14,1.618,True,False,32,[10,20],{1,2,3},{'Name':\"Jyoti\"},(0,1))\n",
    "print(tuple_1)\n",
    "print(type(tuple_1))"
   ]
  },
  {
   "cell_type": "code",
   "execution_count": 10,
   "id": "f307f057-68db-457e-9c99-1a64facc5f79",
   "metadata": {},
   "outputs": [
    {
     "name": "stdout",
     "output_type": "stream",
     "text": [
      "11\n"
     ]
    }
   ],
   "source": [
    "print(len(tuple_1))"
   ]
  },
  {
   "cell_type": "code",
   "execution_count": 15,
   "id": "5f2e9269-d25c-4583-8eff-20e490775baa",
   "metadata": {},
   "outputs": [
    {
     "name": "stdout",
     "output_type": "stream",
     "text": [
      "Hello\n",
      "Python\n",
      "3.14\n",
      "(0, 1)\n"
     ]
    }
   ],
   "source": [
    "# indexing of tuple\n",
    "print(tuple_1[0])\n",
    "print(tuple_1[1])\n",
    "print(tuple_1[2])\n",
    "print(tuple_1[10])"
   ]
  },
  {
   "cell_type": "code",
   "execution_count": 16,
   "id": "f20417d0-f347-4228-99e0-ef71128f9c2b",
   "metadata": {},
   "outputs": [
    {
     "name": "stdout",
     "output_type": "stream",
     "text": [
      "(0, 1)\n"
     ]
    }
   ],
   "source": [
    "print(tuple_1[-1])"
   ]
  },
  {
   "cell_type": "markdown",
   "id": "4e5ea8a6-5825-4ead-bac5-b6d8acceafc7",
   "metadata": {},
   "source": [
    "# Concatenation of tuples\n",
    "\n",
    " * __To concatenate tuple + sign is used.__"
   ]
  },
  {
   "cell_type": "code",
   "execution_count": 21,
   "id": "6c75b21a-072e-4e4d-990e-988c01ec072e",
   "metadata": {},
   "outputs": [
    {
     "name": "stdout",
     "output_type": "stream",
     "text": [
      "('Hello', 'Python', 3.14, 1.618, True, False, 32, [10, 20], {1, 2, 3}, {'Name': 'Jyoti'}, (0, 1))\n",
      "('hello world', 2024)\n",
      "('Hello', 'Python', 3.14, 1.618, True, False, 32, [10, 20], {1, 2, 3}, {'Name': 'Jyoti'}, (0, 1), 'hello world', 2024)\n"
     ]
    }
   ],
   "source": [
    "print(tuple_1)\n",
    "\n",
    "tuple_2=(\"hello world\",2024)\n",
    "print(tuple_2)\n",
    "\n",
    "tuple_3=tuple_1+tuple_2\n",
    "print(tuple_3)"
   ]
  },
  {
   "cell_type": "code",
   "execution_count": 27,
   "id": "62ebf382-9a9f-4d81-83ad-8d62bcdee4c8",
   "metadata": {},
   "outputs": [
    {
     "ename": "AttributeError",
     "evalue": "'tuple' object has no attribute 'insert'",
     "output_type": "error",
     "traceback": [
      "\u001b[1;31m---------------------------------------------------------------------------\u001b[0m",
      "\u001b[1;31mAttributeError\u001b[0m                            Traceback (most recent call last)",
      "Cell \u001b[1;32mIn[27], line 5\u001b[0m\n\u001b[0;32m      1\u001b[0m \u001b[38;5;66;03m# insert \u001b[39;00m\n\u001b[0;32m      3\u001b[0m tuple_4\u001b[38;5;241m=\u001b[39m(\u001b[38;5;124m\"\u001b[39m\u001b[38;5;124mHello Python\u001b[39m\u001b[38;5;124m\"\u001b[39m,\u001b[38;5;241m100\u001b[39m)\n\u001b[1;32m----> 5\u001b[0m \u001b[43mtuple_4\u001b[49m\u001b[38;5;241;43m.\u001b[39;49m\u001b[43minsert\u001b[49m(\u001b[38;5;241m0\u001b[39m,\u001b[38;5;124m\"\u001b[39m\u001b[38;5;124mJyoti\u001b[39m\u001b[38;5;124m\"\u001b[39m)\n\u001b[0;32m      6\u001b[0m \u001b[38;5;28mprint\u001b[39m(tuple_4)\n\u001b[0;32m      7\u001b[0m \u001b[38;5;28mprint\u001b[39m(\u001b[38;5;28mtype\u001b[39m(tuple_4))\n",
      "\u001b[1;31mAttributeError\u001b[0m: 'tuple' object has no attribute 'insert'"
     ]
    }
   ],
   "source": [
    "# insert \n",
    "\n",
    "tuple_4=(\"Hello Python\",100)\n",
    "\n",
    "tuple_4.insert(0,\"Jyoti\")\n",
    "print(tuple_4)\n",
    "print(type(tuple_4))"
   ]
  },
  {
   "cell_type": "code",
   "execution_count": 28,
   "id": "4da4caf0-5062-4a0d-b5d0-ef436cb4d3b8",
   "metadata": {},
   "outputs": [
    {
     "data": {
      "text/plain": [
       "('Hello Python', 100)"
      ]
     },
     "execution_count": 28,
     "metadata": {},
     "output_type": "execute_result"
    }
   ],
   "source": [
    "tuple_4"
   ]
  },
  {
   "cell_type": "code",
   "execution_count": 31,
   "id": "ea3b6a0e-849d-4348-ab24-b35df30144f1",
   "metadata": {},
   "outputs": [
    {
     "data": {
      "text/plain": [
       "['Hello world', 'I am aditi', 40]"
      ]
     },
     "execution_count": 31,
     "metadata": {},
     "output_type": "execute_result"
    }
   ],
   "source": [
    "# update the value in list\n",
    "\n",
    "list1=['Hello world',\"I am aditi\",100]\n",
    "list1[2]=40\n",
    "list1"
   ]
  },
  {
   "cell_type": "code",
   "execution_count": 33,
   "id": "97dfc020-7eea-4016-b3fe-5718695e8d02",
   "metadata": {},
   "outputs": [
    {
     "ename": "TypeError",
     "evalue": "'tuple' object does not support item assignment",
     "output_type": "error",
     "traceback": [
      "\u001b[1;31m---------------------------------------------------------------------------\u001b[0m",
      "\u001b[1;31mTypeError\u001b[0m                                 Traceback (most recent call last)",
      "Cell \u001b[1;32mIn[33], line 2\u001b[0m\n\u001b[0;32m      1\u001b[0m \u001b[38;5;66;03m# update the value in tuple\u001b[39;00m\n\u001b[1;32m----> 2\u001b[0m \u001b[43mtuple_4\u001b[49m\u001b[43m[\u001b[49m\u001b[38;5;241;43m1\u001b[39;49m\u001b[43m]\u001b[49m\u001b[38;5;241m=\u001b[39m\u001b[38;5;241m40\u001b[39m\n\u001b[0;32m      3\u001b[0m tuple_4\n",
      "\u001b[1;31mTypeError\u001b[0m: 'tuple' object does not support item assignment"
     ]
    }
   ],
   "source": [
    "# update the value in tuple\n",
    "tuple_4[1]=40\n",
    "tuple_4"
   ]
  },
  {
   "cell_type": "code",
   "execution_count": 37,
   "id": "e26102e3-1d31-4da8-a838-684379ec6ad6",
   "metadata": {},
   "outputs": [
    {
     "name": "stdout",
     "output_type": "stream",
     "text": [
      "(1, 2, 3, 4)\n"
     ]
    },
    {
     "data": {
      "text/plain": [
       "(1, 2, 3, 4, 1, 2, 3, 4, 1, 2, 3, 4)"
      ]
     },
     "execution_count": 37,
     "metadata": {},
     "output_type": "execute_result"
    }
   ],
   "source": [
    "# Repetition of tuple\n",
    "\n",
    "rep_tup=(1,2,3,4)\n",
    "print(rep_tup)\n",
    "\n",
    "rep_tup*3"
   ]
  },
  {
   "cell_type": "code",
   "execution_count": 38,
   "id": "b9ab7e84-ddb8-4b17-887b-717d066f8359",
   "metadata": {},
   "outputs": [
    {
     "data": {
      "text/plain": [
       "'AditiAditi'"
      ]
     },
     "execution_count": 38,
     "metadata": {},
     "output_type": "execute_result"
    }
   ],
   "source": [
    "x='Aditi'\n",
    "x*2"
   ]
  },
  {
   "cell_type": "markdown",
   "id": "ab9b6c2c-cff9-44ab-ab73-3eac986c2783",
   "metadata": {},
   "source": [
    "# membership in tuple\n",
    "\n"
   ]
  },
  {
   "cell_type": "code",
   "execution_count": 42,
   "id": "cf2b32e8-e3e7-48bc-8b62-20ff046dda01",
   "metadata": {},
   "outputs": [
    {
     "name": "stdout",
     "output_type": "stream",
     "text": [
      "True\n",
      "False\n",
      "False\n"
     ]
    }
   ],
   "source": [
    "x=(40,50,60,70,80)\n",
    "\n",
    "print(70 in x)\n",
    "print(2 in x)\n",
    "print(40 not in x)"
   ]
  },
  {
   "cell_type": "code",
   "execution_count": 43,
   "id": "4547196f-2b80-4eb2-87df-14d83dc28894",
   "metadata": {},
   "outputs": [
    {
     "data": {
      "text/plain": [
       "(40, 50, 60, 70, 80)"
      ]
     },
     "execution_count": 43,
     "metadata": {},
     "output_type": "execute_result"
    }
   ],
   "source": [
    "x"
   ]
  },
  {
   "cell_type": "code",
   "execution_count": 44,
   "id": "519dc726-fffd-4e1c-99a8-a1d8893d1ef6",
   "metadata": {},
   "outputs": [
    {
     "data": {
      "text/plain": [
       "40"
      ]
     },
     "execution_count": 44,
     "metadata": {},
     "output_type": "execute_result"
    }
   ],
   "source": [
    "min(x)"
   ]
  },
  {
   "cell_type": "code",
   "execution_count": 45,
   "id": "2b6d1039-f940-48e3-95d9-931c8126bc01",
   "metadata": {},
   "outputs": [
    {
     "data": {
      "text/plain": [
       "80"
      ]
     },
     "execution_count": 45,
     "metadata": {},
     "output_type": "execute_result"
    }
   ],
   "source": [
    "max(x)"
   ]
  },
  {
   "cell_type": "code",
   "execution_count": 46,
   "id": "34d1f06e-0bc2-4dde-8249-61e8f07e1a35",
   "metadata": {},
   "outputs": [
    {
     "data": {
      "text/plain": [
       "300"
      ]
     },
     "execution_count": 46,
     "metadata": {},
     "output_type": "execute_result"
    }
   ],
   "source": [
    "sum(x)"
   ]
  },
  {
   "cell_type": "code",
   "execution_count": 48,
   "id": "0672fe64-6bc0-4570-a0d3-4b4b238f483a",
   "metadata": {},
   "outputs": [
    {
     "name": "stdout",
     "output_type": "stream",
     "text": [
      "('Hello', 'Python', 3.14, 1.618, True, False, 32, [10, 20], {1, 2, 3}, {'Name': 'Jyoti'}, (0, 1))\n"
     ]
    }
   ],
   "source": [
    "print(tuple_1)"
   ]
  },
  {
   "cell_type": "code",
   "execution_count": 52,
   "id": "f20f51b0-967e-4a59-be77-48400f5758f1",
   "metadata": {},
   "outputs": [
    {
     "data": {
      "text/plain": [
       "('Python', 3.14, 1.618, True, False)"
      ]
     },
     "execution_count": 52,
     "metadata": {},
     "output_type": "execute_result"
    }
   ],
   "source": [
    "# Slicing of tuple\n",
    "tuple_1[1:6]"
   ]
  },
  {
   "cell_type": "code",
   "execution_count": 53,
   "id": "6b59a562-47f6-4644-a6a9-f1bcc85ac443",
   "metadata": {},
   "outputs": [
    {
     "data": {
      "text/plain": [
       "({1, 2, 3}, {'Name': 'Jyoti'})"
      ]
     },
     "execution_count": 53,
     "metadata": {},
     "output_type": "execute_result"
    }
   ],
   "source": [
    "tuple_1[8:10]"
   ]
  },
  {
   "cell_type": "code",
   "execution_count": 56,
   "id": "647dc035-26a7-4198-9ea4-f56544aa362d",
   "metadata": {},
   "outputs": [
    {
     "name": "stdout",
     "output_type": "stream",
     "text": [
      "(0, 9, 5, 4, 3, 5, 8, 7, 90, 100)\n",
      "<class 'tuple'>\n"
     ]
    }
   ],
   "source": [
    "# sorting in tuple\n",
    "\n",
    "x1=(0,9,5,4,3,5,8,7,90,100)\n",
    "print(x1)\n",
    "print(type(x1))"
   ]
  },
  {
   "cell_type": "code",
   "execution_count": 58,
   "id": "5289b122-571f-43cb-9918-d59e8226c2a5",
   "metadata": {},
   "outputs": [
    {
     "name": "stdout",
     "output_type": "stream",
     "text": [
      "[0, 3, 4, 5, 5, 7, 8, 9, 90, 100]\n",
      "<class 'list'>\n"
     ]
    }
   ],
   "source": [
    "y1=sorted(x1)\n",
    "print(y1)\n",
    "print(type(y1))"
   ]
  },
  {
   "cell_type": "markdown",
   "id": "8562b1e7-d111-4f9e-baca-520bf9fc9af5",
   "metadata": {},
   "source": [
    "# Nested tuple\n",
    "\n",
    " * __In Python, a tuple written another tuple is known as a nested tuple.__"
   ]
  },
  {
   "cell_type": "code",
   "execution_count": 59,
   "id": "ef334d2d-420d-461d-88a6-db0bd3608573",
   "metadata": {},
   "outputs": [
    {
     "data": {
      "text/plain": [
       "('Hello world', (0, 1), ('Hi', 'Python'), (3.14, 'pi', 1.618, 'Ratio'))"
      ]
     },
     "execution_count": 59,
     "metadata": {},
     "output_type": "execute_result"
    }
   ],
   "source": [
    "nested_tuple=('Hello world',(0,1),('Hi','Python'),(3.14,\"pi\",1.618,\"Ratio\"))\n",
    "nested_tuple"
   ]
  },
  {
   "cell_type": "code",
   "execution_count": 66,
   "id": "7be46d81-6713-40a1-8c11-1f3ab1b43bc0",
   "metadata": {},
   "outputs": [
    {
     "name": "stdout",
     "output_type": "stream",
     "text": [
      "Hello world\n",
      "(0, 1)\n",
      "('Hi', 'Python')\n",
      "(3.14, 'pi', 1.618, 'Ratio')\n"
     ]
    }
   ],
   "source": [
    "print(nested_tuple[0])\n",
    "print(nested_tuple[1])\n",
    "print(nested_tuple[2])\n",
    "print(nested_tuple[3])"
   ]
  },
  {
   "cell_type": "code",
   "execution_count": 67,
   "id": "a9c49fb4-0a4d-43d1-9a9f-bfe12261ffa5",
   "metadata": {},
   "outputs": [
    {
     "name": "stdout",
     "output_type": "stream",
     "text": [
      "Python\n"
     ]
    }
   ],
   "source": [
    "print(nested_tuple[2][1])"
   ]
  },
  {
   "cell_type": "markdown",
   "id": "793c2564-ea57-470d-abe9-da45a4bf8300",
   "metadata": {},
   "source": [
    "# Tuples are immutable\n",
    "\n"
   ]
  },
  {
   "cell_type": "code",
   "execution_count": 70,
   "id": "313a808b-17d6-41f3-99d0-dc8b3415e5f2",
   "metadata": {},
   "outputs": [
    {
     "ename": "TypeError",
     "evalue": "'tuple' object does not support item assignment",
     "output_type": "error",
     "traceback": [
      "\u001b[1;31m---------------------------------------------------------------------------\u001b[0m",
      "\u001b[1;31mTypeError\u001b[0m                                 Traceback (most recent call last)",
      "Cell \u001b[1;32mIn[70], line 2\u001b[0m\n\u001b[0;32m      1\u001b[0m tuple_4\u001b[38;5;241m=\u001b[39m(\u001b[38;5;241m1\u001b[39m,\u001b[38;5;241m3\u001b[39m,\u001b[38;5;241m5\u001b[39m,\u001b[38;5;241m7\u001b[39m)\n\u001b[1;32m----> 2\u001b[0m \u001b[43mtuple_4\u001b[49m\u001b[43m[\u001b[49m\u001b[38;5;241;43m0\u001b[39;49m\u001b[43m]\u001b[49m\u001b[38;5;241m=\u001b[39m\u001b[38;5;241m10\u001b[39m\n\u001b[0;32m      3\u001b[0m \u001b[38;5;28mprint\u001b[39m(tuple_4)\n",
      "\u001b[1;31mTypeError\u001b[0m: 'tuple' object does not support item assignment"
     ]
    }
   ],
   "source": [
    "tuple_4=(1,3,5,7)\n",
    "tuple_4[0]=10\n",
    "print(tuple_4)"
   ]
  },
  {
   "cell_type": "markdown",
   "id": "709ca5e9-093a-47b9-932b-d46fd4a66c5d",
   "metadata": {},
   "source": [
    "# Delete a tuple\n",
    "\n",
    " * __An element in a tuple can not be deleted since it is immutable.__\n",
    " * __But a whole tuple can be deleted.__"
   ]
  },
  {
   "cell_type": "code",
   "execution_count": 71,
   "id": "8a091ffb-0189-44b0-9fde-f728ab2236ad",
   "metadata": {},
   "outputs": [
    {
     "data": {
      "text/plain": [
       "(1, 3, 5, 7)"
      ]
     },
     "execution_count": 71,
     "metadata": {},
     "output_type": "execute_result"
    }
   ],
   "source": [
    "tuple_4"
   ]
  },
  {
   "cell_type": "code",
   "execution_count": 72,
   "id": "174b95a3-23d5-4cde-828c-4df1f94ebbb3",
   "metadata": {},
   "outputs": [
    {
     "name": "stdout",
     "output_type": "stream",
     "text": [
      "Before deleting: (1, 3, 5, 7)\n"
     ]
    }
   ],
   "source": [
    "print(\"Before deleting:\",tuple_4)"
   ]
  },
  {
   "cell_type": "code",
   "execution_count": 73,
   "id": "f3d87bfb-514a-4904-8763-a78cbf2c768b",
   "metadata": {},
   "outputs": [],
   "source": [
    "del(tuple_4)"
   ]
  },
  {
   "cell_type": "code",
   "execution_count": 75,
   "id": "1671f0ed-aff2-48cb-a691-a036b5509b99",
   "metadata": {},
   "outputs": [
    {
     "ename": "NameError",
     "evalue": "name 'tuple_4' is not defined",
     "output_type": "error",
     "traceback": [
      "\u001b[1;31m---------------------------------------------------------------------------\u001b[0m",
      "\u001b[1;31mNameError\u001b[0m                                 Traceback (most recent call last)",
      "Cell \u001b[1;32mIn[75], line 1\u001b[0m\n\u001b[1;32m----> 1\u001b[0m \u001b[38;5;28mprint\u001b[39m(\u001b[38;5;124m\"\u001b[39m\u001b[38;5;124mAfter deleting:\u001b[39m\u001b[38;5;124m\"\u001b[39m,\u001b[43mtuple_4\u001b[49m)\n",
      "\u001b[1;31mNameError\u001b[0m: name 'tuple_4' is not defined"
     ]
    }
   ],
   "source": [
    "print(\"After deleting:\",tuple_4)"
   ]
  },
  {
   "cell_type": "code",
   "execution_count": 77,
   "id": "93014193-2fd0-47f6-8ff4-69d4a2aca0f1",
   "metadata": {},
   "outputs": [
    {
     "ename": "TypeError",
     "evalue": "'tuple' object doesn't support item deletion",
     "output_type": "error",
     "traceback": [
      "\u001b[1;31m---------------------------------------------------------------------------\u001b[0m",
      "\u001b[1;31mTypeError\u001b[0m                                 Traceback (most recent call last)",
      "Cell \u001b[1;32mIn[77], line 2\u001b[0m\n\u001b[0;32m      1\u001b[0m tuple_5\u001b[38;5;241m=\u001b[39m(\u001b[38;5;241m10\u001b[39m,\u001b[38;5;241m20\u001b[39m,\u001b[38;5;241m30\u001b[39m)\n\u001b[1;32m----> 2\u001b[0m \u001b[38;5;28;01mdel\u001b[39;00m(\u001b[43mtuple_5\u001b[49m\u001b[43m[\u001b[49m\u001b[38;5;241;43m0\u001b[39;49m\u001b[43m]\u001b[49m)\n",
      "\u001b[1;31mTypeError\u001b[0m: 'tuple' object doesn't support item deletion"
     ]
    }
   ],
   "source": [
    "tuple_5=(10,20,30)\n",
    "del(tuple_5[0])"
   ]
  },
  {
   "cell_type": "code",
   "execution_count": null,
   "id": "4035e76b-7a4b-4e85-b0bb-cb9e83f94020",
   "metadata": {},
   "outputs": [],
   "source": [
    "# Create a tuple:\n",
    "# integer, string, Boolean, Nested tuple, Nested set, Nest List, Nested Dictionary.\n",
    "# access all elements using positive index value."
   ]
  }
 ],
 "metadata": {
  "kernelspec": {
   "display_name": "Python 3 (ipykernel)",
   "language": "python",
   "name": "python3"
  },
  "language_info": {
   "codemirror_mode": {
    "name": "ipython",
    "version": 3
   },
   "file_extension": ".py",
   "mimetype": "text/x-python",
   "name": "python",
   "nbconvert_exporter": "python",
   "pygments_lexer": "ipython3",
   "version": "3.11.4"
  }
 },
 "nbformat": 4,
 "nbformat_minor": 5
}
