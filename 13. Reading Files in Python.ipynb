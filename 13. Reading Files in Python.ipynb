{
 "cells": [
  {
   "cell_type": "markdown",
   "id": "a3d17d7c-499d-4646-ad17-8e718a905100",
   "metadata": {},
   "source": [
    "# 13. Reading Files in Python\n",
    "\n",
    "\n",
    " * __To read a text file for reading file in Python, follow these steps:__\n",
    " * __First, Open a text file for reading by using the open() funciton.__\n",
    " * __Second, read text from the text file using the file read(), readline(), or readlines() method of the file object.__\n",
    " * __Third, close the file close() method. This frees up resources and ensures consistency across different python version.__\n",
    "\n",
    "\n",
    "# Method and it's Description\n",
    "\n",
    " * __writeable():Retursn whether the file can be written or not.__\n",
    " * __readable(): Returns whether the file stream can be read or not.__\n",
    " * __read(): Returns the file content.__\n",
    " * __readline(): Returns one line from the file.__\n",
    " * __readliens():Return a list of lines from the file.__\n",
    " * __write():Write the specified string to the file.__\n",
    " * __writelines(): Writes a list of string to the file.__\n",
    " * __close(): Close the file.__\n",
    " * __flush(): Flushed the internal buffer.__\n",
    " * __seek(): Change the file position.__\n",
    " * __tell(): Returns the current file.__\n",
    " * __truncate(): Resize the file to the specified.__\n",
    "   "
   ]
  },
  {
   "cell_type": "code",
   "execution_count": 26,
   "id": "167e3a3f-71c9-492c-957c-562753854bf4",
   "metadata": {},
   "outputs": [
    {
     "data": {
      "text/plain": [
       "'My name is Rupali.\\nMy age is 26.\\nI am belongs to Pune.\\nI Studied in Fergussion College.\\nLearning Python in WebAsha.\\nMy hobby is to Read Books, Comic, Biography and AutoBiography and Murder cases.\\nMy name Aditi.\\nMy age is 15.'"
      ]
     },
     "execution_count": 26,
     "metadata": {},
     "output_type": "execute_result"
    }
   ],
   "source": [
    "x='C:\\\\Users\\\\Admin\\\\Downloads\\\\Details.txt'\n",
    "file=open(x,'r')\n",
    "content=file.read()\n",
    "content"
   ]
  },
  {
   "cell_type": "code",
   "execution_count": 3,
   "id": "3b45f5de-55d9-49bf-bf93-17487ac366fd",
   "metadata": {},
   "outputs": [
    {
     "name": "stdout",
     "output_type": "stream",
     "text": [
      "My name is Rupali.\n",
      "My age is 26.\n",
      "I am belongs to Pune.\n",
      "I Studied in Fergussion College.\n",
      "Learning Python in WebAsha.\n",
      "My hobby is to Read Books, Comic, Biography and AutoBiography and Murder cases.\n",
      "My name Aditi.\n",
      "My age is 15.\n"
     ]
    }
   ],
   "source": [
    "x='C:\\\\Users\\\\Admin\\\\Downloads\\\\Details.txt'\n",
    "file=open(x,'r')\n",
    "content=file.read()\n",
    "print(content)"
   ]
  },
  {
   "cell_type": "code",
   "execution_count": 4,
   "id": "3c8379af-7f84-4299-a6fc-ecf8ac5b8e3f",
   "metadata": {},
   "outputs": [
    {
     "name": "stdout",
     "output_type": "stream",
     "text": [
      "My name is Rupali.\n",
      "My age is 26.\n",
      "I am belongs to Pune.\n",
      "I Studied in Fergussion College.\n",
      "Learning Python in WebAsha.\n",
      "My hobby is to Read Books, Comic, Biography and AutoBiography and Murder cases.\n",
      "My name Aditi.\n",
      "My age is 15.\n"
     ]
    }
   ],
   "source": [
    "x='Details.txt'\n",
    "file=open(x,'r')\n",
    "content=file.read()\n",
    "print(content)"
   ]
  },
  {
   "cell_type": "code",
   "execution_count": 10,
   "id": "2eb32910-6adc-4d43-aec9-17fc5ee1a991",
   "metadata": {},
   "outputs": [
    {
     "name": "stdout",
     "output_type": "stream",
     "text": [
      "My name is Rupali.\n",
      "My age is 26.\n",
      "I am belongs to Pune.\n",
      "I Studied in Fergussion College.\n",
      "Learning Python in WebAsha.\n",
      "My hobby is to Read Books, Comic, Biography and AutoBiography and Murder cases.\n",
      "My name Aditi.\n",
      "My age is 15.\n"
     ]
    }
   ],
   "source": [
    "x='C:\\\\Users\\\\Admin\\\\Downloads\\\\Details.txt'\n",
    "file=open(x,'r')\n",
    "content=file.read()\n",
    "print(content)"
   ]
  },
  {
   "cell_type": "code",
   "execution_count": 17,
   "id": "22e0990a-c7c4-4da3-99f1-9971ad1e63a3",
   "metadata": {},
   "outputs": [
    {
     "name": "stdout",
     "output_type": "stream",
     "text": [
      "C:\\Users\\Admin\\Downloads\\Details.txt\n",
      "r\n",
      "My name is Rupali.\n",
      "My age is 26.\n",
      "I am belongs to Pune.\n",
      "I Studied in Fergussion College.\n",
      "Learning Python in WebAsha.\n",
      "My hobby is to Read Books, Comic, Biography and AutoBiography and Murder cases.\n",
      "My name Aditi.\n",
      "My age is 15.\n",
      "<class 'str'>\n"
     ]
    }
   ],
   "source": [
    "# printing the path of file.\n",
    "\n",
    "print(file.name)\n",
    "\n",
    "\n",
    "# printing the mode of file.\n",
    "\n",
    "print(file.mode)\n",
    "\n",
    "\n",
    "#  print the file with '\\n'\n",
    "\n",
    "print(content)\n",
    "\n",
    "#print the type of file\n",
    "\n",
    "print(type(content))"
   ]
  },
  {
   "cell_type": "code",
   "execution_count": 29,
   "id": "0ce9e5ec-20ba-4875-ab26-c7e5f1f04e74",
   "metadata": {},
   "outputs": [
    {
     "data": {
      "text/plain": [
       "True"
      ]
     },
     "execution_count": 29,
     "metadata": {},
     "output_type": "execute_result"
    }
   ],
   "source": [
    "# Verification of the the closed file.\n",
    "\n",
    "file.closed"
   ]
  },
  {
   "cell_type": "code",
   "execution_count": 28,
   "id": "049c84ac-3977-4575-bc41-4acc9b24d612",
   "metadata": {},
   "outputs": [],
   "source": [
    "file.close()"
   ]
  },
  {
   "cell_type": "code",
   "execution_count": 35,
   "id": "ff666d73-e924-4546-b84a-472b95bb2a92",
   "metadata": {},
   "outputs": [
    {
     "name": "stdout",
     "output_type": "stream",
     "text": [
      "My name is Rupali.\n",
      "My age is 26.\n",
      "I am belongs to Pune.\n",
      "I Studied in Fergussion College.\n",
      "Learning Python in WebAsha.\n",
      "My hobby is to Read Books, Comic, Biography and AutoBiography and Murder cases.\n",
      "My name Aditi.\n",
      "My age is 15.\n"
     ]
    }
   ],
   "source": [
    "# Another method\n",
    "\n",
    "fname='C:\\\\Users\\\\Admin\\\\Downloads\\\\Details.txt'\n",
    "\n",
    "with open(fname,'r') as f:\n",
    "    y=f.read()\n",
    "    print(y)"
   ]
  },
  {
   "cell_type": "code",
   "execution_count": 44,
   "id": "3d148918-3550-450b-91cc-482519ce0af4",
   "metadata": {},
   "outputs": [
    {
     "data": {
      "text/plain": [
       "True"
      ]
     },
     "execution_count": 44,
     "metadata": {},
     "output_type": "execute_result"
    }
   ],
   "source": [
    "f.closed"
   ]
  },
  {
   "cell_type": "code",
   "execution_count": 46,
   "id": "f0cbe589-e1a2-4fd7-bff3-17a77d226323",
   "metadata": {},
   "outputs": [],
   "source": [
    "import pandas as pd"
   ]
  },
  {
   "cell_type": "code",
   "execution_count": 67,
   "id": "1b851bc1-9c17-4d31-8f93-0cb855a2faa5",
   "metadata": {},
   "outputs": [
    {
     "data": {
      "text/html": [
       "<div>\n",
       "<style scoped>\n",
       "    .dataframe tbody tr th:only-of-type {\n",
       "        vertical-align: middle;\n",
       "    }\n",
       "\n",
       "    .dataframe tbody tr th {\n",
       "        vertical-align: top;\n",
       "    }\n",
       "\n",
       "    .dataframe thead th {\n",
       "        text-align: right;\n",
       "    }\n",
       "</style>\n",
       "<table border=\"1\" class=\"dataframe\">\n",
       "  <thead>\n",
       "    <tr style=\"text-align: right;\">\n",
       "      <th></th>\n",
       "      <th>Row_ID</th>\n",
       "      <th>Order_ID</th>\n",
       "      <th>Order_Date</th>\n",
       "      <th>Ship_Date</th>\n",
       "      <th>Ship_Mode</th>\n",
       "      <th>Customer_ID</th>\n",
       "      <th>Customer_Name</th>\n",
       "      <th>Segment</th>\n",
       "      <th>Country</th>\n",
       "      <th>City</th>\n",
       "      <th>State</th>\n",
       "      <th>Postal_Code</th>\n",
       "      <th>Region</th>\n",
       "      <th>Product_ID</th>\n",
       "      <th>Category</th>\n",
       "      <th>Sub_Category</th>\n",
       "      <th>Product_Name</th>\n",
       "      <th>Sales</th>\n",
       "    </tr>\n",
       "  </thead>\n",
       "  <tbody>\n",
       "    <tr>\n",
       "      <th>0</th>\n",
       "      <td>1</td>\n",
       "      <td>CA-2017-152156</td>\n",
       "      <td>8/11/2017</td>\n",
       "      <td>11/11/2017</td>\n",
       "      <td>Second Class</td>\n",
       "      <td>CG-12520</td>\n",
       "      <td>Claire Gute</td>\n",
       "      <td>Consumer</td>\n",
       "      <td>United States</td>\n",
       "      <td>Henderson</td>\n",
       "      <td>Kentucky</td>\n",
       "      <td>42420.0</td>\n",
       "      <td>South</td>\n",
       "      <td>FUR-BO-10001798</td>\n",
       "      <td>Furniture</td>\n",
       "      <td>Bookcases</td>\n",
       "      <td>Bush Somerset Collection Bookcase</td>\n",
       "      <td>261.9600</td>\n",
       "    </tr>\n",
       "    <tr>\n",
       "      <th>1</th>\n",
       "      <td>2</td>\n",
       "      <td>CA-2017-152156</td>\n",
       "      <td>8/11/2017</td>\n",
       "      <td>11/11/2017</td>\n",
       "      <td>Second Class</td>\n",
       "      <td>CG-12520</td>\n",
       "      <td>Claire Gute</td>\n",
       "      <td>Consumer</td>\n",
       "      <td>United States</td>\n",
       "      <td>Henderson</td>\n",
       "      <td>Kentucky</td>\n",
       "      <td>42420.0</td>\n",
       "      <td>South</td>\n",
       "      <td>FUR-CH-10000454</td>\n",
       "      <td>Furniture</td>\n",
       "      <td>Chairs</td>\n",
       "      <td>Hon Deluxe Fabric Upholstered Stacking Chairs,...</td>\n",
       "      <td>731.9400</td>\n",
       "    </tr>\n",
       "    <tr>\n",
       "      <th>2</th>\n",
       "      <td>3</td>\n",
       "      <td>CA-2017-138688</td>\n",
       "      <td>12/6/2017</td>\n",
       "      <td>16/06/2017</td>\n",
       "      <td>Second Class</td>\n",
       "      <td>DV-13045</td>\n",
       "      <td>Darrin Van Huff</td>\n",
       "      <td>Corporate</td>\n",
       "      <td>United States</td>\n",
       "      <td>Los Angeles</td>\n",
       "      <td>California</td>\n",
       "      <td>90036.0</td>\n",
       "      <td>West</td>\n",
       "      <td>OFF-LA-10000240</td>\n",
       "      <td>Office Supplies</td>\n",
       "      <td>Labels</td>\n",
       "      <td>Self-Adhesive Address Labels for Typewriters b...</td>\n",
       "      <td>14.6200</td>\n",
       "    </tr>\n",
       "    <tr>\n",
       "      <th>3</th>\n",
       "      <td>4</td>\n",
       "      <td>US-2016-108966</td>\n",
       "      <td>11/10/2016</td>\n",
       "      <td>18/10/2016</td>\n",
       "      <td>Standard Class</td>\n",
       "      <td>SO-20335</td>\n",
       "      <td>Sean O Donnel</td>\n",
       "      <td>Consumer</td>\n",
       "      <td>United States</td>\n",
       "      <td>Fort Lauderdale</td>\n",
       "      <td>Florida</td>\n",
       "      <td>33311.0</td>\n",
       "      <td>South</td>\n",
       "      <td>FUR-TA-10000577</td>\n",
       "      <td>Furniture</td>\n",
       "      <td>Tables</td>\n",
       "      <td>Bretford CR4500 Series Slim Rectangular Table</td>\n",
       "      <td>957.5775</td>\n",
       "    </tr>\n",
       "    <tr>\n",
       "      <th>4</th>\n",
       "      <td>5</td>\n",
       "      <td>US-2016-108966</td>\n",
       "      <td>11/10/2016</td>\n",
       "      <td>18/10/2016</td>\n",
       "      <td>Standard Class</td>\n",
       "      <td>SO-20335</td>\n",
       "      <td>Sean O Donnel</td>\n",
       "      <td>Consumer</td>\n",
       "      <td>United States</td>\n",
       "      <td>Fort Lauderdale</td>\n",
       "      <td>Florida</td>\n",
       "      <td>33311.0</td>\n",
       "      <td>South</td>\n",
       "      <td>OFF-ST-10000760</td>\n",
       "      <td>Office Supplies</td>\n",
       "      <td>Storage</td>\n",
       "      <td>Eldon Fold N Roll Cart System</td>\n",
       "      <td>22.3680</td>\n",
       "    </tr>\n",
       "    <tr>\n",
       "      <th>...</th>\n",
       "      <td>...</td>\n",
       "      <td>...</td>\n",
       "      <td>...</td>\n",
       "      <td>...</td>\n",
       "      <td>...</td>\n",
       "      <td>...</td>\n",
       "      <td>...</td>\n",
       "      <td>...</td>\n",
       "      <td>...</td>\n",
       "      <td>...</td>\n",
       "      <td>...</td>\n",
       "      <td>...</td>\n",
       "      <td>...</td>\n",
       "      <td>...</td>\n",
       "      <td>...</td>\n",
       "      <td>...</td>\n",
       "      <td>...</td>\n",
       "      <td>...</td>\n",
       "    </tr>\n",
       "    <tr>\n",
       "      <th>9795</th>\n",
       "      <td>9796</td>\n",
       "      <td>CA-2017-125920</td>\n",
       "      <td>21/05/2017</td>\n",
       "      <td>28/05/2017</td>\n",
       "      <td>Standard Class</td>\n",
       "      <td>SH-19975</td>\n",
       "      <td>Sally Hughsby</td>\n",
       "      <td>Corporate</td>\n",
       "      <td>United States</td>\n",
       "      <td>Chicago</td>\n",
       "      <td>Illinois</td>\n",
       "      <td>60610.0</td>\n",
       "      <td>Central</td>\n",
       "      <td>OFF-BI-10003429</td>\n",
       "      <td>Office Supplies</td>\n",
       "      <td>Binders</td>\n",
       "      <td>Cardinal HOLDit! Binder Insert Strips,Extra St...</td>\n",
       "      <td>3.7980</td>\n",
       "    </tr>\n",
       "    <tr>\n",
       "      <th>9796</th>\n",
       "      <td>9797</td>\n",
       "      <td>CA-2016-128608</td>\n",
       "      <td>12/1/2016</td>\n",
       "      <td>17/01/2016</td>\n",
       "      <td>Standard Class</td>\n",
       "      <td>CS-12490</td>\n",
       "      <td>Cindy Schnelling</td>\n",
       "      <td>Corporate</td>\n",
       "      <td>United States</td>\n",
       "      <td>Toledo</td>\n",
       "      <td>Ohio</td>\n",
       "      <td>43615.0</td>\n",
       "      <td>East</td>\n",
       "      <td>OFF-AR-10001374</td>\n",
       "      <td>Office Supplies</td>\n",
       "      <td>Art</td>\n",
       "      <td>BIC Brite Liner Highlighters, Chisel Tip</td>\n",
       "      <td>10.3680</td>\n",
       "    </tr>\n",
       "    <tr>\n",
       "      <th>9797</th>\n",
       "      <td>9798</td>\n",
       "      <td>CA-2016-128608</td>\n",
       "      <td>12/1/2016</td>\n",
       "      <td>17/01/2016</td>\n",
       "      <td>Standard Class</td>\n",
       "      <td>CS-12490</td>\n",
       "      <td>Cindy Schnelling</td>\n",
       "      <td>Corporate</td>\n",
       "      <td>United States</td>\n",
       "      <td>Toledo</td>\n",
       "      <td>Ohio</td>\n",
       "      <td>43615.0</td>\n",
       "      <td>East</td>\n",
       "      <td>TEC-PH-10004977</td>\n",
       "      <td>Technology</td>\n",
       "      <td>Phones</td>\n",
       "      <td>GE 30524EE4</td>\n",
       "      <td>235.1880</td>\n",
       "    </tr>\n",
       "    <tr>\n",
       "      <th>9798</th>\n",
       "      <td>9799</td>\n",
       "      <td>CA-2016-128608</td>\n",
       "      <td>12/1/2016</td>\n",
       "      <td>17/01/2016</td>\n",
       "      <td>Standard Class</td>\n",
       "      <td>CS-12490</td>\n",
       "      <td>Cindy Schnelling</td>\n",
       "      <td>Corporate</td>\n",
       "      <td>United States</td>\n",
       "      <td>Toledo</td>\n",
       "      <td>Ohio</td>\n",
       "      <td>43615.0</td>\n",
       "      <td>East</td>\n",
       "      <td>TEC-PH-10000912</td>\n",
       "      <td>Technology</td>\n",
       "      <td>Phones</td>\n",
       "      <td>Anker 24W Portable Micro USB Car Charger</td>\n",
       "      <td>26.3760</td>\n",
       "    </tr>\n",
       "    <tr>\n",
       "      <th>9799</th>\n",
       "      <td>9800</td>\n",
       "      <td>CA-2016-128608</td>\n",
       "      <td>12/1/2016</td>\n",
       "      <td>17/01/2016</td>\n",
       "      <td>Standard Class</td>\n",
       "      <td>CS-12490</td>\n",
       "      <td>Cindy Schnelling</td>\n",
       "      <td>Corporate</td>\n",
       "      <td>United States</td>\n",
       "      <td>Toledo</td>\n",
       "      <td>Ohio</td>\n",
       "      <td>43615.0</td>\n",
       "      <td>East</td>\n",
       "      <td>TEC-AC-10000487</td>\n",
       "      <td>Technology</td>\n",
       "      <td>Accessories</td>\n",
       "      <td>SanDisk Cruzer 4 GB USB Flash Drive</td>\n",
       "      <td>10.3840</td>\n",
       "    </tr>\n",
       "  </tbody>\n",
       "</table>\n",
       "<p>9800 rows × 18 columns</p>\n",
       "</div>"
      ],
      "text/plain": [
       "      Row_ID        Order_ID  Order_Date   Ship_Date       Ship_Mode  \\\n",
       "0          1  CA-2017-152156   8/11/2017  11/11/2017    Second Class   \n",
       "1          2  CA-2017-152156   8/11/2017  11/11/2017    Second Class   \n",
       "2          3  CA-2017-138688   12/6/2017  16/06/2017    Second Class   \n",
       "3          4  US-2016-108966  11/10/2016  18/10/2016  Standard Class   \n",
       "4          5  US-2016-108966  11/10/2016  18/10/2016  Standard Class   \n",
       "...      ...             ...         ...         ...             ...   \n",
       "9795    9796  CA-2017-125920  21/05/2017  28/05/2017  Standard Class   \n",
       "9796    9797  CA-2016-128608   12/1/2016  17/01/2016  Standard Class   \n",
       "9797    9798  CA-2016-128608   12/1/2016  17/01/2016  Standard Class   \n",
       "9798    9799  CA-2016-128608   12/1/2016  17/01/2016  Standard Class   \n",
       "9799    9800  CA-2016-128608   12/1/2016  17/01/2016  Standard Class   \n",
       "\n",
       "     Customer_ID     Customer_Name    Segment        Country             City  \\\n",
       "0       CG-12520       Claire Gute   Consumer  United States        Henderson   \n",
       "1       CG-12520       Claire Gute   Consumer  United States        Henderson   \n",
       "2       DV-13045   Darrin Van Huff  Corporate  United States      Los Angeles   \n",
       "3       SO-20335     Sean O Donnel   Consumer  United States  Fort Lauderdale   \n",
       "4       SO-20335     Sean O Donnel   Consumer  United States  Fort Lauderdale   \n",
       "...          ...               ...        ...            ...              ...   \n",
       "9795    SH-19975     Sally Hughsby  Corporate  United States          Chicago   \n",
       "9796    CS-12490  Cindy Schnelling  Corporate  United States           Toledo   \n",
       "9797    CS-12490  Cindy Schnelling  Corporate  United States           Toledo   \n",
       "9798    CS-12490  Cindy Schnelling  Corporate  United States           Toledo   \n",
       "9799    CS-12490  Cindy Schnelling  Corporate  United States           Toledo   \n",
       "\n",
       "           State  Postal_Code   Region       Product_ID         Category  \\\n",
       "0       Kentucky      42420.0    South  FUR-BO-10001798        Furniture   \n",
       "1       Kentucky      42420.0    South  FUR-CH-10000454        Furniture   \n",
       "2     California      90036.0     West  OFF-LA-10000240  Office Supplies   \n",
       "3        Florida      33311.0    South  FUR-TA-10000577        Furniture   \n",
       "4        Florida      33311.0    South  OFF-ST-10000760  Office Supplies   \n",
       "...          ...          ...      ...              ...              ...   \n",
       "9795    Illinois      60610.0  Central  OFF-BI-10003429  Office Supplies   \n",
       "9796        Ohio      43615.0     East  OFF-AR-10001374  Office Supplies   \n",
       "9797        Ohio      43615.0     East  TEC-PH-10004977       Technology   \n",
       "9798        Ohio      43615.0     East  TEC-PH-10000912       Technology   \n",
       "9799        Ohio      43615.0     East  TEC-AC-10000487       Technology   \n",
       "\n",
       "     Sub_Category                                       Product_Name     Sales  \n",
       "0       Bookcases                  Bush Somerset Collection Bookcase  261.9600  \n",
       "1          Chairs  Hon Deluxe Fabric Upholstered Stacking Chairs,...  731.9400  \n",
       "2          Labels  Self-Adhesive Address Labels for Typewriters b...   14.6200  \n",
       "3          Tables      Bretford CR4500 Series Slim Rectangular Table  957.5775  \n",
       "4         Storage                      Eldon Fold N Roll Cart System   22.3680  \n",
       "...           ...                                                ...       ...  \n",
       "9795      Binders  Cardinal HOLDit! Binder Insert Strips,Extra St...    3.7980  \n",
       "9796          Art           BIC Brite Liner Highlighters, Chisel Tip   10.3680  \n",
       "9797       Phones                                        GE 30524EE4  235.1880  \n",
       "9798       Phones           Anker 24W Portable Micro USB Car Charger   26.3760  \n",
       "9799  Accessories                SanDisk Cruzer 4 GB USB Flash Drive   10.3840  \n",
       "\n",
       "[9800 rows x 18 columns]"
      ]
     },
     "execution_count": 67,
     "metadata": {},
     "output_type": "execute_result"
    }
   ],
   "source": [
    "df = pd.read_csv('superstore_final_dataset (1).csv', encoding='latin-1')\n",
    "df"
   ]
  },
  {
   "cell_type": "code",
   "execution_count": 68,
   "id": "ebc6acf6-7764-4dba-8b8e-f07454685c41",
   "metadata": {},
   "outputs": [
    {
     "data": {
      "text/html": [
       "<div>\n",
       "<style scoped>\n",
       "    .dataframe tbody tr th:only-of-type {\n",
       "        vertical-align: middle;\n",
       "    }\n",
       "\n",
       "    .dataframe tbody tr th {\n",
       "        vertical-align: top;\n",
       "    }\n",
       "\n",
       "    .dataframe thead th {\n",
       "        text-align: right;\n",
       "    }\n",
       "</style>\n",
       "<table border=\"1\" class=\"dataframe\">\n",
       "  <thead>\n",
       "    <tr style=\"text-align: right;\">\n",
       "      <th></th>\n",
       "      <th>Row_ID</th>\n",
       "      <th>Order_ID</th>\n",
       "      <th>Order_Date</th>\n",
       "      <th>Ship_Date</th>\n",
       "      <th>Ship_Mode</th>\n",
       "      <th>Customer_ID</th>\n",
       "      <th>Customer_Name</th>\n",
       "      <th>Segment</th>\n",
       "      <th>Country</th>\n",
       "      <th>City</th>\n",
       "      <th>State</th>\n",
       "      <th>Postal_Code</th>\n",
       "      <th>Region</th>\n",
       "      <th>Product_ID</th>\n",
       "      <th>Category</th>\n",
       "      <th>Sub_Category</th>\n",
       "      <th>Product_Name</th>\n",
       "      <th>Sales</th>\n",
       "    </tr>\n",
       "  </thead>\n",
       "  <tbody>\n",
       "    <tr>\n",
       "      <th>0</th>\n",
       "      <td>1</td>\n",
       "      <td>CA-2017-152156</td>\n",
       "      <td>8/11/2017</td>\n",
       "      <td>11/11/2017</td>\n",
       "      <td>Second Class</td>\n",
       "      <td>CG-12520</td>\n",
       "      <td>Claire Gute</td>\n",
       "      <td>Consumer</td>\n",
       "      <td>United States</td>\n",
       "      <td>Henderson</td>\n",
       "      <td>Kentucky</td>\n",
       "      <td>42420.0</td>\n",
       "      <td>South</td>\n",
       "      <td>FUR-BO-10001798</td>\n",
       "      <td>Furniture</td>\n",
       "      <td>Bookcases</td>\n",
       "      <td>Bush Somerset Collection Bookcase</td>\n",
       "      <td>261.9600</td>\n",
       "    </tr>\n",
       "    <tr>\n",
       "      <th>1</th>\n",
       "      <td>2</td>\n",
       "      <td>CA-2017-152156</td>\n",
       "      <td>8/11/2017</td>\n",
       "      <td>11/11/2017</td>\n",
       "      <td>Second Class</td>\n",
       "      <td>CG-12520</td>\n",
       "      <td>Claire Gute</td>\n",
       "      <td>Consumer</td>\n",
       "      <td>United States</td>\n",
       "      <td>Henderson</td>\n",
       "      <td>Kentucky</td>\n",
       "      <td>42420.0</td>\n",
       "      <td>South</td>\n",
       "      <td>FUR-CH-10000454</td>\n",
       "      <td>Furniture</td>\n",
       "      <td>Chairs</td>\n",
       "      <td>Hon Deluxe Fabric Upholstered Stacking Chairs,...</td>\n",
       "      <td>731.9400</td>\n",
       "    </tr>\n",
       "    <tr>\n",
       "      <th>2</th>\n",
       "      <td>3</td>\n",
       "      <td>CA-2017-138688</td>\n",
       "      <td>12/6/2017</td>\n",
       "      <td>16/06/2017</td>\n",
       "      <td>Second Class</td>\n",
       "      <td>DV-13045</td>\n",
       "      <td>Darrin Van Huff</td>\n",
       "      <td>Corporate</td>\n",
       "      <td>United States</td>\n",
       "      <td>Los Angeles</td>\n",
       "      <td>California</td>\n",
       "      <td>90036.0</td>\n",
       "      <td>West</td>\n",
       "      <td>OFF-LA-10000240</td>\n",
       "      <td>Office Supplies</td>\n",
       "      <td>Labels</td>\n",
       "      <td>Self-Adhesive Address Labels for Typewriters b...</td>\n",
       "      <td>14.6200</td>\n",
       "    </tr>\n",
       "    <tr>\n",
       "      <th>3</th>\n",
       "      <td>4</td>\n",
       "      <td>US-2016-108966</td>\n",
       "      <td>11/10/2016</td>\n",
       "      <td>18/10/2016</td>\n",
       "      <td>Standard Class</td>\n",
       "      <td>SO-20335</td>\n",
       "      <td>Sean O Donnel</td>\n",
       "      <td>Consumer</td>\n",
       "      <td>United States</td>\n",
       "      <td>Fort Lauderdale</td>\n",
       "      <td>Florida</td>\n",
       "      <td>33311.0</td>\n",
       "      <td>South</td>\n",
       "      <td>FUR-TA-10000577</td>\n",
       "      <td>Furniture</td>\n",
       "      <td>Tables</td>\n",
       "      <td>Bretford CR4500 Series Slim Rectangular Table</td>\n",
       "      <td>957.5775</td>\n",
       "    </tr>\n",
       "    <tr>\n",
       "      <th>4</th>\n",
       "      <td>5</td>\n",
       "      <td>US-2016-108966</td>\n",
       "      <td>11/10/2016</td>\n",
       "      <td>18/10/2016</td>\n",
       "      <td>Standard Class</td>\n",
       "      <td>SO-20335</td>\n",
       "      <td>Sean O Donnel</td>\n",
       "      <td>Consumer</td>\n",
       "      <td>United States</td>\n",
       "      <td>Fort Lauderdale</td>\n",
       "      <td>Florida</td>\n",
       "      <td>33311.0</td>\n",
       "      <td>South</td>\n",
       "      <td>OFF-ST-10000760</td>\n",
       "      <td>Office Supplies</td>\n",
       "      <td>Storage</td>\n",
       "      <td>Eldon Fold N Roll Cart System</td>\n",
       "      <td>22.3680</td>\n",
       "    </tr>\n",
       "    <tr>\n",
       "      <th>5</th>\n",
       "      <td>6</td>\n",
       "      <td>CA-2015-115812</td>\n",
       "      <td>9/6/2015</td>\n",
       "      <td>14/06/2015</td>\n",
       "      <td>Standard Class</td>\n",
       "      <td>BH-11710</td>\n",
       "      <td>Brosina Hoffman</td>\n",
       "      <td>Consumer</td>\n",
       "      <td>United States</td>\n",
       "      <td>Los Angeles</td>\n",
       "      <td>California</td>\n",
       "      <td>90032.0</td>\n",
       "      <td>West</td>\n",
       "      <td>FUR-FU-10001487</td>\n",
       "      <td>Furniture</td>\n",
       "      <td>Furnishings</td>\n",
       "      <td>Eldon Expressions Wood and Plastic Desk Access...</td>\n",
       "      <td>48.8600</td>\n",
       "    </tr>\n",
       "    <tr>\n",
       "      <th>6</th>\n",
       "      <td>7</td>\n",
       "      <td>CA-2015-115812</td>\n",
       "      <td>9/6/2015</td>\n",
       "      <td>14/06/2015</td>\n",
       "      <td>Standard Class</td>\n",
       "      <td>BH-11710</td>\n",
       "      <td>Brosina Hoffman</td>\n",
       "      <td>Consumer</td>\n",
       "      <td>United States</td>\n",
       "      <td>Los Angeles</td>\n",
       "      <td>California</td>\n",
       "      <td>90032.0</td>\n",
       "      <td>West</td>\n",
       "      <td>OFF-AR-10002833</td>\n",
       "      <td>Office Supplies</td>\n",
       "      <td>Art</td>\n",
       "      <td>Newell 322</td>\n",
       "      <td>7.2800</td>\n",
       "    </tr>\n",
       "    <tr>\n",
       "      <th>7</th>\n",
       "      <td>8</td>\n",
       "      <td>CA-2015-115812</td>\n",
       "      <td>9/6/2015</td>\n",
       "      <td>14/06/2015</td>\n",
       "      <td>Standard Class</td>\n",
       "      <td>BH-11710</td>\n",
       "      <td>Brosina Hoffman</td>\n",
       "      <td>Consumer</td>\n",
       "      <td>United States</td>\n",
       "      <td>Los Angeles</td>\n",
       "      <td>California</td>\n",
       "      <td>90032.0</td>\n",
       "      <td>West</td>\n",
       "      <td>TEC-PH-10002275</td>\n",
       "      <td>Technology</td>\n",
       "      <td>Phones</td>\n",
       "      <td>Mitel 5320 IP Phone VoIP phone</td>\n",
       "      <td>907.1520</td>\n",
       "    </tr>\n",
       "    <tr>\n",
       "      <th>8</th>\n",
       "      <td>9</td>\n",
       "      <td>CA-2015-115812</td>\n",
       "      <td>9/6/2015</td>\n",
       "      <td>14/06/2015</td>\n",
       "      <td>Standard Class</td>\n",
       "      <td>BH-11710</td>\n",
       "      <td>Brosina Hoffman</td>\n",
       "      <td>Consumer</td>\n",
       "      <td>United States</td>\n",
       "      <td>Los Angeles</td>\n",
       "      <td>California</td>\n",
       "      <td>90032.0</td>\n",
       "      <td>West</td>\n",
       "      <td>OFF-BI-10003910</td>\n",
       "      <td>Office Supplies</td>\n",
       "      <td>Binders</td>\n",
       "      <td>DXL Angle-View Binders with Locking Rings by S...</td>\n",
       "      <td>18.5040</td>\n",
       "    </tr>\n",
       "    <tr>\n",
       "      <th>9</th>\n",
       "      <td>10</td>\n",
       "      <td>CA-2015-115812</td>\n",
       "      <td>9/6/2015</td>\n",
       "      <td>14/06/2015</td>\n",
       "      <td>Standard Class</td>\n",
       "      <td>BH-11710</td>\n",
       "      <td>Brosina Hoffman</td>\n",
       "      <td>Consumer</td>\n",
       "      <td>United States</td>\n",
       "      <td>Los Angeles</td>\n",
       "      <td>California</td>\n",
       "      <td>90032.0</td>\n",
       "      <td>West</td>\n",
       "      <td>OFF-AP-10002892</td>\n",
       "      <td>Office Supplies</td>\n",
       "      <td>Appliances</td>\n",
       "      <td>Belkin F5C206VTEL 6 Outlet Surge</td>\n",
       "      <td>114.9000</td>\n",
       "    </tr>\n",
       "  </tbody>\n",
       "</table>\n",
       "</div>"
      ],
      "text/plain": [
       "   Row_ID        Order_ID  Order_Date   Ship_Date       Ship_Mode Customer_ID  \\\n",
       "0       1  CA-2017-152156   8/11/2017  11/11/2017    Second Class    CG-12520   \n",
       "1       2  CA-2017-152156   8/11/2017  11/11/2017    Second Class    CG-12520   \n",
       "2       3  CA-2017-138688   12/6/2017  16/06/2017    Second Class    DV-13045   \n",
       "3       4  US-2016-108966  11/10/2016  18/10/2016  Standard Class    SO-20335   \n",
       "4       5  US-2016-108966  11/10/2016  18/10/2016  Standard Class    SO-20335   \n",
       "5       6  CA-2015-115812    9/6/2015  14/06/2015  Standard Class    BH-11710   \n",
       "6       7  CA-2015-115812    9/6/2015  14/06/2015  Standard Class    BH-11710   \n",
       "7       8  CA-2015-115812    9/6/2015  14/06/2015  Standard Class    BH-11710   \n",
       "8       9  CA-2015-115812    9/6/2015  14/06/2015  Standard Class    BH-11710   \n",
       "9      10  CA-2015-115812    9/6/2015  14/06/2015  Standard Class    BH-11710   \n",
       "\n",
       "     Customer_Name    Segment        Country             City       State  \\\n",
       "0      Claire Gute   Consumer  United States        Henderson    Kentucky   \n",
       "1      Claire Gute   Consumer  United States        Henderson    Kentucky   \n",
       "2  Darrin Van Huff  Corporate  United States      Los Angeles  California   \n",
       "3    Sean O Donnel   Consumer  United States  Fort Lauderdale     Florida   \n",
       "4    Sean O Donnel   Consumer  United States  Fort Lauderdale     Florida   \n",
       "5  Brosina Hoffman   Consumer  United States      Los Angeles  California   \n",
       "6  Brosina Hoffman   Consumer  United States      Los Angeles  California   \n",
       "7  Brosina Hoffman   Consumer  United States      Los Angeles  California   \n",
       "8  Brosina Hoffman   Consumer  United States      Los Angeles  California   \n",
       "9  Brosina Hoffman   Consumer  United States      Los Angeles  California   \n",
       "\n",
       "   Postal_Code Region       Product_ID         Category Sub_Category  \\\n",
       "0      42420.0  South  FUR-BO-10001798        Furniture    Bookcases   \n",
       "1      42420.0  South  FUR-CH-10000454        Furniture       Chairs   \n",
       "2      90036.0   West  OFF-LA-10000240  Office Supplies       Labels   \n",
       "3      33311.0  South  FUR-TA-10000577        Furniture       Tables   \n",
       "4      33311.0  South  OFF-ST-10000760  Office Supplies      Storage   \n",
       "5      90032.0   West  FUR-FU-10001487        Furniture  Furnishings   \n",
       "6      90032.0   West  OFF-AR-10002833  Office Supplies          Art   \n",
       "7      90032.0   West  TEC-PH-10002275       Technology       Phones   \n",
       "8      90032.0   West  OFF-BI-10003910  Office Supplies      Binders   \n",
       "9      90032.0   West  OFF-AP-10002892  Office Supplies   Appliances   \n",
       "\n",
       "                                        Product_Name     Sales  \n",
       "0                  Bush Somerset Collection Bookcase  261.9600  \n",
       "1  Hon Deluxe Fabric Upholstered Stacking Chairs,...  731.9400  \n",
       "2  Self-Adhesive Address Labels for Typewriters b...   14.6200  \n",
       "3      Bretford CR4500 Series Slim Rectangular Table  957.5775  \n",
       "4                      Eldon Fold N Roll Cart System   22.3680  \n",
       "5  Eldon Expressions Wood and Plastic Desk Access...   48.8600  \n",
       "6                                         Newell 322    7.2800  \n",
       "7                     Mitel 5320 IP Phone VoIP phone  907.1520  \n",
       "8  DXL Angle-View Binders with Locking Rings by S...   18.5040  \n",
       "9                   Belkin F5C206VTEL 6 Outlet Surge  114.9000  "
      ]
     },
     "execution_count": 68,
     "metadata": {},
     "output_type": "execute_result"
    }
   ],
   "source": [
    "df.head(10)"
   ]
  },
  {
   "cell_type": "code",
   "execution_count": 70,
   "id": "0ba30fac-bce3-45de-90cb-fea60f370a1b",
   "metadata": {},
   "outputs": [
    {
     "data": {
      "text/html": [
       "<div>\n",
       "<style scoped>\n",
       "    .dataframe tbody tr th:only-of-type {\n",
       "        vertical-align: middle;\n",
       "    }\n",
       "\n",
       "    .dataframe tbody tr th {\n",
       "        vertical-align: top;\n",
       "    }\n",
       "\n",
       "    .dataframe thead th {\n",
       "        text-align: right;\n",
       "    }\n",
       "</style>\n",
       "<table border=\"1\" class=\"dataframe\">\n",
       "  <thead>\n",
       "    <tr style=\"text-align: right;\">\n",
       "      <th></th>\n",
       "      <th>Row_ID</th>\n",
       "      <th>Order_ID</th>\n",
       "      <th>Order_Date</th>\n",
       "      <th>Ship_Date</th>\n",
       "      <th>Ship_Mode</th>\n",
       "      <th>Customer_ID</th>\n",
       "      <th>Customer_Name</th>\n",
       "      <th>Segment</th>\n",
       "      <th>Country</th>\n",
       "      <th>City</th>\n",
       "      <th>State</th>\n",
       "      <th>Postal_Code</th>\n",
       "      <th>Region</th>\n",
       "      <th>Product_ID</th>\n",
       "      <th>Category</th>\n",
       "      <th>Sub_Category</th>\n",
       "      <th>Product_Name</th>\n",
       "      <th>Sales</th>\n",
       "    </tr>\n",
       "  </thead>\n",
       "  <tbody>\n",
       "    <tr>\n",
       "      <th>9798</th>\n",
       "      <td>9799</td>\n",
       "      <td>CA-2016-128608</td>\n",
       "      <td>12/1/2016</td>\n",
       "      <td>17/01/2016</td>\n",
       "      <td>Standard Class</td>\n",
       "      <td>CS-12490</td>\n",
       "      <td>Cindy Schnelling</td>\n",
       "      <td>Corporate</td>\n",
       "      <td>United States</td>\n",
       "      <td>Toledo</td>\n",
       "      <td>Ohio</td>\n",
       "      <td>43615.0</td>\n",
       "      <td>East</td>\n",
       "      <td>TEC-PH-10000912</td>\n",
       "      <td>Technology</td>\n",
       "      <td>Phones</td>\n",
       "      <td>Anker 24W Portable Micro USB Car Charger</td>\n",
       "      <td>26.376</td>\n",
       "    </tr>\n",
       "    <tr>\n",
       "      <th>9799</th>\n",
       "      <td>9800</td>\n",
       "      <td>CA-2016-128608</td>\n",
       "      <td>12/1/2016</td>\n",
       "      <td>17/01/2016</td>\n",
       "      <td>Standard Class</td>\n",
       "      <td>CS-12490</td>\n",
       "      <td>Cindy Schnelling</td>\n",
       "      <td>Corporate</td>\n",
       "      <td>United States</td>\n",
       "      <td>Toledo</td>\n",
       "      <td>Ohio</td>\n",
       "      <td>43615.0</td>\n",
       "      <td>East</td>\n",
       "      <td>TEC-AC-10000487</td>\n",
       "      <td>Technology</td>\n",
       "      <td>Accessories</td>\n",
       "      <td>SanDisk Cruzer 4 GB USB Flash Drive</td>\n",
       "      <td>10.384</td>\n",
       "    </tr>\n",
       "  </tbody>\n",
       "</table>\n",
       "</div>"
      ],
      "text/plain": [
       "      Row_ID        Order_ID Order_Date   Ship_Date       Ship_Mode  \\\n",
       "9798    9799  CA-2016-128608  12/1/2016  17/01/2016  Standard Class   \n",
       "9799    9800  CA-2016-128608  12/1/2016  17/01/2016  Standard Class   \n",
       "\n",
       "     Customer_ID     Customer_Name    Segment        Country    City State  \\\n",
       "9798    CS-12490  Cindy Schnelling  Corporate  United States  Toledo  Ohio   \n",
       "9799    CS-12490  Cindy Schnelling  Corporate  United States  Toledo  Ohio   \n",
       "\n",
       "      Postal_Code Region       Product_ID    Category Sub_Category  \\\n",
       "9798      43615.0   East  TEC-PH-10000912  Technology       Phones   \n",
       "9799      43615.0   East  TEC-AC-10000487  Technology  Accessories   \n",
       "\n",
       "                                  Product_Name   Sales  \n",
       "9798  Anker 24W Portable Micro USB Car Charger  26.376  \n",
       "9799       SanDisk Cruzer 4 GB USB Flash Drive  10.384  "
      ]
     },
     "execution_count": 70,
     "metadata": {},
     "output_type": "execute_result"
    }
   ],
   "source": [
    "df.tail(2)"
   ]
  },
  {
   "cell_type": "code",
   "execution_count": 72,
   "id": "eb0628be-0ad7-4834-ad99-e080bc8a077a",
   "metadata": {},
   "outputs": [
    {
     "data": {
      "text/html": [
       "<div>\n",
       "<style scoped>\n",
       "    .dataframe tbody tr th:only-of-type {\n",
       "        vertical-align: middle;\n",
       "    }\n",
       "\n",
       "    .dataframe tbody tr th {\n",
       "        vertical-align: top;\n",
       "    }\n",
       "\n",
       "    .dataframe thead th {\n",
       "        text-align: right;\n",
       "    }\n",
       "</style>\n",
       "<table border=\"1\" class=\"dataframe\">\n",
       "  <thead>\n",
       "    <tr style=\"text-align: right;\">\n",
       "      <th></th>\n",
       "      <th>Row_ID</th>\n",
       "      <th>Order_ID</th>\n",
       "      <th>Order_Date</th>\n",
       "      <th>Ship_Date</th>\n",
       "      <th>Ship_Mode</th>\n",
       "      <th>Customer_ID</th>\n",
       "      <th>Customer_Name</th>\n",
       "      <th>Segment</th>\n",
       "      <th>Country</th>\n",
       "      <th>City</th>\n",
       "      <th>State</th>\n",
       "      <th>Postal_Code</th>\n",
       "      <th>Region</th>\n",
       "      <th>Product_ID</th>\n",
       "      <th>Category</th>\n",
       "      <th>Sub_Category</th>\n",
       "      <th>Product_Name</th>\n",
       "      <th>Sales</th>\n",
       "    </tr>\n",
       "  </thead>\n",
       "  <tbody>\n",
       "    <tr>\n",
       "      <th>9100</th>\n",
       "      <td>9101</td>\n",
       "      <td>CA-2018-152933</td>\n",
       "      <td>12/10/2018</td>\n",
       "      <td>16/10/2018</td>\n",
       "      <td>Standard Class</td>\n",
       "      <td>MG-17650</td>\n",
       "      <td>Matthew Grinstein</td>\n",
       "      <td>Home Office</td>\n",
       "      <td>United States</td>\n",
       "      <td>Dallas</td>\n",
       "      <td>Texas</td>\n",
       "      <td>75081.0</td>\n",
       "      <td>Central</td>\n",
       "      <td>TEC-AC-10003033</td>\n",
       "      <td>Technology</td>\n",
       "      <td>Accessories</td>\n",
       "      <td>Plantronics CS510 - Over-the-Head monaural Wir...</td>\n",
       "      <td>791.880</td>\n",
       "    </tr>\n",
       "    <tr>\n",
       "      <th>9101</th>\n",
       "      <td>9102</td>\n",
       "      <td>CA-2016-163181</td>\n",
       "      <td>7/11/2016</td>\n",
       "      <td>12/11/2016</td>\n",
       "      <td>Standard Class</td>\n",
       "      <td>AB-10105</td>\n",
       "      <td>Adrian Barton</td>\n",
       "      <td>Consumer</td>\n",
       "      <td>United States</td>\n",
       "      <td>Houston</td>\n",
       "      <td>Texas</td>\n",
       "      <td>77041.0</td>\n",
       "      <td>Central</td>\n",
       "      <td>OFF-AR-10001683</td>\n",
       "      <td>Office Supplies</td>\n",
       "      <td>Art</td>\n",
       "      <td>Lumber Crayons</td>\n",
       "      <td>23.640</td>\n",
       "    </tr>\n",
       "    <tr>\n",
       "      <th>9102</th>\n",
       "      <td>9103</td>\n",
       "      <td>CA-2016-163181</td>\n",
       "      <td>7/11/2016</td>\n",
       "      <td>12/11/2016</td>\n",
       "      <td>Standard Class</td>\n",
       "      <td>AB-10105</td>\n",
       "      <td>Adrian Barton</td>\n",
       "      <td>Consumer</td>\n",
       "      <td>United States</td>\n",
       "      <td>Houston</td>\n",
       "      <td>Texas</td>\n",
       "      <td>77041.0</td>\n",
       "      <td>Central</td>\n",
       "      <td>OFF-ST-10001713</td>\n",
       "      <td>Office Supplies</td>\n",
       "      <td>Storage</td>\n",
       "      <td>Gould Plastics 9-Pocket Panel Bin, 18-3/8w x 5...</td>\n",
       "      <td>84.784</td>\n",
       "    </tr>\n",
       "    <tr>\n",
       "      <th>9103</th>\n",
       "      <td>9104</td>\n",
       "      <td>CA-2016-163181</td>\n",
       "      <td>7/11/2016</td>\n",
       "      <td>12/11/2016</td>\n",
       "      <td>Standard Class</td>\n",
       "      <td>AB-10105</td>\n",
       "      <td>Adrian Barton</td>\n",
       "      <td>Consumer</td>\n",
       "      <td>United States</td>\n",
       "      <td>Houston</td>\n",
       "      <td>Texas</td>\n",
       "      <td>77041.0</td>\n",
       "      <td>Central</td>\n",
       "      <td>FUR-FU-10000193</td>\n",
       "      <td>Furniture</td>\n",
       "      <td>Furnishings</td>\n",
       "      <td>Tenex Chairmats For Use with Hard Floors</td>\n",
       "      <td>64.960</td>\n",
       "    </tr>\n",
       "    <tr>\n",
       "      <th>9104</th>\n",
       "      <td>9105</td>\n",
       "      <td>CA-2016-163181</td>\n",
       "      <td>7/11/2016</td>\n",
       "      <td>12/11/2016</td>\n",
       "      <td>Standard Class</td>\n",
       "      <td>AB-10105</td>\n",
       "      <td>Adrian Barton</td>\n",
       "      <td>Consumer</td>\n",
       "      <td>United States</td>\n",
       "      <td>Houston</td>\n",
       "      <td>Texas</td>\n",
       "      <td>77041.0</td>\n",
       "      <td>Central</td>\n",
       "      <td>OFF-BI-10000474</td>\n",
       "      <td>Office Supplies</td>\n",
       "      <td>Binders</td>\n",
       "      <td>Avery Recycled Flexi-View Covers for Binding S...</td>\n",
       "      <td>32.060</td>\n",
       "    </tr>\n",
       "    <tr>\n",
       "      <th>...</th>\n",
       "      <td>...</td>\n",
       "      <td>...</td>\n",
       "      <td>...</td>\n",
       "      <td>...</td>\n",
       "      <td>...</td>\n",
       "      <td>...</td>\n",
       "      <td>...</td>\n",
       "      <td>...</td>\n",
       "      <td>...</td>\n",
       "      <td>...</td>\n",
       "      <td>...</td>\n",
       "      <td>...</td>\n",
       "      <td>...</td>\n",
       "      <td>...</td>\n",
       "      <td>...</td>\n",
       "      <td>...</td>\n",
       "      <td>...</td>\n",
       "      <td>...</td>\n",
       "    </tr>\n",
       "    <tr>\n",
       "      <th>9795</th>\n",
       "      <td>9796</td>\n",
       "      <td>CA-2017-125920</td>\n",
       "      <td>21/05/2017</td>\n",
       "      <td>28/05/2017</td>\n",
       "      <td>Standard Class</td>\n",
       "      <td>SH-19975</td>\n",
       "      <td>Sally Hughsby</td>\n",
       "      <td>Corporate</td>\n",
       "      <td>United States</td>\n",
       "      <td>Chicago</td>\n",
       "      <td>Illinois</td>\n",
       "      <td>60610.0</td>\n",
       "      <td>Central</td>\n",
       "      <td>OFF-BI-10003429</td>\n",
       "      <td>Office Supplies</td>\n",
       "      <td>Binders</td>\n",
       "      <td>Cardinal HOLDit! Binder Insert Strips,Extra St...</td>\n",
       "      <td>3.798</td>\n",
       "    </tr>\n",
       "    <tr>\n",
       "      <th>9796</th>\n",
       "      <td>9797</td>\n",
       "      <td>CA-2016-128608</td>\n",
       "      <td>12/1/2016</td>\n",
       "      <td>17/01/2016</td>\n",
       "      <td>Standard Class</td>\n",
       "      <td>CS-12490</td>\n",
       "      <td>Cindy Schnelling</td>\n",
       "      <td>Corporate</td>\n",
       "      <td>United States</td>\n",
       "      <td>Toledo</td>\n",
       "      <td>Ohio</td>\n",
       "      <td>43615.0</td>\n",
       "      <td>East</td>\n",
       "      <td>OFF-AR-10001374</td>\n",
       "      <td>Office Supplies</td>\n",
       "      <td>Art</td>\n",
       "      <td>BIC Brite Liner Highlighters, Chisel Tip</td>\n",
       "      <td>10.368</td>\n",
       "    </tr>\n",
       "    <tr>\n",
       "      <th>9797</th>\n",
       "      <td>9798</td>\n",
       "      <td>CA-2016-128608</td>\n",
       "      <td>12/1/2016</td>\n",
       "      <td>17/01/2016</td>\n",
       "      <td>Standard Class</td>\n",
       "      <td>CS-12490</td>\n",
       "      <td>Cindy Schnelling</td>\n",
       "      <td>Corporate</td>\n",
       "      <td>United States</td>\n",
       "      <td>Toledo</td>\n",
       "      <td>Ohio</td>\n",
       "      <td>43615.0</td>\n",
       "      <td>East</td>\n",
       "      <td>TEC-PH-10004977</td>\n",
       "      <td>Technology</td>\n",
       "      <td>Phones</td>\n",
       "      <td>GE 30524EE4</td>\n",
       "      <td>235.188</td>\n",
       "    </tr>\n",
       "    <tr>\n",
       "      <th>9798</th>\n",
       "      <td>9799</td>\n",
       "      <td>CA-2016-128608</td>\n",
       "      <td>12/1/2016</td>\n",
       "      <td>17/01/2016</td>\n",
       "      <td>Standard Class</td>\n",
       "      <td>CS-12490</td>\n",
       "      <td>Cindy Schnelling</td>\n",
       "      <td>Corporate</td>\n",
       "      <td>United States</td>\n",
       "      <td>Toledo</td>\n",
       "      <td>Ohio</td>\n",
       "      <td>43615.0</td>\n",
       "      <td>East</td>\n",
       "      <td>TEC-PH-10000912</td>\n",
       "      <td>Technology</td>\n",
       "      <td>Phones</td>\n",
       "      <td>Anker 24W Portable Micro USB Car Charger</td>\n",
       "      <td>26.376</td>\n",
       "    </tr>\n",
       "    <tr>\n",
       "      <th>9799</th>\n",
       "      <td>9800</td>\n",
       "      <td>CA-2016-128608</td>\n",
       "      <td>12/1/2016</td>\n",
       "      <td>17/01/2016</td>\n",
       "      <td>Standard Class</td>\n",
       "      <td>CS-12490</td>\n",
       "      <td>Cindy Schnelling</td>\n",
       "      <td>Corporate</td>\n",
       "      <td>United States</td>\n",
       "      <td>Toledo</td>\n",
       "      <td>Ohio</td>\n",
       "      <td>43615.0</td>\n",
       "      <td>East</td>\n",
       "      <td>TEC-AC-10000487</td>\n",
       "      <td>Technology</td>\n",
       "      <td>Accessories</td>\n",
       "      <td>SanDisk Cruzer 4 GB USB Flash Drive</td>\n",
       "      <td>10.384</td>\n",
       "    </tr>\n",
       "  </tbody>\n",
       "</table>\n",
       "<p>700 rows × 18 columns</p>\n",
       "</div>"
      ],
      "text/plain": [
       "      Row_ID        Order_ID  Order_Date   Ship_Date       Ship_Mode  \\\n",
       "9100    9101  CA-2018-152933  12/10/2018  16/10/2018  Standard Class   \n",
       "9101    9102  CA-2016-163181   7/11/2016  12/11/2016  Standard Class   \n",
       "9102    9103  CA-2016-163181   7/11/2016  12/11/2016  Standard Class   \n",
       "9103    9104  CA-2016-163181   7/11/2016  12/11/2016  Standard Class   \n",
       "9104    9105  CA-2016-163181   7/11/2016  12/11/2016  Standard Class   \n",
       "...      ...             ...         ...         ...             ...   \n",
       "9795    9796  CA-2017-125920  21/05/2017  28/05/2017  Standard Class   \n",
       "9796    9797  CA-2016-128608   12/1/2016  17/01/2016  Standard Class   \n",
       "9797    9798  CA-2016-128608   12/1/2016  17/01/2016  Standard Class   \n",
       "9798    9799  CA-2016-128608   12/1/2016  17/01/2016  Standard Class   \n",
       "9799    9800  CA-2016-128608   12/1/2016  17/01/2016  Standard Class   \n",
       "\n",
       "     Customer_ID      Customer_Name      Segment        Country     City  \\\n",
       "9100    MG-17650  Matthew Grinstein  Home Office  United States   Dallas   \n",
       "9101    AB-10105      Adrian Barton     Consumer  United States  Houston   \n",
       "9102    AB-10105      Adrian Barton     Consumer  United States  Houston   \n",
       "9103    AB-10105      Adrian Barton     Consumer  United States  Houston   \n",
       "9104    AB-10105      Adrian Barton     Consumer  United States  Houston   \n",
       "...          ...                ...          ...            ...      ...   \n",
       "9795    SH-19975      Sally Hughsby    Corporate  United States  Chicago   \n",
       "9796    CS-12490   Cindy Schnelling    Corporate  United States   Toledo   \n",
       "9797    CS-12490   Cindy Schnelling    Corporate  United States   Toledo   \n",
       "9798    CS-12490   Cindy Schnelling    Corporate  United States   Toledo   \n",
       "9799    CS-12490   Cindy Schnelling    Corporate  United States   Toledo   \n",
       "\n",
       "         State  Postal_Code   Region       Product_ID         Category  \\\n",
       "9100     Texas      75081.0  Central  TEC-AC-10003033       Technology   \n",
       "9101     Texas      77041.0  Central  OFF-AR-10001683  Office Supplies   \n",
       "9102     Texas      77041.0  Central  OFF-ST-10001713  Office Supplies   \n",
       "9103     Texas      77041.0  Central  FUR-FU-10000193        Furniture   \n",
       "9104     Texas      77041.0  Central  OFF-BI-10000474  Office Supplies   \n",
       "...        ...          ...      ...              ...              ...   \n",
       "9795  Illinois      60610.0  Central  OFF-BI-10003429  Office Supplies   \n",
       "9796      Ohio      43615.0     East  OFF-AR-10001374  Office Supplies   \n",
       "9797      Ohio      43615.0     East  TEC-PH-10004977       Technology   \n",
       "9798      Ohio      43615.0     East  TEC-PH-10000912       Technology   \n",
       "9799      Ohio      43615.0     East  TEC-AC-10000487       Technology   \n",
       "\n",
       "     Sub_Category                                       Product_Name    Sales  \n",
       "9100  Accessories  Plantronics CS510 - Over-the-Head monaural Wir...  791.880  \n",
       "9101          Art                                     Lumber Crayons   23.640  \n",
       "9102      Storage  Gould Plastics 9-Pocket Panel Bin, 18-3/8w x 5...   84.784  \n",
       "9103  Furnishings           Tenex Chairmats For Use with Hard Floors   64.960  \n",
       "9104      Binders  Avery Recycled Flexi-View Covers for Binding S...   32.060  \n",
       "...           ...                                                ...      ...  \n",
       "9795      Binders  Cardinal HOLDit! Binder Insert Strips,Extra St...    3.798  \n",
       "9796          Art           BIC Brite Liner Highlighters, Chisel Tip   10.368  \n",
       "9797       Phones                                        GE 30524EE4  235.188  \n",
       "9798       Phones           Anker 24W Portable Micro USB Car Charger   26.376  \n",
       "9799  Accessories                SanDisk Cruzer 4 GB USB Flash Drive   10.384  \n",
       "\n",
       "[700 rows x 18 columns]"
      ]
     },
     "execution_count": 72,
     "metadata": {},
     "output_type": "execute_result"
    }
   ],
   "source": [
    "df.tail(700)"
   ]
  },
  {
   "cell_type": "code",
   "execution_count": 1,
   "id": "6b49d3cf-bbe1-45c4-b9b7-c62572e6dac9",
   "metadata": {},
   "outputs": [
    {
     "data": {
      "text/plain": [
       "'My name is Rupali.\\nMy age is 26.\\nI am belongs to Pune.\\nI Studied in Fergussion College.\\nLearning Python in WebAsha.\\nMy hobby is to Read Books, Comic, Biography and AutoBiography and Murder cases.\\nMy name Aditi.\\nMy age is 15.'"
      ]
     },
     "execution_count": 1,
     "metadata": {},
     "output_type": "execute_result"
    }
   ],
   "source": [
    "x='C:\\\\Users\\\\Admin\\\\Downloads\\\\Details.txt'\n",
    "file=open(x,'r')\n",
    "content=file.read()\n",
    "content"
   ]
  },
  {
   "cell_type": "code",
   "execution_count": 2,
   "id": "1319abd0-b925-4b71-b830-6a6ef3454480",
   "metadata": {},
   "outputs": [
    {
     "name": "stdout",
     "output_type": "stream",
     "text": [
      "My name is Rupali.\n",
      "My age is 26.\n",
      "I am belongs to Pune.\n",
      "I Studied in Fergussion College.\n",
      "Learning Python in WebAsha.\n",
      "My hobby is to Read Books, Comic, Biography and AutoBiography and Murder cases.\n",
      "My name Aditi.\n",
      "My age is 15.\n"
     ]
    }
   ],
   "source": [
    "print(content)"
   ]
  },
  {
   "cell_type": "code",
   "execution_count": 10,
   "id": "06290a51-ada7-4b5e-88ac-ebf23f95227c",
   "metadata": {},
   "outputs": [
    {
     "name": "stdout",
     "output_type": "stream",
     "text": [
      "My na\n",
      "me is\n",
      " Rupali.\n",
      "My age is 26.\n",
      "I am belongs to Pune.\n",
      "I Stu\n",
      "died \n"
     ]
    }
   ],
   "source": [
    "# Reading \n",
    "\n",
    "with open(x,'r') as f:\n",
    "    print(f.read(5))\n",
    "    print(f.read(5))\n",
    "    print(f.read(50))\n",
    "    print(f.read(5))"
   ]
  },
  {
   "cell_type": "code",
   "execution_count": 17,
   "id": "ed7dca37-a7fc-4e6f-8796-35493f510378",
   "metadata": {},
   "outputs": [
    {
     "name": "stdout",
     "output_type": "stream",
     "text": [
      "My name is Rupali.\n",
      "\n",
      "My age is 26.\n",
      "\n",
      "I am belongs to Pune.\n",
      "\n",
      "I Studied in Fergussion College.\n",
      "\n",
      "Learning Python in WebAsha.\n",
      "\n"
     ]
    }
   ],
   "source": [
    "with open(x,'r') as f:\n",
    "    print(f.readline())\n",
    "    print(f.readline())\n",
    "    print(f.readline())\n",
    "    print(f.readline())\n",
    "    print(f.readline())"
   ]
  },
  {
   "cell_type": "code",
   "execution_count": 24,
   "id": "a0256f72-fdbc-4fed-aa3b-2c11b9315eeb",
   "metadata": {},
   "outputs": [
    {
     "name": "stdout",
     "output_type": "stream",
     "text": [
      "['My name is Rupali.\\n']\n",
      "['My age is 26.\\n']\n",
      "['I am belongs to Pune.\\n', 'I Studied in Fergussion College.\\n']\n",
      "['Learning Python in WebAsha.\\n', 'My hobby is to Read Books, Comic, Biography and AutoBiography and Murder cases.\\n']\n"
     ]
    }
   ],
   "source": [
    "with open(x,'r') as r:\n",
    "    print(r.readlines(10))\n",
    "    print(r.readlines(10))\n",
    "    print(r.readlines(50))\n",
    "    print(r.readlines(100))"
   ]
  },
  {
   "cell_type": "code",
   "execution_count": 27,
   "id": "b7824c55-d233-45e9-a298-505062031e43",
   "metadata": {},
   "outputs": [
    {
     "name": "stdout",
     "output_type": "stream",
     "text": [
      "Line Number 1 : My name is Rupali.\n",
      "\n",
      "Line Number 2 : My age is 26.\n",
      "\n",
      "Line Number 3 : I am belongs to Pune.\n",
      "\n",
      "Line Number 4 : I Studied in Fergussion College.\n",
      "\n",
      "Line Number 5 : Learning Python in WebAsha.\n",
      "\n",
      "Line Number 6 : My hobby is to Read Books, Comic, Biography and AutoBiography and Murder cases.\n",
      "\n",
      "Line Number 7 : My name Aditi.\n",
      "\n",
      "Line Number 8 : My age is 15.\n"
     ]
    }
   ],
   "source": [
    "with open(x,'r') as f:\n",
    "    line_number=1\n",
    "    for rupali in f:\n",
    "        print('Line Number',str(line_number),':',rupali)\n",
    "        line_number+=1"
   ]
  },
  {
   "cell_type": "code",
   "execution_count": 30,
   "id": "9b08653d-5532-425b-b5d6-9cb092498680",
   "metadata": {},
   "outputs": [
    {
     "name": "stdout",
     "output_type": "stream",
     "text": [
      "My name is Rupali.\n",
      "My age is 26.\n",
      "I am belongs to Pune.\n",
      "I Studied in Fergussion College.\n",
      "Learning Python in WebAsha.\n",
      "My hobby is to Read Books, Comic, Biography and AutoBiography and Murder cases.\n",
      "My name Aditi.\n",
      "My age is 15.\n"
     ]
    }
   ],
   "source": [
    "with open(x,'r') as f:\n",
    "    print(f.read())"
   ]
  },
  {
   "cell_type": "code",
   "execution_count": 33,
   "id": "fa7f69ce-8189-467d-8cae-7fc94de5fd49",
   "metadata": {},
   "outputs": [
    {
     "name": "stdout",
     "output_type": "stream",
     "text": [
      "224\n"
     ]
    }
   ],
   "source": [
    "# Reading characters in the file with space\n",
    "\n",
    "with open(x,'r') as f:\n",
    "    str1=''\n",
    "    for line in f:\n",
    "        str1+=line\n",
    "    print(len(str1))"
   ]
  },
  {
   "cell_type": "code",
   "execution_count": 35,
   "id": "39160a8c-3c60-486b-8d4f-d74e7703bd7c",
   "metadata": {},
   "outputs": [
    {
     "name": "stdout",
     "output_type": "stream",
     "text": [
      "Total Words in your file is: 190\n"
     ]
    }
   ],
   "source": [
    "# Total characters without spaces\n",
    "file_name='C:\\\\Users\\\\Admin\\\\Downloads\\\\Details.txt'\n",
    "file=open(file_name,'r')\n",
    "cotent=file.read()\n",
    "print('Total Words in your file is:',len(content.replace(' ','')))"
   ]
  },
  {
   "cell_type": "code",
   "execution_count": 39,
   "id": "53ef6a77-5bb0-4b4e-b29e-b89db5f15d2a",
   "metadata": {},
   "outputs": [
    {
     "name": "stdin",
     "output_type": "stream",
     "text": [
      "Enter your file path C:\\\\Users\\\\Admin\\\\Downloads\\\\Details.txt\n"
     ]
    },
    {
     "name": "stdout",
     "output_type": "stream",
     "text": [
      "My name is Rupali.\n",
      "My age is 26.\n",
      "I am belongs to Pune.\n",
      "I Studied in Fergussion College.\n",
      "Learning Python in WebAsha.\n",
      "My hobby is to Read Books, Comic, Biography and AutoBiography and Murder cases.\n",
      "My name Aditi.\n",
      "My age is 15.\n"
     ]
    }
   ],
   "source": [
    "# Reading files using function\n",
    "\n",
    "def file(x):\n",
    "    file_name=x\n",
    "    file=open(file_name,'r')\n",
    "    content=file.read()\n",
    "    print(content)\n",
    "\n",
    "user=input('Enter your file path')\n",
    "file(user)"
   ]
  },
  {
   "cell_type": "code",
   "execution_count": 45,
   "id": "0355caee-3f4b-479a-9095-3a5a7b40b4f3",
   "metadata": {},
   "outputs": [
    {
     "name": "stdout",
     "output_type": "stream",
     "text": [
      "My name is Rupali.\n",
      "My age is 26.\n",
      "I am belongs to Pune.\n",
      "I Studied in Fergussion College.\n",
      "Learning Python in WebAsha.\n",
      "My hobby is to Read Books, Comic, Biography and AutoBiography and Murder cases.\n",
      "My name Aditi.\n",
      "My age is 15.\n"
     ]
    }
   ],
   "source": [
    "# Class and object.\n",
    "\n",
    "class file:\n",
    "    def __init__(self,file_name):\n",
    "        self.file_name=file_name\n",
    "    def openfile(self):\n",
    "        file_name_new = self.file_name\n",
    "        file = open(file_name_new,'r')\n",
    "        read_file = file.read()\n",
    "        print(read_file)\n",
    "\n",
    "new = file(\"C:\\\\Users\\\\Admin\\\\Downloads\\\\Details.txt\")\n",
    "new.openfile()"
   ]
  },
  {
   "cell_type": "code",
   "execution_count": 54,
   "id": "646c743e-56ca-4b95-804b-3c6d4c5ef6ca",
   "metadata": {},
   "outputs": [
    {
     "name": "stdin",
     "output_type": "stream",
     "text": [
      "Enter your file name here :->>  C:\\\\Users\\\\Admin\\\\Downloads\\\\Details.txt\n"
     ]
    },
    {
     "name": "stdout",
     "output_type": "stream",
     "text": [
      "My name is Rupali.\n",
      "My age is 26.\n",
      "I am belongs to Pune.\n",
      "I Studied in Fergussion College.\n",
      "Learning Python in WebAsha.\n",
      "My hobby is to Read Books, Comic, Biography and AutoBiography and Murder cases.\n",
      "My name Aditi.\n",
      "My age is 15.\n"
     ]
    }
   ],
   "source": [
    "# try: except\n",
    "\n",
    "try:\n",
    "    file_name = input(\"Enter your file name here :->> \")\n",
    "    file = open(file_name,'r')\n",
    "    read_file_here = file.read()\n",
    "    print(read_file_here)\n",
    "except FileNotFoundError:\n",
    "    print(\"Please enter correct file name.\")\n",
    "\n",
    "except KeyboardInterrupt:\n",
    "    print('Keyboard is Interrupted by User')"
   ]
  },
  {
   "cell_type": "code",
   "execution_count": 55,
   "id": "02a29eaf-001d-431b-b889-2cf44d82bb08",
   "metadata": {},
   "outputs": [
    {
     "data": {
      "text/plain": [
       "190"
      ]
     },
     "execution_count": 55,
     "metadata": {},
     "output_type": "execute_result"
    }
   ],
   "source": [
    "len(read_file_here)-read_file_here.count(' ')"
   ]
  },
  {
   "cell_type": "code",
   "execution_count": 58,
   "id": "97c7effb-0563-4970-b637-861f8f4645e4",
   "metadata": {},
   "outputs": [
    {
     "name": "stdout",
     "output_type": "stream",
     "text": [
      "Sahil\n",
      "Rupali\n"
     ]
    }
   ],
   "source": [
    "# IDLE  # Integrated Development and Learning Environment\n",
    "print(\"\"\"Sahil\"\"\")\n",
    "print('''Rupali''')\n",
    "\n"
   ]
  },
  {
   "cell_type": "code",
   "execution_count": 59,
   "id": "53830656-330a-40f7-8fe1-bb4e937e7355",
   "metadata": {},
   "outputs": [
    {
     "name": "stdout",
     "output_type": "stream",
     "text": [
      "\n",
      "    This function returns the square of the input number.\n",
      "\n",
      "    Args:\n",
      "        x: The input number.\n",
      "\n",
      "    Returns:\n",
      "        The square of the input number.\n",
      "    \n"
     ]
    }
   ],
   "source": [
    "def my_function(x):\n",
    "    \"\"\"\n",
    "    This function returns the square of the input number.\n",
    "\n",
    "    Args:\n",
    "        x: The input number.\n",
    "\n",
    "    Returns:\n",
    "        The square of the input number.\n",
    "    \"\"\"\n",
    "    return x * x\n",
    "\n",
    "print(my_function.__doc__)"
   ]
  },
  {
   "cell_type": "code",
   "execution_count": 60,
   "id": "eb1477eb-382e-4444-b2c8-28f545845ffe",
   "metadata": {},
   "outputs": [
    {
     "name": "stdout",
     "output_type": "stream",
     "text": [
      "\n",
      "    ========================================\n",
      "    \n",
      "    \n",
      "                 hello dear\n",
      "    \n",
      "    \n",
      "    ===========================================\n",
      "    \n",
      "    \n"
     ]
    }
   ],
   "source": [
    "print(\n",
    "    '''\n",
    "    ========================================\n",
    "    \n",
    "    \n",
    "                 hello dear\n",
    "    \n",
    "    \n",
    "    ===========================================\n",
    "    \n",
    "    '''\n",
    ")"
   ]
  },
  {
   "cell_type": "code",
   "execution_count": null,
   "id": "b8952322-9d81-430e-b63d-424469693b72",
   "metadata": {},
   "outputs": [],
   "source": []
  },
  {
   "cell_type": "code",
   "execution_count": 62,
   "id": "ed292b6d-4d90-4c4e-857c-e1bc64f72f33",
   "metadata": {},
   "outputs": [
    {
     "name": "stdout",
     "output_type": "stream",
     "text": [
      "6363\n"
     ]
    }
   ],
   "source": [
    "x='6'\n",
    "y='3'\n",
    "z=str(x+y)\n",
    "z2=x+y\n",
    "print(z+z2)      #6+3+9   #"
   ]
  },
  {
   "cell_type": "code",
   "execution_count": 63,
   "id": "c77bad6b-9ebd-4fa0-9b79-75d5dcdb291b",
   "metadata": {},
   "outputs": [
    {
     "name": "stdout",
     "output_type": "stream",
     "text": [
      "5\n"
     ]
    }
   ],
   "source": [
    "x=3\n",
    "y=2\n",
    "\n",
    "x+=y\n",
    "print(x)"
   ]
  },
  {
   "cell_type": "code",
   "execution_count": 64,
   "id": "b4f822f2-fc1c-454d-965a-44aa9fa87884",
   "metadata": {},
   "outputs": [
    {
     "name": "stdout",
     "output_type": "stream",
     "text": [
      "2\n"
     ]
    }
   ],
   "source": [
    "x=30\n",
    "y=7\n",
    "\n",
    "x%=y\n",
    "print(x)"
   ]
  },
  {
   "cell_type": "code",
   "execution_count": 66,
   "id": "8fc3f465-be6c-4a78-9abf-bd802f0770f0",
   "metadata": {},
   "outputs": [
    {
     "name": "stdout",
     "output_type": "stream",
     "text": [
      "True\n",
      "True\n"
     ]
    }
   ],
   "source": [
    "x=3\n",
    "y=3\n",
    "\n",
    "print(x==y)\n",
    "print(x is y)"
   ]
  },
  {
   "cell_type": "code",
   "execution_count": 67,
   "id": "f466a9e6-152f-46aa-aad4-43f8654e20b0",
   "metadata": {},
   "outputs": [
    {
     "name": "stdout",
     "output_type": "stream",
     "text": [
      "True\n"
     ]
    }
   ],
   "source": [
    "x=True\n",
    "y=False\n",
    "print(x or y)"
   ]
  },
  {
   "cell_type": "code",
   "execution_count": 68,
   "id": "6a76f14e-d358-4b14-93ac-322343df721e",
   "metadata": {},
   "outputs": [
    {
     "name": "stdout",
     "output_type": "stream",
     "text": [
      "False\n"
     ]
    }
   ],
   "source": [
    "print( not x)"
   ]
  },
  {
   "cell_type": "code",
   "execution_count": 69,
   "id": "767b15c0-30f1-4aef-86d0-8c1ecf0614b4",
   "metadata": {},
   "outputs": [
    {
     "name": "stdout",
     "output_type": "stream",
     "text": [
      "True\n"
     ]
    }
   ],
   "source": [
    "print(not y)"
   ]
  },
  {
   "cell_type": "code",
   "execution_count": 70,
   "id": "7f39d2da-4a50-437d-819a-666bf0aadb12",
   "metadata": {},
   "outputs": [
    {
     "name": "stdout",
     "output_type": "stream",
     "text": [
      "40\n"
     ]
    }
   ],
   "source": [
    "x=20\n",
    "y=40\n",
    "\n",
    "z= y if (y>x) else x\n",
    "print(z)"
   ]
  },
  {
   "cell_type": "code",
   "execution_count": 72,
   "id": "60a4f65e-1f26-487f-b604-3a3e37c41691",
   "metadata": {},
   "outputs": [
    {
     "name": "stdout",
     "output_type": "stream",
     "text": [
      "53\n"
     ]
    }
   ],
   "source": [
    "x=70\n",
    "y=53\n",
    "\n",
    "z= y if (x %2 ==0) else x\n",
    "print(z)"
   ]
  },
  {
   "cell_type": "code",
   "execution_count": 80,
   "id": "307695ed-2a00-476d-97ae-f7ed69c6c3a3",
   "metadata": {},
   "outputs": [
    {
     "name": "stdin",
     "output_type": "stream",
     "text": [
      "Enter any string :->>  Rupali Gurav\n"
     ]
    },
    {
     "name": "stdout",
     "output_type": "stream",
     "text": [
      "List is :->> [] \n",
      "\n",
      "Vowels in --- 'Rupali Gurav' --- are :->>  [] \n",
      "\n",
      "Consonant in --- 'Rupali Gurav' --- are :->>  []\n",
      "\n",
      "Always enter alphabetic letters to distinguish as vowels and consonants!\n",
      "\n",
      "Thankyou!\n"
     ]
    }
   ],
   "source": [
    "#Seperate consonants and vowels from string handle errors\n",
    "\n",
    "\n",
    "list = []\n",
    "vow = []\n",
    "conso = []\n",
    "none = []\n",
    "try:\n",
    "    word = input(\"Enter any string :->> \")\n",
    "    for letter in word:\n",
    "        if word.isalpha():\n",
    "            list.append(letter)\n",
    "            none.append(word.replace(' ',''))\n",
    "    \n",
    "    for i in list:\n",
    "        if i in ('a','e','i','o','u','A','E','I','O','U'):\n",
    "            vow.append(i)\n",
    "        # elif i in (' '):\n",
    "        #     none.append(i)\n",
    "        else:\n",
    "            conso.append(i)\n",
    "    \n",
    "                \n",
    "    print(\"List is :->>\",list,\"\\n\")\n",
    "    print(f\"Vowels in --- '{word}' --- are :->> \",vow,\"\\n\")\n",
    "    print(f\"Consonant in --- '{word}' --- are :->> \",conso)\n",
    "except ValueError:\n",
    "    print(\"Enter only string\")\n",
    "except KeyboardInterrupt:\n",
    "    print(\"KeyboardInterrupt\")\n",
    "else:\n",
    "    print(\"\\nAlways enter alphabetic letters to distinguish as vowels and consonants!\")\n",
    "finally:\n",
    "    print(\"\\nThankyou!\")"
   ]
  },
  {
   "cell_type": "code",
   "execution_count": 89,
   "id": "743be020-cf9c-4ad6-a1b6-19a138473d85",
   "metadata": {},
   "outputs": [
    {
     "name": "stdin",
     "output_type": "stream",
     "text": [
      "Enter any string :->>  Rupali\n"
     ]
    },
    {
     "name": "stdout",
     "output_type": "stream",
     "text": [
      "KeyboardInterrupt\n",
      "\n",
      "Thankyou!\n"
     ]
    }
   ],
   "source": [
    "#Seperate consonants and vowels from string handle errors\n",
    "\n",
    "\n",
    "list = []\n",
    "vow = []\n",
    "conso = []\n",
    "none = []\n",
    "try:\n",
    "    word = input(\"Enter any string :->> \")\n",
    "    x=word.replace(' ','')\n",
    "    none.append(x)\n",
    "    for letter in none:\n",
    "        if word.isalpha():\n",
    "            none.append(letter)\n",
    "    \n",
    "    for i in none:\n",
    "        if i in ('a','e','i','o','u','A','E','I','O','U'):\n",
    "            vow.append(i)\n",
    "        # elif i in (' '):\n",
    "        #     none.append(i)\n",
    "        else:\n",
    "            conso.append(i)\n",
    "    \n",
    "                \n",
    "    print(\"List is :->>\",none,\"\\n\")\n",
    "    print(f\"Vowels in --- '{word}' --- are :->> \",vow,\"\\n\")\n",
    "    print(f\"Consonant in --- '{word}' --- are :->> \",conso)\n",
    "except ValueError:\n",
    "    print(\"Enter only string\")\n",
    "except KeyboardInterrupt:\n",
    "    print(\"KeyboardInterrupt\")\n",
    "else:\n",
    "    print(\"\\nAlways enter alphabetic letters to distinguish as vowels and consonants!\")\n",
    "finally:\n",
    "    print(\"\\nThankyou!\")"
   ]
  },
  {
   "cell_type": "code",
   "execution_count": 102,
   "id": "86567267-b1ce-49f0-81ad-dcf4d15af2b2",
   "metadata": {},
   "outputs": [
    {
     "name": "stdin",
     "output_type": "stream",
     "text": [
      "Enter any string :->>  Rupali Gurav\n"
     ]
    },
    {
     "name": "stdout",
     "output_type": "stream",
     "text": [
      "List is :->> ['R', 'u', 'p', 'a', 'l', 'i', 'G', 'u', 'r', 'a', 'v'] = 11\n",
      "Vowels in --- 'Rupali Gurav' --- are :->>  ['u', 'a', 'i', 'u', 'a'] = 5\n",
      "Consonant in --- 'Rupali Gurav' --- are :->>  ['R', 'p', 'l', 'G', 'r', 'v'] = 6\n",
      "\n",
      "Always enter alphabetic letters to distinguish as vowels and consonants!\n",
      "\n",
      "Thankyou!\n"
     ]
    }
   ],
   "source": [
    "#Seperate consonants and vowels from string handle errors\n",
    "\n",
    "\n",
    "list = []\n",
    "vow = []\n",
    "conso = []\n",
    "none = []\n",
    "\n",
    "try:\n",
    "    word = input(\"Enter any string :->> \")\n",
    "    x1=word.replace(\" \",\"\")\n",
    "    for letter in x1:\n",
    "        if x1.isalpha():\n",
    "            list.append(letter)\n",
    "    \n",
    "    for i in list:\n",
    "        if i in ('a','e','i','o','u','A','E','I','O','U'):\n",
    "            vow.append(i)\n",
    "        elif i in (' '):\n",
    "            none.append(i)\n",
    "        else:\n",
    "            conso.append(i)\n",
    "                \n",
    "    print(\"List is :->>\",list,\"=\",len(list))\n",
    "    print(f\"Vowels in --- '{word}' --- are :->> \",vow,\"=\",len(vow))\n",
    "    print(f\"Consonant in --- '{word}' --- are :->> \",conso,\"=\",len(conso))\n",
    "except ValueError:\n",
    "    print(\"Enter only string\")\n",
    "except KeyboardInterrupt:\n",
    "    print(\"KeyboardInterrupt\")\n",
    "else:\n",
    "    print(\"\\nAlways enter alphabetic letters to distinguish as vowels and consonants!\")\n",
    "finally:\n",
    "    print(\"\\nThankyou!\")"
   ]
  },
  {
   "cell_type": "code",
   "execution_count": null,
   "id": "9f662313-58aa-4e97-b340-ad617d40af2b",
   "metadata": {},
   "outputs": [],
   "source": []
  }
 ],
 "metadata": {
  "kernelspec": {
   "display_name": "Python 3 (ipykernel)",
   "language": "python",
   "name": "python3"
  },
  "language_info": {
   "codemirror_mode": {
    "name": "ipython",
    "version": 3
   },
   "file_extension": ".py",
   "mimetype": "text/x-python",
   "name": "python",
   "nbconvert_exporter": "python",
   "pygments_lexer": "ipython3",
   "version": "3.12.2"
  }
 },
 "nbformat": 4,
 "nbformat_minor": 5
}
