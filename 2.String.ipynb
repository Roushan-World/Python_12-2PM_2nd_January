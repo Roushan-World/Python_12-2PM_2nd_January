{
 "cells": [
  {
   "cell_type": "code",
   "execution_count": 1,
   "id": "96a0fed7-2853-4b7c-ac5a-22cd795b8923",
   "metadata": {},
   "outputs": [
    {
     "name": "stdout",
     "output_type": "stream",
     "text": [
      "Hello world\n"
     ]
    }
   ],
   "source": [
    "print('Hello world')"
   ]
  },
  {
   "cell_type": "code",
   "execution_count": 2,
   "id": "6c43f5fc-2dcf-437a-a6db-ec445bd712ab",
   "metadata": {},
   "outputs": [
    {
     "name": "stdout",
     "output_type": "stream",
     "text": [
      "100\n"
     ]
    }
   ],
   "source": [
    "print('100')"
   ]
  },
  {
   "cell_type": "code",
   "execution_count": 3,
   "id": "1463aceb-caa2-4a31-97e0-f5ee1ff7348c",
   "metadata": {},
   "outputs": [
    {
     "name": "stdout",
     "output_type": "stream",
     "text": [
      "@ # $ %\n"
     ]
    }
   ],
   "source": [
    "print('@ # $ %')"
   ]
  },
  {
   "cell_type": "code",
   "execution_count": 4,
   "id": "7274284c-1376-4ead-a97b-f85c27284ae3",
   "metadata": {},
   "outputs": [
    {
     "name": "stdout",
     "output_type": "stream",
     "text": [
      "hello world\n"
     ]
    }
   ],
   "source": [
    "message='hello world'\n",
    "print(message)"
   ]
  },
  {
   "cell_type": "code",
   "execution_count": 5,
   "id": "b93c9659-a12a-41d7-a4d6-bf470f26f765",
   "metadata": {},
   "outputs": [
    {
     "name": "stdout",
     "output_type": "stream",
     "text": [
      "<class 'str'>\n"
     ]
    }
   ],
   "source": [
    "print(type(message))"
   ]
  },
  {
   "cell_type": "markdown",
   "id": "5d9bc7bf-eea4-4053-a2bb-6f65d0473bec",
   "metadata": {},
   "source": [
    "# Indexing of string"
   ]
  },
  {
   "cell_type": "code",
   "execution_count": 19,
   "id": "404237bb-ef5e-4b37-9505-09b0a1e09cc1",
   "metadata": {},
   "outputs": [
    {
     "data": {
      "text/plain": [
       "'Hello world'"
      ]
     },
     "execution_count": 19,
     "metadata": {},
     "output_type": "execute_result"
    }
   ],
   "source": [
    "# positive indexing\n",
    "x='Hello world'\n",
    "x"
   ]
  },
  {
   "cell_type": "code",
   "execution_count": 7,
   "id": "cffe0e49-63a2-47fb-9bf7-4e7f466ec4e3",
   "metadata": {},
   "outputs": [
    {
     "data": {
      "text/plain": [
       "'H'"
      ]
     },
     "execution_count": 7,
     "metadata": {},
     "output_type": "execute_result"
    }
   ],
   "source": [
    "x[0]"
   ]
  },
  {
   "cell_type": "code",
   "execution_count": 8,
   "id": "f5a020ea-0a10-414f-b311-6d4fbc17d411",
   "metadata": {},
   "outputs": [
    {
     "data": {
      "text/plain": [
       "'e'"
      ]
     },
     "execution_count": 8,
     "metadata": {},
     "output_type": "execute_result"
    }
   ],
   "source": [
    "x[1]"
   ]
  },
  {
   "cell_type": "code",
   "execution_count": 9,
   "id": "168b3bf5-f47b-4bb3-a860-d470319fa97f",
   "metadata": {},
   "outputs": [
    {
     "data": {
      "text/plain": [
       "'l'"
      ]
     },
     "execution_count": 9,
     "metadata": {},
     "output_type": "execute_result"
    }
   ],
   "source": [
    "x[2]"
   ]
  },
  {
   "cell_type": "code",
   "execution_count": 10,
   "id": "fb46c99c-f746-4793-b9d5-dc54aa1b600b",
   "metadata": {},
   "outputs": [
    {
     "data": {
      "text/plain": [
       "'l'"
      ]
     },
     "execution_count": 10,
     "metadata": {},
     "output_type": "execute_result"
    }
   ],
   "source": [
    "x[3]"
   ]
  },
  {
   "cell_type": "code",
   "execution_count": 11,
   "id": "b4f648cc-27d0-4b5d-b63d-9f03e436aed9",
   "metadata": {},
   "outputs": [
    {
     "data": {
      "text/plain": [
       "'o'"
      ]
     },
     "execution_count": 11,
     "metadata": {},
     "output_type": "execute_result"
    }
   ],
   "source": [
    "x[4]"
   ]
  },
  {
   "cell_type": "code",
   "execution_count": 12,
   "id": "a78864f9-4c2a-403d-b1ce-d0b06b913766",
   "metadata": {},
   "outputs": [
    {
     "data": {
      "text/plain": [
       "' '"
      ]
     },
     "execution_count": 12,
     "metadata": {},
     "output_type": "execute_result"
    }
   ],
   "source": [
    "x[5]"
   ]
  },
  {
   "cell_type": "code",
   "execution_count": 13,
   "id": "0c74a62c-f8e4-46bc-847a-820997dc6da9",
   "metadata": {},
   "outputs": [
    {
     "data": {
      "text/plain": [
       "'w'"
      ]
     },
     "execution_count": 13,
     "metadata": {},
     "output_type": "execute_result"
    }
   ],
   "source": [
    "x[6]"
   ]
  },
  {
   "cell_type": "code",
   "execution_count": 14,
   "id": "a2afaba2-e591-42e9-b8d9-2aad432db7ad",
   "metadata": {},
   "outputs": [
    {
     "data": {
      "text/plain": [
       "'o'"
      ]
     },
     "execution_count": 14,
     "metadata": {},
     "output_type": "execute_result"
    }
   ],
   "source": [
    "x[7]"
   ]
  },
  {
   "cell_type": "code",
   "execution_count": 15,
   "id": "37c76afa-065c-4e0f-b460-97f7c5e5aad9",
   "metadata": {},
   "outputs": [
    {
     "data": {
      "text/plain": [
       "'r'"
      ]
     },
     "execution_count": 15,
     "metadata": {},
     "output_type": "execute_result"
    }
   ],
   "source": [
    "x[8]"
   ]
  },
  {
   "cell_type": "code",
   "execution_count": 16,
   "id": "50e87cac-c378-4b9f-9971-47f8c0eb203b",
   "metadata": {},
   "outputs": [
    {
     "data": {
      "text/plain": [
       "'l'"
      ]
     },
     "execution_count": 16,
     "metadata": {},
     "output_type": "execute_result"
    }
   ],
   "source": [
    "x[9]"
   ]
  },
  {
   "cell_type": "code",
   "execution_count": 17,
   "id": "c7622f4d-da33-4e88-b5ae-37da2ba3d4d2",
   "metadata": {},
   "outputs": [
    {
     "data": {
      "text/plain": [
       "'d'"
      ]
     },
     "execution_count": 17,
     "metadata": {},
     "output_type": "execute_result"
    }
   ],
   "source": [
    "x[10]"
   ]
  },
  {
   "cell_type": "code",
   "execution_count": 18,
   "id": "e2027a34-2a76-4e58-b2e2-2937fa387522",
   "metadata": {},
   "outputs": [
    {
     "ename": "IndexError",
     "evalue": "string index out of range",
     "output_type": "error",
     "traceback": [
      "\u001b[1;31m---------------------------------------------------------------------------\u001b[0m",
      "\u001b[1;31mIndexError\u001b[0m                                Traceback (most recent call last)",
      "Cell \u001b[1;32mIn[18], line 1\u001b[0m\n\u001b[1;32m----> 1\u001b[0m \u001b[43mx\u001b[49m\u001b[43m[\u001b[49m\u001b[38;5;241;43m11\u001b[39;49m\u001b[43m]\u001b[49m\n",
      "\u001b[1;31mIndexError\u001b[0m: string index out of range"
     ]
    }
   ],
   "source": [
    "x[11]"
   ]
  },
  {
   "cell_type": "code",
   "execution_count": 20,
   "id": "4f52038b-b394-4000-859d-3cefda80b0b0",
   "metadata": {},
   "outputs": [
    {
     "data": {
      "text/plain": [
       "'Hello world'"
      ]
     },
     "execution_count": 20,
     "metadata": {},
     "output_type": "execute_result"
    }
   ],
   "source": [
    "# negative indexing\n",
    "x='Hello world'\n",
    "x"
   ]
  },
  {
   "cell_type": "code",
   "execution_count": 32,
   "id": "b708b113-8996-4d75-aec5-082f7ec21fef",
   "metadata": {},
   "outputs": [
    {
     "name": "stdout",
     "output_type": "stream",
     "text": [
      "d\n",
      "l\n",
      "r\n",
      "o\n",
      "w\n",
      " \n",
      "o\n",
      "l\n",
      "l\n",
      "e\n",
      "H\n"
     ]
    }
   ],
   "source": [
    "print(x[-1])\n",
    "print(x[-2])\n",
    "print(x[-3])\n",
    "print(x[-4])\n",
    "print(x[-5])\n",
    "print(x[-6])\n",
    "print(x[-7])\n",
    "print(x[-8])\n",
    "print(x[-9])\n",
    "print(x[-10])\n",
    "print(x[-11])"
   ]
  },
  {
   "cell_type": "code",
   "execution_count": 36,
   "id": "782b20e2-a115-4a35-b390-5d21a4bdae1a",
   "metadata": {},
   "outputs": [
    {
     "name": "stdout",
     "output_type": "stream",
     "text": [
      "H H\n",
      "e e\n",
      "l l\n"
     ]
    }
   ],
   "source": [
    "print(x[0],x[-11])\n",
    "print(x[1],x[-10])\n",
    "print(x[2],x[-9])"
   ]
  },
  {
   "cell_type": "markdown",
   "id": "893dfddf-83cb-43ee-a37a-a7b44f30892c",
   "metadata": {},
   "source": [
    "# Slicing of String"
   ]
  },
  {
   "cell_type": "code",
   "execution_count": 37,
   "id": "82349adb-ad01-4904-bb4b-4948c0e71249",
   "metadata": {},
   "outputs": [
    {
     "data": {
      "text/plain": [
       "'Hello World'"
      ]
     },
     "execution_count": 37,
     "metadata": {},
     "output_type": "execute_result"
    }
   ],
   "source": [
    "x1=\"Hello World\"\n",
    "x1"
   ]
  },
  {
   "cell_type": "code",
   "execution_count": 39,
   "id": "43174796-63cd-4bdb-a023-5de8e1341bc3",
   "metadata": {},
   "outputs": [
    {
     "data": {
      "text/plain": [
       "'Hello'"
      ]
     },
     "execution_count": 39,
     "metadata": {},
     "output_type": "execute_result"
    }
   ],
   "source": [
    "x1[0:5]"
   ]
  },
  {
   "cell_type": "code",
   "execution_count": 43,
   "id": "486d67b2-624b-482c-95e9-52ea71205c0c",
   "metadata": {},
   "outputs": [
    {
     "data": {
      "text/plain": [
       "'World'"
      ]
     },
     "execution_count": 43,
     "metadata": {},
     "output_type": "execute_result"
    }
   ],
   "source": [
    "x1[6:11]"
   ]
  },
  {
   "cell_type": "code",
   "execution_count": 45,
   "id": "26e458db-1f76-47d0-ae53-c2a5ea9d9b57",
   "metadata": {},
   "outputs": [
    {
     "data": {
      "text/plain": [
       "'Hello World'"
      ]
     },
     "execution_count": 45,
     "metadata": {},
     "output_type": "execute_result"
    }
   ],
   "source": [
    "x1[0:11]"
   ]
  },
  {
   "cell_type": "code",
   "execution_count": 46,
   "id": "ddd9f88c-8bc7-4f97-8ebf-32e637e9cc94",
   "metadata": {},
   "outputs": [
    {
     "data": {
      "text/plain": [
       "'Hello World'"
      ]
     },
     "execution_count": 46,
     "metadata": {},
     "output_type": "execute_result"
    }
   ],
   "source": [
    "x1[:]"
   ]
  },
  {
   "cell_type": "code",
   "execution_count": 47,
   "id": "c34567a7-1e9c-4ad7-897c-ffd23f3c2ad7",
   "metadata": {},
   "outputs": [
    {
     "data": {
      "text/plain": [
       "'Hello World'"
      ]
     },
     "execution_count": 47,
     "metadata": {},
     "output_type": "execute_result"
    }
   ],
   "source": [
    "x1"
   ]
  },
  {
   "cell_type": "code",
   "execution_count": 49,
   "id": "1f286bb4-4797-4af8-8280-876608b2099c",
   "metadata": {},
   "outputs": [
    {
     "name": "stdout",
     "output_type": "stream",
     "text": [
      "Hello World\n"
     ]
    }
   ],
   "source": [
    "print(x1)"
   ]
  },
  {
   "cell_type": "code",
   "execution_count": 1,
   "id": "1be9aefc-c1f8-432a-8af0-28e8b310342b",
   "metadata": {},
   "outputs": [],
   "source": [
    "x2='Python is programming laguage.'"
   ]
  },
  {
   "cell_type": "code",
   "execution_count": 2,
   "id": "166c3022-1a28-4e3b-9995-73ecea747540",
   "metadata": {},
   "outputs": [
    {
     "data": {
      "text/plain": [
       "'Python is programming laguage.'"
      ]
     },
     "execution_count": 2,
     "metadata": {},
     "output_type": "execute_result"
    }
   ],
   "source": [
    "x2"
   ]
  },
  {
   "cell_type": "markdown",
   "id": "50825d91-bd44-4d0d-827b-514f8a634a3d",
   "metadata": {},
   "source": [
    "# Step value"
   ]
  },
  {
   "cell_type": "code",
   "execution_count": 3,
   "id": "d776fb0f-05a7-4059-b803-02bb1a88088f",
   "metadata": {},
   "outputs": [
    {
     "data": {
      "text/plain": [
       "'Aditi Kute'"
      ]
     },
     "execution_count": 3,
     "metadata": {},
     "output_type": "execute_result"
    }
   ],
   "source": [
    "x3='Aditi Kute'\n",
    "x3"
   ]
  },
  {
   "cell_type": "code",
   "execution_count": 4,
   "id": "e3ec59e2-2979-44d4-b48a-6ffaff5b8ace",
   "metadata": {},
   "outputs": [
    {
     "data": {
      "text/plain": [
       "'Aditi'"
      ]
     },
     "execution_count": 4,
     "metadata": {},
     "output_type": "execute_result"
    }
   ],
   "source": [
    "x3[0:5]"
   ]
  },
  {
   "cell_type": "code",
   "execution_count": 13,
   "id": "10ebd488-ec5f-4e93-8c92-8bc1580af0f1",
   "metadata": {},
   "outputs": [
    {
     "data": {
      "text/plain": [
       "'AtKe'"
      ]
     },
     "execution_count": 13,
     "metadata": {},
     "output_type": "execute_result"
    }
   ],
   "source": [
    "x3[::3]"
   ]
  },
  {
   "cell_type": "code",
   "execution_count": 14,
   "id": "4ce108aa-614e-40b5-befa-475d486a1cd8",
   "metadata": {},
   "outputs": [
    {
     "data": {
      "text/plain": [
       "'Python is programming laguage.'"
      ]
     },
     "execution_count": 14,
     "metadata": {},
     "output_type": "execute_result"
    }
   ],
   "source": [
    "x2"
   ]
  },
  {
   "cell_type": "code",
   "execution_count": 20,
   "id": "98e36570-8d0e-4fad-be8e-cbc013075420",
   "metadata": {},
   "outputs": [
    {
     "data": {
      "text/plain": [
       "'Pto spormiglgae'"
      ]
     },
     "execution_count": 20,
     "metadata": {},
     "output_type": "execute_result"
    }
   ],
   "source": [
    "x2[::2]"
   ]
  },
  {
   "cell_type": "code",
   "execution_count": 26,
   "id": "dfed9321-63ca-445c-b912-487cadf22a5a",
   "metadata": {},
   "outputs": [
    {
     "data": {
      "text/plain": [
       "'159'"
      ]
     },
     "execution_count": 26,
     "metadata": {},
     "output_type": "execute_result"
    }
   ],
   "source": [
    "x4='12345678910'\n",
    "x4[::4]"
   ]
  },
  {
   "cell_type": "code",
   "execution_count": 31,
   "id": "4ef4a4a8-6f77-40b8-b2be-c9bf82bca7c4",
   "metadata": {},
   "outputs": [],
   "source": [
    "x4='Python is a programming language.'\n",
    "\n",
    "x5=x4[12:23]"
   ]
  },
  {
   "cell_type": "code",
   "execution_count": 34,
   "id": "04de6c21-3213-49a9-97af-5e553b893bcf",
   "metadata": {},
   "outputs": [
    {
     "data": {
      "text/plain": [
       "'gnimmargorp'"
      ]
     },
     "execution_count": 34,
     "metadata": {},
     "output_type": "execute_result"
    }
   ],
   "source": [
    "x5[::-1]"
   ]
  },
  {
   "cell_type": "markdown",
   "id": "7b19b068-8acf-4c86-b388-1b875cc15e58",
   "metadata": {},
   "source": [
    "# Concatenation"
   ]
  },
  {
   "cell_type": "code",
   "execution_count": 40,
   "id": "7eca4dad-af54-4ebd-af6f-f597909d2ed2",
   "metadata": {},
   "outputs": [
    {
     "data": {
      "text/plain": [
       "'Aditi Kute'"
      ]
     },
     "execution_count": 40,
     "metadata": {},
     "output_type": "execute_result"
    }
   ],
   "source": [
    "first_name='Aditi '\n",
    "last_name='Kute'\n",
    "full_name=first_name+last_name\n",
    "full_name"
   ]
  },
  {
   "cell_type": "code",
   "execution_count": 44,
   "id": "28782adc-8c42-4531-a446-1303ae51c519",
   "metadata": {},
   "outputs": [
    {
     "data": {
      "text/plain": [
       "'KuteKuteKuteKuteKuteKuteKuteKuteKuteKuteKuteKuteKuteKuteKuteKuteKuteKuteKuteKuteKuteKuteKuteKuteKuteKuteKuteKuteKuteKuteKuteKuteKuteKuteKuteKuteKuteKuteKuteKuteKuteKuteKuteKuteKuteKuteKuteKuteKuteKuteKuteKuteKuteKuteKuteKuteKuteKuteKuteKuteKuteKuteKuteKuteKuteKuteKuteKuteKuteKuteKuteKuteKuteKuteKuteKuteKuteKuteKuteKuteKuteKuteKuteKuteKuteKuteKuteKuteKuteKuteKuteKuteKuteKuteKuteKuteKuteKuteKuteKute'"
      ]
     },
     "execution_count": 44,
     "metadata": {},
     "output_type": "execute_result"
    }
   ],
   "source": [
    "100*last_name"
   ]
  },
  {
   "cell_type": "code",
   "execution_count": 48,
   "id": "2d774f04-802c-4885-aabf-4eea583f843c",
   "metadata": {},
   "outputs": [],
   "source": [
    "x='Hello world '\n",
    "y='How many people are living on the earth?'"
   ]
  },
  {
   "cell_type": "code",
   "execution_count": 49,
   "id": "0703c6cb-5efc-437e-b9a6-5cee618450f5",
   "metadata": {},
   "outputs": [
    {
     "name": "stdout",
     "output_type": "stream",
     "text": [
      "Hello world \n",
      "How many people are living on the earth?\n"
     ]
    }
   ],
   "source": [
    "print(x)\n",
    "print(y)"
   ]
  },
  {
   "cell_type": "code",
   "execution_count": 50,
   "id": "51d3c9e3-56f3-47f1-9825-32d86c30aa9d",
   "metadata": {},
   "outputs": [
    {
     "data": {
      "text/plain": [
       "'Hello world How many people are living on the earth?'"
      ]
     },
     "execution_count": 50,
     "metadata": {},
     "output_type": "execute_result"
    }
   ],
   "source": [
    "x+y"
   ]
  },
  {
   "cell_type": "code",
   "execution_count": 69,
   "id": "4eb023be-42fa-4410-893b-8e509a7c370b",
   "metadata": {},
   "outputs": [
    {
     "name": "stdout",
     "output_type": "stream",
     "text": [
      "Hello world\tHow many people are living on the earth?\n",
      "Hello world\n",
      "How many people are living on the earth?\n"
     ]
    }
   ],
   "source": [
    "print('Hello world\\tHow many people are living on the earth?')  # \\n-> tab\n",
    "print('Hello world\\nHow many people are living on the earth?')  #\\n-> new line"
   ]
  },
  {
   "cell_type": "code",
   "execution_count": 59,
   "id": "d39eb3a2-b08e-4f6d-9d30-1d3b86759d4d",
   "metadata": {},
   "outputs": [
    {
     "name": "stdout",
     "output_type": "stream",
     "text": [
      "\\\\\\\n"
     ]
    }
   ],
   "source": [
    "print('\\\\\\\\\\\\')"
   ]
  },
  {
   "cell_type": "markdown",
   "id": "bcb077f3-4525-47c4-b35c-fa9ef41d36f6",
   "metadata": {},
   "source": [
    "# String opeartions"
   ]
  },
  {
   "cell_type": "code",
   "execution_count": 76,
   "id": "dd66a243-b7d6-4d59-a56d-83626e324d48",
   "metadata": {},
   "outputs": [
    {
     "name": "stdout",
     "output_type": "stream",
     "text": [
      "Upper case: HELLO WORLD\n",
      "Capitalize Hello world\n",
      "Title: Hello World\n"
     ]
    }
   ],
   "source": [
    "message='hello world'\n",
    "# uppercase\n",
    "\n",
    "print('Upper case:',message.upper())\n",
    "\n",
    "# Capitalize\n",
    "print('Capitalize',message.capitalize())\n",
    "\n",
    "# title\n",
    "print('Title:',message.title())"
   ]
  },
  {
   "cell_type": "code",
   "execution_count": 84,
   "id": "61add94c-a474-4804-861a-83ce75357b49",
   "metadata": {},
   "outputs": [
    {
     "name": "stdout",
     "output_type": "stream",
     "text": [
      "2\n",
      "8\n"
     ]
    }
   ],
   "source": [
    "x='hello world'\n",
    "\n",
    "# count\n",
    "\n",
    "print(x.count('o'))\n",
    "\n",
    "# find\n",
    "print(x.find('r'))"
   ]
  },
  {
   "cell_type": "code",
   "execution_count": 85,
   "id": "d345aff9-db22-44b4-8225-6b94fd629dec",
   "metadata": {},
   "outputs": [
    {
     "data": {
      "text/plain": [
       "'hello world'"
      ]
     },
     "execution_count": 85,
     "metadata": {},
     "output_type": "execute_result"
    }
   ],
   "source": [
    "x"
   ]
  },
  {
   "cell_type": "code",
   "execution_count": 86,
   "id": "076d67f7-64b6-4a96-85fd-b9252bbb03a9",
   "metadata": {},
   "outputs": [
    {
     "name": "stdout",
     "output_type": "stream",
     "text": [
      "hello Aditi\n"
     ]
    }
   ],
   "source": [
    "print(x.replace('world','Aditi'))"
   ]
  },
  {
   "cell_type": "code",
   "execution_count": 89,
   "id": "8a385d20-99fe-4fa4-be32-b6bb95052e83",
   "metadata": {},
   "outputs": [
    {
     "name": "stdout",
     "output_type": "stream",
     "text": [
      "4/01/2024\n"
     ]
    }
   ],
   "source": [
    "date='4-01-2024'\n",
    "print(date.replace('-','/'))"
   ]
  },
  {
   "cell_type": "code",
   "execution_count": 94,
   "id": "264b798d-5959-4623-a5f3-b6bec5f79e2b",
   "metadata": {},
   "outputs": [],
   "source": [
    "# split()\n",
    "\n",
    "x5=date.split('-')"
   ]
  },
  {
   "cell_type": "code",
   "execution_count": 98,
   "id": "ae083a75-1a93-4aeb-95dc-01523446f0a6",
   "metadata": {},
   "outputs": [
    {
     "data": {
      "text/plain": [
       "'-'"
      ]
     },
     "execution_count": 98,
     "metadata": {},
     "output_type": "execute_result"
    }
   ],
   "source": [
    "date[1]"
   ]
  },
  {
   "cell_type": "code",
   "execution_count": 99,
   "id": "2f6d002e-54a3-4491-9656-49e4db8b3b0e",
   "metadata": {},
   "outputs": [
    {
     "data": {
      "text/plain": [
       "['4', '01', '2024']"
      ]
     },
     "execution_count": 99,
     "metadata": {},
     "output_type": "execute_result"
    }
   ],
   "source": [
    "x5"
   ]
  },
  {
   "cell_type": "code",
   "execution_count": 100,
   "id": "3acc2a00-5520-438d-811b-b0d1ee0e684b",
   "metadata": {},
   "outputs": [
    {
     "data": {
      "text/plain": [
       "'4'"
      ]
     },
     "execution_count": 100,
     "metadata": {},
     "output_type": "execute_result"
    }
   ],
   "source": [
    "x5[0]"
   ]
  },
  {
   "cell_type": "code",
   "execution_count": 101,
   "id": "359c4de3-1641-4045-b2ba-79532ccf3426",
   "metadata": {},
   "outputs": [
    {
     "data": {
      "text/plain": [
       "'01'"
      ]
     },
     "execution_count": 101,
     "metadata": {},
     "output_type": "execute_result"
    }
   ],
   "source": [
    "x5[1]"
   ]
  },
  {
   "cell_type": "code",
   "execution_count": 102,
   "id": "38b472cd-b8e2-408a-8d54-bec7ec810045",
   "metadata": {},
   "outputs": [
    {
     "data": {
      "text/plain": [
       "'2024'"
      ]
     },
     "execution_count": 102,
     "metadata": {},
     "output_type": "execute_result"
    }
   ],
   "source": [
    "x5[2]"
   ]
  },
  {
   "cell_type": "code",
   "execution_count": 105,
   "id": "784140d8-9ac9-4383-b12c-c66a5539374f",
   "metadata": {},
   "outputs": [
    {
     "name": "stdout",
     "output_type": "stream",
     "text": [
      "HELLO WORLD\n"
     ]
    },
    {
     "data": {
      "text/plain": [
       "True"
      ]
     },
     "execution_count": 105,
     "metadata": {},
     "output_type": "execute_result"
    }
   ],
   "source": [
    "#isupper function\n",
    "x='Hello world'\n",
    "x2=x.upper()\n",
    "print(x2)\n",
    "x2.isupper()"
   ]
  },
  {
   "cell_type": "code",
   "execution_count": 108,
   "id": "e497e6ce-790c-4210-ac81-ab21d9c84c6c",
   "metadata": {},
   "outputs": [
    {
     "data": {
      "text/plain": [
       "True"
      ]
     },
     "execution_count": 108,
     "metadata": {},
     "output_type": "execute_result"
    }
   ],
   "source": [
    "# isalnum() al-alphabet  num-> number\n",
    "x6='abc12'\n",
    "x6.isalnum()"
   ]
  },
  {
   "cell_type": "code",
   "execution_count": 110,
   "id": "885abfaa-ad5b-4361-b040-1aecae06cfa9",
   "metadata": {},
   "outputs": [
    {
     "data": {
      "text/plain": [
       "False"
      ]
     },
     "execution_count": 110,
     "metadata": {},
     "output_type": "execute_result"
    }
   ],
   "source": [
    "x7='abc123'\n",
    "x7.isnumeric()"
   ]
  },
  {
   "cell_type": "code",
   "execution_count": 112,
   "id": "f51fd16a-bba0-4749-9a76-da2c901d79e6",
   "metadata": {},
   "outputs": [
    {
     "data": {
      "text/plain": [
       "False"
      ]
     },
     "execution_count": 112,
     "metadata": {},
     "output_type": "execute_result"
    }
   ],
   "source": [
    "x8='abc123'\n",
    "x8.isalpha()"
   ]
  },
  {
   "cell_type": "markdown",
   "id": "6e257114-2093-4af6-b3d0-ab1b0d98fe1c",
   "metadata": {},
   "source": [
    "# String formatting"
   ]
  },
  {
   "cell_type": "code",
   "execution_count": 122,
   "id": "789fe84c-b0dc-4593-9f71-28f372306108",
   "metadata": {},
   "outputs": [
    {
     "name": "stdout",
     "output_type": "stream",
     "text": [
      "Hello Python\n"
     ]
    }
   ],
   "source": [
    "x= 'Hello {words}'\n",
    "print(x.format(words='Python'))"
   ]
  },
  {
   "cell_type": "code",
   "execution_count": 128,
   "id": "1878c815-031b-4853-b358-8c652e7c236d",
   "metadata": {},
   "outputs": [
    {
     "name": "stdout",
     "output_type": "stream",
     "text": [
      "My name is Hello and I am 45 Years old.\n",
      "My name is 45 and I am hello Years old.\n"
     ]
    }
   ],
   "source": [
    "x='My name is {} and I am {} Years old.'\n",
    "\n",
    "print(x.format('Hello','45'))\n",
    "print(x.format(45,'hello'))"
   ]
  },
  {
   "cell_type": "code",
   "execution_count": 131,
   "id": "9cdc9f5d-31ce-435b-975b-45736bf5dbd8",
   "metadata": {},
   "outputs": [
    {
     "name": "stdout",
     "output_type": "stream",
     "text": [
      "My name is Hello and I am 45 Years old.\n"
     ]
    }
   ],
   "source": [
    "x='My name is {name} and I am {age} Years old.'\n",
    "print(x.format(age=45,name='Hello'))"
   ]
  },
  {
   "cell_type": "code",
   "execution_count": null,
   "id": "32e63fb5-40a2-4aac-89f0-13a1daa765bf",
   "metadata": {},
   "outputs": [],
   "source": []
  }
 ],
 "metadata": {
  "kernelspec": {
   "display_name": "Python 3 (ipykernel)",
   "language": "python",
   "name": "python3"
  },
  "language_info": {
   "codemirror_mode": {
    "name": "ipython",
    "version": 3
   },
   "file_extension": ".py",
   "mimetype": "text/x-python",
   "name": "python",
   "nbconvert_exporter": "python",
   "pygments_lexer": "ipython3",
   "version": "3.11.4"
  }
 },
 "nbformat": 4,
 "nbformat_minor": 5
}
