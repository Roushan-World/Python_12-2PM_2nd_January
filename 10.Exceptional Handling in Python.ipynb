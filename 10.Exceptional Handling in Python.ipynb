{
 "cells": [
  {
   "cell_type": "markdown",
   "id": "0e68c334-cdef-494c-bda5-fd5d621dd0c6",
   "metadata": {},
   "source": [
    "# 10. Exceptional Handling in Python\n",
    "\n",
    " * __An Exception is an event, which occurs during the execution of a program that disrupts the normal flow of the program's instructions.__\n",
    " * __In general, When a Python script encounters a situation that it cannot cope with, it raises an exception.__\n",
    " * __An exception is a Python object that represents an Error.__\n",
    " * __When a Python scripts raises an exception, it must either handle the exception, you can defend your program by placing terminates and quits.__\n",
    " * __If you have some suspicious code that may raises an exception, you can defend your program by placing the suspicious code in try:blcok.__\n",
    " * __After try:block, include an except: statement, follwoed by a block of code which handles the problem as elegantly as possible.__\n",
    "\n",
    "# Some Comman Exceptions are:-\n",
    " * __NameError__\n",
    " * __ValueError__\n",
    " * __KeyboardInterrupt__\n",
    " * __ZeroDivisionError__\n",
    " * __IOError__\n",
    " * __EOFError__\n",
    " * __IdentationError__"
   ]
  },
  {
   "cell_type": "code",
   "execution_count": 3,
   "id": "6d6c05bd-9d6c-464b-bf87-21d06ebf44a2",
   "metadata": {},
   "outputs": [
    {
     "ename": "ZeroDivisionError",
     "evalue": "division by zero",
     "output_type": "error",
     "traceback": [
      "\u001b[1;31m---------------------------------------------------------------------------\u001b[0m",
      "\u001b[1;31mZeroDivisionError\u001b[0m                         Traceback (most recent call last)",
      "Cell \u001b[1;32mIn[3], line 1\u001b[0m\n\u001b[1;32m----> 1\u001b[0m \u001b[38;5;241;43m1\u001b[39;49m\u001b[38;5;241;43m/\u001b[39;49m\u001b[38;5;241;43m0\u001b[39;49m\n\u001b[0;32m      2\u001b[0m \u001b[38;5;28mprint\u001b[39m(\u001b[38;5;124m'\u001b[39m\u001b[38;5;124mHello\u001b[39m\u001b[38;5;124m'\u001b[39m)\n\u001b[0;32m      3\u001b[0m \u001b[38;5;28mprint\u001b[39m(\u001b[38;5;124m'\u001b[39m\u001b[38;5;124mhello Rupali\u001b[39m\u001b[38;5;124m'\u001b[39m)\n",
      "\u001b[1;31mZeroDivisionError\u001b[0m: division by zero"
     ]
    }
   ],
   "source": [
    "1/0\n",
    "print('Hello')\n",
    "print('hello Rupali')"
   ]
  },
  {
   "cell_type": "code",
   "execution_count": 7,
   "id": "4dfd7a98-72f8-4d7c-93b2-a88f7c82842a",
   "metadata": {},
   "outputs": [
    {
     "name": "stdout",
     "output_type": "stream",
     "text": [
      "Enter a valid Denominator.\n",
      "Hello\n",
      "hello Rupali\n"
     ]
    },
    {
     "data": {
      "text/plain": [
       "'Done'"
      ]
     },
     "execution_count": 7,
     "metadata": {},
     "output_type": "execute_result"
    }
   ],
   "source": [
    "try:\n",
    "    1/0\n",
    "except ZeroDivisionError:\n",
    "    print('Enter a valid Denominator.')\n",
    "    print('Hello')\n",
    "    print('hello Rupali')\n",
    "'Done'"
   ]
  },
  {
   "cell_type": "code",
   "execution_count": 8,
   "id": "f4d92761-8a5b-44b7-8dfe-e0d46aeaa5c9",
   "metadata": {},
   "outputs": [
    {
     "ename": "ZeroDivisionError",
     "evalue": "division by zero",
     "output_type": "error",
     "traceback": [
      "\u001b[1;31m---------------------------------------------------------------------------\u001b[0m",
      "\u001b[1;31mZeroDivisionError\u001b[0m                         Traceback (most recent call last)",
      "Cell \u001b[1;32mIn[8], line 1\u001b[0m\n\u001b[1;32m----> 1\u001b[0m \u001b[38;5;241;43m1\u001b[39;49m\u001b[38;5;241;43m/\u001b[39;49m\u001b[38;5;241;43m0\u001b[39;49m\n",
      "\u001b[1;31mZeroDivisionError\u001b[0m: division by zero"
     ]
    }
   ],
   "source": [
    "1/0"
   ]
  },
  {
   "cell_type": "code",
   "execution_count": 11,
   "id": "7a0bfe80-ee27-4343-829f-7fda4d7e020b",
   "metadata": {},
   "outputs": [
    {
     "name": "stdout",
     "output_type": "stream",
     "text": [
      "Hello world\n"
     ]
    },
    {
     "ename": "ZeroDivisionError",
     "evalue": "division by zero",
     "output_type": "error",
     "traceback": [
      "\u001b[1;31m---------------------------------------------------------------------------\u001b[0m",
      "\u001b[1;31mZeroDivisionError\u001b[0m                         Traceback (most recent call last)",
      "Cell \u001b[1;32mIn[11], line 2\u001b[0m\n\u001b[0;32m      1\u001b[0m \u001b[38;5;28mprint\u001b[39m(\u001b[38;5;124m'\u001b[39m\u001b[38;5;124mHello world\u001b[39m\u001b[38;5;124m'\u001b[39m)\n\u001b[1;32m----> 2\u001b[0m \u001b[38;5;241;43m1\u001b[39;49m\u001b[38;5;241;43m/\u001b[39;49m\u001b[38;5;241;43m0\u001b[39;49m\n",
      "\u001b[1;31mZeroDivisionError\u001b[0m: division by zero"
     ]
    }
   ],
   "source": [
    "1/0\n",
    "\n",
    "\n",
    "\n",
    "print('Hello world')"
   ]
  },
  {
   "cell_type": "code",
   "execution_count": 13,
   "id": "9b40c892-3875-42b5-8ff5-3fe2fa09c2cb",
   "metadata": {},
   "outputs": [
    {
     "name": "stdin",
     "output_type": "stream",
     "text": [
      "Enter your numbes: Hello world\n"
     ]
    },
    {
     "ename": "ValueError",
     "evalue": "invalid literal for int() with base 10: 'Hello world'",
     "output_type": "error",
     "traceback": [
      "\u001b[1;31m---------------------------------------------------------------------------\u001b[0m",
      "\u001b[1;31mValueError\u001b[0m                                Traceback (most recent call last)",
      "Cell \u001b[1;32mIn[13], line 1\u001b[0m\n\u001b[1;32m----> 1\u001b[0m x\u001b[38;5;241m=\u001b[39m\u001b[38;5;28;43mint\u001b[39;49m\u001b[43m(\u001b[49m\u001b[38;5;28;43minput\u001b[39;49m\u001b[43m(\u001b[49m\u001b[38;5;124;43m'\u001b[39;49m\u001b[38;5;124;43mEnter your numbes:\u001b[39;49m\u001b[38;5;124;43m'\u001b[39;49m\u001b[43m)\u001b[49m\u001b[43m)\u001b[49m\n\u001b[0;32m      2\u001b[0m \u001b[38;5;28mprint\u001b[39m(x)\n",
      "\u001b[1;31mValueError\u001b[0m: invalid literal for int() with base 10: 'Hello world'"
     ]
    }
   ],
   "source": [
    "x=int(input('Enter your numbes:'))\n",
    "print(x)"
   ]
  },
  {
   "cell_type": "code",
   "execution_count": 15,
   "id": "9d290609-96f4-4940-b246-0d39e76ded4a",
   "metadata": {},
   "outputs": [
    {
     "name": "stdin",
     "output_type": "stream",
     "text": [
      "Enter number 45\n"
     ]
    },
    {
     "name": "stdout",
     "output_type": "stream",
     "text": [
      "45\n"
     ]
    }
   ],
   "source": [
    "try:\n",
    "    x =  int(input(\"Enter number\"))\n",
    "  \n",
    "except ValueError:\n",
    "    print(\"Enter integer only\")\n",
    "\n",
    "else:\n",
    "    print(x)"
   ]
  },
  {
   "cell_type": "code",
   "execution_count": 19,
   "id": "5e52ee0c-a5e9-46ec-a5d6-a85222ed07f2",
   "metadata": {},
   "outputs": [
    {
     "name": "stdin",
     "output_type": "stream",
     "text": [
      "Enter your number:  hello\n"
     ]
    },
    {
     "name": "stdout",
     "output_type": "stream",
     "text": [
      "Enter only integer value\n"
     ]
    }
   ],
   "source": [
    "try:\n",
    "    x=int(input(\"Enter your number: \"))\n",
    "    print(x)\n",
    "except ValueError :\n",
    "    print(\"Enter only integer value\")"
   ]
  },
  {
   "cell_type": "code",
   "execution_count": 20,
   "id": "4c6441c0-00b4-466a-aa50-7a48d1cc8a4b",
   "metadata": {},
   "outputs": [
    {
     "ename": "ZeroDivisionError",
     "evalue": "division by zero",
     "output_type": "error",
     "traceback": [
      "\u001b[1;31m---------------------------------------------------------------------------\u001b[0m",
      "\u001b[1;31mZeroDivisionError\u001b[0m                         Traceback (most recent call last)",
      "Cell \u001b[1;32mIn[20], line 1\u001b[0m\n\u001b[1;32m----> 1\u001b[0m \u001b[38;5;241;43m1\u001b[39;49m\u001b[38;5;241;43m/\u001b[39;49m\u001b[38;5;241;43m0\u001b[39;49m\n",
      "\u001b[1;31mZeroDivisionError\u001b[0m: division by zero"
     ]
    }
   ],
   "source": [
    "1/0"
   ]
  },
  {
   "cell_type": "code",
   "execution_count": 21,
   "id": "9b2c551c-281f-40f3-9fc6-604d5a7ebb7f",
   "metadata": {},
   "outputs": [],
   "source": [
    "# [10,20,30,40,50] sum of the list=sum/5 exception \n",
    "\n",
    "\n"
   ]
  },
  {
   "cell_type": "code",
   "execution_count": 22,
   "id": "39b7bc9f-fb6d-4d63-b63d-9b60d36ba70c",
   "metadata": {},
   "outputs": [
    {
     "name": "stdin",
     "output_type": "stream",
     "text": [
      "Enter the number of elements:  5\n",
      " 10\n",
      " 10\n",
      " 10\n",
      " 10\n",
      " 10\n"
     ]
    },
    {
     "name": "stdout",
     "output_type": "stream",
     "text": [
      "List is :  [10, 10, 10, 10, 10]\n",
      "10.0\n"
     ]
    }
   ],
   "source": [
    "try:\n",
    "    n=int(input(\"Enter the number of elements: \"))\n",
    "    list=[]\n",
    "    for i in range(n):\n",
    "        x=int(input())\n",
    "        list.append(x)\n",
    "    print(\"List is : \",list)\n",
    "    print(sum(list)/5)\n",
    "except ValueError:\n",
    "    print(\"Enter only integer\")"
   ]
  },
  {
   "cell_type": "code",
   "execution_count": 44,
   "id": "27f55dee-9cf4-4700-aeec-9c638866197d",
   "metadata": {},
   "outputs": [
    {
     "name": "stdin",
     "output_type": "stream",
     "text": [
      "Enter the number of elements:  2\n",
      " 10\n",
      " 20\n"
     ]
    },
    {
     "name": "stdout",
     "output_type": "stream",
     "text": [
      "List is :  [10, 20]\n",
      "Sum of list is :  30\n",
      "Input any integer value\n"
     ]
    },
    {
     "name": "stdin",
     "output_type": "stream",
     "text": [
      "Enter the number you want to divide with :  5\n"
     ]
    }
   ],
   "source": [
    "try:\n",
    "    n=int(input(\"Enter the number of elements: \"))\n",
    "    list=[]\n",
    "    \n",
    "    for i in range(1,n+1):\n",
    "        x=int(input())\n",
    "        list.append(x)\n",
    "    sum1 = sum(list)\n",
    "    print(\"List is : \",list)\n",
    "    print(\"Sum of list is : \",sum1)\n",
    "    x = int(input(\"Enter the number you want to divide with : \"))\n",
    "    print(f\"After dividing sum of list with {x} is : \",sum1/x)\n",
    "except KeyboardInterrupt :\n",
    "    print('Input any integer value')   \n",
    "except ValueError:\n",
    "    print(\"Enter only integer\")\n",
    "except ZeroDivisionError:\n",
    "    print(\"Denominator can not be zero\")\n"
   ]
  },
  {
   "cell_type": "code",
   "execution_count": 57,
   "id": "75cb8319-f107-4041-a3cd-f1436784dfe7",
   "metadata": {},
   "outputs": [
    {
     "name": "stdin",
     "output_type": "stream",
     "text": [
      "Enter the number of elements:  5\n",
      " 45\n",
      " -14\n",
      " 50\n",
      " 20\n",
      " -50\n"
     ]
    },
    {
     "name": "stdout",
     "output_type": "stream",
     "text": [
      "List is :  [45, -14, 50, 20, -50]\n",
      "Sum of list is :  51\n"
     ]
    },
    {
     "name": "stdin",
     "output_type": "stream",
     "text": [
      "Enter the number you want to divide with :  5\n"
     ]
    },
    {
     "name": "stdout",
     "output_type": "stream",
     "text": [
      "After dividing sum of list with 5 is :  10.2\n"
     ]
    }
   ],
   "source": [
    "def func():\n",
    "    try:\n",
    "        \n",
    "        n=int(input(\"Enter the number of elements: \"))\n",
    "        list=[]\n",
    "        for i in range(1,n+1):\n",
    "            x=int(input())\n",
    "            list.append(x)\n",
    "        sum1 = sum(list)\n",
    "        print(\"List is : \",list)\n",
    "        print(\"Sum of list is : \",sum1)\n",
    "        x = int(input(\"Enter the number you want to divide with : \"))\n",
    "        print(f\"After dividing sum of list with {x} is : \",sum1/x)\n",
    "    except KeyboardInterrupt :\n",
    "        print('Input any integer value')   \n",
    "    except ValueError:\n",
    "        print(\"Enter only integer\")\n",
    "    except ZeroDivisionError:\n",
    "        print(\"Denominator can not be zero\")\n",
    "func()"
   ]
  },
  {
   "cell_type": "code",
   "execution_count": null,
   "id": "8f94df93-fe31-4c42-a246-cb5f81f525b0",
   "metadata": {},
   "outputs": [],
   "source": [
    "# Write a program to take input range from user and filter negative and positive value print sum of positive and negative value."
   ]
  },
  {
   "cell_type": "code",
   "execution_count": 56,
   "id": "91a1c7ca-914e-437f-a569-20f586013780",
   "metadata": {},
   "outputs": [
    {
     "name": "stdin",
     "output_type": "stream",
     "text": [
      "Enter the starting range :  -5\n",
      "enter ending range :  20\n"
     ]
    },
    {
     "name": "stdout",
     "output_type": "stream",
     "text": [
      "Positive list is :  [1, 2, 3, 4, 5, 6, 7, 8, 9, 10, 11, 12, 13, 14, 15, 16, 17, 18, 19, 20]\n",
      "Sum of positive numbers :  210 \n",
      "\n",
      "Negative list is :  [-5, -4, -3, -2, -1]\n",
      "Sum of negative numbers :  -15\n"
     ]
    }
   ],
   "source": [
    "#Write apgm to take a input as range from user  filter positive and negative values \n",
    "#and print sum of negative and postive numbers.\n",
    "pos_list = []\n",
    "neg_list = []\n",
    "try:\n",
    "    a = int(input(\"Enter the starting range : \"))\n",
    "    b = int(input(\"enter ending range : \"))\n",
    "    for i in range(a,b + 1):\n",
    "        if i > 0:\n",
    "            pos_list.append(i)\n",
    "        elif i < 0:\n",
    "            neg_list.append(i)\n",
    "    print(\"Positive list is : \",pos_list)\n",
    "    print(\"Sum of positive numbers : \",sum(pos_list),\"\\n\")\n",
    "    print(\"Negative list is : \",neg_list)\n",
    "    print(\"Sum of negative numbers : \",sum(neg_list))\n",
    "except ValueError:\n",
    "    print(\"Enter numbers only\")"
   ]
  },
  {
   "cell_type": "code",
   "execution_count": 58,
   "id": "e60f91d7-74ea-4780-a69b-eeca9bc6a982",
   "metadata": {},
   "outputs": [
    {
     "name": "stdin",
     "output_type": "stream",
     "text": [
      "Enter the number of elements:  5\n",
      " 10\n",
      " -12\n",
      " 10\n",
      " -100\n",
      " -50\n"
     ]
    },
    {
     "name": "stdout",
     "output_type": "stream",
     "text": [
      "Positive list :  [10, 10] \n",
      " Sum of it is :  20\n",
      "Negatibve list :  [-12, -100, -50] \n",
      " Sum of it is :  -162\n"
     ]
    }
   ],
   "source": [
    "pos = []\n",
    "neg = []\n",
    "\n",
    "try:\n",
    "    n=int(input(\"Enter the number of elements: \"))\n",
    "    list=[]\n",
    "    for i in range(n):\n",
    "        x=int(input())\n",
    "        if x > 0:\n",
    "            pos.append(x)\n",
    "        elif x < 0:\n",
    "            neg.append(x)\n",
    "    print(\"Positive list : \",pos,\"\\n Sum of it is : \",sum(pos))\n",
    "    print(\"Negatibve list : \",neg,\"\\n Sum of it is : \",sum(neg))\n",
    "except ValueError:\n",
    "    print(\"Enter numbers only\")"
   ]
  },
  {
   "cell_type": "code",
   "execution_count": 23,
   "id": "28ddce9a-e53b-4eab-a66c-ae2ca7904697",
   "metadata": {},
   "outputs": [
    {
     "name": "stdin",
     "output_type": "stream",
     "text": [
      "Enter your range: 5\n",
      "Enter your numebr -89\n",
      "Enter your numebr 75\n",
      "Enter your numebr -96\n",
      "Enter your numebr 96\n",
      "Enter your numebr -85\n"
     ]
    },
    {
     "name": "stdout",
     "output_type": "stream",
     "text": [
      "Your list is: [75, 96] \n",
      "Sum of your positive list is: 171 \n",
      "Your negative list is: [-89, -96, -85] \n",
      "Sum of your negative list is: -270\n"
     ]
    }
   ],
   "source": [
    "# Wap to find positive or negative and sum indivisually postive or negative value\n",
    "\n",
    "def function1():\n",
    "    user1=int(input('Enter your range:'))\n",
    "    i=1\n",
    "    sum1=0\n",
    "    sum2=0\n",
    "    list1=[]\n",
    "    list2=[]\n",
    "    while i<=user1:\n",
    "        user2=int(input('Enter your numebr'))\n",
    "        if user2>0:\n",
    "            list1.append(user2)\n",
    "            sum1+=user2\n",
    "        elif user2<0:\n",
    "            list2.append(user2)\n",
    "            sum2+=user2\n",
    "        #print(i)\n",
    "        i+=1\n",
    "    print('Your list is:',list1,'\\nSum of your positive list is:',sum1,'\\nYour negative list is:',list2,'\\nSum of your negative list is:',sum2)\n",
    "\n",
    "function1()"
   ]
  },
  {
   "cell_type": "code",
   "execution_count": 49,
   "id": "cda64eba-8b8a-4c11-918d-ea51714106aa",
   "metadata": {},
   "outputs": [
    {
     "name": "stdout",
     "output_type": "stream",
     "text": [
      "\n",
      "Left Sided Pyramid\n",
      "*         \n",
      "**        \n",
      "***       \n",
      "****      \n",
      "*****     \n"
     ]
    }
   ],
   "source": [
    "print('\\nLeft Sided Pyramid')\n",
    "for i in range(1,5+1):\n",
    "    x='*'\n",
    "    x=x*i\n",
    "    print(f'{x:<10}')"
   ]
  },
  {
   "cell_type": "code",
   "execution_count": 62,
   "id": "7e10ae2d-2c5d-43bc-a815-04db1da1e4cc",
   "metadata": {},
   "outputs": [
    {
     "name": "stdout",
     "output_type": "stream",
     "text": [
      "\n",
      "Right Sided Pyramid Inverted\n",
      "     *****\n",
      "      ****\n",
      "       ***\n",
      "        **\n",
      "         *\n"
     ]
    }
   ],
   "source": [
    "print('\\nRight Sided Pyramid Inverted')\n",
    "for i in range(5):\n",
    "    x='*'\n",
    "    x=x*(5-i)\n",
    "    print(f'{x:>10}')"
   ]
  },
  {
   "cell_type": "code",
   "execution_count": 51,
   "id": "4fcc461f-69b4-410c-9df3-44b390af2ce2",
   "metadata": {},
   "outputs": [
    {
     "name": "stdout",
     "output_type": "stream",
     "text": [
      "\n",
      "Left Sided Pyramid\n",
      "    *     \n",
      "    **    \n",
      "   ***    \n",
      "   ****   \n",
      "  *****   \n"
     ]
    }
   ],
   "source": [
    "print('\\nCenter Sided Pyramid')\n",
    "for i in range(1,5+1):\n",
    "    x='*'\n",
    "    x=x*i\n",
    "    print(f'{x:^10}')"
   ]
  },
  {
   "cell_type": "code",
   "execution_count": 63,
   "id": "df68d2c6-f374-4a08-abb2-6427a8026669",
   "metadata": {},
   "outputs": [
    {
     "name": "stdout",
     "output_type": "stream",
     "text": [
      "\n",
      "Left Sided Pyramid Inverted\n",
      "*****     \n",
      "****      \n",
      "***       \n",
      "**        \n",
      "*         \n"
     ]
    }
   ],
   "source": [
    "print('\\nLeft Sided Pyramid Inverted')\n",
    "for i in range(5):\n",
    "    x='*'\n",
    "    x=x*(5-i)\n",
    "    print(f'{x:<10}')"
   ]
  },
  {
   "cell_type": "code",
   "execution_count": 61,
   "id": "a5cdf25b-d740-4ea3-9ae8-af986ae3e52b",
   "metadata": {},
   "outputs": [
    {
     "name": "stdout",
     "output_type": "stream",
     "text": [
      "\n",
      "Right Sided Pyramid\n",
      "          \n",
      "         *\n",
      "        **\n",
      "       ***\n",
      "      ****\n"
     ]
    }
   ],
   "source": [
    "print('\\nRight Sided Pyramid')\n",
    "for i in range(5):\n",
    "    x='*'\n",
    "    x=x*i\n",
    "    print(f'{x:>10}')"
   ]
  },
  {
   "cell_type": "code",
   "execution_count": 64,
   "id": "37527872-fbe8-431a-930a-7519b269bc5b",
   "metadata": {},
   "outputs": [
    {
     "name": "stdin",
     "output_type": "stream",
     "text": [
      "Enter The Range of Evev number:\n",
      " 10\n",
      "Enter Even or Odd numbers 1 :  45\n",
      "Enter Even or Odd numbers 2 :  26\n",
      "Enter Even or Odd numbers 3 :  38\n",
      "Enter Even or Odd numbers 4 :  37\n",
      "Enter Even or Odd numbers 5 :  96\n",
      "Enter Even or Odd numbers 6 :  100\n",
      "Enter Even or Odd numbers 7 :  45\n",
      "Enter Even or Odd numbers 8 :  58\n",
      "Enter Even or Odd numbers 9 :  59\n",
      "Enter Even or Odd numbers 10 :  101\n"
     ]
    },
    {
     "name": "stdout",
     "output_type": "stream",
     "text": [
      "Your list of Even number is : [26, 38, 96, 100, 58] \n",
      "Sum of Even numbers is : 318 \n",
      "Your list of Odd number is [45, 37, 45, 59, 101] \n",
      "Sum of Odd numbers is 287\n"
     ]
    }
   ],
   "source": [
    "def even_odd():\n",
    "    i=1\n",
    "    sum1=0\n",
    "    sum2=0\n",
    "    list1=[]\n",
    "    list2=[]\n",
    "    user1=int(input(\"Enter The Range of Evev number:\\n\"))\n",
    "    while i<=user1:\n",
    "        user2=int(input(f\"Enter Even or Odd numbers {i} : \"))\n",
    "        if user2%2==0:\n",
    "            list1.append(user2)\n",
    "            sum1+=user2\n",
    "        elif user2%2!=0:\n",
    "            list2.append(user2)\n",
    "            sum2+=user2\n",
    "            \n",
    "        i+=1\n",
    "    print(\"Your list of Even number is :\",list1,\"\\nSum of Even numbers is :\",sum1,\"\\nYour list of Odd number is\",list2,\"\\nSum of Odd numbers is\",sum2)\n",
    "even_odd()"
   ]
  },
  {
   "cell_type": "code",
   "execution_count": 67,
   "id": "325df54f-a571-43fc-b691-700658c0e214",
   "metadata": {},
   "outputs": [
    {
     "name": "stdin",
     "output_type": "stream",
     "text": [
      "Enter any number: 5\n"
     ]
    },
    {
     "name": "stdout",
     "output_type": "stream",
     "text": [
      "* * * * * \n",
      "\n",
      "* * * * \n",
      "\n",
      "* * * \n",
      "\n",
      "* * \n",
      "\n",
      "* \n",
      "\n"
     ]
    }
   ],
   "source": [
    "# Print downward Half-Pyramid Pattern with Star (asterisk)\n",
    "\n",
    "n=int(input('Enter any number:'))\n",
    "\n",
    "for i in range(n+1,1,-1): \n",
    "    for j in range(1,i):\n",
    "        print('*',end=' ')\n",
    "    print('\\n')\n",
    "        "
   ]
  },
  {
   "cell_type": "code",
   "execution_count": 69,
   "id": "fd62dfc2-1da3-4a1d-9591-4e99d1cb207e",
   "metadata": {},
   "outputs": [
    {
     "name": "stdin",
     "output_type": "stream",
     "text": [
      "Enter the number: 10\n"
     ]
    },
    {
     "name": "stdout",
     "output_type": "stream",
     "text": [
      "* \n",
      "* * \n",
      "* * * \n",
      "* * * * \n",
      "* * * * * \n",
      "* * * * * * \n",
      "* * * * * * * \n",
      "* * * * * * * * \n",
      "* * * * * * * * * \n",
      "* * * * * * * * * * \n"
     ]
    }
   ],
   "source": [
    "# print right half side of the pyramid\n",
    "\n",
    "n=int(input('Enter the number:'))\n",
    "\n",
    "for i in range(1,n+1):\n",
    "    for j in range(1,i+1):\n",
    "        print(\"*\",end=' ')\n",
    "    print('\\r')"
   ]
  },
  {
   "cell_type": "code",
   "execution_count": 71,
   "id": "33b2fff1-8ddf-40fc-9042-c2b085a1374a",
   "metadata": {},
   "outputs": [],
   "source": [
    "# Write a program to print the following start pattern using the for loop\n",
    "# * \n",
    "# * * \n",
    "# * * * \n",
    "# * * * * \n",
    "# * * * * * \n",
    "# * * * * \n",
    "# * * * \n",
    "# * * \n",
    "# *"
   ]
  },
  {
   "cell_type": "code",
   "execution_count": 78,
   "id": "e1987128-464e-4fcd-af02-bc8bee360996",
   "metadata": {},
   "outputs": [
    {
     "name": "stdin",
     "output_type": "stream",
     "text": [
      "Enter your number 5\n"
     ]
    },
    {
     "name": "stdout",
     "output_type": "stream",
     "text": [
      "* \n",
      "\n",
      "* * \n",
      "\n",
      "* * * \n",
      "\n",
      "* * * * \n",
      "\n",
      "* * * * * \n",
      "\n",
      "* * * * \n",
      "\n",
      "* * * \n",
      "\n",
      "* * \n",
      "\n",
      "* \n",
      "\n"
     ]
    }
   ],
   "source": [
    "n=int(input('Enter your number'))\n",
    "\n",
    "for i in range(1,n+1):\n",
    "    for j in range(1,i+1):\n",
    "        print('*',end=' ')\n",
    "    print('\\n')\n",
    "\n",
    "for i in range(n-1,0,-1):\n",
    "    for j in range(0,i):\n",
    "        print('*',end=' ')\n",
    "    print('\\n')"
   ]
  },
  {
   "cell_type": "code",
   "execution_count": 84,
   "id": "1be28bb3-2ba4-46aa-aeab-eeef0fff2954",
   "metadata": {},
   "outputs": [
    {
     "name": "stdin",
     "output_type": "stream",
     "text": [
      "Enter any number 5\n"
     ]
    },
    {
     "name": "stdout",
     "output_type": "stream",
     "text": [
      "*         \n",
      "**        \n",
      "***       \n",
      "****      \n",
      "*****     \n",
      "****      \n",
      "***       \n",
      "**        \n",
      "*         \n",
      "          \n"
     ]
    }
   ],
   "source": [
    "n=int(input('Enter any number'))\n",
    "for i in range(1,n+1):\n",
    "    x='*'\n",
    "    x=x*i\n",
    "    print(f'{x:<10}')\n",
    "\n",
    "for i in range(1,n+1):\n",
    "    x='*'\n",
    "    x=x*(5-i)\n",
    "    print(f'{x:<10}')"
   ]
  },
  {
   "cell_type": "code",
   "execution_count": null,
   "id": "ea94d91a-ab8a-4cff-84ac-898feb2d1b4b",
   "metadata": {},
   "outputs": [],
   "source": []
  }
 ],
 "metadata": {
  "kernelspec": {
   "display_name": "Python 3 (ipykernel)",
   "language": "python",
   "name": "python3"
  },
  "language_info": {
   "codemirror_mode": {
    "name": "ipython",
    "version": 3
   },
   "file_extension": ".py",
   "mimetype": "text/x-python",
   "name": "python",
   "nbconvert_exporter": "python",
   "pygments_lexer": "ipython3",
   "version": "3.11.4"
  }
 },
 "nbformat": 4,
 "nbformat_minor": 5
}
