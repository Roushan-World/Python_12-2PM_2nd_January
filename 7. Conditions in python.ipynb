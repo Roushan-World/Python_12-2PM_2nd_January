{
 "cells": [
  {
   "cell_type": "markdown",
   "id": "246d5f65-5455-4a15-a94a-33f8967f9890",
   "metadata": {},
   "source": [
    "# Comparison operators\n",
    "\n",
    "\n",
    " * __Less than(<)__\n",
    " * __Greater than(>)__\n",
    " * __Less than equal to(<=)__\n",
    " * __Greater than equal to(>=)__\n",
    " * __Equal to(==)__\n",
    " * __Not Equal to(!=)__"
   ]
  },
  {
   "cell_type": "code",
   "execution_count": 6,
   "id": "3b7a327a-d126-4b9e-88a8-ae4c6ccb5baf",
   "metadata": {},
   "outputs": [
    {
     "name": "stdout",
     "output_type": "stream",
     "text": [
      "True\n",
      "False\n",
      "True\n",
      "False\n",
      "True\n",
      "True\n"
     ]
    }
   ],
   "source": [
    "number=10\n",
    "\n",
    "print(number<50)\n",
    "print(number>50)\n",
    "print(number<=50)\n",
    "print(number>=50)\n",
    "print(number==10)\n",
    "print(number!=50)"
   ]
  },
  {
   "cell_type": "markdown",
   "id": "223f68f4-0357-4094-8da8-fa5090860643",
   "metadata": {},
   "source": [
    "# Branching (if,elif,else)\n",
    "\n",
    " * __Decision making is required when we want to execute a code only if a certain condition is satisfied.__\n",
    " * __The if/elif/else statement is used in Python for decision making.__\n",
    " * __An else statement can be combined with an if statement.__\n",
    " * __An else statement contains the block of code that executes if the conditional expression in the if statement resolves to 0 or a False value.__\n",
    " * __The else statemetn is an optional statement and there could be at most only one else statement following if.__\n",
    " * __The elif statement allows you to check multiple expressions for True and execute a block of code as soon as of the conditons evaluates to True.__\n",
    " * __Similary to the else, the elif statement is optional.__\n",
    " * __However, unlike else, for which there can be at most one statement, there can be an arbitrary number of elif statement following an if.__"
   ]
  },
  {
   "cell_type": "code",
   "execution_count": 3,
   "id": "b0f6d345-1a41-4ba9-9ef8-52fa1e31ddaf",
   "metadata": {},
   "outputs": [
    {
     "name": "stdin",
     "output_type": "stream",
     "text": [
      "Enter your baby age: 3\n"
     ]
    },
    {
     "name": "stdout",
     "output_type": "stream",
     "text": [
      "You are a baby\n"
     ]
    }
   ],
   "source": [
    "age=int(input(\"Enter your baby age:\"))\n",
    "\n",
    "if age>6:\n",
    "    print(\"You can go to primary school\")\n",
    "\n",
    "elif age==5:\n",
    "    print(\"You can go to kindergarten.\")\n",
    "\n",
    "else:\n",
    "    print(\"You are a baby\")"
   ]
  },
  {
   "cell_type": "code",
   "execution_count": 7,
   "id": "a0914345-d6a2-41a6-92fc-811824ed9307",
   "metadata": {},
   "outputs": [
    {
     "name": "stdin",
     "output_type": "stream",
     "text": [
      "Enter a Movie Rating: 4\n"
     ]
    },
    {
     "name": "stdout",
     "output_type": "stream",
     "text": [
      "Movie flop\n"
     ]
    }
   ],
   "source": [
    "movie_rating=float(input(\"Enter a Movie Rating:\"))\n",
    "\n",
    "if movie_rating>8:\n",
    "    print(\"Nominated for Oscar.\")\n",
    "    \n",
    "elif movie_rating>5 and movie_rating<8:\n",
    "    print(\"You can watch this Movie in Theater.\")\n",
    "\n",
    "else:\n",
    "    print(\"Movie flop\")"
   ]
  },
  {
   "cell_type": "code",
   "execution_count": null,
   "id": "5b78d692-6a2a-43c9-9f71-809670ec4cd3",
   "metadata": {},
   "outputs": [],
   "source": [
    "# Write a program to write week name using if you press 0 value it's a Sunday, 1 ----------> Monday, 2-------------Tuesday etc.\n",
    "# 8 No week available."
   ]
  },
  {
   "cell_type": "code",
   "execution_count": 9,
   "id": "1614ac6c-7698-4aab-97b2-0ec48c4216fd",
   "metadata": {},
   "outputs": [
    {
     "name": "stdin",
     "output_type": "stream",
     "text": [
      "Enter a Week day value : 1\n"
     ]
    },
    {
     "name": "stdout",
     "output_type": "stream",
     "text": [
      "Its a Monday today\n"
     ]
    }
   ],
   "source": [
    "WeekdayValuel = int(input(\"Enter a Week day value :\"))\n",
    "\n",
    "if WeekdayValuel:=0 :\n",
    "    print(\"Its a Sunday today\")\n",
    "\n",
    "\n",
    "elif WeekdayValuel:= 1:\n",
    "    print(\"Its a Monday today\")\n",
    "    \n",
    "\n",
    "elif WeekdayValuel := 2:\n",
    "    print(\"Its a Tuesday today\")\n",
    "    \n",
    "    \n",
    "elif WeekdayValuel := 3:\n",
    "    print(\"Its a Wednesday  today\")\n",
    "    \n",
    "    \n",
    "elif WeekdayValuel := 4:\n",
    "    print(\"Its a thursday today\")\n",
    "    \n",
    "elif WeekdayValuel := 5:\n",
    "    print(\"Its a friday today\")\n",
    "    \n",
    "elif WeekdayValuel := 6:\n",
    "    print(\"Its a Saturday  today\")\n",
    "    \n",
    "else :\n",
    "    print(\"Not week available\")"
   ]
  },
  {
   "cell_type": "code",
   "execution_count": 18,
   "id": "d8690ad7-d47c-4eec-bfa1-d2afb2c4a8c0",
   "metadata": {},
   "outputs": [
    {
     "name": "stdin",
     "output_type": "stream",
     "text": [
      "Enter any value from 0 to 7: 10\n"
     ]
    },
    {
     "name": "stdout",
     "output_type": "stream",
     "text": [
      "No Weeks available.\n"
     ]
    }
   ],
   "source": [
    "weeks=int(input(\"Enter any value from 0 to 7:\"))\n",
    "\n",
    "if weeks==0:\n",
    "    print(\"Sunday\")\n",
    "elif weeks==1:\n",
    "    print(\"Monday\")\n",
    "elif weeks==2:\n",
    "    print(\"Tuesday\")\n",
    "elif weeks==3:\n",
    "    print(\"Wednesday\")\n",
    "elif weeks==4:\n",
    "    print(\"Thursday\")\n",
    "elif weeks==5:\n",
    "    print(\"Friday\")\n",
    "elif weeks==6:\n",
    "    print(\"Saturday\")\n",
    "else:\n",
    "    print(\"No Weeks available.\")"
   ]
  },
  {
   "cell_type": "code",
   "execution_count": 21,
   "id": "d146c700-251e-46f3-b311-fd744cd0ec30",
   "metadata": {},
   "outputs": [
    {
     "name": "stdin",
     "output_type": "stream",
     "text": [
      "enter any value from 1 to 12 5\n"
     ]
    },
    {
     "name": "stdout",
     "output_type": "stream",
     "text": [
      "May\n"
     ]
    }
   ],
   "source": [
    "# print Months name using  1 for January, 2 for february, 3 for march etc.\n",
    "\n",
    "month=int(input(\"enter any value from 1 to 12\"))\n",
    "\n",
    "if month==1:\n",
    "    print(\"january\")\n",
    "elif month==2:\n",
    "    print(\"february\")\n",
    "elif month==3:\n",
    "    print(\"march\")\n",
    "elif month==4:\n",
    "    print(\"april\")\n",
    "elif month==5:\n",
    "    print(\"May\")\n",
    "elif month==6:\n",
    "    print(\"june\")\n",
    "elif month==7:\n",
    "    print(\"july\")\n",
    "elif month==8:\n",
    "    print(\"August\")\n",
    "elif month==9:\n",
    "    print(\"september\")\n",
    "elif month==10:\n",
    "    print(\"october\")\n",
    "elif month==11:\n",
    "    print(\"november\")\n",
    "elif month==12:\n",
    "    print('december')"
   ]
  },
  {
   "cell_type": "code",
   "execution_count": 20,
   "id": "9b09fef9-4078-48ab-b42b-a284524ece22",
   "metadata": {},
   "outputs": [
    {
     "name": "stdin",
     "output_type": "stream",
     "text": [
      "Enter a month value :  5\n"
     ]
    },
    {
     "name": "stdout",
     "output_type": "stream",
     "text": [
      "May\n"
     ]
    }
   ],
   "source": [
    "WeekdayValuel =int( input(\"Enter a month value : \"))\n",
    "\n",
    "if WeekdayValuel == 1:\n",
    "    print(\"January \")\n",
    "\n",
    "elif WeekdayValuel == 2:\n",
    "    print(\"February \")\n",
    "    \n",
    "elif WeekdayValuel == 3:\n",
    "    print(\"March\")\n",
    "    \n",
    "elif WeekdayValuel == 4:\n",
    "    print(\"April\")\n",
    "    \n",
    "elif WeekdayValuel == 5:\n",
    "    print(\"May\")\n",
    "    \n",
    "elif WeekdayValuel == 6:\n",
    "    print(\"June\")\n",
    "    \n",
    "elif WeekdayValuel == 7:\n",
    "    print(\"July\")\n",
    "\n",
    "elif WeekdayValuel == 8:\n",
    "    print(\"August\")\n",
    "\n",
    "elif WeekdayValuel == 9:\n",
    "    print(\"September \")\n",
    "\n",
    "elif WeekdayValuel == 10:\n",
    "    print(\"October\")\n",
    "\n",
    "elif WeekdayValuel == 11:\n",
    "    print(\"November\")\n",
    "\n",
    "elif WeekdayValuel == 12:\n",
    "    print(\"December\")\n",
    "\n",
    "else:\n",
    "    print(\"Invalid input\")\n",
    "    "
   ]
  },
  {
   "cell_type": "code",
   "execution_count": null,
   "id": "d4a87bd8-7ff3-4a5a-aa86-0be10d764987",
   "metadata": {},
   "outputs": [],
   "source": [
    "# Write a program to find even or odd number from user input.\n",
    "\n",
    "tembVar =float( input(\"Enter a value : \"))\n",
    "\n",
    "if (tembVar % 2) == 0 :\n",
    "    print(\"Even number\")\n",
    "\n",
    "else :\n",
    "    print(\"Odd number \")"
   ]
  },
  {
   "cell_type": "code",
   "execution_count": 23,
   "id": "5a7c0a34-6720-41eb-a88a-c17c0472e4b2",
   "metadata": {},
   "outputs": [
    {
     "name": "stdin",
     "output_type": "stream",
     "text": [
      "Enter any value: 45464986156161\n"
     ]
    },
    {
     "name": "stdout",
     "output_type": "stream",
     "text": [
      "Odd Number\n"
     ]
    }
   ],
   "source": [
    "x=int(input(\"Enter any value:\"))\n",
    "\n",
    "if x%2==0:\n",
    "    print(\"Even number\")\n",
    "else:\n",
    "    print(\"Odd Number\")"
   ]
  },
  {
   "cell_type": "code",
   "execution_count": 38,
   "id": "0630ec9a-2bdb-41d7-a8fa-c2f455f28c4a",
   "metadata": {},
   "outputs": [
    {
     "name": "stdin",
     "output_type": "stream",
     "text": [
      "Enter any number: 16515165\n"
     ]
    },
    {
     "name": "stdout",
     "output_type": "stream",
     "text": [
      "16515165 is divisible by 3 and 5 not 2\n"
     ]
    }
   ],
   "source": [
    "# Write a program to check 2,3 and 5 divisible or not from user input number.\n",
    "\n",
    "\n",
    "num=int(input(\"Enter any number:\"))\n",
    "\n",
    "if num%2==0 and num%3!=0 and num%5!=0:\n",
    "    print(f\"{num} is divisible by 2 only not 3 and 5\")\n",
    "elif num%2==0 and num%3==0 and num%5!=0:\n",
    "    print(f'{num} is divisible by 2 and 3 not 5.')\n",
    "elif num%2==0 and num%3==0 and num%5==0:\n",
    "    print(f'{num} is divisible by 2,3 and 5')\n",
    "elif num%2!=0 and num%3==0 and num%5!=0:\n",
    "    print(f'{num} is divisible by 3 only not 2 and 5')\n",
    "elif num%2!=0 and num%3==0 and num%5==0:\n",
    "    print(f\"{num} is divisible by 3 and 5 not 2\")\n",
    "elif num%2==0 and num%3!=0 and num%5==0:\n",
    "    print(f\"{num} is divisible by 2 and 5 not 3\")\n",
    "elif num%2!=0 and num%3!=0 and num%5==0:\n",
    "    print(f\"{num} is divisible by 5 not 2 and 3.\")\n",
    "else:\n",
    "    print(\"Invalid Syntax\")"
   ]
  },
  {
   "cell_type": "code",
   "execution_count": 1,
   "id": "76b8b846-d958-40da-8323-dc7b68b129d9",
   "metadata": {},
   "outputs": [
    {
     "name": "stdin",
     "output_type": "stream",
     "text": [
      "Enter your percentage: 95\n"
     ]
    },
    {
     "name": "stdout",
     "output_type": "stream",
     "text": [
      "Excellent.\n"
     ]
    }
   ],
   "source": [
    "# Write a program to accept the percentage from the user and display Remark according to the user value.\n",
    "\n",
    "# Percentage-----------------> \"Remarks\"\n",
    "# >90------------------------> \"Excellent\"\n",
    "# >80 and <=90---------------> \"Very Good\"\n",
    "# >60 and <=80---------------> \"Good\"\n",
    "# >Below 60------------------> \"Average\"\n",
    "\n",
    "a=int(input(\"Enter your percentage:\"))\n",
    "\n",
    "if a>90:\n",
    "    print(\"Excellent.\")\n",
    "elif a>80 and a<=90:\n",
    "    print(\"Very good.\")\n",
    "elif a>60 and a<=80:\n",
    "    print(\"Good.\")\n",
    "else:\n",
    "    print(\"Average\")"
   ]
  },
  {
   "cell_type": "code",
   "execution_count": 9,
   "id": "b3b335c1-341b-41d9-a934-3d52e07293bf",
   "metadata": {},
   "outputs": [
    {
     "name": "stdin",
     "output_type": "stream",
     "text": [
      "enter marks 55\n"
     ]
    },
    {
     "name": "stdout",
     "output_type": "stream",
     "text": [
      "Average\n"
     ]
    }
   ],
   "source": [
    "# Aditi\n",
    "score=int(input(\"enter marks\"))\n",
    "if score>90:\n",
    "    print(\"Excellent\")\n",
    "elif score>=80 and score<=90:\n",
    "    print(\"Very good\")\n",
    "elif score>=60 and score<=80:\n",
    "    print(\"Good\")\n",
    "else:\n",
    "    print(\"Average\")"
   ]
  },
  {
   "cell_type": "code",
   "execution_count": 10,
   "id": "e5d92643-4a71-404c-931c-a84fc3fd8071",
   "metadata": {},
   "outputs": [],
   "source": [
    "# Accept the age of 3 people and display the youngest one.\n",
    "age1=int(input('enter age1:'))\n",
    "age2=int(input('enter age2:'))\n",
    "age3=int(input('enter age3:'))\n",
    "\n",
    "if age1<age2 and age1<age3:\n",
    "    print(\"Age1 is youngest\")\n",
    "    \n",
    "if age2<age1 and age2<age3:\n",
    "    print(\"Age2 is youngest\")\n",
    "    \n",
    "else:\n",
    "    print(\"Age3 is youngest\")"
   ]
  },
  {
   "cell_type": "code",
   "execution_count": 12,
   "id": "2b74bb24-5c0c-4ec4-a0fc-0ad51fc14ba9",
   "metadata": {},
   "outputs": [
    {
     "name": "stdin",
     "output_type": "stream",
     "text": [
      "Enter age of person1:  85\n",
      "Enter age of person2:  99\n",
      "Enter age of person3:  100\n"
     ]
    },
    {
     "name": "stdout",
     "output_type": "stream",
     "text": [
      "85 is Younger than 99 and 100\n"
     ]
    }
   ],
   "source": [
    "age1=int(input(\"Enter age of person1: \"))\n",
    "age2=int(input(\"Enter age of person2: \"))\n",
    "age3=int(input(\"Enter age of person3: \"))\n",
    "\n",
    "if age1<age2 and age1<age3:\n",
    "    print(f'{age1} is Younger than {age2} and {age3}')\n",
    "elif age2<age1 and age2<age3:\n",
    "    print (f\"{age2} is younger than {age1} and {age3}\")\n",
    "elif age3<age1 and age3<age2:\n",
    "    print(f'{age3} is younger than {age1} and {age2}')\n",
    "else:\n",
    "    print(\"Invalid Syntax\")"
   ]
  },
  {
   "cell_type": "code",
   "execution_count": 13,
   "id": "c2e0197f-0f83-4a35-80e4-1fd51480fea1",
   "metadata": {},
   "outputs": [
    {
     "name": "stdin",
     "output_type": "stream",
     "text": [
      "Enter The Age Of First Person:\n",
      " 85\n",
      "Enter The Age Of First Person:\n",
      " 89\n",
      "Enter The Age Of First Person:\n",
      " 56\n"
     ]
    },
    {
     "name": "stdout",
     "output_type": "stream",
     "text": [
      "56 is Youngest then 85 And 89\n"
     ]
    }
   ],
   "source": [
    "# Accept the age of 3 people and display the youngest one.\n",
    "\n",
    "Person1=int(input(\"Enter The Age Of First Person:\\n\"))\n",
    "Person2=int(input(\"Enter The Age Of First Person:\\n\"))\n",
    "Person3=int(input(\"Enter The Age Of First Person:\\n\"))\n",
    "\n",
    "if Person1<Person2 and Person1<Person3:\n",
    "    print(f\"{Person1} is Youngest then {Person2} And {Person3}\")\n",
    "elif  Person2<Person1 and Person2<Person3:\n",
    "    print(f\"{Person2} is Youngest then {Person1} And {Person3}\")\n",
    "elif Person3<Person1 and Person3<Person2:\n",
    "    print(f\"{Person3} is Youngest then {Person1} And {Person2}\")\n",
    "else:\n",
    "    print(\"Syntex Error\")"
   ]
  },
  {
   "cell_type": "code",
   "execution_count": null,
   "id": "a12bc0b2-8d64-4216-b86b-245c3f11399c",
   "metadata": {},
   "outputs": [],
   "source": [
    "# Accept any city from the user and displays monument of the city.\n",
    "\n",
    "# City-------------------------> Monument\n",
    "# Delhi -----------------------> \"RedFort\"\n",
    "# Agra-------------------------> \"TajMahal\"\n",
    "# Jaipur-----------------------> \"JalMahal,HawaMahal\"\n",
    "# AmritSar---------------------> \"Golden Temple\"\n",
    "# Madurai----------------------> \"Meenakshi Temple\"\n",
    "# Mysore-----------------------> \"Mysore Palace\"\n",
    "# Mumbai-----------------------> \"Gateway of India\"\n",
    "# Sanchi-----------------------> \"Sanchi Stupa\"\n",
    "# Hydrabad --------------------> \"Charminar\"\n",
    "\n",
    "# Rupali\n",
    "List=['Dehli','Agra','Jaipur','AmritSar','Madurai','Mysore','Mumbai','Sanchi','Hydrabad']\n",
    "print(list)\n",
    "print(\"Enter any one city\\n\")\n",
    "\n",
    "city=str(input(\"Enter the city name\\n\"))\n",
    "\n",
    "if city.title()=='Dehli':\n",
    "    print(\"Redfort\")\n",
    "    \n",
    "elif city.title()=='Agra':\n",
    "    print(\"TajMahal\")\n",
    "    \n",
    "elif city.title()=='Jaipur':\n",
    "    print(\"JalMahal,HawaMahal\")\n",
    "    \n",
    "elif city.title()=='AmritSar':\n",
    "    print(\"Golden Temple\")\n",
    "    \n",
    "elif city.title()=='Madurai':\n",
    "    print(\"Meenakshi Temple\")\n",
    "    \n",
    "elif city.title()=='Mysore':\n",
    "    print(\"Mysore Palace\")\n",
    "\n",
    "elif city.title()=='Mumbai':\n",
    "    print(\"Gateway of India\")\n",
    "    \n",
    "elif city.title()=='Sanchi':\n",
    "    print(\"Sanchi Stupa\")\n",
    "    \n",
    "elif city.title()=='Hydrabad':\n",
    "    print(\"Charminar\")\n",
    "    \n",
    "else:\n",
    "    print(\"The given city option is not available\")"
   ]
  },
  {
   "cell_type": "code",
   "execution_count": 26,
   "id": "f0d2fcc5-450f-4b95-aad7-4dcd08533ea3",
   "metadata": {},
   "outputs": [
    {
     "name": "stdout",
     "output_type": "stream",
     "text": [
      "['Dehli', 'Agra', 'Jaipur', 'AmritSar', 'Madurai', 'Mysore', 'Mumbai', 'Sanchi', 'Hydrabad']\n"
     ]
    },
    {
     "name": "stdin",
     "output_type": "stream",
     "text": [
      "Enter any city Sanchi\n"
     ]
    },
    {
     "name": "stdout",
     "output_type": "stream",
     "text": [
      "sanchi stupa\n"
     ]
    }
   ],
   "source": [
    "# Aditi\n",
    "List=['Dehli','Agra','Jaipur','AmritSar','Madurai','Mysore','Mumbai','Sanchi','Hydrabad']\n",
    "print(List)\n",
    "cities=str(input(\"Enter any city\"))\n",
    "\n",
    "if cities.title()==\"Delhi\":\n",
    "    print(\"Redfort\")\n",
    "elif cities.lower()==\"agra\":\n",
    "    print(\"Tajmahal\")\n",
    "elif cities.upper()==\"JAIPUR\":\n",
    "    print(\"jalmahal\",\"hawamahal\")\n",
    "elif cities.capitalize()==\"Amritsar\":\n",
    "    print(\"Golden temple\")\n",
    "elif cities.title()==\"Madhurai\":\n",
    "    print(\"Meenakshi  temple\")\n",
    "elif cities.title()==\"Mysore\":\n",
    "    print(\"Mysore palace\")\n",
    "elif cities.title()==\"Mumbai\":\n",
    "    print(\"Gateway os india\")\n",
    "elif cities.title()==\"Sanchi\":\n",
    "    print(\"sanchi stupa\")\n",
    "elif cities.title()==\"Hydrabad\":\n",
    "    print(\"Charminar\")"
   ]
  },
  {
   "cell_type": "code",
   "execution_count": null,
   "id": "d5303464-9dae-4217-a099-2df329d6a0a6",
   "metadata": {},
   "outputs": [],
   "source": [
    "# sahil\n",
    "city=input(\"Enter city name:\\n\")\n",
    "\n",
    "if city=='Delhi':\n",
    "    print(\"Redfort\")\n",
    "elif  city=='Agra':\n",
    "    print(\"TajMahal\")\n",
    "elif  city=='Jaipur':\n",
    "    print(\"JalMahal and HawaMahal\")\n",
    "elif  city=='Amritsar':\n",
    "    print(\"Golden Temple\")\n",
    "elif  city=='Madurai':\n",
    "    print(\"Meenakshi Temple\")\n",
    "elif  city=='Mysore':\n",
    "    print(\"Mysore Place\")\n",
    "elif  city=='Mumbai':\n",
    "    print(\"Gateway of India\")\n",
    "elif  city=='Sanchi':\n",
    "    print(\"Sanchi Stupa\")\n",
    "elif  city=='Hydrabad':\n",
    "    print(\"Charminar\")\n",
    "else:\n",
    "    print(\"Error\")"
   ]
  },
  {
   "cell_type": "code",
   "execution_count": 27,
   "id": "0f25f900-491a-4404-b918-e815314fdb4a",
   "metadata": {},
   "outputs": [
    {
     "name": "stdin",
     "output_type": "stream",
     "text": [
      "Enter a City : delhi\n"
     ]
    },
    {
     "name": "stdout",
     "output_type": "stream",
     "text": [
      "Invalid\n",
      "Done!\n"
     ]
    }
   ],
   "source": [
    "# jyoti\n",
    "WeekdayValuel = input(\"Enter a City :\")\n",
    "\n",
    "if WeekdayValuel == 'Delhi' :\n",
    "  print(\"Red fort\")\n",
    "\n",
    "elif WeekdayValuel == 'Agra':\n",
    "    print(\"Tajmahal\")\n",
    "    \n",
    "elif WeekdayValuel == 'Jaipur':\n",
    "    print(\"Hawa Mahal\")\n",
    "\n",
    "elif WeekdayValuel == 'Amritsar':\n",
    "    print(\"Golden Temple\")\n",
    "\n",
    "elif WeekdayValuel == 'Madhurai':\n",
    "    print(\"Minakshi Temple\")\n",
    "\n",
    "elif WeekdayValuel == 'Maisur':\n",
    "    print(\"Its a Monday today\")\n",
    "\n",
    "elif WeekdayValuel == 'Mumbai':\n",
    "    print(\"Gateway of India\")\n",
    "elif WeekdayValuel == 'Sanchi':\n",
    "    print(\"Sanchi Suta\")\n",
    "\n",
    "elif WeekdayValuel == 'Hydrabad':\n",
    "    print(\"Charminar\")\n",
    "    \n",
    "else: \n",
    "    print(\"Invalid\")\n",
    "print(\"Done!\")"
   ]
  },
  {
   "cell_type": "code",
   "execution_count": 29,
   "id": "a21e0c44-833f-4873-ae72-63addc9e2c80",
   "metadata": {},
   "outputs": [
    {
     "name": "stdin",
     "output_type": "stream",
     "text": [
      "Enter your number: 800\n"
     ]
    },
    {
     "name": "stdout",
     "output_type": "stream",
     "text": [
      "It is a Positive Number\n"
     ]
    }
   ],
   "source": [
    "# Write a program input number from the user is positive or negative.\n",
    "\n",
    "num=int(input(\"Enter your number:\"))\n",
    "\n",
    "if num>0:\n",
    "    print(\"It is a Positive Number\")\n",
    "\n",
    "else:\n",
    "    print(\"It is a Negative Number\")"
   ]
  },
  {
   "cell_type": "code",
   "execution_count": 35,
   "id": "e0c09344-f3d7-45b1-8359-6f6c12353c2c",
   "metadata": {},
   "outputs": [
    {
     "name": "stdin",
     "output_type": "stream",
     "text": [
      "Enter your Marked_price:  16000\n"
     ]
    },
    {
     "name": "stdout",
     "output_type": "stream",
     "text": [
      "Your Amount:16000\n",
      "Your Discount:3200.0\n",
      "Net amount:12800.0\n"
     ]
    }
   ],
   "source": [
    "# Accept the marked price from the user and calculate the net amount as(marked price-Discount)\n",
    "# marked price---------------------->Discount\n",
    "# >20000---------------------------> 30%\n",
    "#>15000 and <=20000-----------------> 20%\n",
    "#<=10000----------------------------> 10%\n",
    "\n",
    "marked_price=int(input(\"Enter your Marked_price: \"))\n",
    "\n",
    "if marked_price>20000:\n",
    "    discount=marked_price*30/100\n",
    "elif marked_price>15000 and marked_price<=20000:\n",
    "    discount=marked_price*20/100\n",
    "else:\n",
    "    discount=marked_price*10/100\n",
    "x=marked_price-discount\n",
    "print(f\"Your Amount:{marked_price}\\nYour Discount:{discount}\\nNet amount:{x}\")"
   ]
  },
  {
   "cell_type": "code",
   "execution_count": null,
   "id": "8a9e86df-3912-4908-aee5-7bbe336f88ca",
   "metadata": {},
   "outputs": [],
   "source": []
  }
 ],
 "metadata": {
  "kernelspec": {
   "display_name": "Python 3 (ipykernel)",
   "language": "python",
   "name": "python3"
  },
  "language_info": {
   "codemirror_mode": {
    "name": "ipython",
    "version": 3
   },
   "file_extension": ".py",
   "mimetype": "text/x-python",
   "name": "python",
   "nbconvert_exporter": "python",
   "pygments_lexer": "ipython3",
   "version": "3.11.4"
  }
 },
 "nbformat": 4,
 "nbformat_minor": 5
}
