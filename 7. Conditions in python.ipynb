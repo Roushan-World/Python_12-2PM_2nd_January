{
 "cells": [
  {
   "cell_type": "markdown",
   "id": "246d5f65-5455-4a15-a94a-33f8967f9890",
   "metadata": {},
   "source": [
    "# Comparison operators\n",
    "\n",
    "\n",
    " * __Less than(<)__\n",
    " * __Greater than(>)__\n",
    " * __Less than equal to(<=)__\n",
    " * __Greater than equal to(>=)__\n",
    " * __Equal to(==)__\n",
    " * __Not Equal to(!=)__"
   ]
  },
  {
   "cell_type": "code",
   "execution_count": 6,
   "id": "3b7a327a-d126-4b9e-88a8-ae4c6ccb5baf",
   "metadata": {},
   "outputs": [
    {
     "name": "stdout",
     "output_type": "stream",
     "text": [
      "True\n",
      "False\n",
      "True\n",
      "False\n",
      "True\n",
      "True\n"
     ]
    }
   ],
   "source": [
    "number=10\n",
    "\n",
    "print(number<50)\n",
    "print(number>50)\n",
    "print(number<=50)\n",
    "print(number>=50)\n",
    "print(number==10)\n",
    "print(number!=50)"
   ]
  },
  {
   "cell_type": "markdown",
   "id": "223f68f4-0357-4094-8da8-fa5090860643",
   "metadata": {},
   "source": [
    "# Branching (if,elif,else)\n",
    "\n",
    " * __Decision making is required when we want to execute a code only if a certain condition is satisfied.__\n",
    " * __The if/elif/else statement is used in Python for decision making.__\n",
    " * __An else statement can be combined with an if statement.__\n",
    " * __An else statement contains the block of code that executes if the conditional expression in the if statement resolves to 0 or a False value.__\n",
    " * __The else statemetn is an optional statement and there could be at most only one else statement following if.__\n",
    " * __The elif statement allows you to check multiple expressions for True and execute a block of code as soon as of the conditons evaluates to True.__\n",
    " * __Similary to the else, the elif statement is optional.__\n",
    " * __However, unlike else, for which there can be at most one statement, there can be an arbitrary number of elif statement following an if.__"
   ]
  },
  {
   "cell_type": "code",
   "execution_count": 16,
   "id": "b0f6d345-1a41-4ba9-9ef8-52fa1e31ddaf",
   "metadata": {},
   "outputs": [
    {
     "name": "stdin",
     "output_type": "stream",
     "text": [
      "Enter your baby age: 5\n"
     ]
    },
    {
     "name": "stdout",
     "output_type": "stream",
     "text": [
      "You can go to kindergarten.\n"
     ]
    }
   ],
   "source": [
    "age=int(input(\"Enter your baby age:\"))\n",
    "\n",
    "if age>6:\n",
    "    print(\"You can go to primary school\")\n",
    "\n",
    "elif age==5:\n",
    "    print(\"You can go to kindergarten.\")\n",
    "\n",
    "else:\n",
    "    print(\"You are a baby\")"
   ]
  },
  {
   "cell_type": "code",
   "execution_count": null,
   "id": "a0914345-d6a2-41a6-92fc-811824ed9307",
   "metadata": {},
   "outputs": [],
   "source": []
  }
 ],
 "metadata": {
  "kernelspec": {
   "display_name": "Python 3 (ipykernel)",
   "language": "python",
   "name": "python3"
  },
  "language_info": {
   "codemirror_mode": {
    "name": "ipython",
    "version": 3
   },
   "file_extension": ".py",
   "mimetype": "text/x-python",
   "name": "python",
   "nbconvert_exporter": "python",
   "pygments_lexer": "ipython3",
   "version": "3.11.4"
  }
 },
 "nbformat": 4,
 "nbformat_minor": 5
}
