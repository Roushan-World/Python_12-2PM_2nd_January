{
 "cells": [
  {
   "cell_type": "markdown",
   "id": "246d5f65-5455-4a15-a94a-33f8967f9890",
   "metadata": {},
   "source": [
    "# Comparison operators\n",
    "\n",
    "\n",
    " * __Less than(<)__\n",
    " * __Greater than(>)__\n",
    " * __Less than equal to(<=)__\n",
    " * __Greater than equal to(>=)__\n",
    " * __Equal to(==)__\n",
    " * __Not Equal to(!=)__"
   ]
  },
  {
   "cell_type": "code",
   "execution_count": 6,
   "id": "3b7a327a-d126-4b9e-88a8-ae4c6ccb5baf",
   "metadata": {},
   "outputs": [
    {
     "name": "stdout",
     "output_type": "stream",
     "text": [
      "True\n",
      "False\n",
      "True\n",
      "False\n",
      "True\n",
      "True\n"
     ]
    }
   ],
   "source": [
    "number=10\n",
    "\n",
    "print(number<50)\n",
    "print(number>50)\n",
    "print(number<=50)\n",
    "print(number>=50)\n",
    "print(number==10)\n",
    "print(number!=50)"
   ]
  },
  {
   "cell_type": "markdown",
   "id": "223f68f4-0357-4094-8da8-fa5090860643",
   "metadata": {},
   "source": [
    "# Branching (if,elif,else)\n",
    "\n",
    " * __Decision making is required when we want to execute a code only if a certain condition is satisfied.__\n",
    " * __The if/elif/else statement is used in Python for decision making.__\n",
    " * __An else statement can be combined with an if statement.__\n",
    " * __An else statement contains the block of code that executes if the conditional expression in the if statement resolves to 0 or a False value.__\n",
    " * __The else statemetn is an optional statement and there could be at most only one else statement following if.__\n",
    " * __The elif statement allows you to check multiple expressions for True and execute a block of code as soon as of the conditons evaluates to True.__\n",
    " * __Similary to the else, the elif statement is optional.__\n",
    " * __However, unlike else, for which there can be at most one statement, there can be an arbitrary number of elif statement following an if.__"
   ]
  },
  {
   "cell_type": "code",
   "execution_count": 3,
   "id": "b0f6d345-1a41-4ba9-9ef8-52fa1e31ddaf",
   "metadata": {},
   "outputs": [
    {
     "name": "stdin",
     "output_type": "stream",
     "text": [
      "Enter your baby age: 3\n"
     ]
    },
    {
     "name": "stdout",
     "output_type": "stream",
     "text": [
      "You are a baby\n"
     ]
    }
   ],
   "source": [
    "age=int(input(\"Enter your baby age:\"))\n",
    "\n",
    "if age>6:\n",
    "    print(\"You can go to primary school\")\n",
    "\n",
    "elif age==5:\n",
    "    print(\"You can go to kindergarten.\")\n",
    "\n",
    "else:\n",
    "    print(\"You are a baby\")"
   ]
  },
  {
   "cell_type": "code",
   "execution_count": 7,
   "id": "a0914345-d6a2-41a6-92fc-811824ed9307",
   "metadata": {},
   "outputs": [
    {
     "name": "stdin",
     "output_type": "stream",
     "text": [
      "Enter a Movie Rating: 4\n"
     ]
    },
    {
     "name": "stdout",
     "output_type": "stream",
     "text": [
      "Movie flop\n"
     ]
    }
   ],
   "source": [
    "movie_rating=float(input(\"Enter a Movie Rating:\"))\n",
    "\n",
    "if movie_rating>8:\n",
    "    print(\"Nominated for Oscar.\")\n",
    "    \n",
    "elif movie_rating>5 and movie_rating<8:\n",
    "    print(\"You can watch this Movie in Theater.\")\n",
    "\n",
    "else:\n",
    "    print(\"Movie flop\")"
   ]
  },
  {
   "cell_type": "code",
   "execution_count": null,
   "id": "5b78d692-6a2a-43c9-9f71-809670ec4cd3",
   "metadata": {},
   "outputs": [],
   "source": [
    "# Write a program to write week name using if you press 0 value it's a Sunday, 1 ----------> Monday, 2-------------Tuesday etc.\n",
    "# 8 No week available."
   ]
  },
  {
   "cell_type": "code",
   "execution_count": 9,
   "id": "1614ac6c-7698-4aab-97b2-0ec48c4216fd",
   "metadata": {},
   "outputs": [
    {
     "name": "stdin",
     "output_type": "stream",
     "text": [
      "Enter a Week day value : 1\n"
     ]
    },
    {
     "name": "stdout",
     "output_type": "stream",
     "text": [
      "Its a Monday today\n"
     ]
    }
   ],
   "source": [
    "WeekdayValuel = int(input(\"Enter a Week day value :\"))\n",
    "\n",
    "if WeekdayValuel:=0 :\n",
    "    print(\"Its a Sunday today\")\n",
    "\n",
    "\n",
    "elif WeekdayValuel:= 1:\n",
    "    print(\"Its a Monday today\")\n",
    "    \n",
    "\n",
    "elif WeekdayValuel := 2:\n",
    "    print(\"Its a Tuesday today\")\n",
    "    \n",
    "    \n",
    "elif WeekdayValuel := 3:\n",
    "    print(\"Its a Wednesday  today\")\n",
    "    \n",
    "    \n",
    "elif WeekdayValuel := 4:\n",
    "    print(\"Its a thursday today\")\n",
    "    \n",
    "elif WeekdayValuel := 5:\n",
    "    print(\"Its a friday today\")\n",
    "    \n",
    "elif WeekdayValuel := 6:\n",
    "    print(\"Its a Saturday  today\")\n",
    "    \n",
    "else :\n",
    "    print(\"Not week available\")"
   ]
  },
  {
   "cell_type": "code",
   "execution_count": 18,
   "id": "d8690ad7-d47c-4eec-bfa1-d2afb2c4a8c0",
   "metadata": {},
   "outputs": [
    {
     "name": "stdin",
     "output_type": "stream",
     "text": [
      "Enter any value from 0 to 7: 10\n"
     ]
    },
    {
     "name": "stdout",
     "output_type": "stream",
     "text": [
      "No Weeks available.\n"
     ]
    }
   ],
   "source": [
    "weeks=int(input(\"Enter any value from 0 to 7:\"))\n",
    "\n",
    "if weeks==0:\n",
    "    print(\"Sunday\")\n",
    "elif weeks==1:\n",
    "    print(\"Monday\")\n",
    "elif weeks==2:\n",
    "    print(\"Tuesday\")\n",
    "elif weeks==3:\n",
    "    print(\"Wednesday\")\n",
    "elif weeks==4:\n",
    "    print(\"Thursday\")\n",
    "elif weeks==5:\n",
    "    print(\"Friday\")\n",
    "elif weeks==6:\n",
    "    print(\"Saturday\")\n",
    "else:\n",
    "    print(\"No Weeks available.\")"
   ]
  },
  {
   "cell_type": "code",
   "execution_count": 21,
   "id": "d146c700-251e-46f3-b311-fd744cd0ec30",
   "metadata": {},
   "outputs": [
    {
     "name": "stdin",
     "output_type": "stream",
     "text": [
      "enter any value from 1 to 12 5\n"
     ]
    },
    {
     "name": "stdout",
     "output_type": "stream",
     "text": [
      "May\n"
     ]
    }
   ],
   "source": [
    "# print Months name using  1 for January, 2 for february, 3 for march etc.\n",
    "\n",
    "month=int(input(\"enter any value from 1 to 12\"))\n",
    "\n",
    "if month==1:\n",
    "    print(\"january\")\n",
    "elif month==2:\n",
    "    print(\"february\")\n",
    "elif month==3:\n",
    "    print(\"march\")\n",
    "elif month==4:\n",
    "    print(\"april\")\n",
    "elif month==5:\n",
    "    print(\"May\")\n",
    "elif month==6:\n",
    "    print(\"june\")\n",
    "elif month==7:\n",
    "    print(\"july\")\n",
    "elif month==8:\n",
    "    print(\"August\")\n",
    "elif month==9:\n",
    "    print(\"september\")\n",
    "elif month==10:\n",
    "    print(\"october\")\n",
    "elif month==11:\n",
    "    print(\"november\")\n",
    "elif month==12:\n",
    "    print('december')"
   ]
  },
  {
   "cell_type": "code",
   "execution_count": 20,
   "id": "9b09fef9-4078-48ab-b42b-a284524ece22",
   "metadata": {},
   "outputs": [
    {
     "name": "stdin",
     "output_type": "stream",
     "text": [
      "Enter a month value :  5\n"
     ]
    },
    {
     "name": "stdout",
     "output_type": "stream",
     "text": [
      "May\n"
     ]
    }
   ],
   "source": [
    "WeekdayValuel =int( input(\"Enter a month value : \"))\n",
    "\n",
    "if WeekdayValuel == 1:\n",
    "    print(\"January \")\n",
    "\n",
    "elif WeekdayValuel == 2:\n",
    "    print(\"February \")\n",
    "    \n",
    "elif WeekdayValuel == 3:\n",
    "    print(\"March\")\n",
    "    \n",
    "elif WeekdayValuel == 4:\n",
    "    print(\"April\")\n",
    "    \n",
    "elif WeekdayValuel == 5:\n",
    "    print(\"May\")\n",
    "    \n",
    "elif WeekdayValuel == 6:\n",
    "    print(\"June\")\n",
    "    \n",
    "elif WeekdayValuel == 7:\n",
    "    print(\"July\")\n",
    "\n",
    "elif WeekdayValuel == 8:\n",
    "    print(\"August\")\n",
    "\n",
    "elif WeekdayValuel == 9:\n",
    "    print(\"September \")\n",
    "\n",
    "elif WeekdayValuel == 10:\n",
    "    print(\"October\")\n",
    "\n",
    "elif WeekdayValuel == 11:\n",
    "    print(\"November\")\n",
    "\n",
    "elif WeekdayValuel == 12:\n",
    "    print(\"December\")\n",
    "\n",
    "else:\n",
    "    print(\"Invalid input\")\n",
    "    "
   ]
  },
  {
   "cell_type": "code",
   "execution_count": null,
   "id": "d4a87bd8-7ff3-4a5a-aa86-0be10d764987",
   "metadata": {},
   "outputs": [],
   "source": [
    "# Write a program to find even or odd number from user input.\n",
    "\n",
    "tembVar =float( input(\"Enter a value : \"))\n",
    "\n",
    "if (tembVar % 2) == 0 :\n",
    "    print(\"Even number\")\n",
    "\n",
    "else :\n",
    "    print(\"Odd number \")"
   ]
  },
  {
   "cell_type": "code",
   "execution_count": 23,
   "id": "5a7c0a34-6720-41eb-a88a-c17c0472e4b2",
   "metadata": {},
   "outputs": [
    {
     "name": "stdin",
     "output_type": "stream",
     "text": [
      "Enter any value: 45464986156161\n"
     ]
    },
    {
     "name": "stdout",
     "output_type": "stream",
     "text": [
      "Odd Number\n"
     ]
    }
   ],
   "source": [
    "x=int(input(\"Enter any value:\"))\n",
    "\n",
    "if x%2==0:\n",
    "    print(\"Even number\")\n",
    "else:\n",
    "    print(\"Odd Number\")"
   ]
  },
  {
   "cell_type": "code",
   "execution_count": 38,
   "id": "0630ec9a-2bdb-41d7-a8fa-c2f455f28c4a",
   "metadata": {},
   "outputs": [
    {
     "name": "stdin",
     "output_type": "stream",
     "text": [
      "Enter any number: 16515165\n"
     ]
    },
    {
     "name": "stdout",
     "output_type": "stream",
     "text": [
      "16515165 is divisible by 3 and 5 not 2\n"
     ]
    }
   ],
   "source": [
    "# Write a program to check 2,3 and 5 divisible or not from user input number.\n",
    "\n",
    "\n",
    "num=int(input(\"Enter any number:\"))\n",
    "\n",
    "if num%2==0 and num%3!=0 and num%5!=0:\n",
    "    print(f\"{num} is divisible by 2 only not 3 and 5\")\n",
    "elif num%2==0 and num%3==0 and num%5!=0:\n",
    "    print(f'{num} is divisible by 2 and 3 not 5.')\n",
    "elif num%2==0 and num%3==0 and num%5==0:\n",
    "    print(f'{num} is divisible by 2,3 and 5')\n",
    "elif num%2!=0 and num%3==0 and num%5!=0:\n",
    "    print(f'{num} is divisible by 3 only not 2 and 5')\n",
    "elif num%2!=0 and num%3==0 and num%5==0:\n",
    "    print(f\"{num} is divisible by 3 and 5 not 2\")\n",
    "elif num%2==0 and num%3!=0 and num%5==0:\n",
    "    print(f\"{num} is divisible by 2 and 5 not 3\")\n",
    "elif num%2!=0 and num%3!=0 and num%5==0:\n",
    "    print(f\"{num} is divisible by 5 not 2 and 3.\")\n",
    "else:\n",
    "    print(\"Invalid Syntax\")"
   ]
  },
  {
   "cell_type": "code",
   "execution_count": null,
   "id": "76b8b846-d958-40da-8323-dc7b68b129d9",
   "metadata": {},
   "outputs": [],
   "source": []
  }
 ],
 "metadata": {
  "kernelspec": {
   "display_name": "Python 3 (ipykernel)",
   "language": "python",
   "name": "python3"
  },
  "language_info": {
   "codemirror_mode": {
    "name": "ipython",
    "version": 3
   },
   "file_extension": ".py",
   "mimetype": "text/x-python",
   "name": "python",
   "nbconvert_exporter": "python",
   "pygments_lexer": "ipython3",
   "version": "3.11.4"
  }
 },
 "nbformat": 4,
 "nbformat_minor": 5
}
