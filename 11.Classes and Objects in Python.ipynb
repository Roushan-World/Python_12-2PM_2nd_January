{
 "cells": [
  {
   "cell_type": "markdown",
   "id": "75dd92e6-4c09-4764-b94c-7cc657e6ae92",
   "metadata": {},
   "source": [
    "# 11. Classes and Objects in Python\n",
    "\n",
    " * __Python is an object-orented programming language.__\n",
    " * __Unlike procedure-oriented programming, where the main emphasis is on funcitons, obejct-oriented programming stresses on object.__\n",
    " * __An object is simply a colleciton of data (variables) and methods (functions) that act on those data.__\n",
    " * __Similarly, a class is a blueprint for that object.__\n",
    " * __Like funciton definitions begin with the def keyword in Python, class definitions begin with a class keyword.__\n",
    " * __The first string inside the class is called docsting and has a bried description of the class.__\n",
    " * __Although not mandatory, this highly recommended.__"
   ]
  },
  {
   "cell_type": "code",
   "execution_count": 2,
   "id": "c98b8771-182c-4f56-bdad-fba5aa339dc3",
   "metadata": {},
   "outputs": [
    {
     "name": "stdout",
     "output_type": "stream",
     "text": [
      "Aditi Kute\n",
      "45\n",
      "Pune\n"
     ]
    }
   ],
   "source": [
    "class student:\n",
    "    def __init__(self,name,age,address):\n",
    "        self.name=name\n",
    "        self.age=age\n",
    "        self.address=address\n",
    "\n",
    "x=student('Aditi Kute',45,'Pune')\n",
    "print(x.name)\n",
    "print(x.age)\n",
    "print(x.address)\n"
   ]
  },
  {
   "cell_type": "code",
   "execution_count": 5,
   "id": "c42741fa-49fb-458a-878b-ca51ee9fad44",
   "metadata": {},
   "outputs": [
    {
     "name": "stdout",
     "output_type": "stream",
     "text": [
      "Thar\n",
      "Red\n",
      "20 Lacs\n"
     ]
    }
   ],
   "source": [
    "class mahindra:\n",
    "    def __init__(aditi,name,color,price):\n",
    "        aditi.name=name\n",
    "        aditi.color=color\n",
    "        aditi.price=price\n",
    "\n",
    "car=mahindra(\"Thar\",\"Red\",\"20 Lacs\")\n",
    "print(car.name)\n",
    "print(car.color)\n",
    "print(car.price)"
   ]
  },
  {
   "cell_type": "code",
   "execution_count": 8,
   "id": "7c7116dd-d98a-4d10-8a54-37b33a1e585a",
   "metadata": {},
   "outputs": [
    {
     "name": "stdout",
     "output_type": "stream",
     "text": [
      "Thar\n",
      "Pink\n",
      "25 Lacs\n"
     ]
    }
   ],
   "source": [
    "rupali=mahindra('Thar','Pink','25 Lacs')\n",
    "print(rupali.name)\n",
    "print(rupali.color)\n",
    "print(rupali.price)"
   ]
  },
  {
   "cell_type": "code",
   "execution_count": 14,
   "id": "c2c4f8f9-e7ba-4b2c-bbd5-ccd468002727",
   "metadata": {},
   "outputs": [
    {
     "name": "stdout",
     "output_type": "stream",
     "text": [
      "Your Car model is:Thar\n",
      "Your Car Color is:Red\n",
      "You Car Price is:20 Lacs\n"
     ]
    }
   ],
   "source": [
    "class mahindra:\n",
    "    def __init__(aditi,name,color,price): # constructor\n",
    "        aditi.name=name\n",
    "        aditi.color=color\n",
    "        aditi.price=price\n",
    "\n",
    "    def details(aditi):\n",
    "        print(f'Your Car model is:{aditi.name}')\n",
    "        print(f'Your Car Color is:{aditi.color}')\n",
    "        print(f'You Car Price is:{aditi.price}')\n",
    "\n",
    "car=mahindra(\"Thar\",\"Red\",\"20 Lacs\")\n",
    "car.details()"
   ]
  },
  {
   "cell_type": "code",
   "execution_count": 15,
   "id": "2cbf7cc5-eca2-42f5-8983-68e80adc809f",
   "metadata": {},
   "outputs": [
    {
     "name": "stdout",
     "output_type": "stream",
     "text": [
      "Your Car model is:Thar\n",
      "Your Car Color is:Pink\n",
      "You Car Price is:40 Lacs\n"
     ]
    }
   ],
   "source": [
    "x=mahindra('Thar','Pink','40 Lacs')\n",
    "x.details()"
   ]
  },
  {
   "cell_type": "code",
   "execution_count": 17,
   "id": "78f0c85b-5346-428c-b9d7-8b20ff870825",
   "metadata": {},
   "outputs": [
    {
     "name": "stdout",
     "output_type": "stream",
     "text": [
      "Your name is : Sidhhika\n",
      "Your age is : 26 years\n",
      "Your roll no is : 21\n",
      "Your college name  is : Fergusson college\n",
      "Your email id is : sidhhika@gmail.com\n",
      "Your address is : Pune\n",
      "Your phone number is : 12344566\n"
     ]
    }
   ],
   "source": [
    "# Class studen (name,age, roll no, subject,college, email,address,phone,)\n",
    "\n",
    "class student:\n",
    "    def __init__(self,name,age,roll_no,college,email,add,phone):\n",
    "        self.name = name\n",
    "        self.age = age\n",
    "        self.roll_no = roll_no\n",
    "        self.college = college\n",
    "        self.email = email\n",
    "        self.add = add\n",
    "        self.phone = phone\n",
    "    def details(self):\n",
    "         print(f\"Your name is : {self.name}\")\n",
    "         print(f\"Your age is : {self.age}\")\n",
    "         print(f\"Your roll no is : {self.roll_no}\")\n",
    "         print(f\"Your college name  is : {self.college}\")\n",
    "         print(f\"Your email id is : {self.email}\")\n",
    "         print(f\"Your address is : {self.add}\")\n",
    "         print(f\"Your phone number is : {self.phone}\")\n",
    "\n",
    "student_1 = student(\"Sidhhika\",\"26 years\", \"21\", \"Fergusson college\", \"sidhhika@gmail.com\", \"Pune\", \"12344566\")\n",
    "student_1.details()"
   ]
  },
  {
   "cell_type": "code",
   "execution_count": 18,
   "id": "4df4e75f-7fac-4406-99e7-c8a78bb3e7fb",
   "metadata": {},
   "outputs": [
    {
     "data": {
      "text/plain": [
       "'Sidhhika'"
      ]
     },
     "execution_count": 18,
     "metadata": {},
     "output_type": "execute_result"
    }
   ],
   "source": [
    "student_1.name"
   ]
  },
  {
   "cell_type": "code",
   "execution_count": 27,
   "id": "9ce5b073-0718-4f24-a3f7-8ad17e378415",
   "metadata": {},
   "outputs": [
    {
     "name": "stdout",
     "output_type": "stream",
     "text": [
      "your name is:Aditi kute\n",
      "your age is:28\n",
      "your roll no is:18\n",
      "your subject is:python\n",
      "your college is:symbiosis\n"
     ]
    }
   ],
   "source": [
    "class student:\n",
    "    def __init__(self,name,age,rollno,subject,college):\n",
    "        self.name=name\n",
    "        self.age=age\n",
    "        self.rollno=rollno\n",
    "        self.subject=subject\n",
    "        self.college=college\n",
    "\n",
    "    \n",
    "    def details(self):\n",
    "        print(f'your name is:{self.name}')\n",
    "        print(f'your age is:{self.age}')\n",
    "        print(f'your roll no is:{self.rollno}') \n",
    "        print(f'your subject is:{self.subject}')\n",
    "        print(f'your college is:{self.college}')\n",
    "        \n",
    "aditi=student(\"Aditi kute\",28,18,\"python\",\"symbiosis\")\n",
    "aditi.details()"
   ]
  },
  {
   "cell_type": "code",
   "execution_count": 26,
   "id": "b06402b0-58fd-4699-a0d1-d12b809a6336",
   "metadata": {},
   "outputs": [
    {
     "name": "stdout",
     "output_type": "stream",
     "text": [
      "Name of student is:\n",
      "sahil\n",
      "Age of student is:\n",
      "21\n",
      "Roll no of student is:\n",
      "22\n",
      "subject which student learns :\n",
      "Maths\n",
      "Name of college where student is learning:\n",
      "D.Y. patil\n",
      "Email adress of student is:\n",
      "sahilr32@gmail.com\n",
      "Adress of student is:\n",
      "Pune\n",
      "Phone number of student is :\n",
      "914567342\n"
     ]
    }
   ],
   "source": [
    "class student:\n",
    "    def __init__(self,name,age,roll_no,subject,college,email,adress,phone):\n",
    "        self.name=name\n",
    "        self.age=age\n",
    "        self.roll_no=roll_no\n",
    "        self.subject=subject\n",
    "        self.college=college\n",
    "        self.email=email\n",
    "        self.adress=adress\n",
    "        self.phone=phone\n",
    "    def details(self):\n",
    "        print(f\"Name of student is:\\n{self.name}\")\n",
    "        print(f\"Age of student is:\\n{self.age}\")\n",
    "        print(f\"Roll no of student is:\\n{self.roll_no}\")\n",
    "        print(f\"subject which student learns :\\n{self.subject}\")\n",
    "        print(f\"Name of college where student is learning:\\n{self.college}\")\n",
    "        print(f\"Email adress of student is:\\n{self.email}\")\n",
    "        print(f\"Adress of student is:\\n{self.adress}\")\n",
    "        print(f\"Phone number of student is :\\n{self.phone}\")\n",
    "value=student('sahil',21,22,'Maths','D.Y. patil','sahilr32@gmail.com','Pune',914567342)\n",
    "value.details()"
   ]
  },
  {
   "cell_type": "code",
   "execution_count": 32,
   "id": "60d32bd8-dadc-434b-baae-39ae68f3a686",
   "metadata": {},
   "outputs": [
    {
     "name": "stdin",
     "output_type": "stream",
     "text": [
      "Enter your name: rupali\n",
      "Enter your age name: 78\n",
      "Enter your Roll no.: 1\n",
      "Enter your college name: fergussion\n",
      "Enter your email: xyz@gmail.com\n",
      "Enter your address: pune\n",
      "Enter your phone no.: 100\n"
     ]
    },
    {
     "name": "stdout",
     "output_type": "stream",
     "text": [
      "your name is:rupali\n",
      "your age is:78\n",
      "your roll no is:1\n"
     ]
    },
    {
     "ename": "AttributeError",
     "evalue": "'student' object has no attribute 'subject'",
     "output_type": "error",
     "traceback": [
      "\u001b[1;31m---------------------------------------------------------------------------\u001b[0m",
      "\u001b[1;31mAttributeError\u001b[0m                            Traceback (most recent call last)",
      "Cell \u001b[1;32mIn[32], line 26\u001b[0m\n\u001b[0;32m     24\u001b[0m phone\u001b[38;5;241m=\u001b[39m\u001b[38;5;28minput\u001b[39m(\u001b[38;5;124m'\u001b[39m\u001b[38;5;124mEnter your phone no.:\u001b[39m\u001b[38;5;124m'\u001b[39m)\n\u001b[0;32m     25\u001b[0m student_1 \u001b[38;5;241m=\u001b[39m student(name,age,roll_no,college,email,add,phone)\n\u001b[1;32m---> 26\u001b[0m \u001b[43mstudent_1\u001b[49m\u001b[38;5;241;43m.\u001b[39;49m\u001b[43mfill_details\u001b[49m\u001b[43m(\u001b[49m\u001b[43m)\u001b[49m\n",
      "Cell \u001b[1;32mIn[32], line 15\u001b[0m, in \u001b[0;36mstudent.fill_details\u001b[1;34m(self)\u001b[0m\n\u001b[0;32m     13\u001b[0m \u001b[38;5;28mprint\u001b[39m(\u001b[38;5;124mf\u001b[39m\u001b[38;5;124m'\u001b[39m\u001b[38;5;124myour age is:\u001b[39m\u001b[38;5;132;01m{\u001b[39;00m\u001b[38;5;28mself\u001b[39m\u001b[38;5;241m.\u001b[39mage\u001b[38;5;132;01m}\u001b[39;00m\u001b[38;5;124m'\u001b[39m)\n\u001b[0;32m     14\u001b[0m \u001b[38;5;28mprint\u001b[39m(\u001b[38;5;124mf\u001b[39m\u001b[38;5;124m'\u001b[39m\u001b[38;5;124myour roll no is:\u001b[39m\u001b[38;5;132;01m{\u001b[39;00m\u001b[38;5;28mself\u001b[39m\u001b[38;5;241m.\u001b[39mroll_no\u001b[38;5;132;01m}\u001b[39;00m\u001b[38;5;124m'\u001b[39m) \n\u001b[1;32m---> 15\u001b[0m \u001b[38;5;28mprint\u001b[39m(\u001b[38;5;124mf\u001b[39m\u001b[38;5;124m'\u001b[39m\u001b[38;5;124myour subject is:\u001b[39m\u001b[38;5;132;01m{\u001b[39;00m\u001b[38;5;28;43mself\u001b[39;49m\u001b[38;5;241;43m.\u001b[39;49m\u001b[43msubject\u001b[49m\u001b[38;5;132;01m}\u001b[39;00m\u001b[38;5;124m'\u001b[39m)\n\u001b[0;32m     16\u001b[0m \u001b[38;5;28mprint\u001b[39m(\u001b[38;5;124mf\u001b[39m\u001b[38;5;124m'\u001b[39m\u001b[38;5;124myour college is:\u001b[39m\u001b[38;5;132;01m{\u001b[39;00m\u001b[38;5;28mself\u001b[39m\u001b[38;5;241m.\u001b[39mcollege\u001b[38;5;132;01m}\u001b[39;00m\u001b[38;5;124m'\u001b[39m)\n",
      "\u001b[1;31mAttributeError\u001b[0m: 'student' object has no attribute 'subject'"
     ]
    }
   ],
   "source": [
    "class student:\n",
    "    def __init__(self,name,age,roll_no,college,email,add,phone):\n",
    "        self.name = name\n",
    "        self.age = age\n",
    "        self.roll_no = roll_no\n",
    "        self.college = college\n",
    "        self.email = email\n",
    "        self.add = add\n",
    "        self.phone = phone\n",
    "    \n",
    "    def fill_details(self):\n",
    "        print(f'your name is:{self.name}')\n",
    "        print(f'your age is:{self.age}')\n",
    "        print(f'your roll no is:{self.roll_no}') \n",
    "        print(f'your subject is:{self.subject}')\n",
    "        print(f'your college is:{self.college}')\n",
    "        \n",
    "name=input('Enter your name:')\n",
    "age=int(input('Enter your age name:'))\n",
    "roll_no=int(input('Enter your Roll no.:'))\n",
    "college=input('Enter your college name:')\n",
    "email=input('Enter your email:')\n",
    "add=input('Enter your address:')\n",
    "phone=input('Enter your phone no.:')\n",
    "student_1 = student(name,age,roll_no,college,email,add,phone)\n",
    "student_1.fill_details()"
   ]
  },
  {
   "cell_type": "code",
   "execution_count": 36,
   "id": "88671178-cfe6-4e80-b95d-bfb9523ea706",
   "metadata": {},
   "outputs": [
    {
     "name": "stdin",
     "output_type": "stream",
     "text": [
      "Enter your name xyz\n",
      "Enter your age 10\n",
      "Enter your roll_number 45\n",
      "Enter your college name xyz\n",
      "Enter your email address @gmail.com\n",
      "Enter your address pune\n",
      "Enter your phone number 100\n"
     ]
    },
    {
     "name": "stdout",
     "output_type": "stream",
     "text": [
      "--------------------------------------\n",
      "Your name is : xyz\n",
      "Your age is : 10\n",
      "Your roll no is : 45\n",
      "Your college name  is : xyz\n",
      "Your email id is : @gmail.com\n",
      "Your address is : pune\n",
      "Your phone number is : 100\n"
     ]
    }
   ],
   "source": [
    "class student:\n",
    "    def __init__(self,name,age,roll_no,college,email,add,phone):\n",
    "        self.name = name\n",
    "        self.age = age\n",
    "        self.roll_no = roll_no\n",
    "        self.college = college\n",
    "        self.email = email\n",
    "        self.add = add\n",
    "        self.phone = phone\n",
    "    \n",
    "    def fill_details(self,):\n",
    "        print('--------------------------------------')\n",
    "        print(f\"Your name is : {self.name}\")\n",
    "        print(f\"Your age is : {self.age}\")\n",
    "        print(f\"Your roll no is : {self.roll_no}\")\n",
    "        print(f\"Your college name  is : {self.college}\")\n",
    "        print(f\"Your email id is : {self.email}\")\n",
    "        print(f\"Your address is : {self.add}\")\n",
    "        print(f\"Your phone number is : {self.phone}\")\n",
    "        \n",
    "name = input(\"Enter your name\")\n",
    "age = input(\"Enter your age\")\n",
    "roll_no = input(\"Enter your roll_number\")\n",
    "college = input(\"Enter your college name\")\n",
    "email = input(\"Enter your email address\")\n",
    "add = input(\"Enter your address\")\n",
    "phone = input(\"Enter your phone number\")\n",
    "student_1 = student(name,age,roll_no,college,email,add,phone)\n",
    "student_1.fill_details()"
   ]
  },
  {
   "cell_type": "code",
   "execution_count": 1,
   "id": "4de180f4-4b09-4a28-a6af-eab09a506f8e",
   "metadata": {},
   "outputs": [
    {
     "name": "stdout",
     "output_type": "stream",
     "text": [
      "Book name is : Nagraj\n",
      "Book is written by: Parshuram Sharma\n",
      "The Nagraj is published by : Raj Comics\n",
      "\n",
      "---------------------------------------------------------\n",
      "\n",
      "Book name is : Wings of fire\n",
      "Book is written by: A.P.J.Abdul Kalam\n",
      "The Wings of fire is published by : Universities Press\n",
      "\n",
      "---------------------------------------------------------\n",
      "\n",
      "Book name is : Wise and Otherwise\n",
      "Book is written by: Sudha Murty\n",
      "The Wise and Otherwise is published by : Mehta Publishing House\n",
      "\n",
      "---------------------------------------------------------\n",
      "\n",
      "Book name is : Harry Potter and Philosopher's Stone\n",
      "Book is written by: J.K.Rowling\n",
      "The Harry Potter and Philosopher's Stone is published by : Bloomsbury\n",
      "\n",
      "---------------------------------------------------------\n",
      "\n",
      "Book name is : Half Girlfriend\n",
      "Book is written by: Chetan Bahgat\n",
      "The Half Girlfriend is published by : Rupa and Co.\n"
     ]
    }
   ],
   "source": [
    "# find the class: book : panchantantra, Comic: Nagraaj, author, publised by name  bio\n",
    "\n",
    "\n",
    "class book:\n",
    "    def __init__(self,name,author,publish):\n",
    "        self.name = name\n",
    "        self.author = author\n",
    "        self.publish = publish\n",
    "    def details(self):\n",
    "        print(f\"Book name is : {self.name}\")\n",
    "        print(f\"Book is written by: {self.author}\")\n",
    "        print(f\"The {self.name} is published by : {self.publish}\")\n",
    "comic = book(\"Nagraj\",\"Parshuram Sharma\",\"Raj Comics\")\n",
    "autobiography = book(\"Wings of fire\",\"A.P.J.Abdul Kalam\",\"Universities Press\")\n",
    "novel = book(\"Wise and Otherwise\",\"Sudha Murty\",\"Mehta Publishing House\")\n",
    "fiction =book(\"Harry Potter and Philosopher's Stone\",\"J.K.Rowling\",\"Bloomsbury\")\n",
    "romance =book(\"Half Girlfriend\",\"Chetan Bahgat\",\"Rupa and Co.\")\n",
    "\n",
    "comic.details()\n",
    "print(\"\\n---------------------------------------------------------\\n\")\n",
    "autobiography.details()\n",
    "print(\"\\n---------------------------------------------------------\\n\")\n",
    "novel.details()\n",
    "print(\"\\n---------------------------------------------------------\\n\")\n",
    "fiction.details()\n",
    "print(\"\\n---------------------------------------------------------\\n\")\n",
    "romance.details()"
   ]
  },
  {
   "cell_type": "code",
   "execution_count": 2,
   "id": "838f4ce5-e47d-419f-8885-ca1408cfad9d",
   "metadata": {},
   "outputs": [
    {
     "name": "stdout",
     "output_type": "stream",
     "text": [
      "* Comic->>\n",
      "Book name is : Nagraj\n",
      "Book is written by: Parshuram Sharma\n",
      "The Nagraj is published by : Raj Comics\n",
      "\n",
      "---------------------------------------------------------\n",
      "\n",
      "* Autobiography->>\n",
      "Book name is : Wings of fire\n",
      "Book is written by: A.P.J.Abdul Kalam\n",
      "The Wings of fire is published by : Universities Press\n",
      "\n",
      "---------------------------------------------------------\n",
      "\n",
      "* Novel->>\n",
      "Book name is : Wise and Otherwise\n",
      "Book is written by: Sudha Murty\n",
      "The Wise and Otherwise is published by : Mehta Publishing House\n",
      "\n",
      "---------------------------------------------------------\n",
      "\n",
      "* Fiction->>\n",
      "Book name is : Harry Potter and Philosopher's Stone\n",
      "Book is written by: J.K.Rowling\n",
      "The Harry Potter and Philosopher's Stone is published by : Bloomsbury\n",
      "\n",
      "---------------------------------------------------------\n",
      "\n",
      "* Romance->>\n",
      "Book name is : Half Girlfriend\n",
      "Book is written by: Chetan Bahgat\n",
      "The Half Girlfriend is published by : Rupa and Co.\n"
     ]
    }
   ],
   "source": [
    "class book:\n",
    "    def __init__(self,name,author,publish):\n",
    "        self.name = name\n",
    "        self.author = author\n",
    "        self.publish = publish\n",
    "    def details(self):\n",
    "        print(f\"Book name is : {self.name}\")\n",
    "        print(f\"Book is written by: {self.author}\")\n",
    "        print(f\"The {self.name} is published by : {self.publish}\")\n",
    "comic = book(\"Nagraj\",\"Parshuram Sharma\",\"Raj Comics\")\n",
    "autobiography = book(\"Wings of fire\",\"A.P.J.Abdul Kalam\",\"Universities Press\")\n",
    "novel = book(\"Wise and Otherwise\",\"Sudha Murty\",\"Mehta Publishing House\")\n",
    "fiction =book(\"Harry Potter and Philosopher's Stone\",\"J.K.Rowling\",\"Bloomsbury\")\n",
    "romance =book(\"Half Girlfriend\",\"Chetan Bahgat\",\"Rupa and Co.\")\n",
    "\n",
    "print(\"* Comic->>\")\n",
    "comic.details()\n",
    "print(\"\\n---------------------------------------------------------\\n\")\n",
    "print(\"* Autobiography->>\")\n",
    "autobiography.details()\n",
    "print(\"\\n---------------------------------------------------------\\n\")\n",
    "print(\"* Novel->>\")\n",
    "novel.details()\n",
    "print(\"\\n---------------------------------------------------------\\n\")\n",
    "print(\"* Fiction->>\")\n",
    "fiction.details()\n",
    "print(\"\\n---------------------------------------------------------\\n\")\n",
    "print(\"* Romance->>\")\n",
    "romance.details()"
   ]
  },
  {
   "cell_type": "code",
   "execution_count": 3,
   "id": "69e6ee1f-400d-45e7-af3e-85c686517023",
   "metadata": {},
   "outputs": [
    {
     "name": "stdout",
     "output_type": "stream",
     "text": [
      "\n",
      "----------------------------------------------------------------------------------------------------------------------------------\n",
      "\n",
      "* Tiger -->>\n",
      "\n",
      "Scientific name of animal is : Panthera tigris\n",
      "kingdom of animal is : Animalia\n",
      "phylum of animal is : Chordata\n",
      "class1 of animal is : Mammalia\n",
      "order of animal is : Carnivora\n",
      "family of animal is : Felidae\n",
      "genus of animal is : Panthera\n",
      "species of animal is : tigris\n",
      "\n",
      "----------------------------------------------------------------------------------------------------------------------------------\n",
      "\n",
      "* Horsee -->>\n",
      "\n",
      "Scientific name of animal is : Equus caballus\n",
      "kingdom of animal is : Animalia\n",
      "phylum of animal is : Chordata\n",
      "class1 of animal is : Mammalia\n",
      "order of animal is : Perissodactyla\n",
      "family of animal is : Equidae\n",
      "genus of animal is : Equus\n",
      "species of animal is : E. ferus\n",
      "\n",
      "----------------------------------------------------------------------------------------------------------------------------------\n",
      "\n",
      "* Dog -->>\n",
      "\n",
      "Scientific name of animal is : Canis lupus familiarise\n",
      "kingdom of animal is : Animalia\n",
      "phylum of animal is : Chordata\n",
      "class1 of animal is : Mammalia\n",
      "order of animal is : Carnivora\n",
      "family of animal is : Canidae\n",
      "genus of animal is : Canis\n",
      "species of animal is : Canis lupus\n",
      "\n",
      "----------------------------------------------------------------------------------------------------------------------------------\n",
      "\n",
      "* Cat -->>\n",
      "\n",
      "Scientific name of animal is : Felis catus\n",
      "kingdom of animal is : Animalia\n",
      "phylum of animal is : Chordata\n",
      "class1 of animal is : Mammalia\n",
      "order of animal is : Carnivora\n",
      "family of animal is : Felidae\n",
      "genus of animal is : Felis\n",
      "species of animal is : Catus\n",
      "\n",
      "----------------------------------------------------------------------------------------------------------------------------------\n",
      "\n"
     ]
    }
   ],
   "source": [
    "#Cleat a class animal\n",
    "#Condrtuct following : (1) kingdom, (2) phylum or division, (3) class1, (4) order, (5) family, (6) genus, and (7) species.\n",
    "# For animals Tiger,Horse,Cat,Dog\n",
    "\n",
    "#Cleat a class animal\n",
    "#Condrtuct following : (1) kingdom, (2) phylum or division, (3) class1, (4) order, (5) family, (6) genus, and (7) species.\n",
    "# For animals Tiger,Horse,Cat,Dog\n",
    "\n",
    "class animal:\n",
    "    def __init__(self,name,kingdom,phylum,class1,order,family,genus,species):\n",
    "        self.name = name\n",
    "        self.kingdom = kingdom\n",
    "        self.phylum = phylum\n",
    "        self.class1 = class1\n",
    "        self.order = order\n",
    "        self.family = family\n",
    "        self.genus = genus\n",
    "        self.species = species\n",
    "    def details(self):\n",
    "        print(f\"Scientific name of animal is : {self.name}\")\n",
    "        print(f\"kingdom of animal is : {self.kingdom}\")\n",
    "        print(f\"phylum of animal is : {self.phylum}\")\n",
    "        print(f\"class1 of animal is : {self.class1}\")\n",
    "        print(f\"order of animal is : {self.order}\")\n",
    "        print(f\"family of animal is : {self.family}\")\n",
    "        print(f\"genus of animal is : {self.genus}\")\n",
    "        print(f\"species of animal is : {self.species}\")\n",
    "\n",
    "Tiger = animal(\"Panthera tigris\",\"Animalia\",\"Chordata\",\"Mammalia\",\"Carnivora\",\"Felidae\",\"Panthera\",\"tigris\")\n",
    "Horse =animal(\"Equus caballus\",\"Animalia\",\"Chordata\",\"Mammalia\",\"Perissodactyla\",\"Equidae\",\"Equus\",\"E. ferus\")\n",
    "Dog = animal(\"Canis lupus familiarise\",\"Animalia\",\"Chordata\",\"Mammalia\",\"Carnivora\",\"Canidae\",\"Canis\",\"Canis lupus\")\n",
    "Cat = animal(\"Felis catus\",\"Animalia\",\"Chordata\",\"Mammalia\",\"Carnivora\",\"Felidae\",\"Felis\",\"Catus\")\n",
    "\n",
    "print(\"\\n----------------------------------------------------------------------------------------------------------------------------------\\n\")\n",
    "print(\"* Tiger -->>\\n\")\n",
    "Tiger.details()\n",
    "print(\"\\n----------------------------------------------------------------------------------------------------------------------------------\\n\")\n",
    "print(\"* Horsee -->>\\n\")\n",
    "Horse.details()\n",
    "print(\"\\n----------------------------------------------------------------------------------------------------------------------------------\\n\")\n",
    "print(\"* Dog -->>\\n\")\n",
    "Dog.details()\n",
    "print(\"\\n----------------------------------------------------------------------------------------------------------------------------------\\n\")\n",
    "print(\"* Cat -->>\\n\")\n",
    "Cat.details()\n",
    "print(\"\\n----------------------------------------------------------------------------------------------------------------------------------\\n\")"
   ]
  },
  {
   "cell_type": "code",
   "execution_count": 7,
   "id": "703d4fe5-46b1-4a44-94df-927e53f6090e",
   "metadata": {},
   "outputs": [
    {
     "name": "stdout",
     "output_type": "stream",
     "text": [
      "314.1592653589793\n"
     ]
    }
   ],
   "source": [
    "import math\n",
    "r=10\n",
    "print(math.pi*r*r)"
   ]
  },
  {
   "cell_type": "code",
   "execution_count": 9,
   "id": "68812576-d555-4280-ab18-7358747d8dde",
   "metadata": {},
   "outputs": [
    {
     "name": "stdin",
     "output_type": "stream",
     "text": [
      "Enter radius 23\n"
     ]
    },
    {
     "name": "stdout",
     "output_type": "stream",
     "text": [
      "Area of circle is :  1661.0600000000002\n",
      "Cicumference of circle is :  144.51326206513048\n"
     ]
    }
   ],
   "source": [
    "#Area and circumference of circle using class and object\n",
    "import math\n",
    "\n",
    "class area:\n",
    "    def __init__(self,radius):\n",
    "        self.radius = radius\n",
    "    def calc(self):\n",
    "        area = 3.14*(self.radius*self.radius)\n",
    "        circum = 2*math.pi*self.radius\n",
    "        print(f\"Area of circle is : \",area)\n",
    "        print(f\"Cicumference of circle is : \",circum)\n",
    "\n",
    "radius = int(input(\"Enter radius\"))\n",
    "\n",
    "circle = area(radius)\n",
    "circle.calc()"
   ]
  },
  {
   "cell_type": "code",
   "execution_count": 10,
   "id": "bfc74a2e-346d-46f6-9c0a-a95b7e80d4f4",
   "metadata": {},
   "outputs": [
    {
     "data": {
      "text/plain": [
       "3.141592653589793"
      ]
     },
     "execution_count": 10,
     "metadata": {},
     "output_type": "execute_result"
    }
   ],
   "source": [
    "math.pi"
   ]
  },
  {
   "cell_type": "code",
   "execution_count": 11,
   "id": "b42a4d1f-6e7e-43ca-9af9-67a5a75190ea",
   "metadata": {},
   "outputs": [
    {
     "data": {
      "text/plain": [
       "3.142857142857143"
      ]
     },
     "execution_count": 11,
     "metadata": {},
     "output_type": "execute_result"
    }
   ],
   "source": [
    "22/7"
   ]
  },
  {
   "cell_type": "code",
   "execution_count": 15,
   "id": "4b91d587-abbd-46dc-9247-7a7e6ef0c633",
   "metadata": {},
   "outputs": [
    {
     "name": "stdin",
     "output_type": "stream",
     "text": [
      "Enter radius 10\n",
      "Enter height 30\n"
     ]
    },
    {
     "name": "stdout",
     "output_type": "stream",
     "text": [
      "Surface Area of cylinder is :  2513.2741228718346\n",
      "Volume  of cylinder is :  9424.77796076938\n"
     ]
    }
   ],
   "source": [
    "### Surface area and volume cylinder using class and object\n",
    "\n",
    "import math\n",
    "class area:\n",
    "    def __init__(self,radius,height):\n",
    "        self.radius = radius\n",
    "        self.height = height\n",
    "    def calc(self):\n",
    "        surface_area = 2*math.pi*self.radius*(self.height + self.radius)\n",
    "        volume = math.pi*(self.radius)*(self.radius)*(self.height)\n",
    "        print(f\"Surface Area of cylinder is : \",surface_area)\n",
    "        print(f\"Volume  of cylinder is : \",volume)\n",
    "\n",
    "radius = int(input(\"Enter radius\"))\n",
    "height = int(input(\"Enter height\"))\n",
    "\n",
    "cylinder = area(radius,height)\n",
    "cylinder.calc()"
   ]
  },
  {
   "cell_type": "markdown",
   "id": "ced47941-be5b-4747-92e4-56b0eddcc0e8",
   "metadata": {},
   "source": []
  }
 ],
 "metadata": {
  "kernelspec": {
   "display_name": "Python 3 (ipykernel)",
   "language": "python",
   "name": "python3"
  },
  "language_info": {
   "codemirror_mode": {
    "name": "ipython",
    "version": 3
   },
   "file_extension": ".py",
   "mimetype": "text/x-python",
   "name": "python",
   "nbconvert_exporter": "python",
   "pygments_lexer": "ipython3",
   "version": "3.11.4"
  }
 },
 "nbformat": 4,
 "nbformat_minor": 5
}
