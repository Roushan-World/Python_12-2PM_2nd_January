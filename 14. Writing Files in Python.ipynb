{
 "cells": [
  {
   "cell_type": "markdown",
   "id": "f0f9459d-e7ad-4b60-b08b-092b309d1310",
   "metadata": {},
   "source": [
    "# 14. Writing Files in Python\n",
    "\n",
    " * __To Write to a text file in Python, you follow these steps:__\n",
    " * __First, Open the text file for writing (or appending) using the open() functions.__\n",
    " * __Second, write to the text file using the write() or writelines() method.__\n",
    " * __Third, close the file using the close() method.__"
   ]
  },
  {
   "cell_type": "markdown",
   "id": "10ceb5fc-7a9c-4dd5-bef6-104d09c7ede9",
   "metadata": {},
   "source": [
    "# Characters and their Function"
   ]
  },
  {
   "cell_type": "markdown",
   "id": "0be68677-a7da-44aa-9d4d-8e2178ae808d",
   "metadata": {},
   "source": [
    " * __f  | Open file for reading only. Starts reading from beginning of the file. This default mode.__\n",
    " * __rb | Open a file reading only in binary format. Starts reading from beginning of the file.__\n",
    " * __r+ | Open file for reading and writing. File pointer places at beginning of the file.__\n",
    " * __w  | Open file for writing only. File pointer placed at beginning of the file. Overwrites existing file and creates a new one if it does not exists.__\n",
    " * __wb | Same as w but opens in binary mode.__\n",
    " * __w+ | Same as w but also allows to read from the file.__\n",
    " * __wb+| Same as wb but also allows to read from the file.__\n",
    " * __a  | Same as a but in binary format. Creates a new file if file does not exist.__\n",
    " * __ab+| Same as ab but also open for reading.__"
   ]
  },
  {
   "cell_type": "code",
   "execution_count": 1,
   "id": "3fd7e56f-eaf0-496b-b764-d144feb26b04",
   "metadata": {},
   "outputs": [],
   "source": [
    "# writing lines to a files\n",
    "\n",
    "fname='rupali.txt'\n",
    "\n",
    "with open(fname,'w') as f:\n",
    "    f.write('My name is Rupali Gurav.\\n')\n",
    "    f.write('My name is Aditi Kute.\\n')\n",
    "    f.write('My name is Sahil Rajpure.\\n')\n",
    "    f.write('We are learning Python and Our Current Topics is File Handling.\\n')\n",
    "    f.write('Rupali Age is 22.\\n')\n",
    "    f.write('Aditi Age is 30.\\n')\n",
    "    f.write('Sahil Age is 21.\\n')\n",
    "    f.write('Rupali Eating Ice-Cream Alone.\\n')\n",
    "    f.write('Aditi Eating Chocolate Alone.\\n')\n",
    "    f.write('Sahil Chewing Vimal.')"
   ]
  },
  {
   "cell_type": "code",
   "execution_count": 4,
   "id": "5a10e2e7-6953-4481-9843-e54730f94c00",
   "metadata": {},
   "outputs": [
    {
     "name": "stdout",
     "output_type": "stream",
     "text": [
      "My name is Rupali Gurav.\n",
      "My name is Aditi Kute.\n",
      "My name is Sahil Rajpure.\n",
      "We are learning Python and Our Current Topics is File Handling.\n",
      "Rupali Age is 22.\n",
      "Aditi Age is 30.\n",
      "Sahil Age is 21.\n",
      "Rupali Eating Ice-Cream Alone.\n",
      "Aditi Eating Chocolate Alone.\n",
      "Sahil Chewing Vimal.\n"
     ]
    }
   ],
   "source": [
    "file1='rupali.txt'\n",
    "with open(file1,'r') as f:\n",
    "    x=f.read()\n",
    "    print(x)"
   ]
  },
  {
   "cell_type": "code",
   "execution_count": 8,
   "id": "163bf59d-22e8-4f32-91a4-5bffb1968ff5",
   "metadata": {},
   "outputs": [
    {
     "name": "stdout",
     "output_type": "stream",
     "text": [
      "['My name is Rupali Gurav.\\nMy name is Aditi Kute.\\nMy name is Sahil Rajpure.\\nWe are learning Python and Our Current Topics is File Handling.\\nRupali Age is 22.\\nAditi Age is 30.\\nSahil Age is 21.\\nRupali Eating Ice-Cream Alone.\\nAditi Eating Chocolate Alone\\n.Sahil Chewing Vimal.']\n",
      "My name is Rupali Gurav.\n",
      "My name is Aditi Kute.\n",
      "My name is Sahil Rajpure.\n",
      "We are learning Python and Our Current Topics is File Handling.\n",
      "Rupali Age is 22.\n",
      "Aditi Age is 30.\n",
      "Sahil Age is 21.\n",
      "Rupali Eating Ice-Cream Alone.\n",
      "Aditi Eating Chocolate Alone\n",
      ".Sahil Chewing Vimal.\n"
     ]
    }
   ],
   "source": [
    "# Writing a list to a file\n",
    "added_text=[ \"My name is Rupali Gurav.\\nMy name is Aditi Kute.\\nMy name is Sahil Rajpure.\\nWe are learning Python and Our Current Topics is File Handling.\\nRupali Age is 22.\\nAditi Age is 30.\\nSahil Age is 21.\\nRupali Eating Ice-Cream Alone.\\nAditi Eating Chocolate Alone\\n.Sahil Chewing Vimal.\" ]\n",
    "\n",
    "#print(added_text)\n",
    "\n",
    "with open('added_text.txt','w') as f:\n",
    "    for i in added_text:\n",
    "        print(i)\n",
    "        f.write(i)"
   ]
  },
  {
   "cell_type": "code",
   "execution_count": 9,
   "id": "a9380d3d-3a6e-4c27-8479-15f6b0dbcbe2",
   "metadata": {},
   "outputs": [
    {
     "name": "stdout",
     "output_type": "stream",
     "text": [
      "Overright\n",
      "\n"
     ]
    }
   ],
   "source": [
    "new_file='pcr_file.txt'\n",
    "with open(new_file,'w') as f:\n",
    "    f.write('Overright\\n')\n",
    "\n",
    "with open(new_file,'r') as f:\n",
    "    print(f.read())"
   ]
  },
  {
   "cell_type": "code",
   "execution_count": 12,
   "id": "c5f46d68-07c6-4bdc-9a6f-8aa7498e0a8e",
   "metadata": {},
   "outputs": [
    {
     "name": "stdout",
     "output_type": "stream",
     "text": [
      "First Location:11\n",
      "Read Nothing\n",
      "\n",
      "Second Location: 0\n",
      "Overright\n",
      "\n",
      "Location after reading 11\n"
     ]
    }
   ],
   "source": [
    "# tell() and seek() function with a+\n",
    "\n",
    "fname='pcr_file.txt'\n",
    "with open(fname,'a+') as f:\n",
    "    print('First Location:{}'.format(f.tell()))\n",
    "\n",
    "    content=f.read()\n",
    "    if not content:\n",
    "        print('Read Nothing')\n",
    "    else:\n",
    "        print(f.read())\n",
    "\n",
    "    f.seek(0,0)\n",
    "    '''\n",
    "    My name is Rupali Gurav.\n",
    "    My name is Aditi Kute.\n",
    "    My name is Sahil Rajpure.\n",
    "    We are learning Python and Our Current Topics is File Handling.\n",
    "    Rupali Age is 22.\n",
    "    Aditi Age is 30.\n",
    "    Sahil Age is 21.\n",
    "    Rupali Eating Ice-Cream Alone.\n",
    "    Aditi Eating Chocolate Alone.\n",
    "    Sahil Chewing Vimal.\n",
    "    \n",
    "    '''\n",
    "\n",
    "    print('\\nSecond Location: {}'.format(f.tell()))\n",
    "    content=f.read()\n",
    "    if not content:\n",
    "        print('Read nothing')\n",
    "    else:\n",
    "        print(content)\n",
    "    print('Location after reading {}'.format(f.tell()))"
   ]
  },
  {
   "cell_type": "code",
   "execution_count": 14,
   "id": "3a3a6843-ef32-41cd-ade6-f2866851e12c",
   "metadata": {},
   "outputs": [
    {
     "name": "stdout",
     "output_type": "stream",
     "text": [
      "My name is Rupali Gurav.\n",
      "My name is Sahil Rajpure.\n"
     ]
    }
   ],
   "source": [
    "with open(fname,'r+') as f:\n",
    "    content=f.readlines()\n",
    "    f.seek(0,0)\n",
    "    f.write('My name is Rupali Gurav.'+'\\n')\n",
    "    f.write('My name is Sahil Rajpure.')\n",
    "    f.seek(0,0)\n",
    "    print(f.read())"
   ]
  },
  {
   "cell_type": "code",
   "execution_count": 18,
   "id": "5ea07c69-1007-4912-8c55-923340219bbf",
   "metadata": {},
   "outputs": [
    {
     "name": "stdin",
     "output_type": "stream",
     "text": [
      "enter your file name :  rupali_new\n",
      "Enter number of lines :  5\n"
     ]
    },
    {
     "name": "stdout",
     "output_type": "stream",
     "text": [
      "\n",
      "-----------------------------------\n",
      "\n"
     ]
    },
    {
     "name": "stdin",
     "output_type": "stream",
     "text": [
      "Enter your text 0: rupali\n",
      "Enter your text 1: cat\n",
      "Enter your text 2: dog\n",
      "Enter your text 3: elephant\n",
      "Enter your text 4: swan\n"
     ]
    },
    {
     "name": "stdout",
     "output_type": "stream",
     "text": [
      "\n",
      "-----------------------------------\n",
      "\n",
      "Your file = ' rupali_new.txt ' content is as follow : \n",
      " rupali\n",
      "cat\n",
      "dog\n",
      "elephant\n",
      "swan\n",
      "\n"
     ]
    }
   ],
   "source": [
    "# Write 10 Lines about any thing you want using loop\n",
    "#--------------------------------------------------- \n",
    "\n",
    "#Write 10 lines about anythong you want using loop.\n",
    "\n",
    "name = input(\"enter your file name : \")\n",
    "file = name+'.txt' \n",
    "n = int(input(\"Enter number of lines : \"))\n",
    "print(\"\\n-----------------------------------\\n\")\n",
    "with open(file,'w') as f:\n",
    "    for i in range(1,n+1):\n",
    "        x = input(f'Enter your text {i}:')\n",
    "        f.write(x)\n",
    "        f.write('\\n')\n",
    "   \n",
    "with open(file,'r') as f:\n",
    "    reading = f.read()\n",
    "    print(\"\\n-----------------------------------\\n\")\n",
    "    print(f\"Your file = ' {file} ' content is as follow : \\n\",reading)"
   ]
  },
  {
   "cell_type": "code",
   "execution_count": null,
   "id": "8f2b9162-ee5c-467b-b2ad-e597182c6f17",
   "metadata": {},
   "outputs": [],
   "source": []
  }
 ],
 "metadata": {
  "kernelspec": {
   "display_name": "Python 3 (ipykernel)",
   "language": "python",
   "name": "python3"
  },
  "language_info": {
   "codemirror_mode": {
    "name": "ipython",
    "version": 3
   },
   "file_extension": ".py",
   "mimetype": "text/x-python",
   "name": "python",
   "nbconvert_exporter": "python",
   "pygments_lexer": "ipython3",
   "version": "3.12.2"
  }
 },
 "nbformat": 4,
 "nbformat_minor": 5
}
